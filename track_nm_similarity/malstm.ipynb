{
 "cells": [
  {
   "cell_type": "code",
   "execution_count": null,
   "id": "a4d9c9d0-d9f2-43df-9422-8471f72e9927",
   "metadata": {},
   "outputs": [],
   "source": [
    "import pandas as pd\n",
    "import numpy as np\n",
    "a= pd.read_parquet('./dataset.parquet')\n",
    "a['track_id']= a['track_id'].astype('str')\n",
    "a['string']=a['track_nm']+' '+a['artist_nm_list']\n",
    "a= a.set_index(np.arange(len(a)))\n",
    "b = a.sample(frac=1).reset_index(drop=True)\n",
    "original = a['string'].values\n",
    "similar = b['string'].values\n",
    "new_df=pd.DataFrame({'sentence1':original, 'sentence2':similar,'label':0})"
   ]
  },
  {
   "cell_type": "code",
   "execution_count": null,
   "id": "17ec644b-1dbe-465f-8099-5c38af9284b2",
   "metadata": {},
   "outputs": [],
   "source": [
    "import tensorflow as tf\n",
    "tokenizer =tf.keras.pre"
   ]
  }
 ],
 "metadata": {
  "kernelspec": {
   "display_name": "kobert",
   "language": "python",
   "name": "kobert"
  },
  "language_info": {
   "codemirror_mode": {
    "name": "ipython",
    "version": 3
   },
   "file_extension": ".py",
   "mimetype": "text/x-python",
   "name": "python",
   "nbconvert_exporter": "python",
   "pygments_lexer": "ipython3",
   "version": "3.8.16"
  }
 },
 "nbformat": 4,
 "nbformat_minor": 5
}
