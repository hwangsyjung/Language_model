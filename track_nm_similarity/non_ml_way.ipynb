{
 "cells": [
  {
   "cell_type": "code",
   "execution_count": 61,
   "id": "28e5af42-f7a6-4129-8706-6f872333ef35",
   "metadata": {},
   "outputs": [],
   "source": [
    "import pandas as pd\n",
    "import numpy as np\n",
    "a= pd.read_parquet('./dataset.parquet')\n",
    "a['track_id']= a['track_id'].astype('str')\n",
    "a['string']=a['track_nm']+' '+a['artist_nm_list']\n",
    "a= a.set_index(np.arange(len(a)))\n",
    "b = a.sample(frac=1).reset_index(drop=True)\n",
    "original = a['string'].values\n",
    "similar = b['string'].values\n",
    "new_df=pd.DataFrame({'sentence1':original, 'sentence2':similar,'label':0})"
   ]
  },
  {
   "cell_type": "code",
   "execution_count": 62,
   "id": "4e35ea0a-bd43-42db-b17b-b1462281ff38",
   "metadata": {},
   "outputs": [],
   "source": [
    "#SequenceMatcher\n",
    "import difflib\n",
    "def sequence_matcher(a,b):\n",
    "    a_bytes = bytes(a, 'utf-8')\n",
    "    b_bytes = bytes(b, 'utf-8')\n",
    "    a_bytes_list = list(a_bytes)\n",
    "    b_bytes_list = list(b_bytes)\n",
    "    sm = difflib.SequenceMatcher(None, a_bytes_list, b_bytes_list)\n",
    "    similar = sm.ratio()\n",
    "    return similar"
   ]
  },
  {
   "cell_type": "code",
   "execution_count": 63,
   "id": "62fd2850-40db-4cc9-984b-13b83f24378b",
   "metadata": {},
   "outputs": [],
   "source": [
    "new_df['s_m_label']=new_df.apply(lambda x: sequence_matcher(x['sentence1'],x['sentence2']),axis= 1)"
   ]
  },
  {
   "cell_type": "code",
   "execution_count": null,
   "id": "dc17cd80-f709-44da-95ca-8fa5f1fc8ef4",
   "metadata": {},
   "outputs": [],
   "source": []
  },
  {
   "cell_type": "code",
   "execution_count": null,
   "id": "9dd78578-3186-45e9-886b-53aa7e3773fb",
   "metadata": {},
   "outputs": [],
   "source": []
  }
 ],
 "metadata": {
  "kernelspec": {
   "display_name": "kobert",
   "language": "python",
   "name": "kobert"
  },
  "language_info": {
   "codemirror_mode": {
    "name": "ipython",
    "version": 3
   },
   "file_extension": ".py",
   "mimetype": "text/x-python",
   "name": "python",
   "nbconvert_exporter": "python",
   "pygments_lexer": "ipython3",
   "version": "3.8.16"
  }
 },
 "nbformat": 4,
 "nbformat_minor": 5
}
