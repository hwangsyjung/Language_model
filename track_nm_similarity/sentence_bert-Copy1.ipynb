{
 "cells": [
  {
   "cell_type": "code",
   "execution_count": 4,
   "id": "b8ce5531-90a0-48c4-b6b8-f677c2c9af9e",
   "metadata": {},
   "outputs": [
    {
     "name": "stderr",
     "output_type": "stream",
     "text": [
      "/opt/conda/envs/mulan/lib/python3.8/site-packages/tqdm/auto.py:21: TqdmWarning: IProgress not found. Please update jupyter and ipywidgets. See https://ipywidgets.readthedocs.io/en/stable/user_install.html\n",
      "  from .autonotebook import tqdm as notebook_tqdm\n"
     ]
    }
   ],
   "source": [
    "import math\n",
    "import logging\n",
    "from datetime import datetime\n",
    "\n",
    "import torch\n",
    "from torch.utils.data import DataLoader\n",
    "\n",
    "from sentence_transformers import SentenceTransformer, models, LoggingHandler, losses, util\n",
    "from sentence_transformers.evaluation import EmbeddingSimilarityEvaluator\n",
    "from sentence_transformers.readers import InputExample\n",
    "from sentence_transformers.datasets import NoDuplicatesDataLoader"
   ]
  },
  {
   "cell_type": "code",
   "execution_count": 1,
   "id": "789fb799-f8f7-4ae5-b4a4-79e00d0b71f4",
   "metadata": {},
   "outputs": [],
   "source": [
    "# SEED 설정\n",
    "import random\n",
    "seed = 7777\n",
    "random.seed(seed)\n",
    "torch.manual_seed(seed)\n",
    "torch.cuda.manual_seed_all(seed)"
   ]
  },
  {
   "cell_type": "code",
   "execution_count": 3,
   "id": "a45a560d-a159-47a7-bdb2-e5e3a1ca8748",
   "metadata": {},
   "outputs": [],
   "source": [
    "# LOGGER 초기화\n",
    "logging.basicConfig(\n",
    "    format=\"%(asctime)s - %(message)s\",\n",
    "    datefmt=\"%Y/%m/%d %H:%M:%S\",\n",
    "    level=logging.INFO,\n",
    "    handlers=[LoggingHandler()],\n",
    ")"
   ]
  },
  {
   "cell_type": "code",
   "execution_count": 67,
   "id": "b2ea3d52-e4dd-4562-a3ba-f6662a98f82a",
   "metadata": {},
   "outputs": [],
   "source": [
    "import pandas as pd\n",
    "import numpy as np\n",
    "file1 = pd.read_parquet('rep_track.parquet')\n",
    "file1=file1.set_index(np.arange(len(file1)))"
   ]
  },
  {
   "cell_type": "code",
   "execution_count": 68,
   "id": "fda951f0-bb04-4bb7-998b-42c02f71108d",
   "metadata": {},
   "outputs": [],
   "source": [
    "file1['merge_key'] = file1['track_nm_notbracspace'] + ' ' + file1['artist_ids']\n",
    "file1['similar_merge_key'] = file1['similar_track_nm_notbracspace'] + ' ' + file1['similar_artist_ids']"
   ]
  },
  {
   "cell_type": "code",
   "execution_count": 69,
   "id": "b2799595-200c-4f14-a7c1-e5fc41c417e9",
   "metadata": {
    "scrolled": true,
    "tags": []
   },
   "outputs": [],
   "source": [
    "new_df = pd.DataFrame({'sentence1':file1['merge_key'], 'sentence2':file1['similar_merge_key'],'label':0})"
   ]
  },
  {
   "cell_type": "code",
   "execution_count": 70,
   "id": "49c93c4f-e628-48e8-aafd-0deb01ea55e1",
   "metadata": {},
   "outputs": [],
   "source": [
    "sentence1 = []\n",
    "sentence2 = []\n",
    "labels = []\n",
    "for i in range(len(new_df)):\n",
    "    sentence1.append(new_df['sentence1'][i])\n",
    "    sentence2.append(new_df['sentence2'][i])\n",
    "    labels.append(new_df['label'][i])"
   ]
  },
  {
   "cell_type": "code",
   "execution_count": 71,
   "id": "f581418b-6046-4687-9094-c41878456a04",
   "metadata": {},
   "outputs": [],
   "source": [
    "device = 'cuda:1'\n",
    "model = SentenceTransformer('distiluse-base-multilingual-cased-v1',device = device)\n",
    "\n",
    "corpus_embeddings = model.encode(sentence1, convert_to_tensor=True) # senetence1 유사도\n",
    "query_embeddings = model.encode(sentence2, convert_to_tensor=True) # sentence2 유사도\n"
   ]
  },
  {
   "cell_type": "code",
   "execution_count": 72,
   "id": "68edd56a-fc7e-498d-8586-40e10392e16b",
   "metadata": {
    "tags": []
   },
   "outputs": [
    {
     "name": "stdout",
     "output_type": "stream",
     "text": [
      "2023/08/21 07:45:11 - Load pretrained SentenceTransformer: distiluse-base-multilingual-cased-v1\n"
     ]
    },
    {
     "name": "stderr",
     "output_type": "stream",
     "text": [
      "Batches: 100%|██████████| 28191/28191 [07:51<00:00, 59.78it/s] \n"
     ]
    }
   ],
   "source": [
    "\n",
    "def cosine_similarity_manual(x, y, small_number=1e-8): # sentence1과 sentence2의 임베딩값으로 유사도 계산\n",
    "    result =  torch.dot(x, y) / (torch.linalg.norm(x) * torch.linalg.norm(y) + small_number)\n",
    "    return result\n",
    "\n",
    "test_scores = []\n",
    "for i in range(len(sentence1)):\n",
    "    score = cosine_similarity_manual(corpus_embeddings[i],query_embeddings[i])\n",
    "    score=score.cpu().detach().numpy()\n",
    "    test_scores.append(score)\n",
    "\n",
    "# test_scores = np.array(test_scores) # 모델 예측값\n",
    "# y_pred = np.where(test_scores>=0.6, 1, 0) # klue에서 3.0을 기준으로 binary label을 만들었기에, normalize 기준 threshold: 0.6\n",
    "# labels = np.array(labels)\n",
    "# y_label = np.where(labels >= 0.6, 1, 0)"
   ]
  },
  {
   "cell_type": "code",
   "execution_count": null,
   "id": "0edaea29-e40b-4c85-8aa6-6898f9e8a9a5",
   "metadata": {},
   "outputs": [],
   "source": [
    "test_scores"
   ]
  },
  {
   "cell_type": "code",
   "execution_count": 18,
   "id": "207f83b3-cd9c-4613-b319-0e443d2dfede",
   "metadata": {},
   "outputs": [],
   "source": [
    "a = corpus_embeddings.cpu().numpy()\n",
    "np.save('./song_vector',a)"
   ]
  },
  {
   "cell_type": "code",
   "execution_count": 19,
   "id": "24ff3f61-b566-4578-8512-8cfa9f44b22d",
   "metadata": {},
   "outputs": [],
   "source": [
    "import faiss\n",
    "all_vectors = a\n",
    "res = faiss.StandardGpuResources()\n",
    "gpu_faiss_index = faiss.GpuIndexFlatIP(res, all_vectors.shape[1])\n",
    "faiss.normalize_L2(all_vectors)\n",
    "gpu_faiss_index.add(all_vectors)"
   ]
  },
  {
   "cell_type": "code",
   "execution_count": 52,
   "id": "0b45e879-c2a9-44cd-8f84-39bd890e671f",
   "metadata": {},
   "outputs": [
    {
     "data": {
      "text/plain": [
       "(512,)"
      ]
     },
     "execution_count": 52,
     "metadata": {},
     "output_type": "execute_result"
    }
   ],
   "source": [
    "all_vectors[0].squeeze().shape"
   ]
  },
  {
   "cell_type": "code",
   "execution_count": 53,
   "id": "8d0a359e-74ba-49e7-998b-787c45c69977",
   "metadata": {},
   "outputs": [
    {
     "ename": "ValueError",
     "evalue": "not enough values to unpack (expected 2, got 1)",
     "output_type": "error",
     "traceback": [
      "\u001b[0;31m---------------------------------------------------------------------------\u001b[0m",
      "\u001b[0;31mValueError\u001b[0m                                Traceback (most recent call last)",
      "Cell \u001b[0;32mIn[53], line 1\u001b[0m\n\u001b[0;32m----> 1\u001b[0m \u001b[43mgpu_faiss_index\u001b[49m\u001b[38;5;241;43m.\u001b[39;49m\u001b[43msearch\u001b[49m\u001b[43m(\u001b[49m\u001b[43mall_vectors\u001b[49m\u001b[43m[\u001b[49m\u001b[38;5;241;43m0\u001b[39;49m\u001b[43m]\u001b[49m\u001b[38;5;241;43m.\u001b[39;49m\u001b[43msqueeze\u001b[49m\u001b[43m(\u001b[49m\u001b[43m)\u001b[49m\u001b[43m,\u001b[49m\u001b[43m \u001b[49m\u001b[43mk\u001b[49m\u001b[38;5;241;43m=\u001b[39;49m\u001b[38;5;241;43m10\u001b[39;49m\u001b[43m)\u001b[49m\n",
      "File \u001b[0;32m/opt/conda/envs/mulan/lib/python3.8/site-packages/faiss/class_wrappers.py:327\u001b[0m, in \u001b[0;36mhandle_Index.<locals>.replacement_search\u001b[0;34m(self, x, k, params, D, I)\u001b[0m\n\u001b[1;32m    300\u001b[0m \u001b[38;5;28;01mdef\u001b[39;00m \u001b[38;5;21mreplacement_search\u001b[39m(\u001b[38;5;28mself\u001b[39m, x, k, \u001b[38;5;241m*\u001b[39m, params\u001b[38;5;241m=\u001b[39m\u001b[38;5;28;01mNone\u001b[39;00m, D\u001b[38;5;241m=\u001b[39m\u001b[38;5;28;01mNone\u001b[39;00m, I\u001b[38;5;241m=\u001b[39m\u001b[38;5;28;01mNone\u001b[39;00m):\n\u001b[1;32m    301\u001b[0m \u001b[38;5;250m    \u001b[39m\u001b[38;5;124;03m\"\"\"Find the k nearest neighbors of the set of vectors x in the index.\u001b[39;00m\n\u001b[1;32m    302\u001b[0m \n\u001b[1;32m    303\u001b[0m \u001b[38;5;124;03m    Parameters\u001b[39;00m\n\u001b[0;32m   (...)\u001b[0m\n\u001b[1;32m    324\u001b[0m \u001b[38;5;124;03m        When not enough results are found, the label is set to -1\u001b[39;00m\n\u001b[1;32m    325\u001b[0m \u001b[38;5;124;03m    \"\"\"\u001b[39;00m\n\u001b[0;32m--> 327\u001b[0m     n, d \u001b[38;5;241m=\u001b[39m x\u001b[38;5;241m.\u001b[39mshape\n\u001b[1;32m    328\u001b[0m     x \u001b[38;5;241m=\u001b[39m np\u001b[38;5;241m.\u001b[39mascontiguousarray(x, dtype\u001b[38;5;241m=\u001b[39m\u001b[38;5;124m'\u001b[39m\u001b[38;5;124mfloat32\u001b[39m\u001b[38;5;124m'\u001b[39m)\n\u001b[1;32m    329\u001b[0m     \u001b[38;5;28;01massert\u001b[39;00m d \u001b[38;5;241m==\u001b[39m \u001b[38;5;28mself\u001b[39m\u001b[38;5;241m.\u001b[39md\n",
      "\u001b[0;31mValueError\u001b[0m: not enough values to unpack (expected 2, got 1)"
     ]
    }
   ],
   "source": [
    "gpu_faiss_index.search(all_vectors[0].squeeze(), k=10)"
   ]
  },
  {
   "cell_type": "code",
   "execution_count": 42,
   "id": "3e9d9e8b-3042-4c24-a972-d5122945a90b",
   "metadata": {
    "collapsed": true,
    "jupyter": {
     "outputs_hidden": true
    },
    "tags": []
   },
   "outputs": [
    {
     "ename": "MemoryError",
     "evalue": "Unable to allocate 2.96 TiB for an array with shape (902099, 902099) and data type float32",
     "output_type": "error",
     "traceback": [
      "\u001b[0;31m---------------------------------------------------------------------------\u001b[0m",
      "\u001b[0;31mMemoryError\u001b[0m                               Traceback (most recent call last)",
      "Cell \u001b[0;32mIn[42], line 2\u001b[0m\n\u001b[1;32m      1\u001b[0m \u001b[38;5;28;01mfrom\u001b[39;00m \u001b[38;5;21;01msklearn\u001b[39;00m\u001b[38;5;21;01m.\u001b[39;00m\u001b[38;5;21;01mmetrics\u001b[39;00m\u001b[38;5;21;01m.\u001b[39;00m\u001b[38;5;21;01mpairwise\u001b[39;00m \u001b[38;5;28;01mimport\u001b[39;00m cosine_similarity\n\u001b[0;32m----> 2\u001b[0m cosine_sim \u001b[38;5;241m=\u001b[39m \u001b[43mcosine_similarity\u001b[49m\u001b[43m(\u001b[49m\u001b[43ma\u001b[49m\u001b[43m,\u001b[49m\u001b[43ma\u001b[49m\u001b[43m)\u001b[49m\n",
      "File \u001b[0;32m/opt/conda/envs/mulan/lib/python3.8/site-packages/sklearn/metrics/pairwise.py:1401\u001b[0m, in \u001b[0;36mcosine_similarity\u001b[0;34m(X, Y, dense_output)\u001b[0m\n\u001b[1;32m   1398\u001b[0m \u001b[38;5;28;01melse\u001b[39;00m:\n\u001b[1;32m   1399\u001b[0m     Y_normalized \u001b[38;5;241m=\u001b[39m normalize(Y, copy\u001b[38;5;241m=\u001b[39m\u001b[38;5;28;01mTrue\u001b[39;00m)\n\u001b[0;32m-> 1401\u001b[0m K \u001b[38;5;241m=\u001b[39m \u001b[43msafe_sparse_dot\u001b[49m\u001b[43m(\u001b[49m\u001b[43mX_normalized\u001b[49m\u001b[43m,\u001b[49m\u001b[43m \u001b[49m\u001b[43mY_normalized\u001b[49m\u001b[38;5;241;43m.\u001b[39;49m\u001b[43mT\u001b[49m\u001b[43m,\u001b[49m\u001b[43m \u001b[49m\u001b[43mdense_output\u001b[49m\u001b[38;5;241;43m=\u001b[39;49m\u001b[43mdense_output\u001b[49m\u001b[43m)\u001b[49m\n\u001b[1;32m   1403\u001b[0m \u001b[38;5;28;01mreturn\u001b[39;00m K\n",
      "File \u001b[0;32m/opt/conda/envs/mulan/lib/python3.8/site-packages/sklearn/utils/extmath.py:189\u001b[0m, in \u001b[0;36msafe_sparse_dot\u001b[0;34m(a, b, dense_output)\u001b[0m\n\u001b[1;32m    187\u001b[0m         ret \u001b[38;5;241m=\u001b[39m np\u001b[38;5;241m.\u001b[39mdot(a, b)\n\u001b[1;32m    188\u001b[0m \u001b[38;5;28;01melse\u001b[39;00m:\n\u001b[0;32m--> 189\u001b[0m     ret \u001b[38;5;241m=\u001b[39m \u001b[43ma\u001b[49m\u001b[43m \u001b[49m\u001b[38;5;241;43m@\u001b[39;49m\u001b[43m \u001b[49m\u001b[43mb\u001b[49m\n\u001b[1;32m    191\u001b[0m \u001b[38;5;28;01mif\u001b[39;00m (\n\u001b[1;32m    192\u001b[0m     sparse\u001b[38;5;241m.\u001b[39missparse(a)\n\u001b[1;32m    193\u001b[0m     \u001b[38;5;129;01mand\u001b[39;00m sparse\u001b[38;5;241m.\u001b[39missparse(b)\n\u001b[1;32m    194\u001b[0m     \u001b[38;5;129;01mand\u001b[39;00m dense_output\n\u001b[1;32m    195\u001b[0m     \u001b[38;5;129;01mand\u001b[39;00m \u001b[38;5;28mhasattr\u001b[39m(ret, \u001b[38;5;124m\"\u001b[39m\u001b[38;5;124mtoarray\u001b[39m\u001b[38;5;124m\"\u001b[39m)\n\u001b[1;32m    196\u001b[0m ):\n\u001b[1;32m    197\u001b[0m     \u001b[38;5;28;01mreturn\u001b[39;00m ret\u001b[38;5;241m.\u001b[39mtoarray()\n",
      "\u001b[0;31mMemoryError\u001b[0m: Unable to allocate 2.96 TiB for an array with shape (902099, 902099) and data type float32"
     ]
    }
   ],
   "source": [
    "from sklearn.metrics.pairwise import cosine_similarity\n",
    "cosine_sim = cosine_similarity(a,a)"
   ]
  },
  {
   "cell_type": "code",
   "execution_count": null,
   "id": "cad689ff-c879-44f3-a618-a805adc3416b",
   "metadata": {},
   "outputs": [],
   "source": []
  },
  {
   "cell_type": "code",
   "execution_count": null,
   "id": "96d0b166-575b-4bbf-8f8d-baab4edffcf6",
   "metadata": {},
   "outputs": [],
   "source": []
  },
  {
   "cell_type": "code",
   "execution_count": 40,
   "id": "92378d26-8613-4f28-a1ba-0b889a928e09",
   "metadata": {},
   "outputs": [
    {
     "ename": "KeyboardInterrupt",
     "evalue": "",
     "output_type": "error",
     "traceback": [
      "\u001b[0;31m---------------------------------------------------------------------------\u001b[0m",
      "\u001b[0;31mKeyboardInterrupt\u001b[0m                         Traceback (most recent call last)",
      "Cell \u001b[0;32mIn[40], line 1\u001b[0m\n\u001b[0;32m----> 1\u001b[0m \u001b[43mgpu_faiss_index\u001b[49m\u001b[38;5;241;43m.\u001b[39;49m\u001b[43msearch\u001b[49m\u001b[43m(\u001b[49m\u001b[43ma\u001b[49m\u001b[43m,\u001b[49m\u001b[43m \u001b[49m\u001b[43mk\u001b[49m\u001b[38;5;241;43m=\u001b[39;49m\u001b[38;5;241;43m10\u001b[39;49m\u001b[43m)\u001b[49m\n",
      "File \u001b[0;32m/opt/conda/envs/mulan/lib/python3.8/site-packages/faiss/class_wrappers.py:343\u001b[0m, in \u001b[0;36mhandle_Index.<locals>.replacement_search\u001b[0;34m(self, x, k, params, D, I)\u001b[0m\n\u001b[1;32m    340\u001b[0m \u001b[38;5;28;01melse\u001b[39;00m:\n\u001b[1;32m    341\u001b[0m     \u001b[38;5;28;01massert\u001b[39;00m I\u001b[38;5;241m.\u001b[39mshape \u001b[38;5;241m==\u001b[39m (n, k)\n\u001b[0;32m--> 343\u001b[0m \u001b[38;5;28;43mself\u001b[39;49m\u001b[38;5;241;43m.\u001b[39;49m\u001b[43msearch_c\u001b[49m\u001b[43m(\u001b[49m\u001b[43mn\u001b[49m\u001b[43m,\u001b[49m\u001b[43m \u001b[49m\u001b[43mswig_ptr\u001b[49m\u001b[43m(\u001b[49m\u001b[43mx\u001b[49m\u001b[43m)\u001b[49m\u001b[43m,\u001b[49m\u001b[43m \u001b[49m\u001b[43mk\u001b[49m\u001b[43m,\u001b[49m\u001b[43m \u001b[49m\u001b[43mswig_ptr\u001b[49m\u001b[43m(\u001b[49m\u001b[43mD\u001b[49m\u001b[43m)\u001b[49m\u001b[43m,\u001b[49m\u001b[43m \u001b[49m\u001b[43mswig_ptr\u001b[49m\u001b[43m(\u001b[49m\u001b[43mI\u001b[49m\u001b[43m)\u001b[49m\u001b[43m,\u001b[49m\u001b[43m \u001b[49m\u001b[43mparams\u001b[49m\u001b[43m)\u001b[49m\n\u001b[1;32m    344\u001b[0m \u001b[38;5;28;01mreturn\u001b[39;00m D, I\n",
      "File \u001b[0;32m/opt/conda/envs/mulan/lib/python3.8/site-packages/faiss/swigfaiss_avx2.py:10375\u001b[0m, in \u001b[0;36mGpuIndex.search\u001b[0;34m(self, n, x, k, distances, labels, params)\u001b[0m\n\u001b[1;32m  10370\u001b[0m \u001b[38;5;28;01mdef\u001b[39;00m \u001b[38;5;21msearch\u001b[39m(\u001b[38;5;28mself\u001b[39m, n, x, k, distances, labels, params\u001b[38;5;241m=\u001b[39m\u001b[38;5;28;01mNone\u001b[39;00m):\n\u001b[1;32m  10371\u001b[0m \u001b[38;5;250m    \u001b[39m\u001b[38;5;124mr\u001b[39m\u001b[38;5;124;03m\"\"\"\u001b[39;00m\n\u001b[1;32m  10372\u001b[0m \u001b[38;5;124;03m    `x`, `distances` and `labels` can be resident on the CPU or any\u001b[39;00m\n\u001b[1;32m  10373\u001b[0m \u001b[38;5;124;03m    GPU; copies are performed as needed\u001b[39;00m\n\u001b[1;32m  10374\u001b[0m \u001b[38;5;124;03m    \"\"\"\u001b[39;00m\n\u001b[0;32m> 10375\u001b[0m     \u001b[38;5;28;01mreturn\u001b[39;00m \u001b[43m_swigfaiss_avx2\u001b[49m\u001b[38;5;241;43m.\u001b[39;49m\u001b[43mGpuIndex_search\u001b[49m\u001b[43m(\u001b[49m\u001b[38;5;28;43mself\u001b[39;49m\u001b[43m,\u001b[49m\u001b[43m \u001b[49m\u001b[43mn\u001b[49m\u001b[43m,\u001b[49m\u001b[43m \u001b[49m\u001b[43mx\u001b[49m\u001b[43m,\u001b[49m\u001b[43m \u001b[49m\u001b[43mk\u001b[49m\u001b[43m,\u001b[49m\u001b[43m \u001b[49m\u001b[43mdistances\u001b[49m\u001b[43m,\u001b[49m\u001b[43m \u001b[49m\u001b[43mlabels\u001b[49m\u001b[43m,\u001b[49m\u001b[43m \u001b[49m\u001b[43mparams\u001b[49m\u001b[43m)\u001b[49m\n",
      "\u001b[0;31mKeyboardInterrupt\u001b[0m: "
     ]
    }
   ],
   "source": [
    "gpu_faiss_index.search(a, k=10)"
   ]
  },
  {
   "cell_type": "code",
   "execution_count": 56,
   "id": "4d8e4270-98fb-4edf-ad96-50bf42adae6f",
   "metadata": {},
   "outputs": [],
   "source": [
    "from sklearn.metrics import classification_report\n",
    "from sklearn.metrics.pairwise import paired_cosine_distances, paired_euclidean_distances, paired_manhattan_distances\n",
    "from scipy.stats import pearsonr"
   ]
  },
  {
   "cell_type": "code",
   "execution_count": 57,
   "id": "6d34b026-6d92-49df-96db-81eaccbd690d",
   "metadata": {},
   "outputs": [],
   "source": [
    "corpus_embeddings = corpus_embeddings.cpu().detach().numpy()\n",
    "query_embeddings = query_embeddings.cpu().detach().numpy()\n",
    "\n",
    "cosine_scores = 1 - (paired_cosine_distances(corpus_embeddings, query_embeddings))\n",
    "manhattan_distances = -paired_manhattan_distances(corpus_embeddings, query_embeddings)\n",
    "euclidean_distances = -paired_euclidean_distances(corpus_embeddings, query_embeddings)\n",
    "dot_products = [np.dot(emb1, emb2) for emb1, emb2 in zip(corpus_embeddings, query_embeddings)]"
   ]
  },
  {
   "cell_type": "code",
   "execution_count": 58,
   "id": "7ff19eed-d995-4fa5-b987-d2b3d01aa1dd",
   "metadata": {},
   "outputs": [],
   "source": [
    "new_df['sentence_bert_notblacspace_label']= cosine_scores"
   ]
  },
  {
   "cell_type": "code",
   "execution_count": 59,
   "id": "3039e02a-59bf-4ebc-be9d-1c5fc49f1fd6",
   "metadata": {},
   "outputs": [],
   "source": [
    "new_df['label'] = new_df['sentence_bert_notblacspace_label'].apply(lambda x: 1 if x>=0.6 else 0)"
   ]
  },
  {
   "cell_type": "code",
   "execution_count": 60,
   "id": "9ba8d9d3-48fd-4822-9377-3eb82816fe22",
   "metadata": {},
   "outputs": [],
   "source": [
    "new_df.to_csv('pretrained_model_track_nm_not_bracspace_result.csv')"
   ]
  },
  {
   "cell_type": "code",
   "execution_count": 35,
   "id": "4b72ab16-c22c-41b6-a94c-cde34b217e3f",
   "metadata": {},
   "outputs": [
    {
     "data": {
      "text/html": [
       "<div>\n",
       "<style scoped>\n",
       "    .dataframe tbody tr th:only-of-type {\n",
       "        vertical-align: middle;\n",
       "    }\n",
       "\n",
       "    .dataframe tbody tr th {\n",
       "        vertical-align: top;\n",
       "    }\n",
       "\n",
       "    .dataframe thead th {\n",
       "        text-align: right;\n",
       "    }\n",
       "</style>\n",
       "<table border=\"1\" class=\"dataframe\">\n",
       "  <thead>\n",
       "    <tr style=\"text-align: right;\">\n",
       "      <th></th>\n",
       "      <th>sentence1</th>\n",
       "      <th>sentence2</th>\n",
       "      <th>label</th>\n",
       "      <th>sentence_bert_notblac_artist_nm_label</th>\n",
       "    </tr>\n",
       "  </thead>\n",
       "  <tbody>\n",
       "    <tr>\n",
       "      <th>5684</th>\n",
       "      <td>대동강편지 이수진</td>\n",
       "      <td>대동강 편지 이수진</td>\n",
       "      <td>0</td>\n",
       "      <td>0.589508</td>\n",
       "    </tr>\n",
       "    <tr>\n",
       "      <th>41126</th>\n",
       "      <td>복지만리 나훈아</td>\n",
       "      <td>복지 만리 나훈아</td>\n",
       "      <td>0</td>\n",
       "      <td>0.592601</td>\n",
       "    </tr>\n",
       "    <tr>\n",
       "      <th>48193</th>\n",
       "      <td>차마고도 main theme 양방언</td>\n",
       "      <td>차마고도  양방언</td>\n",
       "      <td>0</td>\n",
       "      <td>0.557088</td>\n",
       "    </tr>\n",
       "    <tr>\n",
       "      <th>49783</th>\n",
       "      <td>exterminate  tv 애니메이션 [전희절창 심포기어 gx] 오프닝 테마 Mi...</td>\n",
       "      <td>exterminate  Mizuki Nana</td>\n",
       "      <td>0</td>\n",
       "      <td>0.583998</td>\n",
       "    </tr>\n",
       "    <tr>\n",
       "      <th>75776</th>\n",
       "      <td>elegy  이루마</td>\n",
       "      <td>elegy내 마음에 비친 내 모습 이루마</td>\n",
       "      <td>0</td>\n",
       "      <td>0.444181</td>\n",
       "    </tr>\n",
       "    <tr>\n",
       "      <th>...</th>\n",
       "      <td>...</td>\n",
       "      <td>...</td>\n",
       "      <td>...</td>\n",
       "      <td>...</td>\n",
       "    </tr>\n",
       "    <tr>\n",
       "      <th>878583</th>\n",
       "      <td>슬램덩크   너와 함께라면 박응식</td>\n",
       "      <td>슬램덩크 엔딩  박응식</td>\n",
       "      <td>0</td>\n",
       "      <td>0.436692</td>\n",
       "    </tr>\n",
       "    <tr>\n",
       "      <th>878585</th>\n",
       "      <td>슬램덩크   너와 함께라면 박응식</td>\n",
       "      <td>슬램덩크 엔딩  박응식</td>\n",
       "      <td>0</td>\n",
       "      <td>0.436692</td>\n",
       "    </tr>\n",
       "    <tr>\n",
       "      <th>880797</th>\n",
       "      <td>ユキトキyukitoki  역시 내 청춘 러브코메디는 잘못됐다 1기 op Variou...</td>\n",
       "      <td>ユキトキ yukitoki  Various Artists</td>\n",
       "      <td>0</td>\n",
       "      <td>0.579756</td>\n",
       "    </tr>\n",
       "    <tr>\n",
       "      <th>889964</th>\n",
       "      <td>사랑의 밧줄 진성</td>\n",
       "      <td>사랑의밧줄 진성</td>\n",
       "      <td>0</td>\n",
       "      <td>0.545908</td>\n",
       "    </tr>\n",
       "    <tr>\n",
       "      <th>889965</th>\n",
       "      <td>사랑의 밧줄 진성</td>\n",
       "      <td>사랑의밧줄 진성</td>\n",
       "      <td>0</td>\n",
       "      <td>0.545908</td>\n",
       "    </tr>\n",
       "  </tbody>\n",
       "</table>\n",
       "<p>85 rows × 4 columns</p>\n",
       "</div>"
      ],
      "text/plain": [
       "                                                sentence1   \n",
       "5684                                            대동강편지 이수진  \\\n",
       "41126                                            복지만리 나훈아   \n",
       "48193                                 차마고도 main theme 양방언   \n",
       "49783   exterminate  tv 애니메이션 [전희절창 심포기어 gx] 오프닝 테마 Mi...   \n",
       "75776                                          elegy  이루마   \n",
       "...                                                   ...   \n",
       "878583                                 슬램덩크   너와 함께라면 박응식   \n",
       "878585                                 슬램덩크   너와 함께라면 박응식   \n",
       "880797  ユキトキyukitoki  역시 내 청춘 러브코메디는 잘못됐다 1기 op Variou...   \n",
       "889964                                          사랑의 밧줄 진성   \n",
       "889965                                          사랑의 밧줄 진성   \n",
       "\n",
       "                             sentence2  label   \n",
       "5684                        대동강 편지 이수진      0  \\\n",
       "41126                        복지 만리 나훈아      0   \n",
       "48193                        차마고도  양방언      0   \n",
       "49783         exterminate  Mizuki Nana      0   \n",
       "75776           elegy내 마음에 비친 내 모습 이루마      0   \n",
       "...                                ...    ...   \n",
       "878583                    슬램덩크 엔딩  박응식      0   \n",
       "878585                    슬램덩크 엔딩  박응식      0   \n",
       "880797  ユキトキ yukitoki  Various Artists      0   \n",
       "889964                        사랑의밧줄 진성      0   \n",
       "889965                        사랑의밧줄 진성      0   \n",
       "\n",
       "        sentence_bert_notblac_artist_nm_label  \n",
       "5684                                 0.589508  \n",
       "41126                                0.592601  \n",
       "48193                                0.557088  \n",
       "49783                                0.583998  \n",
       "75776                                0.444181  \n",
       "...                                       ...  \n",
       "878583                               0.436692  \n",
       "878585                               0.436692  \n",
       "880797                               0.579756  \n",
       "889964                               0.545908  \n",
       "889965                               0.545908  \n",
       "\n",
       "[85 rows x 4 columns]"
      ]
     },
     "execution_count": 35,
     "metadata": {},
     "output_type": "execute_result"
    }
   ],
   "source": [
    "new_df[new_df['sentence_bert_notblac_artist_nm_label']<0.6]"
   ]
  },
  {
   "cell_type": "code",
   "execution_count": null,
   "id": "5a898ab5-ee33-479b-922a-f7e9bb80ab72",
   "metadata": {},
   "outputs": [],
   "source": []
  },
  {
   "cell_type": "code",
   "execution_count": null,
   "id": "ab86f8dd-5535-4d11-a940-d7b8270136cf",
   "metadata": {},
   "outputs": [],
   "source": []
  },
  {
   "cell_type": "code",
   "execution_count": 44,
   "id": "c5cadb37-b312-4a48-86e7-5fc022ff43ec",
   "metadata": {},
   "outputs": [],
   "source": [
    "import os\n",
    "lst_file= os.listdir('data/')\n",
    "file1=pd.read_parquet(f'./data/{lst_file[0]}')"
   ]
  },
  {
   "cell_type": "code",
   "execution_count": 46,
   "id": "09ffff44-42d9-4a48-ac54-61768936af3a",
   "metadata": {},
   "outputs": [],
   "source": [
    "for i in range(1,len(lst_file)):\n",
    "    file2 = pd.read_parquet(f'./data/{lst_file[i]}')\n",
    "    file1 = pd.concat([file1,file2])"
   ]
  },
  {
   "cell_type": "code",
   "execution_count": 93,
   "id": "4215ae29-5012-49c2-8b3a-d10ee6f61825",
   "metadata": {},
   "outputs": [],
   "source": [
    "file1.to_parquet('rep_track.parquet', compression='gzip')"
   ]
  },
  {
   "cell_type": "code",
   "execution_count": 90,
   "id": "0fe027d9-2e31-48ec-a376-fe6b1743898e",
   "metadata": {},
   "outputs": [],
   "source": [
    "file1=file1.drop_duplicates()"
   ]
  },
  {
   "cell_type": "code",
   "execution_count": 91,
   "id": "9512cfad-893f-4758-ba57-dafbcc2d9f73",
   "metadata": {},
   "outputs": [
    {
     "data": {
      "text/plain": [
       "notspace_distance\n",
       "0    901451\n",
       "2       620\n",
       "1        13\n",
       "3        12\n",
       "4         3\n",
       "Name: count, dtype: int64"
      ]
     },
     "execution_count": 91,
     "metadata": {},
     "output_type": "execute_result"
    }
   ],
   "source": [
    "file1['notspace_distance'].value_counts()"
   ]
  },
  {
   "cell_type": "code",
   "execution_count": 92,
   "id": "c5d9304e-922b-4969-8836-5eb82a771723",
   "metadata": {},
   "outputs": [
    {
     "data": {
      "text/plain": [
       "notbracspace_distance\n",
       "0     901471\n",
       "3         94\n",
       "7         72\n",
       "8         54\n",
       "2         52\n",
       "6         51\n",
       "11        42\n",
       "10        42\n",
       "5         39\n",
       "9         38\n",
       "4         33\n",
       "12        16\n",
       "13        16\n",
       "17        15\n",
       "1         13\n",
       "14        10\n",
       "16         8\n",
       "19         7\n",
       "15         7\n",
       "18         6\n",
       "20         5\n",
       "28         3\n",
       "30         1\n",
       "33         1\n",
       "69         1\n",
       "24         1\n",
       "38         1\n",
       "Name: count, dtype: int64"
      ]
     },
     "execution_count": 92,
     "metadata": {},
     "output_type": "execute_result"
    }
   ],
   "source": [
    "file1['notbracspace_distance'].value_counts()"
   ]
  },
  {
   "cell_type": "code",
   "execution_count": null,
   "id": "aefb9239-39a3-4825-bc08-98108db0aea5",
   "metadata": {},
   "outputs": [],
   "source": []
  }
 ],
 "metadata": {
  "kernelspec": {
   "display_name": "mulan",
   "language": "python",
   "name": "mulan"
  },
  "language_info": {
   "codemirror_mode": {
    "name": "ipython",
    "version": 3
   },
   "file_extension": ".py",
   "mimetype": "text/x-python",
   "name": "python",
   "nbconvert_exporter": "python",
   "pygments_lexer": "ipython3",
   "version": "3.8.17"
  }
 },
 "nbformat": 4,
 "nbformat_minor": 5
}
