{
 "cells": [
  {
   "cell_type": "code",
   "execution_count": 3,
   "id": "d0199431-b3dc-490f-ae83-e06bfd99dcec",
   "metadata": {
    "tags": []
   },
   "outputs": [
    {
     "name": "stderr",
     "output_type": "stream",
     "text": [
      "/opt/conda/envs/iris/lib/python3.8/site-packages/tqdm/auto.py:21: TqdmWarning: IProgress not found. Please update jupyter and ipywidgets. See https://ipywidgets.readthedocs.io/en/stable/user_install.html\n",
      "  from .autonotebook import tqdm as notebook_tqdm\n"
     ]
    }
   ],
   "source": [
    "import math\n",
    "import logging\n",
    "from datetime import datetime\n",
    "\n",
    "import torch\n",
    "from torch.utils.data import DataLoader\n",
    "from datasets import load_dataset\n",
    "from sentence_transformers import SentenceTransformer, models, LoggingHandler, losses, util\n",
    "from sentence_transformers.evaluation import EmbeddingSimilarityEvaluator\n",
    "from sentence_transformers.readers import InputExample\n",
    "from sentence_transformers.datasets import NoDuplicatesDataLoader"
   ]
  },
  {
   "cell_type": "code",
   "execution_count": 4,
   "id": "04d080f6-9846-4a91-a0a3-dff29a4db4a3",
   "metadata": {
    "tags": []
   },
   "outputs": [],
   "source": [
    "# SEED 설정\n",
    "import random\n",
    "seed = 7777\n",
    "random.seed(seed)\n",
    "torch.manual_seed(seed)\n",
    "torch.cuda.manual_seed_all(seed)"
   ]
  },
  {
   "cell_type": "code",
   "execution_count": 5,
   "id": "151606bc-75f0-449e-ba39-8f7596e9013d",
   "metadata": {
    "tags": []
   },
   "outputs": [],
   "source": [
    "# LOGGER 초기화\n",
    "logging.basicConfig(\n",
    "    format=\"%(asctime)s - %(message)s\",\n",
    "    datefmt=\"%Y/%m/%d %H:%M:%S\",\n",
    "    level=logging.INFO,\n",
    "    handlers=[LoggingHandler()],\n",
    ")"
   ]
  },
  {
   "cell_type": "code",
   "execution_count": 6,
   "id": "50e3594d-c9d6-4aa9-9fb1-dd2688fe5217",
   "metadata": {
    "tags": []
   },
   "outputs": [],
   "source": [
    "pretrained_model_name = 'klue/roberta-base'\n",
    "nli_num_epochs = 1\n",
    "sts_num_epochs = 4\n",
    "train_batch_size = 32\n",
    "\n",
    "nli_model_save_path = 'output/training_nli_by_Softmaxloss'+pretrained_model_name.replace(\"/\", \"-\")+'-'+datetime.now().strftime(\"%Y-%m-%d_%H-%M-%S\")\n",
    "sts_model_save_path = 'output/training_sts_by_Softmaxloss'+pretrained_model_name.replace(\"/\", \"-\")+'-'+datetime.now().strftime(\"%Y-%m-%d_%H-%M-%S\")"
   ]
  },
  {
   "cell_type": "code",
   "execution_count": 7,
   "id": "95931f68-685f-473a-873f-25ce532185f7",
   "metadata": {
    "tags": []
   },
   "outputs": [
    {
     "name": "stderr",
     "output_type": "stream",
     "text": [
      "Downloading builder script: 100%|██████████| 23.3k/23.3k [00:00<00:00, 9.33MB/s]\n",
      "Downloading metadata: 100%|██████████| 22.7k/22.7k [00:00<00:00, 11.5MB/s]\n",
      "Downloading readme: 100%|██████████| 21.5k/21.5k [00:00<00:00, 11.3MB/s]\n",
      "Downloading data: 100%|██████████| 1.26M/1.26M [00:00<00:00, 24.2MB/s]\n",
      "Generating train split: 100%|██████████| 24998/24998 [00:02<00:00, 8865.21 examples/s] \n",
      "Generating validation split: 100%|██████████| 3000/3000 [00:00<00:00, 9593.25 examples/s] "
     ]
    },
    {
     "name": "stdout",
     "output_type": "stream",
     "text": [
      "Length of Train :  24998\n"
     ]
    },
    {
     "name": "stderr",
     "output_type": "stream",
     "text": [
      "\n"
     ]
    }
   ],
   "source": [
    "# load KLUE-NLI Dataset\n",
    "klue_nli_train = load_dataset(\"klue\", \"nli\", split='train')\n",
    "print('Length of Train : ',len(klue_nli_train))"
   ]
  },
  {
   "cell_type": "code",
   "execution_count": 8,
   "id": "2afded4c-cc23-497d-bed3-be533f188a19",
   "metadata": {
    "tags": []
   },
   "outputs": [],
   "source": [
    "def make_nli_input_example(dataset):\n",
    "    ''' \n",
    "    Transform to InputExample\n",
    "    ''' \n",
    "    input_examples = []\n",
    "    for i, data in enumerate(dataset):\n",
    "        sentence1 = data['hypothesis']\n",
    "        sentence2 = data['premise']\n",
    "        label = data['label'] # 0(entailment), 1(neutral), 2(contradiction)\n",
    "        input_examples.append(InputExample(texts=[sentence1, sentence2], label=label))\n",
    "\n",
    "    return input_examples"
   ]
  },
  {
   "cell_type": "code",
   "execution_count": 9,
   "id": "d43e12b3-f9df-4fb5-b352-4dab40ef2f57",
   "metadata": {
    "tags": []
   },
   "outputs": [],
   "source": [
    "nli_train_examples = make_nli_input_example(klue_nli_train)"
   ]
  },
  {
   "cell_type": "code",
   "execution_count": 12,
   "id": "ffa6fa6b-e1f3-4310-a7e2-748f81b819be",
   "metadata": {
    "tags": []
   },
   "outputs": [],
   "source": [
    "# Train Dataloader\n",
    "train_dataloader = DataLoader(\n",
    "    nli_train_examples,\n",
    "    shuffle=True,\n",
    "    batch_size=train_batch_size,\n",
    ")"
   ]
  },
  {
   "cell_type": "code",
   "execution_count": 13,
   "id": "c240f2a9-110d-4c07-8f8d-d6cc5abe3fe6",
   "metadata": {
    "tags": []
   },
   "outputs": [
    {
     "name": "stderr",
     "output_type": "stream",
     "text": [
      "Downloading (…)lve/main/config.json: 100%|██████████| 546/546 [00:00<00:00, 60.8kB/s]\n",
      "Downloading model.safetensors: 100%|██████████| 443M/443M [00:04<00:00, 91.6MB/s] \n",
      "Some weights of RobertaModel were not initialized from the model checkpoint at klue/roberta-base and are newly initialized: ['roberta.pooler.dense.weight', 'roberta.pooler.dense.bias']\n",
      "You should probably TRAIN this model on a down-stream task to be able to use it for predictions and inference.\n",
      "Downloading (…)okenizer_config.json: 100%|██████████| 375/375 [00:00<00:00, 49.1kB/s]\n",
      "Downloading (…)solve/main/vocab.txt: 100%|██████████| 248k/248k [00:00<00:00, 1.45MB/s]\n",
      "Downloading (…)/main/tokenizer.json: 100%|██████████| 752k/752k [00:00<00:00, 4.27MB/s]\n",
      "Downloading (…)cial_tokens_map.json: 100%|██████████| 173/173 [00:00<00:00, 85.0kB/s]\n"
     ]
    },
    {
     "name": "stdout",
     "output_type": "stream",
     "text": [
      "2023/08/08 07:08:50 - Use pytorch device: cuda\n"
     ]
    }
   ],
   "source": [
    "# Load Embedding Model\n",
    "embedding_model = models.Transformer(\n",
    "    model_name_or_path=pretrained_model_name, \n",
    "    max_seq_length=256,\n",
    "    do_lower_case=True\n",
    ")\n",
    "\n",
    "# Only use Mean Pooling -> Pooling all token embedding vectors of sentence.\n",
    "pooling_model = models.Pooling(\n",
    "    embedding_model.get_word_embedding_dimension(),\n",
    "    pooling_mode_mean_tokens=True,\n",
    "    pooling_mode_cls_token=False,\n",
    "    pooling_mode_max_tokens=False,\n",
    ")\n",
    "\n",
    "model = SentenceTransformer(modules=[embedding_model, pooling_model])"
   ]
  },
  {
   "cell_type": "code",
   "execution_count": 14,
   "id": "db4ba9c9-b400-4d9c-9903-163985877a0c",
   "metadata": {
    "collapsed": true,
    "jupyter": {
     "outputs_hidden": true
    },
    "tags": []
   },
   "outputs": [
    {
     "name": "stdout",
     "output_type": "stream",
     "text": [
      "2023/08/08 07:08:50 - Softmax loss: #Vectors concatenated: 3\n",
      "2023/08/08 07:08:50 - Warmup-steps: 79\n"
     ]
    },
    {
     "name": "stderr",
     "output_type": "stream",
     "text": [
      "Epoch:   0%|          | 0/1 [00:00<?, ?it/s]\n",
      "Iteration:   0%|          | 0/782 [00:00<?, ?it/s]\u001b[A\n",
      "Iteration:   0%|          | 1/782 [00:00<06:50,  1.90it/s]\u001b[A\n",
      "Iteration:   0%|          | 2/782 [00:00<04:23,  2.96it/s]\u001b[A\n",
      "Iteration:   0%|          | 3/782 [00:00<03:38,  3.56it/s]\u001b[A\n",
      "Iteration:   1%|          | 4/782 [00:01<03:16,  3.96it/s]\u001b[A\n",
      "Iteration:   1%|          | 5/782 [00:01<02:59,  4.33it/s]\u001b[A\n",
      "Iteration:   1%|          | 6/782 [00:01<02:48,  4.61it/s]\u001b[A\n",
      "Iteration:   1%|          | 7/782 [00:01<02:41,  4.80it/s]\u001b[A\n",
      "Iteration:   1%|          | 8/782 [00:01<02:38,  4.87it/s]\u001b[A\n",
      "Iteration:   1%|          | 9/782 [00:01<02:33,  5.03it/s]\u001b[A\n",
      "Iteration:   1%|▏         | 10/782 [00:02<02:30,  5.14it/s]\u001b[A\n",
      "Iteration:   1%|▏         | 11/782 [00:02<02:29,  5.17it/s]\u001b[A\n",
      "Iteration:   2%|▏         | 12/782 [00:02<02:26,  5.26it/s]\u001b[A\n",
      "Iteration:   2%|▏         | 13/782 [00:02<02:24,  5.33it/s]\u001b[A\n",
      "Iteration:   2%|▏         | 14/782 [00:02<02:21,  5.42it/s]\u001b[A\n",
      "Iteration:   2%|▏         | 15/782 [00:02<02:19,  5.52it/s]\u001b[A\n",
      "Iteration:   2%|▏         | 16/782 [00:03<02:17,  5.57it/s]\u001b[A\n",
      "Iteration:   2%|▏         | 17/782 [00:03<02:16,  5.62it/s]\u001b[A\n",
      "Iteration:   2%|▏         | 18/782 [00:03<02:15,  5.63it/s]\u001b[A\n",
      "Iteration:   2%|▏         | 19/782 [00:03<02:13,  5.70it/s]\u001b[A\n",
      "Iteration:   3%|▎         | 20/782 [00:03<02:14,  5.68it/s]\u001b[A\n",
      "Iteration:   3%|▎         | 21/782 [00:03<02:13,  5.71it/s]\u001b[A\n",
      "Iteration:   3%|▎         | 22/782 [00:04<02:12,  5.73it/s]\u001b[A\n",
      "Iteration:   3%|▎         | 23/782 [00:04<02:11,  5.75it/s]\u001b[A\n",
      "Iteration:   3%|▎         | 24/782 [00:04<02:11,  5.75it/s]\u001b[A\n",
      "Iteration:   3%|▎         | 25/782 [00:04<02:11,  5.76it/s]\u001b[A\n",
      "Iteration:   3%|▎         | 26/782 [00:04<02:10,  5.79it/s]\u001b[A\n",
      "Iteration:   3%|▎         | 27/782 [00:04<02:10,  5.80it/s]\u001b[A\n",
      "Iteration:   4%|▎         | 28/782 [00:05<02:09,  5.81it/s]\u001b[A\n",
      "Iteration:   4%|▎         | 29/782 [00:05<02:09,  5.83it/s]\u001b[A\n",
      "Iteration:   4%|▍         | 30/782 [00:05<02:08,  5.85it/s]\u001b[A\n",
      "Iteration:   4%|▍         | 31/782 [00:05<02:07,  5.88it/s]\u001b[A\n",
      "Iteration:   4%|▍         | 32/782 [00:05<02:06,  5.93it/s]\u001b[A\n",
      "Iteration:   4%|▍         | 33/782 [00:05<02:06,  5.90it/s]\u001b[A\n",
      "Iteration:   4%|▍         | 34/782 [00:05<02:06,  5.94it/s]\u001b[A\n",
      "Iteration:   4%|▍         | 35/782 [00:06<02:05,  5.93it/s]\u001b[A\n",
      "Iteration:   5%|▍         | 36/782 [00:06<02:05,  5.95it/s]\u001b[A\n",
      "Iteration:   5%|▍         | 37/782 [00:06<02:04,  5.98it/s]\u001b[A\n",
      "Iteration:   5%|▍         | 38/782 [00:06<02:04,  5.98it/s]\u001b[A\n",
      "Iteration:   5%|▍         | 39/782 [00:06<02:03,  6.01it/s]\u001b[A\n",
      "Iteration:   5%|▌         | 40/782 [00:06<02:03,  6.00it/s]\u001b[A\n",
      "Iteration:   5%|▌         | 41/782 [00:07<02:03,  5.98it/s]\u001b[A\n",
      "Iteration:   5%|▌         | 42/782 [00:07<02:03,  5.98it/s]\u001b[A\n",
      "Iteration:   5%|▌         | 43/782 [00:07<02:03,  5.99it/s]\u001b[A\n",
      "Iteration:   6%|▌         | 44/782 [00:07<02:03,  6.00it/s]\u001b[A\n",
      "Iteration:   6%|▌         | 45/782 [00:07<02:02,  6.00it/s]\u001b[A\n",
      "Iteration:   6%|▌         | 46/782 [00:07<02:02,  5.99it/s]\u001b[A\n",
      "Iteration:   6%|▌         | 47/782 [00:08<02:02,  6.00it/s]\u001b[A\n",
      "Iteration:   6%|▌         | 48/782 [00:08<02:02,  5.99it/s]\u001b[A\n",
      "Iteration:   6%|▋         | 49/782 [00:08<02:01,  6.01it/s]\u001b[A\n",
      "Iteration:   6%|▋         | 50/782 [00:08<02:01,  6.02it/s]\u001b[A\n",
      "Iteration:   7%|▋         | 51/782 [00:08<02:01,  6.02it/s]\u001b[A\n",
      "Iteration:   7%|▋         | 52/782 [00:08<02:01,  6.03it/s]\u001b[A\n",
      "Iteration:   7%|▋         | 53/782 [00:09<02:00,  6.05it/s]\u001b[A\n",
      "Iteration:   7%|▋         | 54/782 [00:09<02:00,  6.06it/s]\u001b[A\n",
      "Iteration:   7%|▋         | 55/782 [00:09<01:59,  6.06it/s]\u001b[A\n",
      "Iteration:   7%|▋         | 56/782 [00:09<01:59,  6.07it/s]\u001b[A\n",
      "Iteration:   7%|▋         | 57/782 [00:09<01:59,  6.05it/s]\u001b[A\n",
      "Iteration:   7%|▋         | 58/782 [00:09<01:59,  6.07it/s]\u001b[A\n",
      "Iteration:   8%|▊         | 59/782 [00:10<01:58,  6.10it/s]\u001b[A\n",
      "Iteration:   8%|▊         | 60/782 [00:10<01:58,  6.08it/s]\u001b[A\n",
      "Iteration:   8%|▊         | 61/782 [00:10<01:58,  6.08it/s]\u001b[A\n",
      "Iteration:   8%|▊         | 62/782 [00:10<01:58,  6.08it/s]\u001b[A\n",
      "Iteration:   8%|▊         | 63/782 [00:10<01:58,  6.08it/s]\u001b[A\n",
      "Iteration:   8%|▊         | 64/782 [00:10<01:58,  6.07it/s]\u001b[A\n",
      "Iteration:   8%|▊         | 65/782 [00:11<01:58,  6.07it/s]\u001b[A\n",
      "Iteration:   8%|▊         | 66/782 [00:11<01:58,  6.06it/s]\u001b[A\n",
      "Iteration:   9%|▊         | 67/782 [00:11<01:57,  6.06it/s]\u001b[A\n",
      "Iteration:   9%|▊         | 68/782 [00:11<01:57,  6.05it/s]\u001b[A\n",
      "Iteration:   9%|▉         | 69/782 [00:11<01:57,  6.07it/s]\u001b[A\n",
      "Iteration:   9%|▉         | 70/782 [00:11<01:57,  6.06it/s]\u001b[A\n",
      "Iteration:   9%|▉         | 71/782 [00:12<01:56,  6.09it/s]\u001b[A\n",
      "Iteration:   9%|▉         | 72/782 [00:12<01:56,  6.09it/s]\u001b[A\n",
      "Iteration:   9%|▉         | 73/782 [00:12<01:56,  6.08it/s]\u001b[A\n",
      "Iteration:   9%|▉         | 74/782 [00:12<01:56,  6.08it/s]\u001b[A\n",
      "Iteration:  10%|▉         | 75/782 [00:12<01:56,  6.09it/s]\u001b[A\n",
      "Iteration:  10%|▉         | 76/782 [00:12<01:56,  6.07it/s]\u001b[A\n",
      "                                            :56,  6.06it/s]\u001b[A\n",
      "Epoch:   0%|          | 0/1 [00:13<?, ?it/s]               \n",
      "Iteration:  10%|▉         | 77/782 [00:13<01:56,  6.06it/s]\u001b[A"
     ]
    },
    {
     "name": "stdout",
     "output_type": "stream",
     "text": [
      "2023/08/08 07:09:05 - EmbeddingSimilarityEvaluator: Evaluating the model on sts-dev dataset in epoch 0 after 78 steps:\n"
     ]
    },
    {
     "name": "stderr",
     "output_type": "stream",
     "text": [
      "                                            \n",
      "Epoch:   0%|          | 0/1 [00:16<?, ?it/s]               \n",
      "                                            :56,  6.06it/s]\u001b[A\n",
      "Epoch:   0%|          | 0/1 [00:16<?, ?it/s]               \n",
      "                                            :56,  6.06it/s]\u001b[A\n",
      "Epoch:   0%|          | 0/1 [00:16<?, ?it/s]               \n",
      "                                            :56,  6.06it/s]\u001b[A\n",
      "Epoch:   0%|          | 0/1 [00:16<?, ?it/s]               \n",
      "                                            :56,  6.06it/s]\u001b[A\n",
      "Epoch:   0%|          | 0/1 [00:16<?, ?it/s]               \n",
      "Iteration:  10%|▉         | 77/782 [00:16<01:56,  6.06it/s]\u001b[A"
     ]
    },
    {
     "name": "stdout",
     "output_type": "stream",
     "text": [
      "2023/08/08 07:09:08 - Cosine-Similarity :\tPearson: 0.8382\tSpearman: 0.8563\n",
      "2023/08/08 07:09:08 - Manhattan-Distance:\tPearson: 0.8317\tSpearman: 0.8473\n",
      "2023/08/08 07:09:08 - Euclidean-Distance:\tPearson: 0.8278\tSpearman: 0.8445\n",
      "2023/08/08 07:09:08 - Dot-Product-Similarity:\tPearson: 0.7066\tSpearman: 0.7190\n",
      "2023/08/08 07:09:09 - Save model to output/training_nli_by_Softmaxlossklue-roberta-base-2023-08-08_07-08-05\n"
     ]
    },
    {
     "name": "stderr",
     "output_type": "stream",
     "text": [
      "\n",
      "Iteration:  10%|▉         | 78/782 [00:17<04:36,  2.55it/s]\u001b[A\n",
      "Iteration:  10%|█         | 79/782 [00:17<04:28,  2.62it/s]\u001b[A\n",
      "Iteration:  10%|█         | 80/782 [00:18<04:20,  2.70it/s]\u001b[A\n",
      "Iteration:  10%|█         | 81/782 [00:18<04:12,  2.77it/s]\u001b[A\n",
      "Iteration:  10%|█         | 82/782 [00:18<04:05,  2.85it/s]\u001b[A\n",
      "Iteration:  11%|█         | 83/782 [00:18<03:58,  2.93it/s]\u001b[A\n",
      "Iteration:  11%|█         | 84/782 [00:18<03:52,  3.01it/s]\u001b[A\n",
      "Iteration:  11%|█         | 85/782 [00:18<03:45,  3.09it/s]\u001b[A\n",
      "Iteration:  11%|█         | 86/782 [00:19<03:39,  3.17it/s]\u001b[A\n",
      "Iteration:  11%|█         | 87/782 [00:19<03:34,  3.25it/s]\u001b[A\n",
      "Iteration:  11%|█▏        | 88/782 [00:19<03:28,  3.33it/s]\u001b[A\n",
      "Iteration:  11%|█▏        | 89/782 [00:19<03:23,  3.40it/s]\u001b[A\n",
      "Iteration:  12%|█▏        | 90/782 [00:19<03:18,  3.49it/s]\u001b[A\n",
      "Iteration:  12%|█▏        | 91/782 [00:19<03:14,  3.55it/s]\u001b[A\n",
      "Iteration:  12%|█▏        | 92/782 [00:20<03:10,  3.63it/s]\u001b[A\n",
      "Iteration:  12%|█▏        | 93/782 [00:20<03:05,  3.70it/s]\u001b[A\n",
      "Iteration:  12%|█▏        | 94/782 [00:20<03:01,  3.78it/s]\u001b[A\n",
      "Iteration:  12%|█▏        | 95/782 [00:20<02:58,  3.86it/s]\u001b[A\n",
      "Iteration:  12%|█▏        | 96/782 [00:20<02:54,  3.92it/s]\u001b[A\n",
      "Iteration:  12%|█▏        | 97/782 [00:20<02:51,  3.99it/s]\u001b[A\n",
      "Iteration:  13%|█▎        | 98/782 [00:20<02:48,  4.06it/s]\u001b[A\n",
      "Iteration:  13%|█▎        | 99/782 [00:21<02:45,  4.13it/s]\u001b[A\n",
      "Iteration:  13%|█▎        | 100/782 [00:21<02:42,  4.20it/s]\u001b[A\n",
      "Iteration:  13%|█▎        | 101/782 [00:21<02:39,  4.27it/s]\u001b[A\n",
      "Iteration:  13%|█▎        | 102/782 [00:21<02:36,  4.33it/s]\u001b[A\n",
      "Iteration:  13%|█▎        | 103/782 [00:21<02:34,  4.39it/s]\u001b[A\n",
      "Iteration:  13%|█▎        | 104/782 [00:21<02:32,  4.45it/s]\u001b[A\n",
      "Iteration:  13%|█▎        | 105/782 [00:22<02:29,  4.53it/s]\u001b[A\n",
      "Iteration:  14%|█▎        | 106/782 [00:22<02:27,  4.58it/s]\u001b[A\n",
      "Iteration:  14%|█▎        | 107/782 [00:22<02:25,  4.63it/s]\u001b[A\n",
      "Iteration:  14%|█▍        | 108/782 [00:22<02:23,  4.69it/s]\u001b[A\n",
      "Iteration:  14%|█▍        | 109/782 [00:22<02:21,  4.74it/s]\u001b[A\n",
      "Iteration:  14%|█▍        | 110/782 [00:22<02:19,  4.81it/s]\u001b[A\n",
      "Iteration:  14%|█▍        | 111/782 [00:23<02:18,  4.85it/s]\u001b[A\n",
      "Iteration:  14%|█▍        | 112/782 [00:23<02:16,  4.91it/s]\u001b[A\n",
      "Iteration:  14%|█▍        | 113/782 [00:23<02:14,  4.97it/s]\u001b[A\n",
      "Iteration:  15%|█▍        | 114/782 [00:23<02:13,  5.01it/s]\u001b[A\n",
      "Iteration:  15%|█▍        | 115/782 [00:23<02:12,  5.04it/s]\u001b[A\n",
      "Iteration:  15%|█▍        | 116/782 [00:23<02:10,  5.09it/s]\u001b[A\n",
      "Iteration:  15%|█▍        | 117/782 [00:24<02:09,  5.12it/s]\u001b[A\n",
      "Iteration:  15%|█▌        | 118/782 [00:24<02:08,  5.17it/s]\u001b[A\n",
      "Iteration:  15%|█▌        | 119/782 [00:24<02:07,  5.22it/s]\u001b[A\n",
      "Iteration:  15%|█▌        | 120/782 [00:24<02:05,  5.27it/s]\u001b[A\n",
      "Iteration:  15%|█▌        | 121/782 [00:24<02:04,  5.29it/s]\u001b[A\n",
      "Iteration:  16%|█▌        | 122/782 [00:24<02:03,  5.33it/s]\u001b[A\n",
      "Iteration:  16%|█▌        | 123/782 [00:25<02:02,  5.37it/s]\u001b[A\n",
      "Iteration:  16%|█▌        | 124/782 [00:25<02:01,  5.40it/s]\u001b[A\n",
      "Iteration:  16%|█▌        | 125/782 [00:25<02:00,  5.44it/s]\u001b[A\n",
      "Iteration:  16%|█▌        | 126/782 [00:25<02:00,  5.45it/s]\u001b[A\n",
      "Iteration:  16%|█▌        | 127/782 [00:25<01:59,  5.50it/s]\u001b[A\n",
      "Iteration:  16%|█▋        | 128/782 [00:25<01:58,  5.52it/s]\u001b[A\n",
      "Iteration:  16%|█▋        | 129/782 [00:26<01:57,  5.55it/s]\u001b[A\n",
      "Iteration:  17%|█▋        | 130/782 [00:26<01:56,  5.58it/s]\u001b[A\n",
      "Iteration:  17%|█▋        | 131/782 [00:26<01:56,  5.60it/s]\u001b[A\n",
      "Iteration:  17%|█▋        | 132/782 [00:26<01:55,  5.61it/s]\u001b[A\n",
      "Iteration:  17%|█▋        | 133/782 [00:26<01:55,  5.63it/s]\u001b[A\n",
      "Iteration:  17%|█▋        | 134/782 [00:26<01:54,  5.66it/s]\u001b[A\n",
      "Iteration:  17%|█▋        | 135/782 [00:27<01:54,  5.68it/s]\u001b[A\n",
      "Iteration:  17%|█▋        | 136/782 [00:27<01:53,  5.68it/s]\u001b[A\n",
      "Iteration:  18%|█▊        | 137/782 [00:27<01:54,  5.65it/s]\u001b[A\n",
      "Iteration:  18%|█▊        | 138/782 [00:27<01:53,  5.68it/s]\u001b[A\n",
      "Iteration:  18%|█▊        | 139/782 [00:27<01:52,  5.69it/s]\u001b[A\n",
      "Iteration:  18%|█▊        | 140/782 [00:27<01:52,  5.71it/s]\u001b[A\n",
      "Iteration:  18%|█▊        | 141/782 [00:28<01:51,  5.73it/s]\u001b[A\n",
      "Iteration:  18%|█▊        | 142/782 [00:28<01:50,  5.77it/s]\u001b[A\n",
      "Iteration:  18%|█▊        | 143/782 [00:28<01:50,  5.79it/s]\u001b[A\n",
      "Iteration:  18%|█▊        | 144/782 [00:28<01:50,  5.78it/s]\u001b[A\n",
      "Iteration:  19%|█▊        | 145/782 [00:28<01:50,  5.78it/s]\u001b[A\n",
      "Iteration:  19%|█▊        | 146/782 [00:28<01:49,  5.80it/s]\u001b[A\n",
      "Iteration:  19%|█▉        | 147/782 [00:29<01:49,  5.80it/s]\u001b[A\n",
      "Iteration:  19%|█▉        | 148/782 [00:29<01:49,  5.81it/s]\u001b[A\n",
      "Iteration:  19%|█▉        | 149/782 [00:29<01:48,  5.82it/s]\u001b[A\n",
      "Iteration:  19%|█▉        | 150/782 [00:29<01:48,  5.84it/s]\u001b[A\n",
      "Iteration:  19%|█▉        | 151/782 [00:29<01:47,  5.87it/s]\u001b[A\n",
      "Iteration:  19%|█▉        | 152/782 [00:29<01:47,  5.87it/s]\u001b[A\n",
      "Iteration:  20%|█▉        | 153/782 [00:30<01:46,  5.89it/s]\u001b[A\n",
      "Iteration:  20%|█▉        | 154/782 [00:30<01:46,  5.91it/s]\u001b[A\n",
      "                                            1:45,  5.93it/s]\u001b[A\n",
      "Epoch:   0%|          | 0/1 [00:30<?, ?it/s]                \n",
      "Iteration:  20%|█▉        | 155/782 [00:30<01:45,  5.93it/s]\u001b[A"
     ]
    },
    {
     "name": "stdout",
     "output_type": "stream",
     "text": [
      "2023/08/08 07:09:22 - EmbeddingSimilarityEvaluator: Evaluating the model on sts-dev dataset in epoch 0 after 156 steps:\n"
     ]
    },
    {
     "name": "stderr",
     "output_type": "stream",
     "text": [
      "                                            \n",
      "Epoch:   0%|          | 0/1 [00:34<?, ?it/s]                \n",
      "                                            1:45,  5.93it/s]\u001b[A\n",
      "Epoch:   0%|          | 0/1 [00:34<?, ?it/s]                \n",
      "                                            1:45,  5.93it/s]\u001b[A\n",
      "Epoch:   0%|          | 0/1 [00:34<?, ?it/s]                \n",
      "                                            1:45,  5.93it/s]\u001b[A\n",
      "Epoch:   0%|          | 0/1 [00:34<?, ?it/s]                \n",
      "Iteration:  20%|█▉        | 155/782 [00:34<01:45,  5.93it/s]\u001b[A\n",
      "Iteration:  20%|█▉        | 156/782 [00:34<03:43,  2.80it/s]\u001b[A"
     ]
    },
    {
     "name": "stdout",
     "output_type": "stream",
     "text": [
      "2023/08/08 07:09:26 - Cosine-Similarity :\tPearson: 0.5477\tSpearman: 0.6574\n",
      "2023/08/08 07:09:26 - Manhattan-Distance:\tPearson: 0.6125\tSpearman: 0.6628\n",
      "2023/08/08 07:09:26 - Euclidean-Distance:\tPearson: 0.6070\tSpearman: 0.6623\n",
      "2023/08/08 07:09:26 - Dot-Product-Similarity:\tPearson: 0.5068\tSpearman: 0.4982\n"
     ]
    },
    {
     "name": "stderr",
     "output_type": "stream",
     "text": [
      "\n",
      "Iteration:  20%|██        | 157/782 [00:34<03:37,  2.87it/s]\u001b[A\n",
      "Iteration:  20%|██        | 158/782 [00:34<03:31,  2.95it/s]\u001b[A\n",
      "Iteration:  20%|██        | 159/782 [00:34<03:26,  3.02it/s]\u001b[A\n",
      "Iteration:  20%|██        | 160/782 [00:34<03:20,  3.10it/s]\u001b[A\n",
      "Iteration:  21%|██        | 161/782 [00:35<03:14,  3.19it/s]\u001b[A\n",
      "Iteration:  21%|██        | 162/782 [00:35<03:10,  3.26it/s]\u001b[A\n",
      "Iteration:  21%|██        | 163/782 [00:35<03:05,  3.34it/s]\u001b[A\n",
      "Iteration:  21%|██        | 164/782 [00:35<03:00,  3.41it/s]\u001b[A\n",
      "Iteration:  21%|██        | 165/782 [00:35<02:56,  3.49it/s]\u001b[A\n",
      "Iteration:  21%|██        | 166/782 [00:35<02:52,  3.57it/s]\u001b[A\n",
      "Iteration:  21%|██▏       | 167/782 [00:36<02:48,  3.64it/s]\u001b[A\n",
      "Iteration:  21%|██▏       | 168/782 [00:36<02:45,  3.72it/s]\u001b[A\n",
      "Iteration:  22%|██▏       | 169/782 [00:36<02:41,  3.79it/s]\u001b[A\n",
      "Iteration:  22%|██▏       | 170/782 [00:36<02:38,  3.86it/s]\u001b[A\n",
      "Iteration:  22%|██▏       | 171/782 [00:36<02:35,  3.93it/s]\u001b[A\n",
      "Iteration:  22%|██▏       | 172/782 [00:36<02:32,  4.01it/s]\u001b[A\n",
      "Iteration:  22%|██▏       | 173/782 [00:37<02:29,  4.07it/s]\u001b[A\n",
      "Iteration:  22%|██▏       | 174/782 [00:37<02:27,  4.14it/s]\u001b[A\n",
      "Iteration:  22%|██▏       | 175/782 [00:37<02:24,  4.21it/s]\u001b[A\n",
      "Iteration:  23%|██▎       | 176/782 [00:37<02:22,  4.26it/s]\u001b[A\n",
      "Iteration:  23%|██▎       | 177/782 [00:37<02:19,  4.32it/s]\u001b[A\n",
      "Iteration:  23%|██▎       | 178/782 [00:37<02:17,  4.38it/s]\u001b[A\n",
      "Iteration:  23%|██▎       | 179/782 [00:38<02:16,  4.41it/s]\u001b[A\n",
      "Iteration:  23%|██▎       | 180/782 [00:38<02:15,  4.46it/s]\u001b[A\n",
      "Iteration:  23%|██▎       | 181/782 [00:38<02:13,  4.52it/s]\u001b[A\n",
      "Iteration:  23%|██▎       | 182/782 [00:38<02:11,  4.58it/s]\u001b[A\n",
      "Iteration:  23%|██▎       | 183/782 [00:38<02:09,  4.64it/s]\u001b[A\n",
      "Iteration:  24%|██▎       | 184/782 [00:39<02:07,  4.68it/s]\u001b[A\n",
      "Iteration:  24%|██▎       | 185/782 [00:39<02:05,  4.74it/s]\u001b[A\n",
      "Iteration:  24%|██▍       | 186/782 [00:39<02:04,  4.79it/s]\u001b[A\n",
      "Iteration:  24%|██▍       | 187/782 [00:39<02:02,  4.85it/s]\u001b[A\n",
      "Iteration:  24%|██▍       | 188/782 [00:39<02:01,  4.91it/s]\u001b[A\n",
      "Iteration:  24%|██▍       | 189/782 [00:39<02:00,  4.93it/s]\u001b[A\n",
      "Iteration:  24%|██▍       | 190/782 [00:39<01:58,  4.99it/s]\u001b[A\n",
      "Iteration:  24%|██▍       | 191/782 [00:40<01:57,  5.04it/s]\u001b[A\n",
      "Iteration:  25%|██▍       | 192/782 [00:40<01:56,  5.08it/s]\u001b[A\n",
      "Iteration:  25%|██▍       | 193/782 [00:40<01:55,  5.11it/s]\u001b[A\n",
      "Iteration:  25%|██▍       | 194/782 [00:40<01:54,  5.15it/s]\u001b[A\n",
      "Iteration:  25%|██▍       | 195/782 [00:40<01:53,  5.19it/s]\u001b[A\n",
      "Iteration:  25%|██▌       | 196/782 [00:40<01:52,  5.22it/s]\u001b[A\n",
      "Iteration:  25%|██▌       | 197/782 [00:41<01:51,  5.26it/s]\u001b[A\n",
      "Iteration:  25%|██▌       | 198/782 [00:41<01:49,  5.31it/s]\u001b[A\n",
      "Iteration:  25%|██▌       | 199/782 [00:41<01:50,  5.29it/s]\u001b[A\n",
      "Iteration:  26%|██▌       | 200/782 [00:41<01:49,  5.32it/s]\u001b[A\n",
      "Iteration:  26%|██▌       | 201/782 [00:41<01:48,  5.35it/s]\u001b[A\n",
      "Iteration:  26%|██▌       | 202/782 [00:42<01:47,  5.38it/s]\u001b[A\n",
      "Iteration:  26%|██▌       | 203/782 [00:42<01:46,  5.43it/s]\u001b[A\n",
      "Iteration:  26%|██▌       | 204/782 [00:42<01:46,  5.43it/s]\u001b[A\n",
      "Iteration:  26%|██▌       | 205/782 [00:42<01:45,  5.46it/s]\u001b[A\n",
      "Iteration:  26%|██▋       | 206/782 [00:42<01:44,  5.50it/s]\u001b[A\n",
      "Iteration:  26%|██▋       | 207/782 [00:42<01:44,  5.53it/s]\u001b[A\n",
      "Iteration:  27%|██▋       | 208/782 [00:42<01:43,  5.55it/s]\u001b[A\n",
      "Iteration:  27%|██▋       | 209/782 [00:43<01:42,  5.57it/s]\u001b[A\n",
      "Iteration:  27%|██▋       | 210/782 [00:43<01:42,  5.58it/s]\u001b[A\n",
      "Iteration:  27%|██▋       | 211/782 [00:43<01:42,  5.58it/s]\u001b[A\n",
      "Iteration:  27%|██▋       | 212/782 [00:43<01:41,  5.60it/s]\u001b[A\n",
      "Iteration:  27%|██▋       | 213/782 [00:43<01:41,  5.61it/s]\u001b[A\n",
      "Iteration:  27%|██▋       | 214/782 [00:44<01:40,  5.64it/s]\u001b[A\n",
      "Iteration:  27%|██▋       | 215/782 [00:44<01:40,  5.64it/s]\u001b[A\n",
      "Iteration:  28%|██▊       | 216/782 [00:44<01:39,  5.67it/s]\u001b[A\n",
      "Iteration:  28%|██▊       | 217/782 [00:44<01:39,  5.68it/s]\u001b[A\n",
      "Iteration:  28%|██▊       | 218/782 [00:44<01:38,  5.70it/s]\u001b[A\n",
      "Iteration:  28%|██▊       | 219/782 [00:44<01:38,  5.72it/s]\u001b[A\n",
      "Iteration:  28%|██▊       | 220/782 [00:45<01:38,  5.71it/s]\u001b[A\n",
      "Iteration:  28%|██▊       | 221/782 [00:45<01:38,  5.72it/s]\u001b[A\n",
      "Iteration:  28%|██▊       | 222/782 [00:45<01:38,  5.71it/s]\u001b[A\n",
      "Iteration:  29%|██▊       | 223/782 [00:45<01:37,  5.74it/s]\u001b[A\n",
      "Iteration:  29%|██▊       | 224/782 [00:45<01:37,  5.75it/s]\u001b[A\n",
      "Iteration:  29%|██▉       | 225/782 [00:45<01:36,  5.77it/s]\u001b[A\n",
      "Iteration:  29%|██▉       | 226/782 [00:46<01:36,  5.74it/s]\u001b[A\n",
      "Iteration:  29%|██▉       | 227/782 [00:46<01:36,  5.78it/s]\u001b[A\n",
      "Iteration:  29%|██▉       | 228/782 [00:46<01:35,  5.81it/s]\u001b[A\n",
      "Iteration:  29%|██▉       | 229/782 [00:46<01:34,  5.83it/s]\u001b[A\n",
      "Iteration:  29%|██▉       | 230/782 [00:46<01:34,  5.84it/s]\u001b[A\n",
      "Iteration:  30%|██▉       | 231/782 [00:46<01:33,  5.87it/s]\u001b[A\n",
      "Iteration:  30%|██▉       | 232/782 [00:47<01:33,  5.89it/s]\u001b[A\n",
      "                                            1:33,  5.90it/s]\u001b[A\n",
      "Epoch:   0%|          | 0/1 [00:47<?, ?it/s]                \n",
      "Iteration:  30%|██▉       | 233/782 [00:47<01:33,  5.90it/s]\u001b[A"
     ]
    },
    {
     "name": "stdout",
     "output_type": "stream",
     "text": [
      "2023/08/08 07:09:39 - EmbeddingSimilarityEvaluator: Evaluating the model on sts-dev dataset in epoch 0 after 234 steps:\n"
     ]
    },
    {
     "name": "stderr",
     "output_type": "stream",
     "text": [
      "                                            \n",
      "Epoch:   0%|          | 0/1 [00:51<?, ?it/s]                \n",
      "                                            1:33,  5.90it/s]\u001b[A\n",
      "Epoch:   0%|          | 0/1 [00:51<?, ?it/s]                \n",
      "                                            1:33,  5.90it/s]\u001b[A\n",
      "Epoch:   0%|          | 0/1 [00:51<?, ?it/s]                \n",
      "                                            1:33,  5.90it/s]\u001b[A\n",
      "Epoch:   0%|          | 0/1 [00:51<?, ?it/s]                \n",
      "Iteration:  30%|██▉       | 233/782 [00:51<01:33,  5.90it/s]\u001b[A\n",
      "Iteration:  30%|██▉       | 234/782 [00:51<03:16,  2.79it/s]\u001b[A"
     ]
    },
    {
     "name": "stdout",
     "output_type": "stream",
     "text": [
      "2023/08/08 07:09:43 - Cosine-Similarity :\tPearson: 0.5873\tSpearman: 0.6857\n",
      "2023/08/08 07:09:43 - Manhattan-Distance:\tPearson: 0.6509\tSpearman: 0.6999\n",
      "2023/08/08 07:09:43 - Euclidean-Distance:\tPearson: 0.6446\tSpearman: 0.6984\n",
      "2023/08/08 07:09:43 - Dot-Product-Similarity:\tPearson: 0.5318\tSpearman: 0.5404\n"
     ]
    },
    {
     "name": "stderr",
     "output_type": "stream",
     "text": [
      "\n",
      "Iteration:  30%|███       | 235/782 [00:51<03:10,  2.87it/s]\u001b[A\n",
      "Iteration:  30%|███       | 236/782 [00:51<03:05,  2.94it/s]\u001b[A\n",
      "Iteration:  30%|███       | 237/782 [00:51<03:01,  3.01it/s]\u001b[A\n",
      "Iteration:  30%|███       | 238/782 [00:51<02:56,  3.09it/s]\u001b[A\n",
      "Iteration:  31%|███       | 239/782 [00:51<02:51,  3.17it/s]\u001b[A\n",
      "Iteration:  31%|███       | 240/782 [00:52<02:46,  3.25it/s]\u001b[A\n",
      "Iteration:  31%|███       | 241/782 [00:52<02:42,  3.32it/s]\u001b[A\n",
      "Iteration:  31%|███       | 242/782 [00:52<02:39,  3.39it/s]\u001b[A\n",
      "Iteration:  31%|███       | 243/782 [00:52<02:35,  3.47it/s]\u001b[A\n",
      "Iteration:  31%|███       | 244/782 [00:52<02:31,  3.54it/s]\u001b[A\n",
      "Iteration:  31%|███▏      | 245/782 [00:52<02:28,  3.61it/s]\u001b[A\n",
      "Iteration:  31%|███▏      | 246/782 [00:53<02:25,  3.69it/s]\u001b[A\n",
      "Iteration:  32%|███▏      | 247/782 [00:53<02:22,  3.75it/s]\u001b[A\n",
      "Iteration:  32%|███▏      | 248/782 [00:53<02:19,  3.83it/s]\u001b[A\n",
      "Iteration:  32%|███▏      | 249/782 [00:53<02:16,  3.89it/s]\u001b[A\n",
      "Iteration:  32%|███▏      | 250/782 [00:53<02:14,  3.94it/s]\u001b[A\n",
      "Iteration:  32%|███▏      | 251/782 [00:54<02:12,  4.00it/s]\u001b[A\n",
      "Iteration:  32%|███▏      | 252/782 [00:54<02:10,  4.08it/s]\u001b[A\n",
      "Iteration:  32%|███▏      | 253/782 [00:54<02:07,  4.15it/s]\u001b[A\n",
      "Iteration:  32%|███▏      | 254/782 [00:54<02:05,  4.22it/s]\u001b[A\n",
      "Iteration:  33%|███▎      | 255/782 [00:54<02:03,  4.27it/s]\u001b[A\n",
      "Iteration:  33%|███▎      | 256/782 [00:54<02:01,  4.34it/s]\u001b[A\n",
      "Iteration:  33%|███▎      | 257/782 [00:55<01:59,  4.40it/s]\u001b[A\n",
      "Iteration:  33%|███▎      | 258/782 [00:55<01:57,  4.47it/s]\u001b[A\n",
      "Iteration:  33%|███▎      | 259/782 [00:55<01:55,  4.52it/s]\u001b[A\n",
      "Iteration:  33%|███▎      | 260/782 [00:55<01:53,  4.58it/s]\u001b[A\n",
      "Iteration:  33%|███▎      | 261/782 [00:55<01:52,  4.65it/s]\u001b[A\n",
      "Iteration:  34%|███▎      | 262/782 [00:55<01:50,  4.70it/s]\u001b[A\n",
      "Iteration:  34%|███▎      | 263/782 [00:55<01:49,  4.75it/s]\u001b[A\n",
      "Iteration:  34%|███▍      | 264/782 [00:56<01:47,  4.81it/s]\u001b[A\n",
      "Iteration:  34%|███▍      | 265/782 [00:56<01:46,  4.85it/s]\u001b[A\n",
      "Iteration:  34%|███▍      | 266/782 [00:56<01:45,  4.89it/s]\u001b[A\n",
      "Iteration:  34%|███▍      | 267/782 [00:56<01:44,  4.94it/s]\u001b[A\n",
      "Iteration:  34%|███▍      | 268/782 [00:56<01:43,  4.95it/s]\u001b[A\n",
      "Iteration:  34%|███▍      | 269/782 [00:57<01:42,  4.99it/s]\u001b[A\n",
      "Iteration:  35%|███▍      | 270/782 [00:57<01:41,  5.04it/s]\u001b[A\n",
      "Iteration:  35%|███▍      | 271/782 [00:57<01:40,  5.07it/s]\u001b[A\n",
      "Iteration:  35%|███▍      | 272/782 [00:57<01:39,  5.12it/s]\u001b[A\n",
      "Iteration:  35%|███▍      | 273/782 [00:57<01:38,  5.16it/s]\u001b[A\n",
      "Iteration:  35%|███▌      | 274/782 [00:57<01:37,  5.19it/s]\u001b[A\n",
      "Iteration:  35%|███▌      | 275/782 [00:58<01:37,  5.22it/s]\u001b[A\n",
      "Iteration:  35%|███▌      | 276/782 [00:58<01:36,  5.24it/s]\u001b[A\n",
      "Iteration:  35%|███▌      | 277/782 [00:58<01:35,  5.28it/s]\u001b[A\n",
      "Iteration:  36%|███▌      | 278/782 [00:58<01:35,  5.27it/s]\u001b[A\n",
      "Iteration:  36%|███▌      | 279/782 [00:58<01:35,  5.29it/s]\u001b[A\n",
      "Iteration:  36%|███▌      | 280/782 [00:58<01:34,  5.33it/s]\u001b[A\n",
      "Iteration:  36%|███▌      | 281/782 [00:59<01:33,  5.38it/s]\u001b[A\n",
      "Iteration:  36%|███▌      | 282/782 [00:59<01:32,  5.41it/s]\u001b[A\n",
      "Iteration:  36%|███▌      | 283/782 [00:59<01:31,  5.43it/s]\u001b[A\n",
      "Iteration:  36%|███▋      | 284/782 [00:59<01:31,  5.45it/s]\u001b[A\n",
      "Iteration:  36%|███▋      | 285/782 [00:59<01:30,  5.48it/s]\u001b[A\n",
      "Iteration:  37%|███▋      | 286/782 [00:59<01:30,  5.50it/s]\u001b[A\n",
      "Iteration:  37%|███▋      | 287/782 [01:00<01:29,  5.50it/s]\u001b[A\n",
      "Iteration:  37%|███▋      | 288/782 [01:00<01:29,  5.53it/s]\u001b[A\n",
      "Iteration:  37%|███▋      | 289/782 [01:00<01:28,  5.57it/s]\u001b[A\n",
      "Iteration:  37%|███▋      | 290/782 [01:00<01:27,  5.60it/s]\u001b[A\n",
      "Iteration:  37%|███▋      | 291/782 [01:00<01:27,  5.61it/s]\u001b[A\n",
      "Iteration:  37%|███▋      | 292/782 [01:00<01:27,  5.63it/s]\u001b[A\n",
      "Iteration:  37%|███▋      | 293/782 [01:01<01:26,  5.65it/s]\u001b[A\n",
      "Iteration:  38%|███▊      | 294/782 [01:01<01:26,  5.66it/s]\u001b[A\n",
      "Iteration:  38%|███▊      | 295/782 [01:01<01:25,  5.68it/s]\u001b[A\n",
      "Iteration:  38%|███▊      | 296/782 [01:01<01:24,  5.72it/s]\u001b[A\n",
      "Iteration:  38%|███▊      | 297/782 [01:01<01:24,  5.73it/s]\u001b[A\n",
      "Iteration:  38%|███▊      | 298/782 [01:01<01:24,  5.73it/s]\u001b[A\n",
      "Iteration:  38%|███▊      | 299/782 [01:02<01:23,  5.75it/s]\u001b[A\n",
      "Iteration:  38%|███▊      | 300/782 [01:02<01:23,  5.77it/s]\u001b[A\n",
      "Iteration:  38%|███▊      | 301/782 [01:02<01:23,  5.79it/s]\u001b[A\n",
      "Iteration:  39%|███▊      | 302/782 [01:02<01:22,  5.79it/s]\u001b[A\n",
      "Iteration:  39%|███▊      | 303/782 [01:02<01:22,  5.82it/s]\u001b[A\n",
      "Iteration:  39%|███▉      | 304/782 [01:02<01:22,  5.83it/s]\u001b[A\n",
      "Iteration:  39%|███▉      | 305/782 [01:03<01:22,  5.80it/s]\u001b[A\n",
      "Iteration:  39%|███▉      | 306/782 [01:03<01:22,  5.80it/s]\u001b[A\n",
      "Iteration:  39%|███▉      | 307/782 [01:03<01:21,  5.81it/s]\u001b[A\n",
      "Iteration:  39%|███▉      | 308/782 [01:03<01:21,  5.82it/s]\u001b[A\n",
      "Iteration:  40%|███▉      | 309/782 [01:03<01:21,  5.83it/s]\u001b[A\n",
      "Iteration:  40%|███▉      | 310/782 [01:03<01:20,  5.84it/s]\u001b[A\n",
      "                                            1:20,  5.86it/s]\u001b[A\n",
      "Epoch:   0%|          | 0/1 [01:04<?, ?it/s]                \n",
      "Iteration:  40%|███▉      | 311/782 [01:04<01:20,  5.86it/s]\u001b[A"
     ]
    },
    {
     "name": "stdout",
     "output_type": "stream",
     "text": [
      "2023/08/08 07:09:56 - EmbeddingSimilarityEvaluator: Evaluating the model on sts-dev dataset in epoch 0 after 312 steps:\n"
     ]
    },
    {
     "name": "stderr",
     "output_type": "stream",
     "text": [
      "                                            \n",
      "Epoch:   0%|          | 0/1 [01:07<?, ?it/s]                \n",
      "                                            1:20,  5.86it/s]\u001b[A\n",
      "Epoch:   0%|          | 0/1 [01:07<?, ?it/s]                \n",
      "                                            1:20,  5.86it/s]\u001b[A\n",
      "Epoch:   0%|          | 0/1 [01:07<?, ?it/s]                \n",
      "                                            1:20,  5.86it/s]\u001b[A\n",
      "Epoch:   0%|          | 0/1 [01:07<?, ?it/s]                \n",
      "Iteration:  40%|███▉      | 311/782 [01:07<01:20,  5.86it/s]\u001b[A\n",
      "Iteration:  40%|███▉      | 312/782 [01:07<02:48,  2.79it/s]\u001b[A\n",
      "Iteration:  40%|████      | 313/782 [01:08<02:43,  2.86it/s]\u001b[A"
     ]
    },
    {
     "name": "stdout",
     "output_type": "stream",
     "text": [
      "2023/08/08 07:09:59 - Cosine-Similarity :\tPearson: 0.5990\tSpearman: 0.6821\n",
      "2023/08/08 07:09:59 - Manhattan-Distance:\tPearson: 0.6651\tSpearman: 0.6996\n",
      "2023/08/08 07:09:59 - Euclidean-Distance:\tPearson: 0.6569\tSpearman: 0.6991\n",
      "2023/08/08 07:09:59 - Dot-Product-Similarity:\tPearson: 0.5535\tSpearman: 0.5609\n"
     ]
    },
    {
     "name": "stderr",
     "output_type": "stream",
     "text": [
      "\n",
      "Iteration:  40%|████      | 314/782 [01:08<02:39,  2.94it/s]\u001b[A\n",
      "Iteration:  40%|████      | 315/782 [01:08<02:34,  3.02it/s]\u001b[A\n",
      "Iteration:  40%|████      | 316/782 [01:08<02:30,  3.11it/s]\u001b[A\n",
      "Iteration:  41%|████      | 317/782 [01:08<02:26,  3.18it/s]\u001b[A\n",
      "Iteration:  41%|████      | 318/782 [01:08<02:22,  3.27it/s]\u001b[A\n",
      "Iteration:  41%|████      | 319/782 [01:09<02:18,  3.34it/s]\u001b[A\n",
      "Iteration:  41%|████      | 320/782 [01:09<02:15,  3.41it/s]\u001b[A\n",
      "Iteration:  41%|████      | 321/782 [01:09<02:12,  3.49it/s]\u001b[A\n",
      "Iteration:  41%|████      | 322/782 [01:09<02:09,  3.56it/s]\u001b[A\n",
      "Iteration:  41%|████▏     | 323/782 [01:09<02:06,  3.63it/s]\u001b[A\n",
      "Iteration:  41%|████▏     | 324/782 [01:09<02:03,  3.71it/s]\u001b[A\n",
      "Iteration:  42%|████▏     | 325/782 [01:10<02:01,  3.78it/s]\u001b[A\n",
      "Iteration:  42%|████▏     | 326/782 [01:10<01:58,  3.85it/s]\u001b[A\n",
      "Iteration:  42%|████▏     | 327/782 [01:10<01:56,  3.92it/s]\u001b[A\n",
      "Iteration:  42%|████▏     | 328/782 [01:10<01:53,  3.99it/s]\u001b[A\n",
      "Iteration:  42%|████▏     | 329/782 [01:10<01:51,  4.06it/s]\u001b[A\n",
      "Iteration:  42%|████▏     | 330/782 [01:10<01:49,  4.13it/s]\u001b[A\n",
      "Iteration:  42%|████▏     | 331/782 [01:11<01:47,  4.19it/s]\u001b[A\n",
      "Iteration:  42%|████▏     | 332/782 [01:11<01:45,  4.26it/s]\u001b[A\n",
      "Iteration:  43%|████▎     | 333/782 [01:11<01:43,  4.32it/s]\u001b[A\n",
      "Iteration:  43%|████▎     | 334/782 [01:11<01:42,  4.39it/s]\u001b[A\n",
      "Iteration:  43%|████▎     | 335/782 [01:11<01:40,  4.45it/s]\u001b[A\n",
      "Iteration:  43%|████▎     | 336/782 [01:11<01:38,  4.51it/s]\u001b[A\n",
      "Iteration:  43%|████▎     | 337/782 [01:12<01:37,  4.57it/s]\u001b[A\n",
      "Iteration:  43%|████▎     | 338/782 [01:12<01:36,  4.62it/s]\u001b[A\n",
      "Iteration:  43%|████▎     | 339/782 [01:12<01:34,  4.68it/s]\u001b[A\n",
      "Iteration:  43%|████▎     | 340/782 [01:12<01:33,  4.72it/s]\u001b[A\n",
      "Iteration:  44%|████▎     | 341/782 [01:12<01:32,  4.78it/s]\u001b[A\n",
      "Iteration:  44%|████▎     | 342/782 [01:12<01:30,  4.84it/s]\u001b[A\n",
      "Iteration:  44%|████▍     | 343/782 [01:13<01:29,  4.89it/s]\u001b[A\n",
      "Iteration:  44%|████▍     | 344/782 [01:13<01:28,  4.93it/s]\u001b[A\n",
      "Iteration:  44%|████▍     | 345/782 [01:13<01:27,  4.97it/s]\u001b[A\n",
      "Iteration:  44%|████▍     | 346/782 [01:13<01:27,  5.01it/s]\u001b[A\n",
      "Iteration:  44%|████▍     | 347/782 [01:13<01:25,  5.07it/s]\u001b[A\n",
      "Iteration:  45%|████▍     | 348/782 [01:13<01:24,  5.13it/s]\u001b[A\n",
      "Iteration:  45%|████▍     | 349/782 [01:14<01:23,  5.18it/s]\u001b[A\n",
      "Iteration:  45%|████▍     | 350/782 [01:14<01:22,  5.22it/s]\u001b[A\n",
      "Iteration:  45%|████▍     | 351/782 [01:14<01:21,  5.26it/s]\u001b[A\n",
      "Iteration:  45%|████▌     | 352/782 [01:14<01:21,  5.31it/s]\u001b[A\n",
      "Iteration:  45%|████▌     | 353/782 [01:14<01:20,  5.33it/s]\u001b[A\n",
      "Iteration:  45%|████▌     | 354/782 [01:14<01:19,  5.36it/s]\u001b[A\n",
      "Iteration:  45%|████▌     | 355/782 [01:15<01:19,  5.39it/s]\u001b[A\n",
      "Iteration:  46%|████▌     | 356/782 [01:15<01:18,  5.41it/s]\u001b[A\n",
      "Iteration:  46%|████▌     | 357/782 [01:15<01:18,  5.41it/s]\u001b[A\n",
      "Iteration:  46%|████▌     | 358/782 [01:15<01:17,  5.45it/s]\u001b[A\n",
      "Iteration:  46%|████▌     | 359/782 [01:15<01:17,  5.49it/s]\u001b[A\n",
      "Iteration:  46%|████▌     | 360/782 [01:15<01:16,  5.52it/s]\u001b[A\n",
      "Iteration:  46%|████▌     | 361/782 [01:16<01:15,  5.56it/s]\u001b[A\n",
      "Iteration:  46%|████▋     | 362/782 [01:16<01:15,  5.57it/s]\u001b[A\n",
      "Iteration:  46%|████▋     | 363/782 [01:16<01:15,  5.57it/s]\u001b[A\n",
      "Iteration:  47%|████▋     | 364/782 [01:16<01:14,  5.62it/s]\u001b[A\n",
      "Iteration:  47%|████▋     | 365/782 [01:16<01:14,  5.59it/s]\u001b[A\n",
      "Iteration:  47%|████▋     | 366/782 [01:16<01:14,  5.59it/s]\u001b[A\n",
      "Iteration:  47%|████▋     | 367/782 [01:17<01:14,  5.59it/s]\u001b[A\n",
      "Iteration:  47%|████▋     | 368/782 [01:17<01:13,  5.65it/s]\u001b[A\n",
      "Iteration:  47%|████▋     | 369/782 [01:17<01:12,  5.66it/s]\u001b[A\n",
      "Iteration:  47%|████▋     | 370/782 [01:17<01:12,  5.67it/s]\u001b[A\n",
      "Iteration:  47%|████▋     | 371/782 [01:17<01:12,  5.68it/s]\u001b[A\n",
      "Iteration:  48%|████▊     | 372/782 [01:17<01:11,  5.72it/s]\u001b[A\n",
      "Iteration:  48%|████▊     | 373/782 [01:18<01:11,  5.75it/s]\u001b[A\n",
      "Iteration:  48%|████▊     | 374/782 [01:18<01:10,  5.75it/s]\u001b[A\n",
      "Iteration:  48%|████▊     | 375/782 [01:18<01:10,  5.76it/s]\u001b[A\n",
      "Iteration:  48%|████▊     | 376/782 [01:18<01:10,  5.78it/s]\u001b[A\n",
      "Iteration:  48%|████▊     | 377/782 [01:18<01:09,  5.81it/s]\u001b[A\n",
      "Iteration:  48%|████▊     | 378/782 [01:18<01:09,  5.81it/s]\u001b[A\n",
      "Iteration:  48%|████▊     | 379/782 [01:19<01:09,  5.80it/s]\u001b[A\n",
      "Iteration:  49%|████▊     | 380/782 [01:19<01:09,  5.80it/s]\u001b[A\n",
      "Iteration:  49%|████▊     | 381/782 [01:19<01:09,  5.80it/s]\u001b[A\n",
      "Iteration:  49%|████▉     | 382/782 [01:19<01:08,  5.82it/s]\u001b[A\n",
      "Iteration:  49%|████▉     | 383/782 [01:19<01:08,  5.82it/s]\u001b[A\n",
      "Iteration:  49%|████▉     | 384/782 [01:19<01:08,  5.84it/s]\u001b[A\n",
      "Iteration:  49%|████▉     | 385/782 [01:20<01:07,  5.86it/s]\u001b[A\n",
      "Iteration:  49%|████▉     | 386/782 [01:20<01:07,  5.86it/s]\u001b[A\n",
      "Iteration:  49%|████▉     | 387/782 [01:20<01:07,  5.88it/s]\u001b[A\n",
      "Iteration:  50%|████▉     | 388/782 [01:20<01:06,  5.89it/s]\u001b[A\n",
      "                                            1:06,  5.92it/s]\u001b[A\n",
      "Epoch:   0%|          | 0/1 [01:20<?, ?it/s]                \n",
      "Iteration:  50%|████▉     | 389/782 [01:20<01:06,  5.92it/s]\u001b[A"
     ]
    },
    {
     "name": "stdout",
     "output_type": "stream",
     "text": [
      "2023/08/08 07:10:12 - EmbeddingSimilarityEvaluator: Evaluating the model on sts-dev dataset in epoch 0 after 390 steps:\n"
     ]
    },
    {
     "name": "stderr",
     "output_type": "stream",
     "text": [
      "                                            \n",
      "Epoch:   0%|          | 0/1 [01:24<?, ?it/s]                \n",
      "                                            1:06,  5.92it/s]\u001b[A\n",
      "Epoch:   0%|          | 0/1 [01:24<?, ?it/s]                \n",
      "                                            1:06,  5.92it/s]\u001b[A\n",
      "Epoch:   0%|          | 0/1 [01:24<?, ?it/s]                \n",
      "                                            1:06,  5.92it/s]\u001b[A\n",
      "Epoch:   0%|          | 0/1 [01:24<?, ?it/s]                \n",
      "Iteration:  50%|████▉     | 389/782 [01:24<01:06,  5.92it/s]\u001b[A\n",
      "Iteration:  50%|████▉     | 390/782 [01:24<02:18,  2.83it/s]\u001b[A\n",
      "Iteration:  50%|█████     | 391/782 [01:24<02:14,  2.91it/s]\u001b[A"
     ]
    },
    {
     "name": "stdout",
     "output_type": "stream",
     "text": [
      "2023/08/08 07:10:16 - Cosine-Similarity :\tPearson: 0.6206\tSpearman: 0.6976\n",
      "2023/08/08 07:10:16 - Manhattan-Distance:\tPearson: 0.6782\tSpearman: 0.7083\n",
      "2023/08/08 07:10:16 - Euclidean-Distance:\tPearson: 0.6723\tSpearman: 0.7076\n",
      "2023/08/08 07:10:16 - Dot-Product-Similarity:\tPearson: 0.5779\tSpearman: 0.5903\n"
     ]
    },
    {
     "name": "stderr",
     "output_type": "stream",
     "text": [
      "\n",
      "Iteration:  50%|█████     | 392/782 [01:24<02:10,  2.98it/s]\u001b[A\n",
      "Iteration:  50%|█████     | 393/782 [01:25<02:07,  3.06it/s]\u001b[A\n",
      "Iteration:  50%|█████     | 394/782 [01:25<02:03,  3.14it/s]\u001b[A\n",
      "Iteration:  51%|█████     | 395/782 [01:25<02:00,  3.20it/s]\u001b[A\n",
      "Iteration:  51%|█████     | 396/782 [01:25<01:57,  3.28it/s]\u001b[A\n",
      "Iteration:  51%|█████     | 397/782 [01:25<01:54,  3.36it/s]\u001b[A\n",
      "Iteration:  51%|█████     | 398/782 [01:25<01:51,  3.43it/s]\u001b[A\n",
      "Iteration:  51%|█████     | 399/782 [01:26<01:49,  3.51it/s]\u001b[A\n",
      "Iteration:  51%|█████     | 400/782 [01:26<01:46,  3.58it/s]\u001b[A\n",
      "Iteration:  51%|█████▏    | 401/782 [01:26<01:44,  3.64it/s]\u001b[A\n",
      "Iteration:  51%|█████▏    | 402/782 [01:26<01:42,  3.72it/s]\u001b[A\n",
      "Iteration:  52%|█████▏    | 403/782 [01:26<01:39,  3.80it/s]\u001b[A\n",
      "Iteration:  52%|█████▏    | 404/782 [01:26<01:37,  3.87it/s]\u001b[A\n",
      "Iteration:  52%|█████▏    | 405/782 [01:27<01:35,  3.94it/s]\u001b[A\n",
      "Iteration:  52%|█████▏    | 406/782 [01:27<01:33,  4.00it/s]\u001b[A\n",
      "Iteration:  52%|█████▏    | 407/782 [01:27<01:32,  4.07it/s]\u001b[A\n",
      "Iteration:  52%|█████▏    | 408/782 [01:27<01:30,  4.14it/s]\u001b[A\n",
      "Iteration:  52%|█████▏    | 409/782 [01:27<01:28,  4.20it/s]\u001b[A\n",
      "Iteration:  52%|█████▏    | 410/782 [01:27<01:27,  4.27it/s]\u001b[A\n",
      "Iteration:  53%|█████▎    | 411/782 [01:28<01:25,  4.33it/s]\u001b[A\n",
      "Iteration:  53%|█████▎    | 412/782 [01:28<01:24,  4.39it/s]\u001b[A\n",
      "Iteration:  53%|█████▎    | 413/782 [01:28<01:22,  4.46it/s]\u001b[A\n",
      "Iteration:  53%|█████▎    | 414/782 [01:28<01:21,  4.53it/s]\u001b[A\n",
      "Iteration:  53%|█████▎    | 415/782 [01:28<01:20,  4.59it/s]\u001b[A\n",
      "Iteration:  53%|█████▎    | 416/782 [01:28<01:18,  4.65it/s]\u001b[A\n",
      "Iteration:  53%|█████▎    | 417/782 [01:29<01:17,  4.69it/s]\u001b[A\n",
      "Iteration:  53%|█████▎    | 418/782 [01:29<01:16,  4.74it/s]\u001b[A\n",
      "Iteration:  54%|█████▎    | 419/782 [01:29<01:16,  4.78it/s]\u001b[A\n",
      "Iteration:  54%|█████▎    | 420/782 [01:29<01:15,  4.82it/s]\u001b[A\n",
      "Iteration:  54%|█████▍    | 421/782 [01:29<01:13,  4.88it/s]\u001b[A\n",
      "Iteration:  54%|█████▍    | 422/782 [01:29<01:13,  4.93it/s]\u001b[A\n",
      "Iteration:  54%|█████▍    | 423/782 [01:30<01:12,  4.96it/s]\u001b[A\n",
      "Iteration:  54%|█████▍    | 424/782 [01:30<01:11,  5.01it/s]\u001b[A\n",
      "Iteration:  54%|█████▍    | 425/782 [01:30<01:10,  5.03it/s]\u001b[A\n",
      "Iteration:  54%|█████▍    | 426/782 [01:30<01:09,  5.09it/s]\u001b[A\n",
      "Iteration:  55%|█████▍    | 427/782 [01:30<01:09,  5.13it/s]\u001b[A\n",
      "Iteration:  55%|█████▍    | 428/782 [01:30<01:08,  5.16it/s]\u001b[A\n",
      "Iteration:  55%|█████▍    | 429/782 [01:31<01:07,  5.21it/s]\u001b[A\n",
      "Iteration:  55%|█████▍    | 430/782 [01:31<01:07,  5.25it/s]\u001b[A\n",
      "Iteration:  55%|█████▌    | 431/782 [01:31<01:06,  5.29it/s]\u001b[A\n",
      "Iteration:  55%|█████▌    | 432/782 [01:31<01:05,  5.30it/s]\u001b[A\n",
      "Iteration:  55%|█████▌    | 433/782 [01:31<01:06,  5.29it/s]\u001b[A\n",
      "Iteration:  55%|█████▌    | 434/782 [01:31<01:05,  5.32it/s]\u001b[A\n",
      "Iteration:  56%|█████▌    | 435/782 [01:32<01:04,  5.35it/s]\u001b[A\n",
      "Iteration:  56%|█████▌    | 436/782 [01:32<01:04,  5.38it/s]\u001b[A\n",
      "Iteration:  56%|█████▌    | 437/782 [01:32<01:04,  5.38it/s]\u001b[A\n",
      "Iteration:  56%|█████▌    | 438/782 [01:32<01:03,  5.41it/s]\u001b[A\n",
      "Iteration:  56%|█████▌    | 439/782 [01:32<01:03,  5.43it/s]\u001b[A\n",
      "Iteration:  56%|█████▋    | 440/782 [01:32<01:02,  5.46it/s]\u001b[A\n",
      "Iteration:  56%|█████▋    | 441/782 [01:33<01:01,  5.51it/s]\u001b[A\n",
      "Iteration:  57%|█████▋    | 442/782 [01:33<01:01,  5.53it/s]\u001b[A\n",
      "Iteration:  57%|█████▋    | 443/782 [01:33<01:00,  5.56it/s]\u001b[A\n",
      "Iteration:  57%|█████▋    | 444/782 [01:33<01:00,  5.59it/s]\u001b[A\n",
      "Iteration:  57%|█████▋    | 445/782 [01:33<00:59,  5.63it/s]\u001b[A\n",
      "Iteration:  57%|█████▋    | 446/782 [01:33<00:59,  5.64it/s]\u001b[A\n",
      "Iteration:  57%|█████▋    | 447/782 [01:34<00:59,  5.67it/s]\u001b[A\n",
      "Iteration:  57%|█████▋    | 448/782 [01:34<00:58,  5.68it/s]\u001b[A\n",
      "Iteration:  57%|█████▋    | 449/782 [01:34<00:58,  5.66it/s]\u001b[A\n",
      "Iteration:  58%|█████▊    | 450/782 [01:34<00:58,  5.70it/s]\u001b[A\n",
      "Iteration:  58%|█████▊    | 451/782 [01:34<00:57,  5.73it/s]\u001b[A\n",
      "Iteration:  58%|█████▊    | 452/782 [01:34<00:57,  5.76it/s]\u001b[A\n",
      "Iteration:  58%|█████▊    | 453/782 [01:35<00:57,  5.74it/s]\u001b[A\n",
      "Iteration:  58%|█████▊    | 454/782 [01:35<00:56,  5.76it/s]\u001b[A\n",
      "Iteration:  58%|█████▊    | 455/782 [01:35<00:56,  5.78it/s]\u001b[A\n",
      "Iteration:  58%|█████▊    | 456/782 [01:35<00:56,  5.81it/s]\u001b[A\n",
      "Iteration:  58%|█████▊    | 457/782 [01:35<00:55,  5.81it/s]\u001b[A\n",
      "Iteration:  59%|█████▊    | 458/782 [01:35<00:55,  5.81it/s]\u001b[A\n",
      "Iteration:  59%|█████▊    | 459/782 [01:36<00:55,  5.82it/s]\u001b[A\n",
      "Iteration:  59%|█████▉    | 460/782 [01:36<00:55,  5.82it/s]\u001b[A\n",
      "Iteration:  59%|█████▉    | 461/782 [01:36<00:54,  5.84it/s]\u001b[A\n",
      "Iteration:  59%|█████▉    | 462/782 [01:36<00:54,  5.84it/s]\u001b[A\n",
      "Iteration:  59%|█████▉    | 463/782 [01:36<00:54,  5.85it/s]\u001b[A\n",
      "Iteration:  59%|█████▉    | 464/782 [01:36<00:54,  5.81it/s]\u001b[A\n",
      "Iteration:  59%|█████▉    | 465/782 [01:37<00:54,  5.83it/s]\u001b[A\n",
      "Iteration:  60%|█████▉    | 466/782 [01:37<00:54,  5.85it/s]\u001b[A\n",
      "                                            0:53,  5.85it/s]\u001b[A\n",
      "Epoch:   0%|          | 0/1 [01:37<?, ?it/s]                \n",
      "Iteration:  60%|█████▉    | 467/782 [01:37<00:53,  5.85it/s]\u001b[A"
     ]
    },
    {
     "name": "stdout",
     "output_type": "stream",
     "text": [
      "2023/08/08 07:10:29 - EmbeddingSimilarityEvaluator: Evaluating the model on sts-dev dataset in epoch 0 after 468 steps:\n"
     ]
    },
    {
     "name": "stderr",
     "output_type": "stream",
     "text": [
      "                                            \n",
      "Epoch:   0%|          | 0/1 [01:41<?, ?it/s]                \n",
      "                                            0:53,  5.85it/s]\u001b[A\n",
      "Epoch:   0%|          | 0/1 [01:41<?, ?it/s]                \n",
      "                                            0:53,  5.85it/s]\u001b[A\n",
      "Epoch:   0%|          | 0/1 [01:41<?, ?it/s]                \n",
      "                                            0:53,  5.85it/s]\u001b[A\n",
      "Epoch:   0%|          | 0/1 [01:41<?, ?it/s]                \n",
      "Iteration:  60%|█████▉    | 467/782 [01:41<00:53,  5.85it/s]\u001b[A\n",
      "Iteration:  60%|█████▉    | 468/782 [01:41<01:52,  2.78it/s]\u001b[A"
     ]
    },
    {
     "name": "stdout",
     "output_type": "stream",
     "text": [
      "2023/08/08 07:10:33 - Cosine-Similarity :\tPearson: 0.6103\tSpearman: 0.6841\n",
      "2023/08/08 07:10:33 - Manhattan-Distance:\tPearson: 0.6665\tSpearman: 0.6958\n",
      "2023/08/08 07:10:33 - Euclidean-Distance:\tPearson: 0.6593\tSpearman: 0.6950\n",
      "2023/08/08 07:10:33 - Dot-Product-Similarity:\tPearson: 0.5702\tSpearman: 0.5865\n"
     ]
    },
    {
     "name": "stderr",
     "output_type": "stream",
     "text": [
      "\n",
      "Iteration:  60%|█████▉    | 469/782 [01:41<01:49,  2.86it/s]\u001b[A\n",
      "Iteration:  60%|██████    | 470/782 [01:41<01:46,  2.94it/s]\u001b[A\n",
      "Iteration:  60%|██████    | 471/782 [01:41<01:43,  3.01it/s]\u001b[A\n",
      "Iteration:  60%|██████    | 472/782 [01:42<01:40,  3.09it/s]\u001b[A\n",
      "Iteration:  60%|██████    | 473/782 [01:42<01:37,  3.16it/s]\u001b[A\n",
      "Iteration:  61%|██████    | 474/782 [01:42<01:35,  3.24it/s]\u001b[A\n",
      "Iteration:  61%|██████    | 475/782 [01:42<01:32,  3.31it/s]\u001b[A\n",
      "Iteration:  61%|██████    | 476/782 [01:42<01:30,  3.40it/s]\u001b[A\n",
      "Iteration:  61%|██████    | 477/782 [01:42<01:27,  3.47it/s]\u001b[A\n",
      "Iteration:  61%|██████    | 478/782 [01:43<01:25,  3.56it/s]\u001b[A\n",
      "Iteration:  61%|██████▏   | 479/782 [01:43<01:23,  3.63it/s]\u001b[A\n",
      "Iteration:  61%|██████▏   | 480/782 [01:43<01:21,  3.71it/s]\u001b[A\n",
      "Iteration:  62%|██████▏   | 481/782 [01:43<01:19,  3.78it/s]\u001b[A\n",
      "Iteration:  62%|██████▏   | 482/782 [01:43<01:17,  3.86it/s]\u001b[A\n",
      "Iteration:  62%|██████▏   | 483/782 [01:43<01:15,  3.94it/s]\u001b[A\n",
      "Iteration:  62%|██████▏   | 484/782 [01:44<01:14,  4.01it/s]\u001b[A\n",
      "Iteration:  62%|██████▏   | 485/782 [01:44<01:12,  4.09it/s]\u001b[A\n",
      "Iteration:  62%|██████▏   | 486/782 [01:44<01:11,  4.15it/s]\u001b[A\n",
      "Iteration:  62%|██████▏   | 487/782 [01:44<01:09,  4.22it/s]\u001b[A\n",
      "Iteration:  62%|██████▏   | 488/782 [01:44<01:08,  4.28it/s]\u001b[A\n",
      "Iteration:  63%|██████▎   | 489/782 [01:44<01:07,  4.34it/s]\u001b[A\n",
      "Iteration:  63%|██████▎   | 490/782 [01:44<01:06,  4.40it/s]\u001b[A\n",
      "Iteration:  63%|██████▎   | 491/782 [01:45<01:05,  4.47it/s]\u001b[A\n",
      "Iteration:  63%|██████▎   | 492/782 [01:45<01:04,  4.53it/s]\u001b[A\n",
      "Iteration:  63%|██████▎   | 493/782 [01:45<01:03,  4.59it/s]\u001b[A\n",
      "Iteration:  63%|██████▎   | 494/782 [01:45<01:01,  4.65it/s]\u001b[A\n",
      "Iteration:  63%|██████▎   | 495/782 [01:45<01:01,  4.67it/s]\u001b[A\n",
      "Iteration:  63%|██████▎   | 496/782 [01:46<01:00,  4.72it/s]\u001b[A\n",
      "Iteration:  64%|██████▎   | 497/782 [01:46<00:59,  4.78it/s]\u001b[A\n",
      "Iteration:  64%|██████▎   | 498/782 [01:46<00:58,  4.83it/s]\u001b[A\n",
      "Iteration:  64%|██████▍   | 499/782 [01:46<00:58,  4.87it/s]\u001b[A\n",
      "Iteration:  64%|██████▍   | 500/782 [01:46<00:57,  4.91it/s]\u001b[A\n",
      "Iteration:  64%|██████▍   | 501/782 [01:46<00:56,  4.94it/s]\u001b[A\n",
      "Iteration:  64%|██████▍   | 502/782 [01:47<00:56,  4.98it/s]\u001b[A\n",
      "Iteration:  64%|██████▍   | 503/782 [01:47<00:55,  5.02it/s]\u001b[A\n",
      "Iteration:  64%|██████▍   | 504/782 [01:47<00:54,  5.07it/s]\u001b[A\n",
      "Iteration:  65%|██████▍   | 505/782 [01:47<00:54,  5.11it/s]\u001b[A\n",
      "Iteration:  65%|██████▍   | 506/782 [01:47<00:53,  5.15it/s]\u001b[A\n",
      "Iteration:  65%|██████▍   | 507/782 [01:47<00:52,  5.20it/s]\u001b[A\n",
      "Iteration:  65%|██████▍   | 508/782 [01:48<00:52,  5.25it/s]\u001b[A\n",
      "Iteration:  65%|██████▌   | 509/782 [01:48<00:51,  5.28it/s]\u001b[A\n",
      "Iteration:  65%|██████▌   | 510/782 [01:48<00:51,  5.31it/s]\u001b[A\n",
      "Iteration:  65%|██████▌   | 511/782 [01:48<00:50,  5.35it/s]\u001b[A\n",
      "Iteration:  65%|██████▌   | 512/782 [01:48<00:50,  5.40it/s]\u001b[A\n",
      "Iteration:  66%|██████▌   | 513/782 [01:48<00:49,  5.42it/s]\u001b[A\n",
      "Iteration:  66%|██████▌   | 514/782 [01:48<00:49,  5.45it/s]\u001b[A\n",
      "Iteration:  66%|██████▌   | 515/782 [01:49<00:48,  5.45it/s]\u001b[A\n",
      "Iteration:  66%|██████▌   | 516/782 [01:49<00:48,  5.49it/s]\u001b[A\n",
      "Iteration:  66%|██████▌   | 517/782 [01:49<00:47,  5.54it/s]\u001b[A\n",
      "Iteration:  66%|██████▌   | 518/782 [01:49<00:47,  5.55it/s]\u001b[A\n",
      "Iteration:  66%|██████▋   | 519/782 [01:49<00:47,  5.57it/s]\u001b[A\n",
      "Iteration:  66%|██████▋   | 520/782 [01:50<00:47,  5.56it/s]\u001b[A\n",
      "Iteration:  67%|██████▋   | 521/782 [01:50<00:46,  5.58it/s]\u001b[A\n",
      "Iteration:  67%|██████▋   | 522/782 [01:50<00:46,  5.59it/s]\u001b[A\n",
      "Iteration:  67%|██████▋   | 523/782 [01:50<00:46,  5.62it/s]\u001b[A\n",
      "Iteration:  67%|██████▋   | 524/782 [01:50<00:45,  5.65it/s]\u001b[A\n",
      "Iteration:  67%|██████▋   | 525/782 [01:50<00:45,  5.66it/s]\u001b[A\n",
      "Iteration:  67%|██████▋   | 526/782 [01:51<00:45,  5.67it/s]\u001b[A\n",
      "Iteration:  67%|██████▋   | 527/782 [01:51<00:45,  5.65it/s]\u001b[A\n",
      "Iteration:  68%|██████▊   | 528/782 [01:51<00:44,  5.68it/s]\u001b[A\n",
      "Iteration:  68%|██████▊   | 529/782 [01:51<00:44,  5.72it/s]\u001b[A\n",
      "Iteration:  68%|██████▊   | 530/782 [01:51<00:43,  5.74it/s]\u001b[A\n",
      "Iteration:  68%|██████▊   | 531/782 [01:51<00:43,  5.75it/s]\u001b[A\n",
      "Iteration:  68%|██████▊   | 532/782 [01:51<00:43,  5.77it/s]\u001b[A\n",
      "Iteration:  68%|██████▊   | 533/782 [01:52<00:43,  5.72it/s]\u001b[A\n",
      "Iteration:  68%|██████▊   | 534/782 [01:52<00:43,  5.73it/s]\u001b[A\n",
      "Iteration:  68%|██████▊   | 535/782 [01:52<00:42,  5.75it/s]\u001b[A\n",
      "Iteration:  69%|██████▊   | 536/782 [01:52<00:42,  5.75it/s]\u001b[A\n",
      "Iteration:  69%|██████▊   | 537/782 [01:52<00:42,  5.76it/s]\u001b[A\n",
      "Iteration:  69%|██████▉   | 538/782 [01:53<00:42,  5.77it/s]\u001b[A\n",
      "Iteration:  69%|██████▉   | 539/782 [01:53<00:41,  5.79it/s]\u001b[A\n",
      "Iteration:  69%|██████▉   | 540/782 [01:53<00:41,  5.81it/s]\u001b[A\n",
      "Iteration:  69%|██████▉   | 541/782 [01:53<00:41,  5.83it/s]\u001b[A\n",
      "Iteration:  69%|██████▉   | 542/782 [01:53<00:41,  5.84it/s]\u001b[A\n",
      "Iteration:  69%|██████▉   | 543/782 [01:53<00:40,  5.87it/s]\u001b[A\n",
      "Iteration:  70%|██████▉   | 544/782 [01:54<00:40,  5.86it/s]\u001b[A\n",
      "                                            0:40,  5.87it/s]\u001b[A\n",
      "Epoch:   0%|          | 0/1 [01:54<?, ?it/s]                \n",
      "Iteration:  70%|██████▉   | 545/782 [01:54<00:40,  5.87it/s]\u001b[A"
     ]
    },
    {
     "name": "stdout",
     "output_type": "stream",
     "text": [
      "2023/08/08 07:10:46 - EmbeddingSimilarityEvaluator: Evaluating the model on sts-dev dataset in epoch 0 after 546 steps:\n"
     ]
    },
    {
     "name": "stderr",
     "output_type": "stream",
     "text": [
      "                                            \n",
      "Epoch:   0%|          | 0/1 [01:58<?, ?it/s]                \n",
      "                                            0:40,  5.87it/s]\u001b[A\n",
      "Epoch:   0%|          | 0/1 [01:58<?, ?it/s]                \n",
      "                                            0:40,  5.87it/s]\u001b[A\n",
      "Epoch:   0%|          | 0/1 [01:58<?, ?it/s]                \n",
      "                                            0:40,  5.87it/s]\u001b[A\n",
      "Epoch:   0%|          | 0/1 [01:58<?, ?it/s]                \n",
      "Iteration:  70%|██████▉   | 545/782 [01:58<00:40,  5.87it/s]\u001b[A\n",
      "Iteration:  70%|██████▉   | 546/782 [01:58<01:24,  2.79it/s]\u001b[A\n",
      "Iteration:  70%|██████▉   | 547/782 [01:58<01:21,  2.87it/s]\u001b[A"
     ]
    },
    {
     "name": "stdout",
     "output_type": "stream",
     "text": [
      "2023/08/08 07:10:50 - Cosine-Similarity :\tPearson: 0.5772\tSpearman: 0.6648\n",
      "2023/08/08 07:10:50 - Manhattan-Distance:\tPearson: 0.6500\tSpearman: 0.6821\n",
      "2023/08/08 07:10:50 - Euclidean-Distance:\tPearson: 0.6402\tSpearman: 0.6810\n",
      "2023/08/08 07:10:50 - Dot-Product-Similarity:\tPearson: 0.5429\tSpearman: 0.5617\n"
     ]
    },
    {
     "name": "stderr",
     "output_type": "stream",
     "text": [
      "\n",
      "Iteration:  70%|███████   | 548/782 [01:58<01:19,  2.95it/s]\u001b[A\n",
      "Iteration:  70%|███████   | 549/782 [01:58<01:17,  3.02it/s]\u001b[A\n",
      "Iteration:  70%|███████   | 550/782 [01:58<01:14,  3.11it/s]\u001b[A\n",
      "Iteration:  70%|███████   | 551/782 [01:58<01:12,  3.19it/s]\u001b[A\n",
      "Iteration:  71%|███████   | 552/782 [01:59<01:10,  3.27it/s]\u001b[A\n",
      "Iteration:  71%|███████   | 553/782 [01:59<01:08,  3.34it/s]\u001b[A\n",
      "Iteration:  71%|███████   | 554/782 [01:59<01:06,  3.42it/s]\u001b[A\n",
      "Iteration:  71%|███████   | 555/782 [01:59<01:04,  3.50it/s]\u001b[A\n",
      "Iteration:  71%|███████   | 556/782 [01:59<01:03,  3.58it/s]\u001b[A\n",
      "Iteration:  71%|███████   | 557/782 [01:59<01:01,  3.65it/s]\u001b[A\n",
      "Iteration:  71%|███████▏  | 558/782 [02:00<01:00,  3.72it/s]\u001b[A\n",
      "Iteration:  71%|███████▏  | 559/782 [02:00<00:58,  3.80it/s]\u001b[A\n",
      "Iteration:  72%|███████▏  | 560/782 [02:00<00:57,  3.86it/s]\u001b[A\n",
      "Iteration:  72%|███████▏  | 561/782 [02:00<00:56,  3.92it/s]\u001b[A\n",
      "Iteration:  72%|███████▏  | 562/782 [02:00<00:55,  3.98it/s]\u001b[A\n",
      "Iteration:  72%|███████▏  | 563/782 [02:00<00:54,  4.04it/s]\u001b[A\n",
      "Iteration:  72%|███████▏  | 564/782 [02:01<00:52,  4.12it/s]\u001b[A\n",
      "Iteration:  72%|███████▏  | 565/782 [02:01<00:51,  4.19it/s]\u001b[A\n",
      "Iteration:  72%|███████▏  | 566/782 [02:01<00:50,  4.26it/s]\u001b[A\n",
      "Iteration:  73%|███████▎  | 567/782 [02:01<00:50,  4.30it/s]\u001b[A\n",
      "Iteration:  73%|███████▎  | 568/782 [02:01<00:48,  4.37it/s]\u001b[A\n",
      "Iteration:  73%|███████▎  | 569/782 [02:01<00:48,  4.43it/s]\u001b[A\n",
      "Iteration:  73%|███████▎  | 570/782 [02:02<00:47,  4.50it/s]\u001b[A\n",
      "Iteration:  73%|███████▎  | 571/782 [02:02<00:46,  4.56it/s]\u001b[A\n",
      "Iteration:  73%|███████▎  | 572/782 [02:02<00:45,  4.61it/s]\u001b[A\n",
      "Iteration:  73%|███████▎  | 573/782 [02:02<00:44,  4.68it/s]\u001b[A\n",
      "Iteration:  73%|███████▎  | 574/782 [02:02<00:43,  4.73it/s]\u001b[A\n",
      "Iteration:  74%|███████▎  | 575/782 [02:02<00:43,  4.78it/s]\u001b[A\n",
      "Iteration:  74%|███████▎  | 576/782 [02:03<00:42,  4.82it/s]\u001b[A\n",
      "Iteration:  74%|███████▍  | 577/782 [02:03<00:41,  4.88it/s]\u001b[A\n",
      "Iteration:  74%|███████▍  | 578/782 [02:03<00:41,  4.94it/s]\u001b[A\n",
      "Iteration:  74%|███████▍  | 579/782 [02:03<00:40,  4.97it/s]\u001b[A\n",
      "Iteration:  74%|███████▍  | 580/782 [02:03<00:40,  5.00it/s]\u001b[A\n",
      "Iteration:  74%|███████▍  | 581/782 [02:03<00:39,  5.05it/s]\u001b[A\n",
      "Iteration:  74%|███████▍  | 582/782 [02:04<00:39,  5.09it/s]\u001b[A\n",
      "Iteration:  75%|███████▍  | 583/782 [02:04<00:38,  5.14it/s]\u001b[A\n",
      "Iteration:  75%|███████▍  | 584/782 [02:04<00:38,  5.18it/s]\u001b[A\n",
      "Iteration:  75%|███████▍  | 585/782 [02:04<00:37,  5.22it/s]\u001b[A\n",
      "Iteration:  75%|███████▍  | 586/782 [02:04<00:37,  5.27it/s]\u001b[A\n",
      "Iteration:  75%|███████▌  | 587/782 [02:04<00:36,  5.33it/s]\u001b[A\n",
      "Iteration:  75%|███████▌  | 588/782 [02:05<00:36,  5.37it/s]\u001b[A\n",
      "Iteration:  75%|███████▌  | 589/782 [02:05<00:35,  5.38it/s]\u001b[A\n",
      "Iteration:  75%|███████▌  | 590/782 [02:05<00:35,  5.42it/s]\u001b[A\n",
      "Iteration:  76%|███████▌  | 591/782 [02:05<00:35,  5.41it/s]\u001b[A\n",
      "Iteration:  76%|███████▌  | 592/782 [02:05<00:35,  5.43it/s]\u001b[A\n",
      "Iteration:  76%|███████▌  | 593/782 [02:05<00:34,  5.45it/s]\u001b[A\n",
      "Iteration:  76%|███████▌  | 594/782 [02:06<00:34,  5.47it/s]\u001b[A\n",
      "Iteration:  76%|███████▌  | 595/782 [02:06<00:34,  5.48it/s]\u001b[A\n",
      "Iteration:  76%|███████▌  | 596/782 [02:06<00:33,  5.50it/s]\u001b[A\n",
      "Iteration:  76%|███████▋  | 597/782 [02:06<00:33,  5.52it/s]\u001b[A\n",
      "Iteration:  76%|███████▋  | 598/782 [02:06<00:33,  5.54it/s]\u001b[A\n",
      "Iteration:  77%|███████▋  | 599/782 [02:06<00:32,  5.57it/s]\u001b[A\n",
      "Iteration:  77%|███████▋  | 600/782 [02:07<00:32,  5.58it/s]\u001b[A\n",
      "Iteration:  77%|███████▋  | 601/782 [02:07<00:32,  5.60it/s]\u001b[A\n",
      "Iteration:  77%|███████▋  | 602/782 [02:07<00:32,  5.62it/s]\u001b[A\n",
      "Iteration:  77%|███████▋  | 603/782 [02:07<00:31,  5.59it/s]\u001b[A\n",
      "Iteration:  77%|███████▋  | 604/782 [02:07<00:31,  5.63it/s]\u001b[A\n",
      "Iteration:  77%|███████▋  | 605/782 [02:07<00:31,  5.65it/s]\u001b[A\n",
      "Iteration:  77%|███████▋  | 606/782 [02:08<00:31,  5.66it/s]\u001b[A\n",
      "Iteration:  78%|███████▊  | 607/782 [02:08<00:30,  5.66it/s]\u001b[A\n",
      "Iteration:  78%|███████▊  | 608/782 [02:08<00:30,  5.68it/s]\u001b[A\n",
      "Iteration:  78%|███████▊  | 609/782 [02:08<00:30,  5.70it/s]\u001b[A\n",
      "Iteration:  78%|███████▊  | 610/782 [02:08<00:30,  5.69it/s]\u001b[A\n",
      "Iteration:  78%|███████▊  | 611/782 [02:08<00:29,  5.72it/s]\u001b[A\n",
      "Iteration:  78%|███████▊  | 612/782 [02:09<00:29,  5.74it/s]\u001b[A\n",
      "Iteration:  78%|███████▊  | 613/782 [02:09<00:29,  5.75it/s]\u001b[A\n",
      "Iteration:  79%|███████▊  | 614/782 [02:09<00:29,  5.77it/s]\u001b[A\n",
      "Iteration:  79%|███████▊  | 615/782 [02:09<00:28,  5.79it/s]\u001b[A\n",
      "Iteration:  79%|███████▉  | 616/782 [02:09<00:28,  5.80it/s]\u001b[A\n",
      "Iteration:  79%|███████▉  | 617/782 [02:09<00:28,  5.81it/s]\u001b[A\n",
      "Iteration:  79%|███████▉  | 618/782 [02:10<00:28,  5.83it/s]\u001b[A\n",
      "Iteration:  79%|███████▉  | 619/782 [02:10<00:27,  5.85it/s]\u001b[A\n",
      "Iteration:  79%|███████▉  | 620/782 [02:10<00:27,  5.87it/s]\u001b[A\n",
      "Iteration:  79%|███████▉  | 621/782 [02:10<00:27,  5.86it/s]\u001b[A\n",
      "Iteration:  80%|███████▉  | 622/782 [02:10<00:27,  5.87it/s]\u001b[A\n",
      "                                            0:27,  5.88it/s]\u001b[A\n",
      "Epoch:   0%|          | 0/1 [02:11<?, ?it/s]                \n",
      "Iteration:  80%|███████▉  | 623/782 [02:11<00:27,  5.88it/s]\u001b[A"
     ]
    },
    {
     "name": "stdout",
     "output_type": "stream",
     "text": [
      "2023/08/08 07:11:03 - EmbeddingSimilarityEvaluator: Evaluating the model on sts-dev dataset in epoch 0 after 624 steps:\n"
     ]
    },
    {
     "name": "stderr",
     "output_type": "stream",
     "text": [
      "                                            \n",
      "Epoch:   0%|          | 0/1 [02:14<?, ?it/s]                \n",
      "                                            0:27,  5.88it/s]\u001b[A\n",
      "Epoch:   0%|          | 0/1 [02:14<?, ?it/s]                \n",
      "                                            0:27,  5.88it/s]\u001b[A\n",
      "Epoch:   0%|          | 0/1 [02:14<?, ?it/s]                \n",
      "                                            0:27,  5.88it/s]\u001b[A\n",
      "Epoch:   0%|          | 0/1 [02:14<?, ?it/s]                \n",
      "Iteration:  80%|███████▉  | 623/782 [02:14<00:27,  5.88it/s]\u001b[A\n",
      "Iteration:  80%|███████▉  | 624/782 [02:14<00:56,  2.81it/s]\u001b[A\n",
      "Iteration:  80%|███████▉  | 625/782 [02:14<00:54,  2.89it/s]\u001b[A"
     ]
    },
    {
     "name": "stdout",
     "output_type": "stream",
     "text": [
      "2023/08/08 07:11:06 - Cosine-Similarity :\tPearson: 0.6125\tSpearman: 0.6935\n",
      "2023/08/08 07:11:06 - Manhattan-Distance:\tPearson: 0.6772\tSpearman: 0.7065\n",
      "2023/08/08 07:11:06 - Euclidean-Distance:\tPearson: 0.6700\tSpearman: 0.7053\n",
      "2023/08/08 07:11:06 - Dot-Product-Similarity:\tPearson: 0.5744\tSpearman: 0.5934\n"
     ]
    },
    {
     "name": "stderr",
     "output_type": "stream",
     "text": [
      "\n",
      "Iteration:  80%|████████  | 626/782 [02:15<00:52,  2.97it/s]\u001b[A\n",
      "Iteration:  80%|████████  | 627/782 [02:15<00:50,  3.05it/s]\u001b[A\n",
      "Iteration:  80%|████████  | 628/782 [02:15<00:49,  3.12it/s]\u001b[A\n",
      "Iteration:  80%|████████  | 629/782 [02:15<00:47,  3.19it/s]\u001b[A\n",
      "Iteration:  81%|████████  | 630/782 [02:15<00:46,  3.27it/s]\u001b[A\n",
      "Iteration:  81%|████████  | 631/782 [02:15<00:45,  3.34it/s]\u001b[A\n",
      "Iteration:  81%|████████  | 632/782 [02:16<00:43,  3.42it/s]\u001b[A\n",
      "Iteration:  81%|████████  | 633/782 [02:16<00:42,  3.49it/s]\u001b[A\n",
      "Iteration:  81%|████████  | 634/782 [02:16<00:41,  3.57it/s]\u001b[A\n",
      "Iteration:  81%|████████  | 635/782 [02:16<00:40,  3.65it/s]\u001b[A\n",
      "Iteration:  81%|████████▏ | 636/782 [02:16<00:39,  3.73it/s]\u001b[A\n",
      "Iteration:  81%|████████▏ | 637/782 [02:16<00:38,  3.80it/s]\u001b[A\n",
      "Iteration:  82%|████████▏ | 638/782 [02:17<00:37,  3.87it/s]\u001b[A\n",
      "Iteration:  82%|████████▏ | 639/782 [02:17<00:36,  3.94it/s]\u001b[A\n",
      "Iteration:  82%|████████▏ | 640/782 [02:17<00:35,  4.01it/s]\u001b[A\n",
      "Iteration:  82%|████████▏ | 641/782 [02:17<00:34,  4.09it/s]\u001b[A\n",
      "Iteration:  82%|████████▏ | 642/782 [02:17<00:33,  4.16it/s]\u001b[A\n",
      "Iteration:  82%|████████▏ | 643/782 [02:17<00:32,  4.22it/s]\u001b[A\n",
      "Iteration:  82%|████████▏ | 644/782 [02:18<00:32,  4.30it/s]\u001b[A\n",
      "Iteration:  82%|████████▏ | 645/782 [02:18<00:31,  4.37it/s]\u001b[A\n",
      "Iteration:  83%|████████▎ | 646/782 [02:18<00:30,  4.43it/s]\u001b[A\n",
      "Iteration:  83%|████████▎ | 647/782 [02:18<00:30,  4.48it/s]\u001b[A\n",
      "Iteration:  83%|████████▎ | 648/782 [02:18<00:29,  4.54it/s]\u001b[A\n",
      "Iteration:  83%|████████▎ | 649/782 [02:18<00:28,  4.61it/s]\u001b[A\n",
      "Iteration:  83%|████████▎ | 650/782 [02:19<00:28,  4.67it/s]\u001b[A\n",
      "Iteration:  83%|████████▎ | 651/782 [02:19<00:27,  4.72it/s]\u001b[A\n",
      "Iteration:  83%|████████▎ | 652/782 [02:19<00:27,  4.77it/s]\u001b[A\n",
      "Iteration:  84%|████████▎ | 653/782 [02:19<00:26,  4.83it/s]\u001b[A\n",
      "Iteration:  84%|████████▎ | 654/782 [02:19<00:26,  4.87it/s]\u001b[A\n",
      "Iteration:  84%|████████▍ | 655/782 [02:19<00:25,  4.93it/s]\u001b[A\n",
      "Iteration:  84%|████████▍ | 656/782 [02:20<00:25,  4.97it/s]\u001b[A\n",
      "Iteration:  84%|████████▍ | 657/782 [02:20<00:24,  5.02it/s]\u001b[A\n",
      "Iteration:  84%|████████▍ | 658/782 [02:20<00:24,  5.06it/s]\u001b[A\n",
      "Iteration:  84%|████████▍ | 659/782 [02:20<00:24,  5.11it/s]\u001b[A\n",
      "Iteration:  84%|████████▍ | 660/782 [02:20<00:23,  5.11it/s]\u001b[A\n",
      "Iteration:  85%|████████▍ | 661/782 [02:20<00:23,  5.15it/s]\u001b[A\n",
      "Iteration:  85%|████████▍ | 662/782 [02:21<00:23,  5.20it/s]\u001b[A\n",
      "Iteration:  85%|████████▍ | 663/782 [02:21<00:22,  5.24it/s]\u001b[A\n",
      "Iteration:  85%|████████▍ | 664/782 [02:21<00:22,  5.25it/s]\u001b[A\n",
      "Iteration:  85%|████████▌ | 665/782 [02:21<00:22,  5.28it/s]\u001b[A\n",
      "Iteration:  85%|████████▌ | 666/782 [02:21<00:21,  5.30it/s]\u001b[A\n",
      "Iteration:  85%|████████▌ | 667/782 [02:21<00:21,  5.32it/s]\u001b[A\n",
      "Iteration:  85%|████████▌ | 668/782 [02:22<00:21,  5.36it/s]\u001b[A\n",
      "Iteration:  86%|████████▌ | 669/782 [02:22<00:20,  5.39it/s]\u001b[A\n",
      "Iteration:  86%|████████▌ | 670/782 [02:22<00:20,  5.43it/s]\u001b[A\n",
      "Iteration:  86%|████████▌ | 671/782 [02:22<00:20,  5.47it/s]\u001b[A\n",
      "Iteration:  86%|████████▌ | 672/782 [02:22<00:20,  5.49it/s]\u001b[A\n",
      "Iteration:  86%|████████▌ | 673/782 [02:22<00:19,  5.53it/s]\u001b[A\n",
      "Iteration:  86%|████████▌ | 674/782 [02:23<00:19,  5.57it/s]\u001b[A\n",
      "Iteration:  86%|████████▋ | 675/782 [02:23<00:19,  5.57it/s]\u001b[A\n",
      "Iteration:  86%|████████▋ | 676/782 [02:23<00:18,  5.60it/s]\u001b[A\n",
      "Iteration:  87%|████████▋ | 677/782 [02:23<00:18,  5.65it/s]\u001b[A\n",
      "Iteration:  87%|████████▋ | 678/782 [02:23<00:18,  5.63it/s]\u001b[A\n",
      "Iteration:  87%|████████▋ | 679/782 [02:23<00:18,  5.64it/s]\u001b[A\n",
      "Iteration:  87%|████████▋ | 680/782 [02:24<00:18,  5.64it/s]\u001b[A\n",
      "Iteration:  87%|████████▋ | 681/782 [02:24<00:17,  5.63it/s]\u001b[A\n",
      "Iteration:  87%|████████▋ | 682/782 [02:24<00:17,  5.64it/s]\u001b[A\n",
      "Iteration:  87%|████████▋ | 683/782 [02:24<00:17,  5.67it/s]\u001b[A\n",
      "Iteration:  87%|████████▋ | 684/782 [02:24<00:17,  5.68it/s]\u001b[A\n",
      "Iteration:  88%|████████▊ | 685/782 [02:24<00:16,  5.71it/s]\u001b[A\n",
      "Iteration:  88%|████████▊ | 686/782 [02:25<00:16,  5.73it/s]\u001b[A\n",
      "Iteration:  88%|████████▊ | 687/782 [02:25<00:16,  5.73it/s]\u001b[A\n",
      "Iteration:  88%|████████▊ | 688/782 [02:25<00:16,  5.75it/s]\u001b[A\n",
      "Iteration:  88%|████████▊ | 689/782 [02:25<00:16,  5.76it/s]\u001b[A\n",
      "Iteration:  88%|████████▊ | 690/782 [02:25<00:15,  5.79it/s]\u001b[A\n",
      "Iteration:  88%|████████▊ | 691/782 [02:25<00:15,  5.79it/s]\u001b[A\n",
      "Iteration:  88%|████████▊ | 692/782 [02:26<00:15,  5.81it/s]\u001b[A\n",
      "Iteration:  89%|████████▊ | 693/782 [02:26<00:15,  5.81it/s]\u001b[A\n",
      "Iteration:  89%|████████▊ | 694/782 [02:26<00:15,  5.84it/s]\u001b[A\n",
      "Iteration:  89%|████████▉ | 695/782 [02:26<00:14,  5.84it/s]\u001b[A\n",
      "Iteration:  89%|████████▉ | 696/782 [02:26<00:14,  5.83it/s]\u001b[A\n",
      "Iteration:  89%|████████▉ | 697/782 [02:26<00:14,  5.84it/s]\u001b[A\n",
      "Iteration:  89%|████████▉ | 698/782 [02:27<00:14,  5.85it/s]\u001b[A\n",
      "Iteration:  89%|████████▉ | 699/782 [02:27<00:14,  5.86it/s]\u001b[A\n",
      "Iteration:  90%|████████▉ | 700/782 [02:27<00:13,  5.86it/s]\u001b[A\n",
      "                                            0:13,  5.86it/s]\u001b[A\n",
      "Epoch:   0%|          | 0/1 [02:27<?, ?it/s]                \n",
      "Iteration:  90%|████████▉ | 701/782 [02:27<00:13,  5.86it/s]\u001b[A"
     ]
    },
    {
     "name": "stdout",
     "output_type": "stream",
     "text": [
      "2023/08/08 07:11:19 - EmbeddingSimilarityEvaluator: Evaluating the model on sts-dev dataset in epoch 0 after 702 steps:\n"
     ]
    },
    {
     "name": "stderr",
     "output_type": "stream",
     "text": [
      "                                            \n",
      "Epoch:   0%|          | 0/1 [02:31<?, ?it/s]                \n",
      "                                            0:13,  5.86it/s]\u001b[A\n",
      "Epoch:   0%|          | 0/1 [02:31<?, ?it/s]                \n",
      "                                            0:13,  5.86it/s]\u001b[A\n",
      "Epoch:   0%|          | 0/1 [02:31<?, ?it/s]                \n",
      "                                            0:13,  5.86it/s]\u001b[A\n",
      "Epoch:   0%|          | 0/1 [02:31<?, ?it/s]                \n",
      "Iteration:  90%|████████▉ | 701/782 [02:31<00:13,  5.86it/s]\u001b[A\n",
      "Iteration:  90%|████████▉ | 702/782 [02:31<00:28,  2.82it/s]\u001b[A"
     ]
    },
    {
     "name": "stdout",
     "output_type": "stream",
     "text": [
      "2023/08/08 07:11:23 - Cosine-Similarity :\tPearson: 0.6036\tSpearman: 0.6875\n",
      "2023/08/08 07:11:23 - Manhattan-Distance:\tPearson: 0.6730\tSpearman: 0.6990\n",
      "2023/08/08 07:11:23 - Euclidean-Distance:\tPearson: 0.6645\tSpearman: 0.6980\n",
      "2023/08/08 07:11:23 - Dot-Product-Similarity:\tPearson: 0.5740\tSpearman: 0.5945\n"
     ]
    },
    {
     "name": "stderr",
     "output_type": "stream",
     "text": [
      "\n",
      "Iteration:  90%|████████▉ | 703/782 [02:31<00:27,  2.89it/s]\u001b[A\n",
      "Iteration:  90%|█████████ | 704/782 [02:31<00:26,  2.97it/s]\u001b[A\n",
      "Iteration:  90%|█████████ | 705/782 [02:31<00:25,  3.05it/s]\u001b[A\n",
      "Iteration:  90%|█████████ | 706/782 [02:32<00:24,  3.12it/s]\u001b[A\n",
      "Iteration:  90%|█████████ | 707/782 [02:32<00:23,  3.19it/s]\u001b[A\n",
      "Iteration:  91%|█████████ | 708/782 [02:32<00:22,  3.28it/s]\u001b[A\n",
      "Iteration:  91%|█████████ | 709/782 [02:32<00:21,  3.35it/s]\u001b[A\n",
      "Iteration:  91%|█████████ | 710/782 [02:32<00:21,  3.42it/s]\u001b[A\n",
      "Iteration:  91%|█████████ | 711/782 [02:32<00:20,  3.49it/s]\u001b[A\n",
      "Iteration:  91%|█████████ | 712/782 [02:33<00:19,  3.56it/s]\u001b[A\n",
      "Iteration:  91%|█████████ | 713/782 [02:33<00:18,  3.63it/s]\u001b[A\n",
      "Iteration:  91%|█████████▏| 714/782 [02:33<00:18,  3.71it/s]\u001b[A\n",
      "Iteration:  91%|█████████▏| 715/782 [02:33<00:17,  3.79it/s]\u001b[A\n",
      "Iteration:  92%|█████████▏| 716/782 [02:33<00:17,  3.86it/s]\u001b[A\n",
      "Iteration:  92%|█████████▏| 717/782 [02:33<00:16,  3.94it/s]\u001b[A\n",
      "Iteration:  92%|█████████▏| 718/782 [02:34<00:15,  4.00it/s]\u001b[A\n",
      "Iteration:  92%|█████████▏| 719/782 [02:34<00:15,  4.08it/s]\u001b[A\n",
      "Iteration:  92%|█████████▏| 720/782 [02:34<00:14,  4.15it/s]\u001b[A\n",
      "Iteration:  92%|█████████▏| 721/782 [02:34<00:14,  4.20it/s]\u001b[A\n",
      "Iteration:  92%|█████████▏| 722/782 [02:34<00:14,  4.26it/s]\u001b[A\n",
      "Iteration:  92%|█████████▏| 723/782 [02:34<00:13,  4.30it/s]\u001b[A\n",
      "Iteration:  93%|█████████▎| 724/782 [02:35<00:13,  4.36it/s]\u001b[A\n",
      "Iteration:  93%|█████████▎| 725/782 [02:35<00:12,  4.43it/s]\u001b[A\n",
      "Iteration:  93%|█████████▎| 726/782 [02:35<00:12,  4.49it/s]\u001b[A\n",
      "Iteration:  93%|█████████▎| 727/782 [02:35<00:12,  4.56it/s]\u001b[A\n",
      "Iteration:  93%|█████████▎| 728/782 [02:35<00:11,  4.60it/s]\u001b[A\n",
      "Iteration:  93%|█████████▎| 729/782 [02:35<00:11,  4.65it/s]\u001b[A\n",
      "Iteration:  93%|█████████▎| 730/782 [02:36<00:11,  4.70it/s]\u001b[A\n",
      "Iteration:  93%|█████████▎| 731/782 [02:36<00:10,  4.74it/s]\u001b[A\n",
      "Iteration:  94%|█████████▎| 732/782 [02:36<00:10,  4.79it/s]\u001b[A\n",
      "Iteration:  94%|█████████▎| 733/782 [02:36<00:10,  4.84it/s]\u001b[A\n",
      "Iteration:  94%|█████████▍| 734/782 [02:36<00:09,  4.88it/s]\u001b[A\n",
      "Iteration:  94%|█████████▍| 735/782 [02:36<00:09,  4.94it/s]\u001b[A\n",
      "Iteration:  94%|█████████▍| 736/782 [02:37<00:09,  4.95it/s]\u001b[A\n",
      "Iteration:  94%|█████████▍| 737/782 [02:37<00:08,  5.00it/s]\u001b[A\n",
      "Iteration:  94%|█████████▍| 738/782 [02:37<00:08,  5.06it/s]\u001b[A\n",
      "Iteration:  95%|█████████▍| 739/782 [02:37<00:08,  5.10it/s]\u001b[A\n",
      "Iteration:  95%|█████████▍| 740/782 [02:37<00:08,  5.15it/s]\u001b[A\n",
      "Iteration:  95%|█████████▍| 741/782 [02:37<00:07,  5.19it/s]\u001b[A\n",
      "Iteration:  95%|█████████▍| 742/782 [02:38<00:07,  5.23it/s]\u001b[A\n",
      "Iteration:  95%|█████████▌| 743/782 [02:38<00:07,  5.28it/s]\u001b[A\n",
      "Iteration:  95%|█████████▌| 744/782 [02:38<00:07,  5.33it/s]\u001b[A\n",
      "Iteration:  95%|█████████▌| 745/782 [02:38<00:06,  5.37it/s]\u001b[A\n",
      "Iteration:  95%|█████████▌| 746/782 [02:38<00:06,  5.37it/s]\u001b[A\n",
      "Iteration:  96%|█████████▌| 747/782 [02:38<00:06,  5.38it/s]\u001b[A\n",
      "Iteration:  96%|█████████▌| 748/782 [02:39<00:06,  5.41it/s]\u001b[A\n",
      "Iteration:  96%|█████████▌| 749/782 [02:39<00:06,  5.42it/s]\u001b[A\n",
      "Iteration:  96%|█████████▌| 750/782 [02:39<00:05,  5.44it/s]\u001b[A\n",
      "Iteration:  96%|█████████▌| 751/782 [02:39<00:05,  5.46it/s]\u001b[A\n",
      "Iteration:  96%|█████████▌| 752/782 [02:39<00:05,  5.48it/s]\u001b[A\n",
      "Iteration:  96%|█████████▋| 753/782 [02:40<00:05,  5.50it/s]\u001b[A\n",
      "Iteration:  96%|█████████▋| 754/782 [02:40<00:05,  5.52it/s]\u001b[A\n",
      "Iteration:  97%|█████████▋| 755/782 [02:40<00:04,  5.54it/s]\u001b[A\n",
      "Iteration:  97%|█████████▋| 756/782 [02:40<00:04,  5.54it/s]\u001b[A\n",
      "Iteration:  97%|█████████▋| 757/782 [02:40<00:04,  5.57it/s]\u001b[A\n",
      "Iteration:  97%|█████████▋| 758/782 [02:40<00:04,  5.59it/s]\u001b[A\n",
      "Iteration:  97%|█████████▋| 759/782 [02:41<00:04,  5.60it/s]\u001b[A\n",
      "Iteration:  97%|█████████▋| 760/782 [02:41<00:03,  5.60it/s]\u001b[A\n",
      "Iteration:  97%|█████████▋| 761/782 [02:41<00:03,  5.61it/s]\u001b[A\n",
      "Iteration:  97%|█████████▋| 762/782 [02:41<00:03,  5.62it/s]\u001b[A\n",
      "Iteration:  98%|█████████▊| 763/782 [02:41<00:03,  5.59it/s]\u001b[A\n",
      "Iteration:  98%|█████████▊| 764/782 [02:41<00:03,  5.61it/s]\u001b[A\n",
      "Iteration:  98%|█████████▊| 765/782 [02:42<00:03,  5.62it/s]\u001b[A\n",
      "Iteration:  98%|█████████▊| 766/782 [02:42<00:02,  5.64it/s]\u001b[A\n",
      "Iteration:  98%|█████████▊| 767/782 [02:42<00:02,  5.66it/s]\u001b[A\n",
      "Iteration:  98%|█████████▊| 768/782 [02:42<00:02,  5.64it/s]\u001b[A\n",
      "Iteration:  98%|█████████▊| 769/782 [02:42<00:02,  5.66it/s]\u001b[A\n",
      "Iteration:  98%|█████████▊| 770/782 [02:42<00:02,  5.68it/s]\u001b[A\n",
      "Iteration:  99%|█████████▊| 771/782 [02:43<00:01,  5.71it/s]\u001b[A\n",
      "Iteration:  99%|█████████▊| 772/782 [02:43<00:01,  5.68it/s]\u001b[A\n",
      "Iteration:  99%|█████████▉| 773/782 [02:43<00:01,  5.70it/s]\u001b[A\n",
      "Iteration:  99%|█████████▉| 774/782 [02:43<00:01,  5.72it/s]\u001b[A\n",
      "Iteration:  99%|█████████▉| 775/782 [02:43<00:01,  5.75it/s]\u001b[A\n",
      "Iteration:  99%|█████████▉| 776/782 [02:43<00:01,  5.75it/s]\u001b[A\n",
      "Iteration:  99%|█████████▉| 777/782 [02:44<00:00,  5.76it/s]\u001b[A\n",
      "Iteration:  99%|█████████▉| 778/782 [02:44<00:00,  5.79it/s]\u001b[A\n",
      "                                            0:00,  5.81it/s]\u001b[A\n",
      "Epoch:   0%|          | 0/1 [02:44<?, ?it/s]                \n",
      "Iteration: 100%|█████████▉| 779/782 [02:44<00:00,  5.81it/s]\u001b[A"
     ]
    },
    {
     "name": "stdout",
     "output_type": "stream",
     "text": [
      "2023/08/08 07:11:36 - EmbeddingSimilarityEvaluator: Evaluating the model on sts-dev dataset in epoch 0 after 780 steps:\n"
     ]
    },
    {
     "name": "stderr",
     "output_type": "stream",
     "text": [
      "                                            \n",
      "Epoch:   0%|          | 0/1 [02:48<?, ?it/s]                \n",
      "                                            0:00,  5.81it/s]\u001b[A\n",
      "Epoch:   0%|          | 0/1 [02:48<?, ?it/s]                \n",
      "                                            0:00,  5.81it/s]\u001b[A\n",
      "Epoch:   0%|          | 0/1 [02:48<?, ?it/s]                \n",
      "                                            0:00,  5.81it/s]\u001b[A\n",
      "Epoch:   0%|          | 0/1 [02:48<?, ?it/s]                \n",
      "Iteration: 100%|█████████▉| 779/782 [02:48<00:00,  5.81it/s]\u001b[A\n",
      "Iteration: 100%|█████████▉| 780/782 [02:48<00:00,  2.80it/s]\u001b[A\n"
     ]
    },
    {
     "name": "stdout",
     "output_type": "stream",
     "text": [
      "2023/08/08 07:11:40 - Cosine-Similarity :\tPearson: 0.6064\tSpearman: 0.6883\n",
      "2023/08/08 07:11:40 - Manhattan-Distance:\tPearson: 0.6761\tSpearman: 0.7012\n",
      "2023/08/08 07:11:40 - Euclidean-Distance:\tPearson: 0.6674\tSpearman: 0.7003\n",
      "2023/08/08 07:11:40 - Dot-Product-Similarity:\tPearson: 0.5751\tSpearman: 0.5950\n"
     ]
    },
    {
     "name": "stderr",
     "output_type": "stream",
     "text": [
      "Iteration: 100%|█████████▉| 781/782 [02:48<00:00,  2.87it/s]\u001b[A\n",
      "Iteration: 100%|██████████| 782/782 [02:48<00:00,  4.64it/s]\u001b[A\n",
      "Epoch:   0%|          | 0/1 [02:48<?, ?it/s]"
     ]
    },
    {
     "name": "stdout",
     "output_type": "stream",
     "text": [
      "2023/08/08 07:11:40 - EmbeddingSimilarityEvaluator: Evaluating the model on sts-dev dataset after epoch 0:\n"
     ]
    },
    {
     "name": "stderr",
     "output_type": "stream",
     "text": [
      "Epoch: 100%|██████████| 1/1 [02:52<00:00, 172.32s/it]"
     ]
    },
    {
     "name": "stdout",
     "output_type": "stream",
     "text": [
      "2023/08/08 07:11:44 - Cosine-Similarity :\tPearson: 0.6064\tSpearman: 0.6883\n",
      "2023/08/08 07:11:44 - Manhattan-Distance:\tPearson: 0.6761\tSpearman: 0.7012\n",
      "2023/08/08 07:11:44 - Euclidean-Distance:\tPearson: 0.6674\tSpearman: 0.7003\n",
      "2023/08/08 07:11:44 - Dot-Product-Similarity:\tPearson: 0.5751\tSpearman: 0.5950\n"
     ]
    },
    {
     "name": "stderr",
     "output_type": "stream",
     "text": [
      "\n"
     ]
    }
   ],
   "source": [
    "# Use SoftmaxLoss, because NLI is Multi-class Classification task.\n",
    "train_loss = losses.SoftmaxLoss(\n",
    "    model=model, \n",
    "    sentence_embedding_dimension=model.get_sentence_embedding_dimension(), \n",
    "    num_labels=3 # entailment, neutral, contradiction\n",
    ")\n",
    "\n",
    "# warmup steps\n",
    "warmup_steps = math.ceil(len(nli_train_examples) * nli_num_epochs / train_batch_size * 0.1) #10% of train data for warm-up\n",
    "logging.info(\"Warmup-steps: {}\".format(warmup_steps))\n",
    "\n",
    "# Training\n",
    "model.fit(\n",
    "    train_objectives=[(train_dataloader, train_loss)],\n",
    "    evaluator=dev_evaluator,\n",
    "    epochs=nli_num_epochs,\n",
    "    evaluation_steps=int(len(train_dataloader)*0.1),\n",
    "    warmup_steps=warmup_steps,\n",
    "    output_path=nli_model_save_path\n",
    ")"
   ]
  },
  {
   "cell_type": "code",
   "execution_count": null,
   "id": "171b1aaa-4117-44d9-b3e9-46e48e27c324",
   "metadata": {},
   "outputs": [],
   "source": []
  },
  {
   "cell_type": "code",
   "execution_count": 15,
   "id": "09c67348-9737-4bf9-b0c4-a5078db30377",
   "metadata": {
    "tags": []
   },
   "outputs": [
    {
     "name": "stdout",
     "output_type": "stream",
     "text": [
      "Length of Train :  10501\n",
      "Length of Valid :  1167\n",
      "Length of Test :  519\n"
     ]
    }
   ],
   "source": [
    "# load KLUE-STS Dataset\n",
    "klue_sts_train = load_dataset(\"klue\", \"sts\", split='train[:90%]')\n",
    "klue_sts_valid = load_dataset(\"klue\", \"sts\", split='train[-10%:]') # train의 10%를 validation set으로 사용\n",
    "klue_sts_test = load_dataset(\"klue\", \"sts\", split='validation')\n",
    "\n",
    "print('Length of Train : ',len(klue_sts_train))\n",
    "print('Length of Valid : ',len(klue_sts_valid))\n",
    "print('Length of Test : ',len(klue_sts_test))\n",
    "\n",
    "def make_sts_input_example(dataset):\n",
    "    ''' \n",
    "    Transform to InputExample\n",
    "    ''' \n",
    "    input_examples = []\n",
    "    for i, data in enumerate(dataset):\n",
    "        sentence1 = data['sentence1']\n",
    "        sentence2 = data['sentence2']\n",
    "        score = (data['labels']['label']) / 5.0  # normalize 0 to 5\n",
    "        input_examples.append(InputExample(texts=[sentence1, sentence2], label=score))\n",
    "\n",
    "    return input_examples\n",
    "\n",
    "sts_train_examples = make_sts_input_example(klue_sts_train)\n",
    "sts_valid_examples = make_sts_input_example(klue_sts_valid)\n",
    "sts_test_examples = make_sts_input_example(klue_sts_test)\n",
    "\n",
    "# Train Dataloader\n",
    "train_dataloader = DataLoader(\n",
    "    sts_train_examples,\n",
    "    shuffle=True,\n",
    "    batch_size=train_batch_size,\n",
    ")\n",
    "\n",
    "# Evaluator by sts-validation\n",
    "dev_evaluator = EmbeddingSimilarityEvaluator.from_input_examples(\n",
    "    sts_valid_examples,\n",
    "    name=\"sts-dev\",\n",
    ")\n",
    "\n",
    "# Evaluator by sts-test\n",
    "test_evaluator = EmbeddingSimilarityEvaluator.from_input_examples(\n",
    "    sts_test_examples,\n",
    "    name=\"sts-test\",\n",
    ")"
   ]
  },
  {
   "cell_type": "code",
   "execution_count": 16,
   "id": "e430bcaf-f3e1-40bc-a297-db2294e142e1",
   "metadata": {
    "tags": []
   },
   "outputs": [
    {
     "name": "stdout",
     "output_type": "stream",
     "text": [
      "2023/08/08 07:11:53 - Load pretrained SentenceTransformer: output/training_nli_by_Softmaxlossklue-roberta-base-2023-08-08_07-08-05\n",
      "2023/08/08 07:11:56 - Use pytorch device: cuda\n"
     ]
    }
   ],
   "source": [
    "# Load model of fine-tuning by NLI\n",
    "model = SentenceTransformer(nli_model_save_path)"
   ]
  },
  {
   "cell_type": "code",
   "execution_count": 17,
   "id": "8158f2b3-e06a-4f8b-98e9-8ba2e63a4b29",
   "metadata": {
    "collapsed": true,
    "jupyter": {
     "outputs_hidden": true
    },
    "tags": []
   },
   "outputs": [
    {
     "name": "stdout",
     "output_type": "stream",
     "text": [
      "2023/08/08 07:11:56 - Warmup-steps: 132\n"
     ]
    },
    {
     "name": "stderr",
     "output_type": "stream",
     "text": [
      "Epoch:   0%|          | 0/4 [00:00<?, ?it/s]\n",
      "Iteration:   0%|          | 0/329 [00:00<?, ?it/s]\u001b[A\n",
      "Iteration:   0%|          | 1/329 [00:00<01:04,  5.12it/s]\u001b[A\n",
      "Iteration:   1%|          | 2/329 [00:00<01:04,  5.03it/s]\u001b[A\n",
      "Iteration:   1%|          | 3/329 [00:00<01:01,  5.29it/s]\u001b[A\n",
      "Iteration:   1%|          | 4/329 [00:00<00:58,  5.54it/s]\u001b[A\n",
      "Iteration:   2%|▏         | 5/329 [00:00<00:59,  5.43it/s]\u001b[A\n",
      "Iteration:   2%|▏         | 6/329 [00:01<00:59,  5.40it/s]\u001b[A\n",
      "Iteration:   2%|▏         | 7/329 [00:01<00:59,  5.40it/s]\u001b[A\n",
      "Iteration:   2%|▏         | 8/329 [00:01<01:00,  5.35it/s]\u001b[A\n",
      "Iteration:   3%|▎         | 9/329 [00:01<01:00,  5.28it/s]\u001b[A\n",
      "Iteration:   3%|▎         | 10/329 [00:01<01:00,  5.24it/s]\u001b[A\n",
      "Iteration:   3%|▎         | 11/329 [00:02<01:00,  5.30it/s]\u001b[A\n",
      "Iteration:   4%|▎         | 12/329 [00:02<00:59,  5.29it/s]\u001b[A\n",
      "Iteration:   4%|▍         | 13/329 [00:02<01:00,  5.24it/s]\u001b[A\n",
      "Iteration:   4%|▍         | 14/329 [00:02<00:59,  5.26it/s]\u001b[A\n",
      "Iteration:   5%|▍         | 15/329 [00:02<00:59,  5.26it/s]\u001b[A\n",
      "Iteration:   5%|▍         | 16/329 [00:03<00:58,  5.33it/s]\u001b[A\n",
      "Iteration:   5%|▌         | 17/329 [00:03<00:58,  5.34it/s]\u001b[A\n",
      "Iteration:   5%|▌         | 18/329 [00:03<00:58,  5.35it/s]\u001b[A\n",
      "Iteration:   6%|▌         | 19/329 [00:03<00:58,  5.31it/s]\u001b[A\n",
      "Iteration:   6%|▌         | 20/329 [00:03<00:58,  5.30it/s]\u001b[A\n",
      "Iteration:   6%|▋         | 21/329 [00:03<00:58,  5.30it/s]\u001b[A\n",
      "Iteration:   7%|▋         | 22/329 [00:04<00:58,  5.28it/s]\u001b[A\n",
      "Iteration:   7%|▋         | 23/329 [00:04<00:57,  5.34it/s]\u001b[A\n",
      "Iteration:   7%|▋         | 24/329 [00:04<00:57,  5.35it/s]\u001b[A\n",
      "Iteration:   8%|▊         | 25/329 [00:04<00:56,  5.40it/s]\u001b[A\n",
      "Iteration:   8%|▊         | 26/329 [00:04<00:56,  5.32it/s]\u001b[A\n",
      "Iteration:   8%|▊         | 27/329 [00:05<00:56,  5.39it/s]\u001b[A\n",
      "Iteration:   9%|▊         | 28/329 [00:05<00:56,  5.36it/s]\u001b[A\n",
      "Iteration:   9%|▉         | 29/329 [00:05<00:56,  5.33it/s]\u001b[A\n",
      "Iteration:   9%|▉         | 30/329 [00:05<00:56,  5.33it/s]\u001b[A\n",
      "Iteration:   9%|▉         | 31/329 [00:05<00:55,  5.33it/s]\u001b[A\n",
      "                                                           \n",
      "Epoch:   0%|          | 0/4 [00:05<?, ?it/s]:55,  5.33it/s]\u001b[A"
     ]
    },
    {
     "name": "stdout",
     "output_type": "stream",
     "text": [
      "2023/08/08 07:12:02 - EmbeddingSimilarityEvaluator: Evaluating the model on sts-dev dataset in epoch 0 after 32 steps:\n"
     ]
    },
    {
     "name": "stderr",
     "output_type": "stream",
     "text": [
      "\n",
      "                                                           \n",
      "Epoch:   0%|          | 0/4 [00:09<?, ?it/s]:55,  5.33it/s]\u001b[A\n",
      "                                                           \n",
      "Epoch:   0%|          | 0/4 [00:09<?, ?it/s]:55,  5.33it/s]\u001b[A\n",
      "                                                           \n",
      "Epoch:   0%|          | 0/4 [00:09<?, ?it/s]:55,  5.33it/s]\u001b[A\n",
      "                                                           \n",
      "Epoch:   0%|          | 0/4 [00:09<?, ?it/s]:55,  5.33it/s]\u001b[A\n",
      "                                                           \n",
      "Epoch:   0%|          | 0/4 [00:09<?, ?it/s]:55,  5.33it/s]\u001b[A"
     ]
    },
    {
     "name": "stdout",
     "output_type": "stream",
     "text": [
      "2023/08/08 07:12:06 - Cosine-Similarity :\tPearson: 0.8717\tSpearman: 0.8755\n",
      "2023/08/08 07:12:06 - Manhattan-Distance:\tPearson: 0.8418\tSpearman: 0.8549\n",
      "2023/08/08 07:12:06 - Euclidean-Distance:\tPearson: 0.8409\tSpearman: 0.8543\n",
      "2023/08/08 07:12:06 - Dot-Product-Similarity:\tPearson: 0.8312\tSpearman: 0.8292\n",
      "2023/08/08 07:12:06 - Save model to output/training_sts_by_Softmaxlossklue-roberta-base-2023-08-08_07-08-05\n"
     ]
    },
    {
     "name": "stderr",
     "output_type": "stream",
     "text": [
      "\n",
      "Iteration:  10%|▉         | 32/329 [00:10<02:14,  2.21it/s]\u001b[A\n",
      "Iteration:  10%|█         | 33/329 [00:10<02:08,  2.30it/s]\u001b[A\n",
      "Iteration:  10%|█         | 34/329 [00:10<02:04,  2.38it/s]\u001b[A\n",
      "Iteration:  11%|█         | 35/329 [00:10<01:59,  2.46it/s]\u001b[A\n",
      "Iteration:  11%|█         | 36/329 [00:11<01:55,  2.53it/s]\u001b[A\n",
      "Iteration:  11%|█         | 37/329 [00:11<01:51,  2.63it/s]\u001b[A\n",
      "Iteration:  12%|█▏        | 38/329 [00:11<01:47,  2.71it/s]\u001b[A\n",
      "Iteration:  12%|█▏        | 39/329 [00:11<01:44,  2.78it/s]\u001b[A\n",
      "Iteration:  12%|█▏        | 40/329 [00:11<01:40,  2.87it/s]\u001b[A\n",
      "Iteration:  12%|█▏        | 41/329 [00:11<01:37,  2.95it/s]\u001b[A\n",
      "Iteration:  13%|█▎        | 42/329 [00:12<01:34,  3.03it/s]\u001b[A\n",
      "Iteration:  13%|█▎        | 43/329 [00:12<01:32,  3.10it/s]\u001b[A\n",
      "Iteration:  13%|█▎        | 44/329 [00:12<01:30,  3.16it/s]\u001b[A\n",
      "Iteration:  14%|█▎        | 45/329 [00:12<01:27,  3.24it/s]\u001b[A\n",
      "Iteration:  14%|█▍        | 46/329 [00:12<01:25,  3.32it/s]\u001b[A\n",
      "Iteration:  14%|█▍        | 47/329 [00:13<01:24,  3.36it/s]\u001b[A\n",
      "Iteration:  15%|█▍        | 48/329 [00:13<01:21,  3.44it/s]\u001b[A\n",
      "Iteration:  15%|█▍        | 49/329 [00:13<01:19,  3.51it/s]\u001b[A\n",
      "Iteration:  15%|█▌        | 50/329 [00:13<01:18,  3.57it/s]\u001b[A\n",
      "Iteration:  16%|█▌        | 51/329 [00:13<01:16,  3.65it/s]\u001b[A\n",
      "Iteration:  16%|█▌        | 52/329 [00:14<01:14,  3.72it/s]\u001b[A\n",
      "Iteration:  16%|█▌        | 53/329 [00:14<01:13,  3.75it/s]\u001b[A\n",
      "Iteration:  16%|█▋        | 54/329 [00:14<01:12,  3.81it/s]\u001b[A\n",
      "Iteration:  17%|█▋        | 55/329 [00:14<01:10,  3.87it/s]\u001b[A\n",
      "Iteration:  17%|█▋        | 56/329 [00:14<01:09,  3.94it/s]\u001b[A\n",
      "Iteration:  17%|█▋        | 57/329 [00:15<01:08,  3.95it/s]\u001b[A\n",
      "Iteration:  18%|█▊        | 58/329 [00:15<01:08,  3.96it/s]\u001b[A\n",
      "Iteration:  18%|█▊        | 59/329 [00:15<01:07,  4.03it/s]\u001b[A\n",
      "Iteration:  18%|█▊        | 60/329 [00:15<01:05,  4.09it/s]\u001b[A\n",
      "Iteration:  19%|█▊        | 61/329 [00:15<01:04,  4.15it/s]\u001b[A\n",
      "Iteration:  19%|█▉        | 62/329 [00:15<01:03,  4.20it/s]\u001b[A\n",
      "Iteration:  19%|█▉        | 63/329 [00:16<01:02,  4.25it/s]\u001b[A\n",
      "                                                           \n",
      "Epoch:   0%|          | 0/4 [00:16<?, ?it/s]:02,  4.25it/s]\u001b[A"
     ]
    },
    {
     "name": "stdout",
     "output_type": "stream",
     "text": [
      "2023/08/08 07:12:12 - EmbeddingSimilarityEvaluator: Evaluating the model on sts-dev dataset in epoch 0 after 64 steps:\n"
     ]
    },
    {
     "name": "stderr",
     "output_type": "stream",
     "text": [
      "\n",
      "                                                           \n",
      "Epoch:   0%|          | 0/4 [00:19<?, ?it/s]:02,  4.25it/s]\u001b[A\n",
      "                                                           \n",
      "Epoch:   0%|          | 0/4 [00:19<?, ?it/s]:02,  4.25it/s]\u001b[A\n",
      "                                                           \n",
      "Epoch:   0%|          | 0/4 [00:19<?, ?it/s]:02,  4.25it/s]\u001b[A\n",
      "                                                           \n",
      "Epoch:   0%|          | 0/4 [00:19<?, ?it/s]:02,  4.25it/s]\u001b[A\n",
      "                                                           \n",
      "Epoch:   0%|          | 0/4 [00:19<?, ?it/s]:02,  4.25it/s]\u001b[A"
     ]
    },
    {
     "name": "stdout",
     "output_type": "stream",
     "text": [
      "2023/08/08 07:12:16 - Cosine-Similarity :\tPearson: 0.9250\tSpearman: 0.9016\n",
      "2023/08/08 07:12:16 - Manhattan-Distance:\tPearson: 0.9194\tSpearman: 0.9010\n",
      "2023/08/08 07:12:16 - Euclidean-Distance:\tPearson: 0.9193\tSpearman: 0.9012\n",
      "2023/08/08 07:12:16 - Dot-Product-Similarity:\tPearson: 0.9113\tSpearman: 0.8855\n",
      "2023/08/08 07:12:16 - Save model to output/training_sts_by_Softmaxlossklue-roberta-base-2023-08-08_07-08-05\n"
     ]
    },
    {
     "name": "stderr",
     "output_type": "stream",
     "text": [
      "\n",
      "Iteration:  19%|█▉        | 64/329 [00:20<02:01,  2.19it/s]\u001b[A\n",
      "Iteration:  20%|█▉        | 65/329 [00:20<01:56,  2.26it/s]\u001b[A\n",
      "Iteration:  20%|██        | 66/329 [00:21<01:53,  2.33it/s]\u001b[A\n",
      "Iteration:  20%|██        | 67/329 [00:21<01:49,  2.40it/s]\u001b[A\n",
      "Iteration:  21%|██        | 68/329 [00:21<01:45,  2.47it/s]\u001b[A\n",
      "Iteration:  21%|██        | 69/329 [00:21<01:42,  2.54it/s]\u001b[A\n",
      "Iteration:  21%|██▏       | 70/329 [00:21<01:39,  2.61it/s]\u001b[A\n",
      "Iteration:  22%|██▏       | 71/329 [00:21<01:36,  2.68it/s]\u001b[A\n",
      "Iteration:  22%|██▏       | 72/329 [00:22<01:33,  2.75it/s]\u001b[A\n",
      "Iteration:  22%|██▏       | 73/329 [00:22<01:30,  2.82it/s]\u001b[A\n",
      "Iteration:  22%|██▏       | 74/329 [00:22<01:27,  2.90it/s]\u001b[A\n",
      "Iteration:  23%|██▎       | 75/329 [00:22<01:25,  2.98it/s]\u001b[A\n",
      "Iteration:  23%|██▎       | 76/329 [00:22<01:22,  3.05it/s]\u001b[A\n",
      "Iteration:  23%|██▎       | 77/329 [00:23<01:20,  3.13it/s]\u001b[A\n",
      "Iteration:  24%|██▎       | 78/329 [00:23<01:18,  3.19it/s]\u001b[A\n",
      "Iteration:  24%|██▍       | 79/329 [00:23<01:16,  3.26it/s]\u001b[A\n",
      "Iteration:  24%|██▍       | 80/329 [00:23<01:14,  3.32it/s]\u001b[A\n",
      "Iteration:  25%|██▍       | 81/329 [00:23<01:12,  3.41it/s]\u001b[A\n",
      "Iteration:  25%|██▍       | 82/329 [00:23<01:11,  3.47it/s]\u001b[A\n",
      "Iteration:  25%|██▌       | 83/329 [00:24<01:09,  3.55it/s]\u001b[A\n",
      "Iteration:  26%|██▌       | 84/329 [00:24<01:08,  3.60it/s]\u001b[A\n",
      "Iteration:  26%|██▌       | 85/329 [00:24<01:06,  3.67it/s]\u001b[A\n",
      "Iteration:  26%|██▌       | 86/329 [00:24<01:04,  3.75it/s]\u001b[A\n",
      "Iteration:  26%|██▋       | 87/329 [00:24<01:03,  3.80it/s]\u001b[A\n",
      "Iteration:  27%|██▋       | 88/329 [00:25<01:02,  3.85it/s]\u001b[A\n",
      "Iteration:  27%|██▋       | 89/329 [00:25<01:01,  3.88it/s]\u001b[A\n",
      "Iteration:  27%|██▋       | 90/329 [00:25<01:00,  3.93it/s]\u001b[A\n",
      "Iteration:  28%|██▊       | 91/329 [00:25<00:59,  4.00it/s]\u001b[A\n",
      "Iteration:  28%|██▊       | 92/329 [00:25<00:58,  4.05it/s]\u001b[A\n",
      "Iteration:  28%|██▊       | 93/329 [00:25<00:57,  4.09it/s]\u001b[A\n",
      "Iteration:  29%|██▊       | 94/329 [00:26<00:57,  4.12it/s]\u001b[A\n",
      "Iteration:  29%|██▉       | 95/329 [00:26<00:56,  4.17it/s]\u001b[A\n",
      "                                                           \n",
      "Epoch:   0%|          | 0/4 [00:26<?, ?it/s]:56,  4.17it/s]\u001b[A"
     ]
    },
    {
     "name": "stdout",
     "output_type": "stream",
     "text": [
      "2023/08/08 07:12:23 - EmbeddingSimilarityEvaluator: Evaluating the model on sts-dev dataset in epoch 0 after 96 steps:\n"
     ]
    },
    {
     "name": "stderr",
     "output_type": "stream",
     "text": [
      "\n",
      "                                                           \n",
      "Epoch:   0%|          | 0/4 [00:30<?, ?it/s]:56,  4.17it/s]\u001b[A\n",
      "                                                           \n",
      "Epoch:   0%|          | 0/4 [00:30<?, ?it/s]:56,  4.17it/s]\u001b[A\n",
      "                                                           \n",
      "Epoch:   0%|          | 0/4 [00:30<?, ?it/s]:56,  4.17it/s]\u001b[A\n",
      "                                                           \n",
      "Epoch:   0%|          | 0/4 [00:30<?, ?it/s]:56,  4.17it/s]\u001b[A\n",
      "                                                           \n",
      "Epoch:   0%|          | 0/4 [00:30<?, ?it/s]:56,  4.17it/s]\u001b[A"
     ]
    },
    {
     "name": "stdout",
     "output_type": "stream",
     "text": [
      "2023/08/08 07:12:26 - Cosine-Similarity :\tPearson: 0.9422\tSpearman: 0.9094\n",
      "2023/08/08 07:12:26 - Manhattan-Distance:\tPearson: 0.9375\tSpearman: 0.9091\n",
      "2023/08/08 07:12:26 - Euclidean-Distance:\tPearson: 0.9374\tSpearman: 0.9092\n",
      "2023/08/08 07:12:26 - Dot-Product-Similarity:\tPearson: 0.9306\tSpearman: 0.8920\n",
      "2023/08/08 07:12:26 - Save model to output/training_sts_by_Softmaxlossklue-roberta-base-2023-08-08_07-08-05\n"
     ]
    },
    {
     "name": "stderr",
     "output_type": "stream",
     "text": [
      "\n",
      "Iteration:  29%|██▉       | 96/329 [00:31<01:47,  2.16it/s]\u001b[A\n",
      "Iteration:  29%|██▉       | 97/329 [00:31<01:44,  2.22it/s]\u001b[A\n",
      "Iteration:  30%|██▉       | 98/329 [00:31<01:41,  2.29it/s]\u001b[A\n",
      "Iteration:  30%|███       | 99/329 [00:31<01:37,  2.36it/s]\u001b[A\n",
      "Iteration:  30%|███       | 100/329 [00:31<01:34,  2.42it/s]\u001b[A\n",
      "Iteration:  31%|███       | 101/329 [00:32<01:31,  2.49it/s]\u001b[A\n",
      "Iteration:  31%|███       | 102/329 [00:32<01:28,  2.56it/s]\u001b[A\n",
      "Iteration:  31%|███▏      | 103/329 [00:32<01:25,  2.64it/s]\u001b[A\n",
      "Iteration:  32%|███▏      | 104/329 [00:32<01:23,  2.71it/s]\u001b[A\n",
      "Iteration:  32%|███▏      | 105/329 [00:32<01:21,  2.76it/s]\u001b[A\n",
      "Iteration:  32%|███▏      | 106/329 [00:32<01:18,  2.84it/s]\u001b[A\n",
      "Iteration:  33%|███▎      | 107/329 [00:33<01:16,  2.90it/s]\u001b[A\n",
      "Iteration:  33%|███▎      | 108/329 [00:33<01:14,  2.98it/s]\u001b[A\n",
      "Iteration:  33%|███▎      | 109/329 [00:33<01:12,  3.05it/s]\u001b[A\n",
      "Iteration:  33%|███▎      | 110/329 [00:33<01:10,  3.12it/s]\u001b[A\n",
      "Iteration:  34%|███▎      | 111/329 [00:33<01:08,  3.18it/s]\u001b[A\n",
      "Iteration:  34%|███▍      | 112/329 [00:34<01:06,  3.24it/s]\u001b[A\n",
      "Iteration:  34%|███▍      | 113/329 [00:34<01:05,  3.32it/s]\u001b[A\n",
      "Iteration:  35%|███▍      | 114/329 [00:34<01:04,  3.36it/s]\u001b[A\n",
      "Iteration:  35%|███▍      | 115/329 [00:34<01:02,  3.43it/s]\u001b[A\n",
      "Iteration:  35%|███▌      | 116/329 [00:34<01:01,  3.48it/s]\u001b[A\n",
      "Iteration:  36%|███▌      | 117/329 [00:35<00:59,  3.55it/s]\u001b[A\n",
      "Iteration:  36%|███▌      | 118/329 [00:35<00:58,  3.61it/s]\u001b[A\n",
      "Iteration:  36%|███▌      | 119/329 [00:35<00:57,  3.68it/s]\u001b[A\n",
      "Iteration:  36%|███▋      | 120/329 [00:35<00:55,  3.74it/s]\u001b[A\n",
      "Iteration:  37%|███▋      | 121/329 [00:35<00:54,  3.80it/s]\u001b[A\n",
      "Iteration:  37%|███▋      | 122/329 [00:35<00:53,  3.87it/s]\u001b[A\n",
      "Iteration:  37%|███▋      | 123/329 [00:36<00:52,  3.91it/s]\u001b[A\n",
      "Iteration:  38%|███▊      | 124/329 [00:36<00:51,  3.97it/s]\u001b[A\n",
      "Iteration:  38%|███▊      | 125/329 [00:36<00:50,  4.01it/s]\u001b[A\n",
      "Iteration:  38%|███▊      | 126/329 [00:36<00:49,  4.06it/s]\u001b[A\n",
      "Iteration:  39%|███▊      | 127/329 [00:36<00:49,  4.12it/s]\u001b[A\n",
      "                                                            \n",
      "Epoch:   0%|          | 0/4 [00:37<?, ?it/s]0:49,  4.12it/s]\u001b[A"
     ]
    },
    {
     "name": "stdout",
     "output_type": "stream",
     "text": [
      "2023/08/08 07:12:33 - EmbeddingSimilarityEvaluator: Evaluating the model on sts-dev dataset in epoch 0 after 128 steps:\n"
     ]
    },
    {
     "name": "stderr",
     "output_type": "stream",
     "text": [
      "\n",
      "                                                            \n",
      "Epoch:   0%|          | 0/4 [00:40<?, ?it/s]0:49,  4.12it/s]\u001b[A\n",
      "                                                            \n",
      "Epoch:   0%|          | 0/4 [00:40<?, ?it/s]0:49,  4.12it/s]\u001b[A\n",
      "                                                            \n",
      "Epoch:   0%|          | 0/4 [00:40<?, ?it/s]0:49,  4.12it/s]\u001b[A\n",
      "                                                            \n",
      "Epoch:   0%|          | 0/4 [00:40<?, ?it/s]0:49,  4.12it/s]\u001b[A\n",
      "                                                            \n",
      "Epoch:   0%|          | 0/4 [00:40<?, ?it/s]0:49,  4.12it/s]\u001b[A"
     ]
    },
    {
     "name": "stdout",
     "output_type": "stream",
     "text": [
      "2023/08/08 07:12:37 - Cosine-Similarity :\tPearson: 0.9479\tSpearman: 0.9111\n",
      "2023/08/08 07:12:37 - Manhattan-Distance:\tPearson: 0.9433\tSpearman: 0.9108\n",
      "2023/08/08 07:12:37 - Euclidean-Distance:\tPearson: 0.9432\tSpearman: 0.9109\n",
      "2023/08/08 07:12:37 - Dot-Product-Similarity:\tPearson: 0.9380\tSpearman: 0.8932\n",
      "2023/08/08 07:12:37 - Save model to output/training_sts_by_Softmaxlossklue-roberta-base-2023-08-08_07-08-05\n"
     ]
    },
    {
     "name": "stderr",
     "output_type": "stream",
     "text": [
      "\n",
      "Iteration:  39%|███▉      | 128/329 [00:41<01:33,  2.16it/s]\u001b[A\n",
      "Iteration:  39%|███▉      | 129/329 [00:41<01:30,  2.22it/s]\u001b[A\n",
      "Iteration:  40%|███▉      | 130/329 [00:41<01:27,  2.28it/s]\u001b[A\n",
      "Iteration:  40%|███▉      | 131/329 [00:42<01:24,  2.35it/s]\u001b[A\n",
      "Iteration:  40%|████      | 132/329 [00:42<01:21,  2.42it/s]\u001b[A\n",
      "Iteration:  40%|████      | 133/329 [00:42<01:18,  2.50it/s]\u001b[A\n",
      "Iteration:  41%|████      | 134/329 [00:42<01:16,  2.56it/s]\u001b[A\n",
      "Iteration:  41%|████      | 135/329 [00:42<01:14,  2.62it/s]\u001b[A\n",
      "Iteration:  41%|████▏     | 136/329 [00:43<01:11,  2.69it/s]\u001b[A\n",
      "Iteration:  42%|████▏     | 137/329 [00:43<01:09,  2.76it/s]\u001b[A\n",
      "Iteration:  42%|████▏     | 138/329 [00:43<01:07,  2.83it/s]\u001b[A\n",
      "Iteration:  42%|████▏     | 139/329 [00:43<01:05,  2.89it/s]\u001b[A\n",
      "Iteration:  43%|████▎     | 140/329 [00:43<01:03,  2.96it/s]\u001b[A\n",
      "Iteration:  43%|████▎     | 141/329 [00:43<01:01,  3.03it/s]\u001b[A\n",
      "Iteration:  43%|████▎     | 142/329 [00:44<01:00,  3.09it/s]\u001b[A\n",
      "Iteration:  43%|████▎     | 143/329 [00:44<00:58,  3.16it/s]\u001b[A\n",
      "Iteration:  44%|████▍     | 144/329 [00:44<00:57,  3.23it/s]\u001b[A\n",
      "Iteration:  44%|████▍     | 145/329 [00:44<00:55,  3.29it/s]\u001b[A\n",
      "Iteration:  44%|████▍     | 146/329 [00:44<00:54,  3.35it/s]\u001b[A\n",
      "Iteration:  45%|████▍     | 147/329 [00:45<00:53,  3.43it/s]\u001b[A\n",
      "Iteration:  45%|████▍     | 148/329 [00:45<00:51,  3.49it/s]\u001b[A\n",
      "Iteration:  45%|████▌     | 149/329 [00:45<00:50,  3.56it/s]\u001b[A\n",
      "Iteration:  46%|████▌     | 150/329 [00:45<00:49,  3.61it/s]\u001b[A\n",
      "Iteration:  46%|████▌     | 151/329 [00:45<00:48,  3.69it/s]\u001b[A\n",
      "Iteration:  46%|████▌     | 152/329 [00:45<00:47,  3.76it/s]\u001b[A\n",
      "Iteration:  47%|████▋     | 153/329 [00:46<00:46,  3.82it/s]\u001b[A\n",
      "Iteration:  47%|████▋     | 154/329 [00:46<00:45,  3.89it/s]\u001b[A\n",
      "Iteration:  47%|████▋     | 155/329 [00:46<00:44,  3.95it/s]\u001b[A\n",
      "Iteration:  47%|████▋     | 156/329 [00:46<00:43,  3.99it/s]\u001b[A\n",
      "Iteration:  48%|████▊     | 157/329 [00:46<00:42,  4.06it/s]\u001b[A\n",
      "Iteration:  48%|████▊     | 158/329 [00:47<00:41,  4.13it/s]\u001b[A\n",
      "Iteration:  48%|████▊     | 159/329 [00:47<00:40,  4.19it/s]\u001b[A\n",
      "                                                            \n",
      "Epoch:   0%|          | 0/4 [00:47<?, ?it/s]0:40,  4.19it/s]\u001b[A"
     ]
    },
    {
     "name": "stdout",
     "output_type": "stream",
     "text": [
      "2023/08/08 07:12:43 - EmbeddingSimilarityEvaluator: Evaluating the model on sts-dev dataset in epoch 0 after 160 steps:\n"
     ]
    },
    {
     "name": "stderr",
     "output_type": "stream",
     "text": [
      "\n",
      "                                                            \n",
      "Epoch:   0%|          | 0/4 [00:51<?, ?it/s]0:40,  4.19it/s]\u001b[A\n",
      "                                                            \n",
      "Epoch:   0%|          | 0/4 [00:51<?, ?it/s]0:40,  4.19it/s]\u001b[A\n",
      "                                                            \n",
      "Epoch:   0%|          | 0/4 [00:51<?, ?it/s]0:40,  4.19it/s]\u001b[A\n",
      "                                                            \n",
      "Epoch:   0%|          | 0/4 [00:51<?, ?it/s]0:40,  4.19it/s]\u001b[A\n",
      "                                                            \n",
      "Epoch:   0%|          | 0/4 [00:51<?, ?it/s]0:40,  4.19it/s]\u001b[A"
     ]
    },
    {
     "name": "stdout",
     "output_type": "stream",
     "text": [
      "2023/08/08 07:12:47 - Cosine-Similarity :\tPearson: 0.9502\tSpearman: 0.9134\n",
      "2023/08/08 07:12:47 - Manhattan-Distance:\tPearson: 0.9462\tSpearman: 0.9123\n",
      "2023/08/08 07:12:47 - Euclidean-Distance:\tPearson: 0.9460\tSpearman: 0.9123\n",
      "2023/08/08 07:12:47 - Dot-Product-Similarity:\tPearson: 0.9390\tSpearman: 0.8944\n",
      "2023/08/08 07:12:47 - Save model to output/training_sts_by_Softmaxlossklue-roberta-base-2023-08-08_07-08-05\n"
     ]
    },
    {
     "name": "stderr",
     "output_type": "stream",
     "text": [
      "\n",
      "Iteration:  49%|████▊     | 160/329 [00:51<01:17,  2.18it/s]\u001b[A\n",
      "Iteration:  49%|████▉     | 161/329 [00:52<01:14,  2.25it/s]\u001b[A\n",
      "Iteration:  49%|████▉     | 162/329 [00:52<01:12,  2.31it/s]\u001b[A\n",
      "Iteration:  50%|████▉     | 163/329 [00:52<01:09,  2.38it/s]\u001b[A\n",
      "Iteration:  50%|████▉     | 164/329 [00:52<01:07,  2.45it/s]\u001b[A\n",
      "Iteration:  50%|█████     | 165/329 [00:52<01:05,  2.52it/s]\u001b[A\n",
      "Iteration:  50%|█████     | 166/329 [00:52<01:02,  2.59it/s]\u001b[A\n",
      "Iteration:  51%|█████     | 167/329 [00:53<01:00,  2.66it/s]\u001b[A\n",
      "Iteration:  51%|█████     | 168/329 [00:53<00:58,  2.73it/s]\u001b[A\n",
      "Iteration:  51%|█████▏    | 169/329 [00:53<00:56,  2.81it/s]\u001b[A\n",
      "Iteration:  52%|█████▏    | 170/329 [00:53<00:55,  2.87it/s]\u001b[A\n",
      "Iteration:  52%|█████▏    | 171/329 [00:53<00:53,  2.95it/s]\u001b[A\n",
      "Iteration:  52%|█████▏    | 172/329 [00:54<00:52,  3.00it/s]\u001b[A\n",
      "Iteration:  53%|█████▎    | 173/329 [00:54<00:50,  3.08it/s]\u001b[A\n",
      "Iteration:  53%|█████▎    | 174/329 [00:54<00:49,  3.16it/s]\u001b[A\n",
      "Iteration:  53%|█████▎    | 175/329 [00:54<00:47,  3.23it/s]\u001b[A\n",
      "Iteration:  53%|█████▎    | 176/329 [00:54<00:46,  3.29it/s]\u001b[A\n",
      "Iteration:  54%|█████▍    | 177/329 [00:54<00:45,  3.34it/s]\u001b[A\n",
      "Iteration:  54%|█████▍    | 178/329 [00:55<00:44,  3.42it/s]\u001b[A\n",
      "Iteration:  54%|█████▍    | 179/329 [00:55<00:42,  3.50it/s]\u001b[A\n",
      "Iteration:  55%|█████▍    | 180/329 [00:55<00:42,  3.55it/s]\u001b[A\n",
      "Iteration:  55%|█████▌    | 181/329 [00:55<00:41,  3.58it/s]\u001b[A\n",
      "Iteration:  55%|█████▌    | 182/329 [00:55<00:40,  3.64it/s]\u001b[A\n",
      "Iteration:  56%|█████▌    | 183/329 [00:56<00:39,  3.70it/s]\u001b[A\n",
      "Iteration:  56%|█████▌    | 184/329 [00:56<00:38,  3.76it/s]\u001b[A\n",
      "Iteration:  56%|█████▌    | 185/329 [00:56<00:37,  3.83it/s]\u001b[A\n",
      "Iteration:  57%|█████▋    | 186/329 [00:56<00:36,  3.87it/s]\u001b[A\n",
      "Iteration:  57%|█████▋    | 187/329 [00:56<00:36,  3.92it/s]\u001b[A\n",
      "Iteration:  57%|█████▋    | 188/329 [00:57<00:35,  3.97it/s]\u001b[A\n",
      "Iteration:  57%|█████▋    | 189/329 [00:57<00:34,  4.02it/s]\u001b[A\n",
      "Iteration:  58%|█████▊    | 190/329 [00:57<00:34,  4.08it/s]\u001b[A\n",
      "Iteration:  58%|█████▊    | 191/329 [00:57<00:33,  4.14it/s]\u001b[A\n",
      "                                                            \n",
      "Epoch:   0%|          | 0/4 [00:57<?, ?it/s]0:33,  4.14it/s]\u001b[A"
     ]
    },
    {
     "name": "stdout",
     "output_type": "stream",
     "text": [
      "2023/08/08 07:12:54 - EmbeddingSimilarityEvaluator: Evaluating the model on sts-dev dataset in epoch 0 after 192 steps:\n"
     ]
    },
    {
     "name": "stderr",
     "output_type": "stream",
     "text": [
      "\n",
      "                                                            \n",
      "Epoch:   0%|          | 0/4 [01:01<?, ?it/s]0:33,  4.14it/s]\u001b[A\n",
      "                                                            \n",
      "Epoch:   0%|          | 0/4 [01:01<?, ?it/s]0:33,  4.14it/s]\u001b[A\n",
      "                                                            \n",
      "Epoch:   0%|          | 0/4 [01:01<?, ?it/s]0:33,  4.14it/s]\u001b[A\n",
      "                                                            \n",
      "Epoch:   0%|          | 0/4 [01:01<?, ?it/s]0:33,  4.14it/s]\u001b[A\n",
      "Iteration:  58%|█████▊    | 192/329 [01:01<00:58,  2.34it/s]\u001b[A"
     ]
    },
    {
     "name": "stdout",
     "output_type": "stream",
     "text": [
      "2023/08/08 07:12:58 - Cosine-Similarity :\tPearson: 0.9510\tSpearman: 0.9110\n",
      "2023/08/08 07:12:58 - Manhattan-Distance:\tPearson: 0.9471\tSpearman: 0.9101\n",
      "2023/08/08 07:12:58 - Euclidean-Distance:\tPearson: 0.9468\tSpearman: 0.9101\n",
      "2023/08/08 07:12:58 - Dot-Product-Similarity:\tPearson: 0.9401\tSpearman: 0.8902\n"
     ]
    },
    {
     "name": "stderr",
     "output_type": "stream",
     "text": [
      "\n",
      "Iteration:  59%|█████▊    | 193/329 [01:01<00:56,  2.40it/s]\u001b[A\n",
      "Iteration:  59%|█████▉    | 194/329 [01:01<00:54,  2.48it/s]\u001b[A\n",
      "Iteration:  59%|█████▉    | 195/329 [01:02<00:52,  2.55it/s]\u001b[A\n",
      "Iteration:  60%|█████▉    | 196/329 [01:02<00:50,  2.61it/s]\u001b[A\n",
      "Iteration:  60%|█████▉    | 197/329 [01:02<00:49,  2.67it/s]\u001b[A\n",
      "Iteration:  60%|██████    | 198/329 [01:02<00:47,  2.74it/s]\u001b[A\n",
      "Iteration:  60%|██████    | 199/329 [01:02<00:46,  2.81it/s]\u001b[A\n",
      "Iteration:  61%|██████    | 200/329 [01:03<00:44,  2.87it/s]\u001b[A\n",
      "Iteration:  61%|██████    | 201/329 [01:03<00:43,  2.95it/s]\u001b[A\n",
      "Iteration:  61%|██████▏   | 202/329 [01:03<00:42,  3.01it/s]\u001b[A\n",
      "Iteration:  62%|██████▏   | 203/329 [01:03<00:41,  3.06it/s]\u001b[A\n",
      "Iteration:  62%|██████▏   | 204/329 [01:03<00:40,  3.12it/s]\u001b[A\n",
      "Iteration:  62%|██████▏   | 205/329 [01:04<00:38,  3.19it/s]\u001b[A\n",
      "Iteration:  63%|██████▎   | 206/329 [01:04<00:37,  3.26it/s]\u001b[A\n",
      "Iteration:  63%|██████▎   | 207/329 [01:04<00:36,  3.32it/s]\u001b[A\n",
      "Iteration:  63%|██████▎   | 208/329 [01:04<00:35,  3.38it/s]\u001b[A\n",
      "Iteration:  64%|██████▎   | 209/329 [01:04<00:34,  3.47it/s]\u001b[A\n",
      "Iteration:  64%|██████▍   | 210/329 [01:04<00:33,  3.53it/s]\u001b[A\n",
      "Iteration:  64%|██████▍   | 211/329 [01:05<00:33,  3.57it/s]\u001b[A\n",
      "Iteration:  64%|██████▍   | 212/329 [01:05<00:32,  3.64it/s]\u001b[A\n",
      "Iteration:  65%|██████▍   | 213/329 [01:05<00:31,  3.72it/s]\u001b[A\n",
      "Iteration:  65%|██████▌   | 214/329 [01:05<00:30,  3.75it/s]\u001b[A\n",
      "Iteration:  65%|██████▌   | 215/329 [01:05<00:29,  3.81it/s]\u001b[A\n",
      "Iteration:  66%|██████▌   | 216/329 [01:06<00:29,  3.86it/s]\u001b[A\n",
      "Iteration:  66%|██████▌   | 217/329 [01:06<00:28,  3.91it/s]\u001b[A\n",
      "Iteration:  66%|██████▋   | 218/329 [01:06<00:27,  3.98it/s]\u001b[A\n",
      "Iteration:  67%|██████▋   | 219/329 [01:06<00:27,  4.04it/s]\u001b[A\n",
      "Iteration:  67%|██████▋   | 220/329 [01:06<00:26,  4.09it/s]\u001b[A\n",
      "Iteration:  67%|██████▋   | 221/329 [01:07<00:26,  4.13it/s]\u001b[A\n",
      "Iteration:  67%|██████▋   | 222/329 [01:07<00:25,  4.16it/s]\u001b[A\n",
      "Iteration:  68%|██████▊   | 223/329 [01:07<00:25,  4.21it/s]\u001b[A\n",
      "                                                            \n",
      "Epoch:   0%|          | 0/4 [01:07<?, ?it/s]0:25,  4.21it/s]\u001b[A"
     ]
    },
    {
     "name": "stdout",
     "output_type": "stream",
     "text": [
      "2023/08/08 07:13:04 - EmbeddingSimilarityEvaluator: Evaluating the model on sts-dev dataset in epoch 0 after 224 steps:\n"
     ]
    },
    {
     "name": "stderr",
     "output_type": "stream",
     "text": [
      "\n",
      "                                                            \n",
      "Epoch:   0%|          | 0/4 [01:11<?, ?it/s]0:25,  4.21it/s]\u001b[A\n",
      "                                                            \n",
      "Epoch:   0%|          | 0/4 [01:11<?, ?it/s]0:25,  4.21it/s]\u001b[A\n",
      "                                                            \n",
      "Epoch:   0%|          | 0/4 [01:11<?, ?it/s]0:25,  4.21it/s]\u001b[A\n",
      "                                                            \n",
      "Epoch:   0%|          | 0/4 [01:11<?, ?it/s]0:25,  4.21it/s]\u001b[A\n",
      "                                                            \n",
      "Epoch:   0%|          | 0/4 [01:11<?, ?it/s]0:25,  4.21it/s]\u001b[A"
     ]
    },
    {
     "name": "stdout",
     "output_type": "stream",
     "text": [
      "2023/08/08 07:13:07 - Cosine-Similarity :\tPearson: 0.9535\tSpearman: 0.9150\n",
      "2023/08/08 07:13:07 - Manhattan-Distance:\tPearson: 0.9477\tSpearman: 0.9131\n",
      "2023/08/08 07:13:07 - Euclidean-Distance:\tPearson: 0.9474\tSpearman: 0.9134\n",
      "2023/08/08 07:13:07 - Dot-Product-Similarity:\tPearson: 0.9453\tSpearman: 0.9007\n",
      "2023/08/08 07:13:07 - Save model to output/training_sts_by_Softmaxlossklue-roberta-base-2023-08-08_07-08-05\n"
     ]
    },
    {
     "name": "stderr",
     "output_type": "stream",
     "text": [
      "\n",
      "Iteration:  68%|██████▊   | 224/329 [01:12<00:48,  2.18it/s]\u001b[A\n",
      "Iteration:  68%|██████▊   | 225/329 [01:12<00:46,  2.24it/s]\u001b[A\n",
      "Iteration:  69%|██████▊   | 226/329 [01:12<00:44,  2.31it/s]\u001b[A\n",
      "Iteration:  69%|██████▉   | 227/329 [01:12<00:42,  2.38it/s]\u001b[A\n",
      "Iteration:  69%|██████▉   | 228/329 [01:12<00:41,  2.46it/s]\u001b[A\n",
      "Iteration:  70%|██████▉   | 229/329 [01:13<00:39,  2.52it/s]\u001b[A\n",
      "Iteration:  70%|██████▉   | 230/329 [01:13<00:38,  2.59it/s]\u001b[A\n",
      "Iteration:  70%|███████   | 231/329 [01:13<00:36,  2.66it/s]\u001b[A\n",
      "Iteration:  71%|███████   | 232/329 [01:13<00:35,  2.74it/s]\u001b[A\n",
      "Iteration:  71%|███████   | 233/329 [01:13<00:34,  2.78it/s]\u001b[A\n",
      "Iteration:  71%|███████   | 234/329 [01:13<00:33,  2.85it/s]\u001b[A\n",
      "Iteration:  71%|███████▏  | 235/329 [01:14<00:32,  2.91it/s]\u001b[A\n",
      "Iteration:  72%|███████▏  | 236/329 [01:14<00:31,  2.97it/s]\u001b[A\n",
      "Iteration:  72%|███████▏  | 237/329 [01:14<00:30,  3.02it/s]\u001b[A\n",
      "Iteration:  72%|███████▏  | 238/329 [01:14<00:29,  3.09it/s]\u001b[A\n",
      "Iteration:  73%|███████▎  | 239/329 [01:15<00:28,  3.15it/s]\u001b[A\n",
      "Iteration:  73%|███████▎  | 240/329 [01:15<00:27,  3.23it/s]\u001b[A\n",
      "Iteration:  73%|███████▎  | 241/329 [01:15<00:26,  3.28it/s]\u001b[A\n",
      "Iteration:  74%|███████▎  | 242/329 [01:15<00:25,  3.36it/s]\u001b[A\n",
      "Iteration:  74%|███████▍  | 243/329 [01:15<00:25,  3.44it/s]\u001b[A\n",
      "Iteration:  74%|███████▍  | 244/329 [01:15<00:24,  3.49it/s]\u001b[A\n",
      "Iteration:  74%|███████▍  | 245/329 [01:16<00:23,  3.57it/s]\u001b[A\n",
      "Iteration:  75%|███████▍  | 246/329 [01:16<00:22,  3.62it/s]\u001b[A\n",
      "Iteration:  75%|███████▌  | 247/329 [01:16<00:22,  3.68it/s]\u001b[A\n",
      "Iteration:  75%|███████▌  | 248/329 [01:16<00:21,  3.73it/s]\u001b[A\n",
      "Iteration:  76%|███████▌  | 249/329 [01:16<00:21,  3.79it/s]\u001b[A\n",
      "Iteration:  76%|███████▌  | 250/329 [01:17<00:20,  3.85it/s]\u001b[A\n",
      "Iteration:  76%|███████▋  | 251/329 [01:17<00:19,  3.91it/s]\u001b[A\n",
      "Iteration:  77%|███████▋  | 252/329 [01:17<00:19,  3.96it/s]\u001b[A\n",
      "Iteration:  77%|███████▋  | 253/329 [01:17<00:18,  4.02it/s]\u001b[A\n",
      "Iteration:  77%|███████▋  | 254/329 [01:17<00:18,  4.05it/s]\u001b[A\n",
      "Iteration:  78%|███████▊  | 255/329 [01:17<00:18,  4.11it/s]\u001b[A\n",
      "                                                            \n",
      "Epoch:   0%|          | 0/4 [01:18<?, ?it/s]0:18,  4.11it/s]\u001b[A"
     ]
    },
    {
     "name": "stdout",
     "output_type": "stream",
     "text": [
      "2023/08/08 07:13:14 - EmbeddingSimilarityEvaluator: Evaluating the model on sts-dev dataset in epoch 0 after 256 steps:\n"
     ]
    },
    {
     "name": "stderr",
     "output_type": "stream",
     "text": [
      "\n",
      "                                                            \n",
      "Epoch:   0%|          | 0/4 [01:21<?, ?it/s]0:18,  4.11it/s]\u001b[A\n",
      "                                                            \n",
      "Epoch:   0%|          | 0/4 [01:21<?, ?it/s]0:18,  4.11it/s]\u001b[A\n",
      "                                                            \n",
      "Epoch:   0%|          | 0/4 [01:21<?, ?it/s]0:18,  4.11it/s]\u001b[A\n",
      "                                                            \n",
      "Epoch:   0%|          | 0/4 [01:21<?, ?it/s]0:18,  4.11it/s]\u001b[A\n",
      "Iteration:  78%|███████▊  | 256/329 [01:21<00:31,  2.34it/s]\u001b[A"
     ]
    },
    {
     "name": "stdout",
     "output_type": "stream",
     "text": [
      "2023/08/08 07:13:18 - Cosine-Similarity :\tPearson: 0.9538\tSpearman: 0.9122\n",
      "2023/08/08 07:13:18 - Manhattan-Distance:\tPearson: 0.9481\tSpearman: 0.9112\n",
      "2023/08/08 07:13:18 - Euclidean-Distance:\tPearson: 0.9480\tSpearman: 0.9113\n",
      "2023/08/08 07:13:18 - Dot-Product-Similarity:\tPearson: 0.9474\tSpearman: 0.8987\n"
     ]
    },
    {
     "name": "stderr",
     "output_type": "stream",
     "text": [
      "\n",
      "Iteration:  78%|███████▊  | 257/329 [01:22<00:30,  2.39it/s]\u001b[A\n",
      "Iteration:  78%|███████▊  | 258/329 [01:22<00:28,  2.47it/s]\u001b[A\n",
      "Iteration:  79%|███████▊  | 259/329 [01:22<00:27,  2.54it/s]\u001b[A\n",
      "Iteration:  79%|███████▉  | 260/329 [01:22<00:26,  2.62it/s]\u001b[A\n",
      "Iteration:  79%|███████▉  | 261/329 [01:22<00:25,  2.68it/s]\u001b[A\n",
      "Iteration:  80%|███████▉  | 262/329 [01:22<00:24,  2.76it/s]\u001b[A\n",
      "Iteration:  80%|███████▉  | 263/329 [01:23<00:23,  2.82it/s]\u001b[A\n",
      "Iteration:  80%|████████  | 264/329 [01:23<00:22,  2.89it/s]\u001b[A\n",
      "Iteration:  81%|████████  | 265/329 [01:23<00:21,  2.95it/s]\u001b[A\n",
      "Iteration:  81%|████████  | 266/329 [01:23<00:20,  3.03it/s]\u001b[A\n",
      "Iteration:  81%|████████  | 267/329 [01:23<00:20,  3.08it/s]\u001b[A\n",
      "Iteration:  81%|████████▏ | 268/329 [01:24<00:19,  3.14it/s]\u001b[A\n",
      "Iteration:  82%|████████▏ | 269/329 [01:24<00:18,  3.21it/s]\u001b[A\n",
      "Iteration:  82%|████████▏ | 270/329 [01:24<00:17,  3.28it/s]\u001b[A\n",
      "Iteration:  82%|████████▏ | 271/329 [01:24<00:17,  3.35it/s]\u001b[A\n",
      "Iteration:  83%|████████▎ | 272/329 [01:24<00:16,  3.40it/s]\u001b[A\n",
      "Iteration:  83%|████████▎ | 273/329 [01:25<00:16,  3.46it/s]\u001b[A\n",
      "Iteration:  83%|████████▎ | 274/329 [01:25<00:15,  3.54it/s]\u001b[A\n",
      "Iteration:  84%|████████▎ | 275/329 [01:25<00:14,  3.62it/s]\u001b[A\n",
      "Iteration:  84%|████████▍ | 276/329 [01:25<00:14,  3.67it/s]\u001b[A\n",
      "Iteration:  84%|████████▍ | 277/329 [01:25<00:13,  3.73it/s]\u001b[A\n",
      "Iteration:  84%|████████▍ | 278/329 [01:25<00:13,  3.80it/s]\u001b[A\n",
      "Iteration:  85%|████████▍ | 279/329 [01:26<00:13,  3.84it/s]\u001b[A\n",
      "Iteration:  85%|████████▌ | 280/329 [01:26<00:12,  3.89it/s]\u001b[A\n",
      "Iteration:  85%|████████▌ | 281/329 [01:26<00:12,  3.93it/s]\u001b[A\n",
      "Iteration:  86%|████████▌ | 282/329 [01:26<00:11,  3.97it/s]\u001b[A\n",
      "Iteration:  86%|████████▌ | 283/329 [01:26<00:11,  4.00it/s]\u001b[A\n",
      "Iteration:  86%|████████▋ | 284/329 [01:27<00:11,  4.06it/s]\u001b[A\n",
      "Iteration:  87%|████████▋ | 285/329 [01:27<00:10,  4.11it/s]\u001b[A\n",
      "Iteration:  87%|████████▋ | 286/329 [01:27<00:10,  4.15it/s]\u001b[A\n",
      "Iteration:  87%|████████▋ | 287/329 [01:27<00:10,  4.18it/s]\u001b[A\n",
      "                                                            \n",
      "Epoch:   0%|          | 0/4 [01:27<?, ?it/s]0:10,  4.18it/s]\u001b[A"
     ]
    },
    {
     "name": "stdout",
     "output_type": "stream",
     "text": [
      "2023/08/08 07:13:24 - EmbeddingSimilarityEvaluator: Evaluating the model on sts-dev dataset in epoch 0 after 288 steps:\n"
     ]
    },
    {
     "name": "stderr",
     "output_type": "stream",
     "text": [
      "\n",
      "                                                            \n",
      "Epoch:   0%|          | 0/4 [01:31<?, ?it/s]0:10,  4.18it/s]\u001b[A\n",
      "                                                            \n",
      "Epoch:   0%|          | 0/4 [01:31<?, ?it/s]0:10,  4.18it/s]\u001b[A\n",
      "                                                            \n",
      "Epoch:   0%|          | 0/4 [01:31<?, ?it/s]0:10,  4.18it/s]\u001b[A\n",
      "                                                            \n",
      "Epoch:   0%|          | 0/4 [01:31<?, ?it/s]0:10,  4.18it/s]\u001b[A\n",
      "Iteration:  88%|████████▊ | 288/329 [01:31<00:17,  2.34it/s]\u001b[A"
     ]
    },
    {
     "name": "stdout",
     "output_type": "stream",
     "text": [
      "2023/08/08 07:13:28 - Cosine-Similarity :\tPearson: 0.9553\tSpearman: 0.9119\n",
      "2023/08/08 07:13:28 - Manhattan-Distance:\tPearson: 0.9492\tSpearman: 0.9112\n",
      "2023/08/08 07:13:28 - Euclidean-Distance:\tPearson: 0.9491\tSpearman: 0.9113\n",
      "2023/08/08 07:13:28 - Dot-Product-Similarity:\tPearson: 0.9475\tSpearman: 0.8951\n"
     ]
    },
    {
     "name": "stderr",
     "output_type": "stream",
     "text": [
      "\n",
      "Iteration:  88%|████████▊ | 289/329 [01:31<00:16,  2.40it/s]\u001b[A\n",
      "Iteration:  88%|████████▊ | 290/329 [01:32<00:15,  2.46it/s]\u001b[A\n",
      "Iteration:  88%|████████▊ | 291/329 [01:32<00:14,  2.53it/s]\u001b[A\n",
      "Iteration:  89%|████████▉ | 292/329 [01:32<00:14,  2.61it/s]\u001b[A\n",
      "Iteration:  89%|████████▉ | 293/329 [01:32<00:13,  2.68it/s]\u001b[A\n",
      "Iteration:  89%|████████▉ | 294/329 [01:32<00:12,  2.74it/s]\u001b[A\n",
      "Iteration:  90%|████████▉ | 295/329 [01:33<00:12,  2.82it/s]\u001b[A\n",
      "Iteration:  90%|████████▉ | 296/329 [01:33<00:11,  2.90it/s]\u001b[A\n",
      "Iteration:  90%|█████████ | 297/329 [01:33<00:10,  2.96it/s]\u001b[A\n",
      "Iteration:  91%|█████████ | 298/329 [01:33<00:10,  3.03it/s]\u001b[A\n",
      "Iteration:  91%|█████████ | 299/329 [01:33<00:09,  3.10it/s]\u001b[A\n",
      "Iteration:  91%|█████████ | 300/329 [01:34<00:09,  3.14it/s]\u001b[A\n",
      "Iteration:  91%|█████████▏| 301/329 [01:34<00:08,  3.21it/s]\u001b[A\n",
      "Iteration:  92%|█████████▏| 302/329 [01:34<00:08,  3.27it/s]\u001b[A\n",
      "Iteration:  92%|█████████▏| 303/329 [01:34<00:07,  3.33it/s]\u001b[A\n",
      "Iteration:  92%|█████████▏| 304/329 [01:34<00:07,  3.39it/s]\u001b[A\n",
      "Iteration:  93%|█████████▎| 305/329 [01:34<00:06,  3.45it/s]\u001b[A\n",
      "Iteration:  93%|█████████▎| 306/329 [01:35<00:06,  3.51it/s]\u001b[A\n",
      "Iteration:  93%|█████████▎| 307/329 [01:35<00:06,  3.56it/s]\u001b[A\n",
      "Iteration:  94%|█████████▎| 308/329 [01:35<00:05,  3.61it/s]\u001b[A\n",
      "Iteration:  94%|█████████▍| 309/329 [01:35<00:05,  3.67it/s]\u001b[A\n",
      "Iteration:  94%|█████████▍| 310/329 [01:35<00:05,  3.73it/s]\u001b[A\n",
      "Iteration:  95%|█████████▍| 311/329 [01:36<00:04,  3.78it/s]\u001b[A\n",
      "Iteration:  95%|█████████▍| 312/329 [01:36<00:04,  3.84it/s]\u001b[A\n",
      "Iteration:  95%|█████████▌| 313/329 [01:36<00:04,  3.86it/s]\u001b[A\n",
      "Iteration:  95%|█████████▌| 314/329 [01:36<00:03,  3.88it/s]\u001b[A\n",
      "Iteration:  96%|█████████▌| 315/329 [01:36<00:03,  3.94it/s]\u001b[A\n",
      "Iteration:  96%|█████████▌| 316/329 [01:37<00:03,  3.98it/s]\u001b[A\n",
      "Iteration:  96%|█████████▋| 317/329 [01:37<00:02,  4.04it/s]\u001b[A\n",
      "Iteration:  97%|█████████▋| 318/329 [01:37<00:02,  4.07it/s]\u001b[A\n",
      "Iteration:  97%|█████████▋| 319/329 [01:37<00:02,  4.13it/s]\u001b[A\n",
      "                                                            \n",
      "Epoch:   0%|          | 0/4 [01:38<?, ?it/s]0:02,  4.13it/s]\u001b[A"
     ]
    },
    {
     "name": "stdout",
     "output_type": "stream",
     "text": [
      "2023/08/08 07:13:34 - EmbeddingSimilarityEvaluator: Evaluating the model on sts-dev dataset in epoch 0 after 320 steps:\n"
     ]
    },
    {
     "name": "stderr",
     "output_type": "stream",
     "text": [
      "\n",
      "                                                            \n",
      "Epoch:   0%|          | 0/4 [01:41<?, ?it/s]0:02,  4.13it/s]\u001b[A\n",
      "                                                            \n",
      "Epoch:   0%|          | 0/4 [01:41<?, ?it/s]0:02,  4.13it/s]\u001b[A\n",
      "                                                            \n",
      "Epoch:   0%|          | 0/4 [01:41<?, ?it/s]0:02,  4.13it/s]\u001b[A\n",
      "                                                            \n",
      "Epoch:   0%|          | 0/4 [01:41<?, ?it/s]0:02,  4.13it/s]\u001b[A\n",
      "                                                            \n",
      "Epoch:   0%|          | 0/4 [01:41<?, ?it/s]0:02,  4.13it/s]\u001b[A"
     ]
    },
    {
     "name": "stdout",
     "output_type": "stream",
     "text": [
      "2023/08/08 07:13:38 - Cosine-Similarity :\tPearson: 0.9579\tSpearman: 0.9172\n",
      "2023/08/08 07:13:38 - Manhattan-Distance:\tPearson: 0.9529\tSpearman: 0.9168\n",
      "2023/08/08 07:13:38 - Euclidean-Distance:\tPearson: 0.9528\tSpearman: 0.9165\n",
      "2023/08/08 07:13:38 - Dot-Product-Similarity:\tPearson: 0.9522\tSpearman: 0.9035\n",
      "2023/08/08 07:13:38 - Save model to output/training_sts_by_Softmaxlossklue-roberta-base-2023-08-08_07-08-05\n"
     ]
    },
    {
     "name": "stderr",
     "output_type": "stream",
     "text": [
      "\n",
      "Iteration:  97%|█████████▋| 320/329 [01:42<00:04,  2.17it/s]\u001b[A\n",
      "Iteration:  98%|█████████▊| 321/329 [01:42<00:03,  2.24it/s]\u001b[A\n",
      "Iteration:  98%|█████████▊| 322/329 [01:42<00:03,  2.30it/s]\u001b[A\n",
      "Iteration:  98%|█████████▊| 323/329 [01:42<00:02,  2.36it/s]\u001b[A\n",
      "Iteration:  98%|█████████▊| 324/329 [01:43<00:02,  2.42it/s]\u001b[A\n",
      "Iteration:  99%|█████████▉| 325/329 [01:43<00:01,  2.49it/s]\u001b[A\n",
      "Iteration:  99%|█████████▉| 326/329 [01:43<00:01,  2.56it/s]\u001b[A\n",
      "Iteration:  99%|█████████▉| 327/329 [01:43<00:00,  2.63it/s]\u001b[A\n",
      "Iteration: 100%|█████████▉| 328/329 [01:43<00:00,  2.69it/s]\u001b[A\n",
      "Iteration: 100%|██████████| 329/329 [01:44<00:00,  3.16it/s]\u001b[A\n",
      "Epoch:   0%|          | 0/4 [01:44<?, ?it/s]"
     ]
    },
    {
     "name": "stdout",
     "output_type": "stream",
     "text": [
      "2023/08/08 07:13:40 - EmbeddingSimilarityEvaluator: Evaluating the model on sts-dev dataset after epoch 0:\n"
     ]
    },
    {
     "name": "stderr",
     "output_type": "stream",
     "text": [
      "Epoch:   0%|          | 0/4 [01:47<?, ?it/s]"
     ]
    },
    {
     "name": "stdout",
     "output_type": "stream",
     "text": [
      "2023/08/08 07:13:44 - Cosine-Similarity :\tPearson: 0.9585\tSpearman: 0.9183\n",
      "2023/08/08 07:13:44 - Manhattan-Distance:\tPearson: 0.9548\tSpearman: 0.9178\n",
      "2023/08/08 07:13:44 - Euclidean-Distance:\tPearson: 0.9547\tSpearman: 0.9178\n",
      "2023/08/08 07:13:44 - Dot-Product-Similarity:\tPearson: 0.9525\tSpearman: 0.9044\n",
      "2023/08/08 07:13:44 - Save model to output/training_sts_by_Softmaxlossklue-roberta-base-2023-08-08_07-08-05\n"
     ]
    },
    {
     "name": "stderr",
     "output_type": "stream",
     "text": [
      "Epoch:  25%|██▌       | 1/4 [01:48<05:25, 108.46s/it]\n",
      "Iteration:   0%|          | 0/329 [00:00<?, ?it/s]\u001b[A\n",
      "Iteration:   0%|          | 1/329 [00:00<00:56,  5.85it/s]\u001b[A\n",
      "Iteration:   1%|          | 2/329 [00:00<00:56,  5.81it/s]\u001b[A\n",
      "Iteration:   1%|          | 3/329 [00:00<00:59,  5.52it/s]\u001b[A\n",
      "Iteration:   1%|          | 4/329 [00:00<00:58,  5.53it/s]\u001b[A\n",
      "Iteration:   2%|▏         | 5/329 [00:00<00:59,  5.41it/s]\u001b[A\n",
      "Iteration:   2%|▏         | 6/329 [00:01<00:59,  5.47it/s]\u001b[A\n",
      "Iteration:   2%|▏         | 7/329 [00:01<00:58,  5.51it/s]\u001b[A\n",
      "Iteration:   2%|▏         | 8/329 [00:01<00:57,  5.60it/s]\u001b[A\n",
      "Iteration:   3%|▎         | 9/329 [00:01<00:58,  5.46it/s]\u001b[A\n",
      "Iteration:   3%|▎         | 10/329 [00:01<00:58,  5.48it/s]\u001b[A\n",
      "Iteration:   3%|▎         | 11/329 [00:02<00:58,  5.40it/s]\u001b[A\n",
      "Iteration:   4%|▎         | 12/329 [00:02<00:58,  5.41it/s]\u001b[A\n",
      "Iteration:   4%|▍         | 13/329 [00:02<00:58,  5.40it/s]\u001b[A\n",
      "Iteration:   4%|▍         | 14/329 [00:02<01:00,  5.24it/s]\u001b[A\n",
      "Iteration:   5%|▍         | 15/329 [00:02<01:00,  5.18it/s]\u001b[A\n",
      "Iteration:   5%|▍         | 16/329 [00:03<01:00,  5.19it/s]\u001b[A\n",
      "Iteration:   5%|▌         | 17/329 [00:03<01:00,  5.15it/s]\u001b[A\n",
      "Iteration:   5%|▌         | 18/329 [00:03<01:00,  5.14it/s]\u001b[A\n",
      "Iteration:   6%|▌         | 19/329 [00:03<00:59,  5.18it/s]\u001b[A\n",
      "Iteration:   6%|▌         | 20/329 [00:03<00:59,  5.22it/s]\u001b[A\n",
      "Iteration:   6%|▋         | 21/329 [00:03<00:58,  5.24it/s]\u001b[A\n",
      "Iteration:   7%|▋         | 22/329 [00:04<00:59,  5.17it/s]\u001b[A\n",
      "Iteration:   7%|▋         | 23/329 [00:04<00:58,  5.21it/s]\u001b[A\n",
      "Iteration:   7%|▋         | 24/329 [00:04<00:58,  5.23it/s]\u001b[A\n",
      "Iteration:   8%|▊         | 25/329 [00:04<00:58,  5.24it/s]\u001b[A\n",
      "Iteration:   8%|▊         | 26/329 [00:04<00:57,  5.25it/s]\u001b[A\n",
      "Iteration:   8%|▊         | 27/329 [00:05<00:57,  5.23it/s]\u001b[A\n",
      "Iteration:   9%|▊         | 28/329 [00:05<00:57,  5.21it/s]\u001b[A\n",
      "Iteration:   9%|▉         | 29/329 [00:05<00:57,  5.22it/s]\u001b[A\n",
      "Iteration:   9%|▉         | 30/329 [00:05<00:56,  5.26it/s]\u001b[A\n",
      "Iteration:   9%|▉         | 31/329 [00:05<00:57,  5.21it/s]\u001b[A\n",
      "                                                           \n",
      "Epoch:  25%|██▌       | 1/4 [01:54<05:25, 108.46s/it]1it/s]\u001b[A"
     ]
    },
    {
     "name": "stdout",
     "output_type": "stream",
     "text": [
      "2023/08/08 07:13:51 - EmbeddingSimilarityEvaluator: Evaluating the model on sts-dev dataset in epoch 1 after 32 steps:\n"
     ]
    },
    {
     "name": "stderr",
     "output_type": "stream",
     "text": [
      "\n",
      "                                                           \n",
      "Epoch:  25%|██▌       | 1/4 [01:58<05:25, 108.46s/it]1it/s]\u001b[A\n",
      "                                                           \n",
      "Epoch:  25%|██▌       | 1/4 [01:58<05:25, 108.46s/it]1it/s]\u001b[A\n",
      "                                                           \n",
      "Epoch:  25%|██▌       | 1/4 [01:58<05:25, 108.46s/it]1it/s]\u001b[A\n",
      "                                                           \n",
      "Epoch:  25%|██▌       | 1/4 [01:58<05:25, 108.46s/it]1it/s]\u001b[A\n",
      "                                                           \n",
      "Epoch:  25%|██▌       | 1/4 [01:58<05:25, 108.46s/it]1it/s]\u001b[A"
     ]
    },
    {
     "name": "stdout",
     "output_type": "stream",
     "text": [
      "2023/08/08 07:13:54 - Cosine-Similarity :\tPearson: 0.9599\tSpearman: 0.9202\n",
      "2023/08/08 07:13:54 - Manhattan-Distance:\tPearson: 0.9541\tSpearman: 0.9192\n",
      "2023/08/08 07:13:54 - Euclidean-Distance:\tPearson: 0.9539\tSpearman: 0.9189\n",
      "2023/08/08 07:13:54 - Dot-Product-Similarity:\tPearson: 0.9515\tSpearman: 0.9044\n",
      "2023/08/08 07:13:54 - Save model to output/training_sts_by_Softmaxlossklue-roberta-base-2023-08-08_07-08-05\n"
     ]
    },
    {
     "name": "stderr",
     "output_type": "stream",
     "text": [
      "\n",
      "Iteration:  10%|▉         | 32/329 [00:10<02:20,  2.12it/s]\u001b[A\n",
      "Iteration:  10%|█         | 33/329 [00:10<02:14,  2.21it/s]\u001b[A\n",
      "Iteration:  10%|█         | 34/329 [00:10<02:08,  2.29it/s]\u001b[A\n",
      "Iteration:  11%|█         | 35/329 [00:11<02:04,  2.37it/s]\u001b[A\n",
      "Iteration:  11%|█         | 36/329 [00:11<01:59,  2.44it/s]\u001b[A\n",
      "Iteration:  11%|█         | 37/329 [00:11<01:55,  2.53it/s]\u001b[A\n",
      "Iteration:  12%|█▏        | 38/329 [00:11<01:51,  2.61it/s]\u001b[A\n",
      "Iteration:  12%|█▏        | 39/329 [00:11<01:47,  2.69it/s]\u001b[A\n",
      "Iteration:  12%|█▏        | 40/329 [00:12<01:43,  2.78it/s]\u001b[A\n",
      "Iteration:  12%|█▏        | 41/329 [00:12<01:40,  2.86it/s]\u001b[A\n",
      "Iteration:  13%|█▎        | 42/329 [00:12<01:37,  2.93it/s]\u001b[A\n",
      "Iteration:  13%|█▎        | 43/329 [00:12<01:34,  3.01it/s]\u001b[A\n",
      "Iteration:  13%|█▎        | 44/329 [00:12<01:32,  3.09it/s]\u001b[A\n",
      "Iteration:  14%|█▎        | 45/329 [00:13<01:30,  3.14it/s]\u001b[A\n",
      "Iteration:  14%|█▍        | 46/329 [00:13<01:27,  3.22it/s]\u001b[A\n",
      "Iteration:  14%|█▍        | 47/329 [00:13<01:25,  3.29it/s]\u001b[A\n",
      "Iteration:  15%|█▍        | 48/329 [00:13<01:23,  3.35it/s]\u001b[A\n",
      "Iteration:  15%|█▍        | 49/329 [00:13<01:21,  3.43it/s]\u001b[A\n",
      "Iteration:  15%|█▌        | 50/329 [00:13<01:19,  3.51it/s]\u001b[A\n",
      "Iteration:  16%|█▌        | 51/329 [00:14<01:17,  3.60it/s]\u001b[A\n",
      "Iteration:  16%|█▌        | 52/329 [00:14<01:15,  3.67it/s]\u001b[A\n",
      "Iteration:  16%|█▌        | 53/329 [00:14<01:13,  3.75it/s]\u001b[A\n",
      "Iteration:  16%|█▋        | 54/329 [00:14<01:12,  3.79it/s]\u001b[A\n",
      "Iteration:  17%|█▋        | 55/329 [00:14<01:11,  3.85it/s]\u001b[A\n",
      "Iteration:  17%|█▋        | 56/329 [00:15<01:10,  3.90it/s]\u001b[A\n",
      "Iteration:  17%|█▋        | 57/329 [00:15<01:08,  3.96it/s]\u001b[A\n",
      "Iteration:  18%|█▊        | 58/329 [00:15<01:07,  4.02it/s]\u001b[A\n",
      "Iteration:  18%|█▊        | 59/329 [00:15<01:06,  4.07it/s]\u001b[A\n",
      "Iteration:  18%|█▊        | 60/329 [00:15<01:05,  4.10it/s]\u001b[A\n",
      "Iteration:  19%|█▊        | 61/329 [00:16<01:04,  4.13it/s]\u001b[A\n",
      "Iteration:  19%|█▉        | 62/329 [00:16<01:03,  4.18it/s]\u001b[A\n",
      "Iteration:  19%|█▉        | 63/329 [00:16<01:03,  4.22it/s]\u001b[A\n",
      "                                                           \n",
      "Epoch:  25%|██▌       | 1/4 [02:05<05:25, 108.46s/it]2it/s]\u001b[A"
     ]
    },
    {
     "name": "stdout",
     "output_type": "stream",
     "text": [
      "2023/08/08 07:14:01 - EmbeddingSimilarityEvaluator: Evaluating the model on sts-dev dataset in epoch 1 after 64 steps:\n"
     ]
    },
    {
     "name": "stderr",
     "output_type": "stream",
     "text": [
      "\n",
      "                                                           \n",
      "Epoch:  25%|██▌       | 1/4 [02:08<05:25, 108.46s/it]2it/s]\u001b[A\n",
      "                                                           \n",
      "Epoch:  25%|██▌       | 1/4 [02:08<05:25, 108.46s/it]2it/s]\u001b[A\n",
      "                                                           \n",
      "Epoch:  25%|██▌       | 1/4 [02:08<05:25, 108.46s/it]2it/s]\u001b[A\n",
      "                                                           \n",
      "Epoch:  25%|██▌       | 1/4 [02:08<05:25, 108.46s/it]2it/s]\u001b[A\n",
      "                                                           \n",
      "Epoch:  25%|██▌       | 1/4 [02:08<05:25, 108.46s/it]2it/s]\u001b[A"
     ]
    },
    {
     "name": "stdout",
     "output_type": "stream",
     "text": [
      "2023/08/08 07:14:05 - Cosine-Similarity :\tPearson: 0.9598\tSpearman: 0.9207\n",
      "2023/08/08 07:14:05 - Manhattan-Distance:\tPearson: 0.9544\tSpearman: 0.9200\n",
      "2023/08/08 07:14:05 - Euclidean-Distance:\tPearson: 0.9543\tSpearman: 0.9198\n",
      "2023/08/08 07:14:05 - Dot-Product-Similarity:\tPearson: 0.9508\tSpearman: 0.9030\n",
      "2023/08/08 07:14:05 - Save model to output/training_sts_by_Softmaxlossklue-roberta-base-2023-08-08_07-08-05\n"
     ]
    },
    {
     "name": "stderr",
     "output_type": "stream",
     "text": [
      "\n",
      "Iteration:  19%|█▉        | 64/329 [00:20<02:02,  2.16it/s]\u001b[A\n",
      "Iteration:  20%|█▉        | 65/329 [00:21<01:58,  2.24it/s]\u001b[A\n",
      "Iteration:  20%|██        | 66/329 [00:21<01:53,  2.31it/s]\u001b[A\n",
      "Iteration:  20%|██        | 67/329 [00:21<01:49,  2.39it/s]\u001b[A\n",
      "Iteration:  21%|██        | 68/329 [00:21<01:46,  2.46it/s]\u001b[A\n",
      "Iteration:  21%|██        | 69/329 [00:21<01:42,  2.53it/s]\u001b[A\n",
      "Iteration:  21%|██▏       | 70/329 [00:22<01:39,  2.60it/s]\u001b[A\n",
      "Iteration:  22%|██▏       | 71/329 [00:22<01:36,  2.66it/s]\u001b[A\n",
      "Iteration:  22%|██▏       | 72/329 [00:22<01:34,  2.73it/s]\u001b[A\n",
      "Iteration:  22%|██▏       | 73/329 [00:22<01:31,  2.81it/s]\u001b[A\n",
      "Iteration:  22%|██▏       | 74/329 [00:22<01:28,  2.88it/s]\u001b[A\n",
      "Iteration:  23%|██▎       | 75/329 [00:23<01:26,  2.92it/s]\u001b[A\n",
      "Iteration:  23%|██▎       | 76/329 [00:23<01:24,  2.98it/s]\u001b[A\n",
      "Iteration:  23%|██▎       | 77/329 [00:23<01:22,  3.04it/s]\u001b[A\n",
      "Iteration:  24%|██▎       | 78/329 [00:23<01:20,  3.12it/s]\u001b[A\n",
      "Iteration:  24%|██▍       | 79/329 [00:23<01:18,  3.18it/s]\u001b[A\n",
      "Iteration:  24%|██▍       | 80/329 [00:24<01:16,  3.24it/s]\u001b[A\n",
      "Iteration:  25%|██▍       | 81/329 [00:24<01:14,  3.31it/s]\u001b[A\n",
      "Iteration:  25%|██▍       | 82/329 [00:24<01:13,  3.35it/s]\u001b[A\n",
      "Iteration:  25%|██▌       | 83/329 [00:24<01:12,  3.40it/s]\u001b[A\n",
      "Iteration:  26%|██▌       | 84/329 [00:24<01:10,  3.48it/s]\u001b[A\n",
      "Iteration:  26%|██▌       | 85/329 [00:24<01:08,  3.56it/s]\u001b[A\n",
      "Iteration:  26%|██▌       | 86/329 [00:25<01:07,  3.60it/s]\u001b[A\n",
      "Iteration:  26%|██▋       | 87/329 [00:25<01:05,  3.68it/s]\u001b[A\n",
      "Iteration:  27%|██▋       | 88/329 [00:25<01:04,  3.75it/s]\u001b[A\n",
      "Iteration:  27%|██▋       | 89/329 [00:25<01:03,  3.81it/s]\u001b[A\n",
      "Iteration:  27%|██▋       | 90/329 [00:25<01:01,  3.88it/s]\u001b[A\n",
      "Iteration:  28%|██▊       | 91/329 [00:26<01:00,  3.91it/s]\u001b[A\n",
      "Iteration:  28%|██▊       | 92/329 [00:26<00:59,  3.98it/s]\u001b[A\n",
      "Iteration:  28%|██▊       | 93/329 [00:26<00:58,  4.04it/s]\u001b[A\n",
      "Iteration:  29%|██▊       | 94/329 [00:26<00:57,  4.09it/s]\u001b[A\n",
      "Iteration:  29%|██▉       | 95/329 [00:26<00:56,  4.13it/s]\u001b[A\n",
      "                                                           \n",
      "Epoch:  25%|██▌       | 1/4 [02:15<05:25, 108.46s/it]3it/s]\u001b[A"
     ]
    },
    {
     "name": "stdout",
     "output_type": "stream",
     "text": [
      "2023/08/08 07:14:12 - EmbeddingSimilarityEvaluator: Evaluating the model on sts-dev dataset in epoch 1 after 96 steps:\n"
     ]
    },
    {
     "name": "stderr",
     "output_type": "stream",
     "text": [
      "\n",
      "                                                           \n",
      "Epoch:  25%|██▌       | 1/4 [02:19<05:25, 108.46s/it]3it/s]\u001b[A\n",
      "                                                           \n",
      "Epoch:  25%|██▌       | 1/4 [02:19<05:25, 108.46s/it]3it/s]\u001b[A\n",
      "                                                           \n",
      "Epoch:  25%|██▌       | 1/4 [02:19<05:25, 108.46s/it]3it/s]\u001b[A\n",
      "                                                           \n",
      "Epoch:  25%|██▌       | 1/4 [02:19<05:25, 108.46s/it]3it/s]\u001b[A\n",
      "Iteration:  29%|██▉       | 96/329 [00:30<01:39,  2.33it/s]\u001b[A"
     ]
    },
    {
     "name": "stdout",
     "output_type": "stream",
     "text": [
      "2023/08/08 07:14:15 - Cosine-Similarity :\tPearson: 0.9579\tSpearman: 0.9163\n",
      "2023/08/08 07:14:15 - Manhattan-Distance:\tPearson: 0.9514\tSpearman: 0.9161\n",
      "2023/08/08 07:14:15 - Euclidean-Distance:\tPearson: 0.9514\tSpearman: 0.9158\n",
      "2023/08/08 07:14:15 - Dot-Product-Similarity:\tPearson: 0.9491\tSpearman: 0.8986\n"
     ]
    },
    {
     "name": "stderr",
     "output_type": "stream",
     "text": [
      "\n",
      "Iteration:  29%|██▉       | 97/329 [00:31<01:37,  2.39it/s]\u001b[A\n",
      "Iteration:  30%|██▉       | 98/329 [00:31<01:34,  2.45it/s]\u001b[A\n",
      "Iteration:  30%|███       | 99/329 [00:31<01:30,  2.53it/s]\u001b[A\n",
      "Iteration:  30%|███       | 100/329 [00:31<01:28,  2.60it/s]\u001b[A\n",
      "Iteration:  31%|███       | 101/329 [00:31<01:25,  2.67it/s]\u001b[A\n",
      "Iteration:  31%|███       | 102/329 [00:31<01:22,  2.74it/s]\u001b[A\n",
      "Iteration:  31%|███▏      | 103/329 [00:32<01:20,  2.81it/s]\u001b[A\n",
      "Iteration:  32%|███▏      | 104/329 [00:32<01:17,  2.89it/s]\u001b[A\n",
      "Iteration:  32%|███▏      | 105/329 [00:32<01:15,  2.95it/s]\u001b[A\n",
      "Iteration:  32%|███▏      | 106/329 [00:32<01:14,  3.00it/s]\u001b[A\n",
      "Iteration:  33%|███▎      | 107/329 [00:32<01:12,  3.05it/s]\u001b[A\n",
      "Iteration:  33%|███▎      | 108/329 [00:33<01:10,  3.12it/s]\u001b[A\n",
      "Iteration:  33%|███▎      | 109/329 [00:33<01:09,  3.18it/s]\u001b[A\n",
      "Iteration:  33%|███▎      | 110/329 [00:33<01:07,  3.25it/s]\u001b[A\n",
      "Iteration:  34%|███▎      | 111/329 [00:33<01:05,  3.31it/s]\u001b[A\n",
      "Iteration:  34%|███▍      | 112/329 [00:33<01:04,  3.38it/s]\u001b[A\n",
      "Iteration:  34%|███▍      | 113/329 [00:34<01:02,  3.44it/s]\u001b[A\n",
      "Iteration:  35%|███▍      | 114/329 [00:34<01:01,  3.49it/s]\u001b[A\n",
      "Iteration:  35%|███▍      | 115/329 [00:34<01:00,  3.55it/s]\u001b[A\n",
      "Iteration:  35%|███▌      | 116/329 [00:34<00:58,  3.64it/s]\u001b[A\n",
      "Iteration:  36%|███▌      | 117/329 [00:34<00:56,  3.72it/s]\u001b[A\n",
      "Iteration:  36%|███▌      | 118/329 [00:34<00:56,  3.75it/s]\u001b[A\n",
      "Iteration:  36%|███▌      | 119/329 [00:35<00:55,  3.81it/s]\u001b[A\n",
      "Iteration:  36%|███▋      | 120/329 [00:35<00:54,  3.86it/s]\u001b[A\n",
      "Iteration:  37%|███▋      | 121/329 [00:35<00:52,  3.93it/s]\u001b[A\n",
      "Iteration:  37%|███▋      | 122/329 [00:35<00:52,  3.97it/s]\u001b[A\n",
      "Iteration:  37%|███▋      | 123/329 [00:35<00:51,  4.03it/s]\u001b[A\n",
      "Iteration:  38%|███▊      | 124/329 [00:36<00:50,  4.07it/s]\u001b[A\n",
      "Iteration:  38%|███▊      | 125/329 [00:36<00:49,  4.12it/s]\u001b[A\n",
      "Iteration:  38%|███▊      | 126/329 [00:36<00:48,  4.19it/s]\u001b[A\n",
      "Iteration:  39%|███▊      | 127/329 [00:36<00:47,  4.23it/s]\u001b[A\n",
      "                                                            \n",
      "Epoch:  25%|██▌       | 1/4 [02:25<05:25, 108.46s/it]23it/s]\u001b[A"
     ]
    },
    {
     "name": "stdout",
     "output_type": "stream",
     "text": [
      "2023/08/08 07:14:21 - EmbeddingSimilarityEvaluator: Evaluating the model on sts-dev dataset in epoch 1 after 128 steps:\n"
     ]
    },
    {
     "name": "stderr",
     "output_type": "stream",
     "text": [
      "\n",
      "                                                            \n",
      "Epoch:  25%|██▌       | 1/4 [02:28<05:25, 108.46s/it]23it/s]\u001b[A\n",
      "                                                            \n",
      "Epoch:  25%|██▌       | 1/4 [02:28<05:25, 108.46s/it]23it/s]\u001b[A\n",
      "                                                            \n",
      "Epoch:  25%|██▌       | 1/4 [02:28<05:25, 108.46s/it]23it/s]\u001b[A\n",
      "                                                            \n",
      "Epoch:  25%|██▌       | 1/4 [02:28<05:25, 108.46s/it]23it/s]\u001b[A\n",
      "Iteration:  39%|███▉      | 128/329 [00:40<01:23,  2.40it/s]\u001b[A"
     ]
    },
    {
     "name": "stdout",
     "output_type": "stream",
     "text": [
      "2023/08/08 07:14:25 - Cosine-Similarity :\tPearson: 0.9597\tSpearman: 0.9186\n",
      "2023/08/08 07:14:25 - Manhattan-Distance:\tPearson: 0.9526\tSpearman: 0.9180\n",
      "2023/08/08 07:14:25 - Euclidean-Distance:\tPearson: 0.9527\tSpearman: 0.9182\n",
      "2023/08/08 07:14:25 - Dot-Product-Similarity:\tPearson: 0.9515\tSpearman: 0.9028\n"
     ]
    },
    {
     "name": "stderr",
     "output_type": "stream",
     "text": [
      "\n",
      "Iteration:  39%|███▉      | 129/329 [00:40<01:21,  2.47it/s]\u001b[A\n",
      "Iteration:  40%|███▉      | 130/329 [00:40<01:18,  2.53it/s]\u001b[A\n",
      "Iteration:  40%|███▉      | 131/329 [00:41<01:16,  2.59it/s]\u001b[A\n",
      "Iteration:  40%|████      | 132/329 [00:41<01:13,  2.67it/s]\u001b[A\n",
      "Iteration:  40%|████      | 133/329 [00:41<01:11,  2.74it/s]\u001b[A\n",
      "Iteration:  41%|████      | 134/329 [00:41<01:09,  2.81it/s]\u001b[A\n",
      "Iteration:  41%|████      | 135/329 [00:41<01:07,  2.88it/s]\u001b[A\n",
      "Iteration:  41%|████▏     | 136/329 [00:41<01:05,  2.94it/s]\u001b[A\n",
      "Iteration:  42%|████▏     | 137/329 [00:42<01:03,  3.00it/s]\u001b[A\n",
      "Iteration:  42%|████▏     | 138/329 [00:42<01:02,  3.07it/s]\u001b[A\n",
      "Iteration:  42%|████▏     | 139/329 [00:42<01:00,  3.13it/s]\u001b[A\n",
      "Iteration:  43%|████▎     | 140/329 [00:42<00:58,  3.21it/s]\u001b[A\n",
      "Iteration:  43%|████▎     | 141/329 [00:42<00:57,  3.28it/s]\u001b[A\n",
      "Iteration:  43%|████▎     | 142/329 [00:43<00:56,  3.34it/s]\u001b[A\n",
      "Iteration:  43%|████▎     | 143/329 [00:43<00:54,  3.41it/s]\u001b[A\n",
      "Iteration:  44%|████▍     | 144/329 [00:43<00:52,  3.49it/s]\u001b[A\n",
      "Iteration:  44%|████▍     | 145/329 [00:43<00:51,  3.55it/s]\u001b[A\n",
      "Iteration:  44%|████▍     | 146/329 [00:43<00:50,  3.62it/s]\u001b[A\n",
      "Iteration:  45%|████▍     | 147/329 [00:44<00:49,  3.66it/s]\u001b[A\n",
      "Iteration:  45%|████▍     | 148/329 [00:44<00:48,  3.71it/s]\u001b[A\n",
      "Iteration:  45%|████▌     | 149/329 [00:44<00:48,  3.74it/s]\u001b[A\n",
      "Iteration:  46%|████▌     | 150/329 [00:44<00:47,  3.78it/s]\u001b[A\n",
      "Iteration:  46%|████▌     | 151/329 [00:44<00:46,  3.84it/s]\u001b[A\n",
      "Iteration:  46%|████▌     | 152/329 [00:45<00:45,  3.90it/s]\u001b[A\n",
      "Iteration:  47%|████▋     | 153/329 [00:45<00:44,  3.95it/s]\u001b[A\n",
      "Iteration:  47%|████▋     | 154/329 [00:45<00:43,  4.01it/s]\u001b[A\n",
      "Iteration:  47%|████▋     | 155/329 [00:45<00:43,  4.02it/s]\u001b[A\n",
      "Iteration:  47%|████▋     | 156/329 [00:45<00:42,  4.06it/s]\u001b[A\n",
      "Iteration:  48%|████▊     | 157/329 [00:46<00:41,  4.10it/s]\u001b[A\n",
      "Iteration:  48%|████▊     | 158/329 [00:46<00:41,  4.15it/s]\u001b[A\n",
      "Iteration:  48%|████▊     | 159/329 [00:46<00:40,  4.23it/s]\u001b[A\n",
      "                                                            \n",
      "Epoch:  25%|██▌       | 1/4 [02:35<05:25, 108.46s/it]23it/s]\u001b[A"
     ]
    },
    {
     "name": "stdout",
     "output_type": "stream",
     "text": [
      "2023/08/08 07:14:31 - EmbeddingSimilarityEvaluator: Evaluating the model on sts-dev dataset in epoch 1 after 160 steps:\n"
     ]
    },
    {
     "name": "stderr",
     "output_type": "stream",
     "text": [
      "\n",
      "                                                            \n",
      "Epoch:  25%|██▌       | 1/4 [02:38<05:25, 108.46s/it]23it/s]\u001b[A\n",
      "                                                            \n",
      "Epoch:  25%|██▌       | 1/4 [02:38<05:25, 108.46s/it]23it/s]\u001b[A\n",
      "                                                            \n",
      "Epoch:  25%|██▌       | 1/4 [02:38<05:25, 108.46s/it]23it/s]\u001b[A\n",
      "                                                            \n",
      "Epoch:  25%|██▌       | 1/4 [02:38<05:25, 108.46s/it]23it/s]\u001b[A\n",
      "Iteration:  49%|████▊     | 160/329 [00:50<01:11,  2.38it/s]\u001b[A"
     ]
    },
    {
     "name": "stdout",
     "output_type": "stream",
     "text": [
      "2023/08/08 07:14:35 - Cosine-Similarity :\tPearson: 0.9613\tSpearman: 0.9206\n",
      "2023/08/08 07:14:35 - Manhattan-Distance:\tPearson: 0.9557\tSpearman: 0.9195\n",
      "2023/08/08 07:14:35 - Euclidean-Distance:\tPearson: 0.9557\tSpearman: 0.9194\n",
      "2023/08/08 07:14:35 - Dot-Product-Similarity:\tPearson: 0.9559\tSpearman: 0.9091\n"
     ]
    },
    {
     "name": "stderr",
     "output_type": "stream",
     "text": [
      "\n",
      "Iteration:  49%|████▉     | 161/329 [00:50<01:08,  2.45it/s]\u001b[A\n",
      "Iteration:  49%|████▉     | 162/329 [00:50<01:06,  2.51it/s]\u001b[A\n",
      "Iteration:  50%|████▉     | 163/329 [00:50<01:04,  2.57it/s]\u001b[A\n",
      "Iteration:  50%|████▉     | 164/329 [00:51<01:02,  2.64it/s]\u001b[A\n",
      "Iteration:  50%|█████     | 165/329 [00:51<01:00,  2.70it/s]\u001b[A\n",
      "Iteration:  50%|█████     | 166/329 [00:51<00:58,  2.78it/s]\u001b[A\n",
      "Iteration:  51%|█████     | 167/329 [00:51<00:56,  2.85it/s]\u001b[A\n",
      "Iteration:  51%|█████     | 168/329 [00:51<00:55,  2.92it/s]\u001b[A\n",
      "Iteration:  51%|█████▏    | 169/329 [00:51<00:53,  3.00it/s]\u001b[A\n",
      "Iteration:  52%|█████▏    | 170/329 [00:52<00:51,  3.06it/s]\u001b[A\n",
      "Iteration:  52%|█████▏    | 171/329 [00:52<00:50,  3.13it/s]\u001b[A\n",
      "Iteration:  52%|█████▏    | 172/329 [00:52<00:49,  3.18it/s]\u001b[A\n",
      "Iteration:  53%|█████▎    | 173/329 [00:52<00:47,  3.26it/s]\u001b[A\n",
      "Iteration:  53%|█████▎    | 174/329 [00:52<00:46,  3.32it/s]\u001b[A\n",
      "Iteration:  53%|█████▎    | 175/329 [00:53<00:45,  3.38it/s]\u001b[A\n",
      "Iteration:  53%|█████▎    | 176/329 [00:53<00:44,  3.43it/s]\u001b[A\n",
      "Iteration:  54%|█████▍    | 177/329 [00:53<00:43,  3.47it/s]\u001b[A\n",
      "Iteration:  54%|█████▍    | 178/329 [00:53<00:42,  3.53it/s]\u001b[A\n",
      "Iteration:  54%|█████▍    | 179/329 [00:53<00:41,  3.58it/s]\u001b[A\n",
      "Iteration:  55%|█████▍    | 180/329 [00:54<00:40,  3.64it/s]\u001b[A\n",
      "Iteration:  55%|█████▌    | 181/329 [00:54<00:39,  3.70it/s]\u001b[A\n",
      "Iteration:  55%|█████▌    | 182/329 [00:54<00:39,  3.76it/s]\u001b[A\n",
      "Iteration:  56%|█████▌    | 183/329 [00:54<00:38,  3.82it/s]\u001b[A\n",
      "Iteration:  56%|█████▌    | 184/329 [00:54<00:37,  3.89it/s]\u001b[A\n",
      "Iteration:  56%|█████▌    | 185/329 [00:55<00:36,  3.94it/s]\u001b[A\n",
      "Iteration:  57%|█████▋    | 186/329 [00:55<00:35,  3.99it/s]\u001b[A\n",
      "Iteration:  57%|█████▋    | 187/329 [00:55<00:35,  4.04it/s]\u001b[A\n",
      "Iteration:  57%|█████▋    | 188/329 [00:55<00:34,  4.08it/s]\u001b[A\n",
      "Iteration:  57%|█████▋    | 189/329 [00:55<00:33,  4.14it/s]\u001b[A\n",
      "Iteration:  58%|█████▊    | 190/329 [00:55<00:33,  4.18it/s]\u001b[A\n",
      "Iteration:  58%|█████▊    | 191/329 [00:56<00:32,  4.22it/s]\u001b[A\n",
      "                                                            \n",
      "Epoch:  25%|██▌       | 1/4 [02:44<05:25, 108.46s/it]22it/s]\u001b[A"
     ]
    },
    {
     "name": "stdout",
     "output_type": "stream",
     "text": [
      "2023/08/08 07:14:41 - EmbeddingSimilarityEvaluator: Evaluating the model on sts-dev dataset in epoch 1 after 192 steps:\n"
     ]
    },
    {
     "name": "stderr",
     "output_type": "stream",
     "text": [
      "\n",
      "                                                            \n",
      "Epoch:  25%|██▌       | 1/4 [02:48<05:25, 108.46s/it]22it/s]\u001b[A\n",
      "                                                            \n",
      "Epoch:  25%|██▌       | 1/4 [02:48<05:25, 108.46s/it]22it/s]\u001b[A\n",
      "                                                            \n",
      "Epoch:  25%|██▌       | 1/4 [02:48<05:25, 108.46s/it]22it/s]\u001b[A\n",
      "                                                            \n",
      "Epoch:  25%|██▌       | 1/4 [02:48<05:25, 108.46s/it]22it/s]\u001b[A\n",
      "Iteration:  58%|█████▊    | 192/329 [01:00<00:57,  2.38it/s]\u001b[A"
     ]
    },
    {
     "name": "stdout",
     "output_type": "stream",
     "text": [
      "2023/08/08 07:14:45 - Cosine-Similarity :\tPearson: 0.9592\tSpearman: 0.9192\n",
      "2023/08/08 07:14:45 - Manhattan-Distance:\tPearson: 0.9530\tSpearman: 0.9174\n",
      "2023/08/08 07:14:45 - Euclidean-Distance:\tPearson: 0.9531\tSpearman: 0.9174\n",
      "2023/08/08 07:14:45 - Dot-Product-Similarity:\tPearson: 0.9535\tSpearman: 0.9079\n"
     ]
    },
    {
     "name": "stderr",
     "output_type": "stream",
     "text": [
      "\n",
      "Iteration:  59%|█████▊    | 193/329 [01:00<00:55,  2.44it/s]\u001b[A\n",
      "Iteration:  59%|█████▉    | 194/329 [01:00<00:53,  2.51it/s]\u001b[A\n",
      "Iteration:  59%|█████▉    | 195/329 [01:00<00:51,  2.58it/s]\u001b[A\n",
      "Iteration:  60%|█████▉    | 196/329 [01:00<00:50,  2.64it/s]\u001b[A\n",
      "Iteration:  60%|█████▉    | 197/329 [01:01<00:48,  2.71it/s]\u001b[A\n",
      "Iteration:  60%|██████    | 198/329 [01:01<00:47,  2.79it/s]\u001b[A\n",
      "Iteration:  60%|██████    | 199/329 [01:01<00:45,  2.86it/s]\u001b[A\n",
      "Iteration:  61%|██████    | 200/329 [01:01<00:44,  2.93it/s]\u001b[A\n",
      "Iteration:  61%|██████    | 201/329 [01:01<00:42,  2.98it/s]\u001b[A\n",
      "Iteration:  61%|██████▏   | 202/329 [01:01<00:41,  3.07it/s]\u001b[A\n",
      "Iteration:  62%|██████▏   | 203/329 [01:02<00:40,  3.13it/s]\u001b[A\n",
      "Iteration:  62%|██████▏   | 204/329 [01:02<00:39,  3.20it/s]\u001b[A\n",
      "Iteration:  62%|██████▏   | 205/329 [01:02<00:37,  3.27it/s]\u001b[A\n",
      "Iteration:  63%|██████▎   | 206/329 [01:02<00:37,  3.31it/s]\u001b[A\n",
      "Iteration:  63%|██████▎   | 207/329 [01:02<00:36,  3.38it/s]\u001b[A\n",
      "Iteration:  63%|██████▎   | 208/329 [01:03<00:35,  3.43it/s]\u001b[A\n",
      "Iteration:  64%|██████▎   | 209/329 [01:03<00:34,  3.49it/s]\u001b[A\n",
      "Iteration:  64%|██████▍   | 210/329 [01:03<00:33,  3.56it/s]\u001b[A\n",
      "Iteration:  64%|██████▍   | 211/329 [01:03<00:32,  3.60it/s]\u001b[A\n",
      "Iteration:  64%|██████▍   | 212/329 [01:03<00:32,  3.65it/s]\u001b[A\n",
      "Iteration:  65%|██████▍   | 213/329 [01:04<00:31,  3.72it/s]\u001b[A\n",
      "Iteration:  65%|██████▌   | 214/329 [01:04<00:30,  3.79it/s]\u001b[A\n",
      "Iteration:  65%|██████▌   | 215/329 [01:04<00:29,  3.86it/s]\u001b[A\n",
      "Iteration:  66%|██████▌   | 216/329 [01:04<00:28,  3.92it/s]\u001b[A\n",
      "Iteration:  66%|██████▌   | 217/329 [01:04<00:28,  3.95it/s]\u001b[A\n",
      "Iteration:  66%|██████▋   | 218/329 [01:04<00:27,  3.99it/s]\u001b[A\n",
      "Iteration:  67%|██████▋   | 219/329 [01:05<00:27,  4.05it/s]\u001b[A\n",
      "Iteration:  67%|██████▋   | 220/329 [01:05<00:26,  4.10it/s]\u001b[A\n",
      "Iteration:  67%|██████▋   | 221/329 [01:05<00:26,  4.11it/s]\u001b[A\n",
      "Iteration:  67%|██████▋   | 222/329 [01:05<00:25,  4.16it/s]\u001b[A\n",
      "Iteration:  68%|██████▊   | 223/329 [01:05<00:25,  4.20it/s]\u001b[A\n",
      "                                                            \n",
      "Epoch:  25%|██▌       | 1/4 [02:54<05:25, 108.46s/it]20it/s]\u001b[A"
     ]
    },
    {
     "name": "stdout",
     "output_type": "stream",
     "text": [
      "2023/08/08 07:14:51 - EmbeddingSimilarityEvaluator: Evaluating the model on sts-dev dataset in epoch 1 after 224 steps:\n"
     ]
    },
    {
     "name": "stderr",
     "output_type": "stream",
     "text": [
      "\n",
      "                                                            \n",
      "Epoch:  25%|██▌       | 1/4 [02:58<05:25, 108.46s/it]20it/s]\u001b[A\n",
      "                                                            \n",
      "Epoch:  25%|██▌       | 1/4 [02:58<05:25, 108.46s/it]20it/s]\u001b[A\n",
      "                                                            \n",
      "Epoch:  25%|██▌       | 1/4 [02:58<05:25, 108.46s/it]20it/s]\u001b[A\n",
      "                                                            \n",
      "Epoch:  25%|██▌       | 1/4 [02:58<05:25, 108.46s/it]20it/s]\u001b[A\n",
      "                                                            \n",
      "Epoch:  25%|██▌       | 1/4 [02:58<05:25, 108.46s/it]20it/s]\u001b[A"
     ]
    },
    {
     "name": "stdout",
     "output_type": "stream",
     "text": [
      "2023/08/08 07:14:54 - Cosine-Similarity :\tPearson: 0.9618\tSpearman: 0.9227\n",
      "2023/08/08 07:14:54 - Manhattan-Distance:\tPearson: 0.9545\tSpearman: 0.9207\n",
      "2023/08/08 07:14:54 - Euclidean-Distance:\tPearson: 0.9544\tSpearman: 0.9206\n",
      "2023/08/08 07:14:54 - Dot-Product-Similarity:\tPearson: 0.9538\tSpearman: 0.9099\n",
      "2023/08/08 07:14:54 - Save model to output/training_sts_by_Softmaxlossklue-roberta-base-2023-08-08_07-08-05\n"
     ]
    },
    {
     "name": "stderr",
     "output_type": "stream",
     "text": [
      "\n",
      "Iteration:  68%|██████▊   | 224/329 [01:10<00:48,  2.18it/s]\u001b[A\n",
      "Iteration:  68%|██████▊   | 225/329 [01:10<00:46,  2.25it/s]\u001b[A\n",
      "Iteration:  69%|██████▊   | 226/329 [01:11<00:44,  2.31it/s]\u001b[A\n",
      "Iteration:  69%|██████▉   | 227/329 [01:11<00:43,  2.37it/s]\u001b[A\n",
      "Iteration:  69%|██████▉   | 228/329 [01:11<00:41,  2.44it/s]\u001b[A\n",
      "Iteration:  70%|██████▉   | 229/329 [01:11<00:40,  2.49it/s]\u001b[A\n",
      "Iteration:  70%|██████▉   | 230/329 [01:11<00:38,  2.54it/s]\u001b[A\n",
      "Iteration:  70%|███████   | 231/329 [01:12<00:37,  2.61it/s]\u001b[A\n",
      "Iteration:  71%|███████   | 232/329 [01:12<00:36,  2.68it/s]\u001b[A\n",
      "Iteration:  71%|███████   | 233/329 [01:12<00:34,  2.76it/s]\u001b[A\n",
      "Iteration:  71%|███████   | 234/329 [01:12<00:33,  2.82it/s]\u001b[A\n",
      "Iteration:  71%|███████▏  | 235/329 [01:12<00:32,  2.90it/s]\u001b[A\n",
      "Iteration:  72%|███████▏  | 236/329 [01:12<00:31,  2.96it/s]\u001b[A\n",
      "Iteration:  72%|███████▏  | 237/329 [01:13<00:30,  3.01it/s]\u001b[A\n",
      "Iteration:  72%|███████▏  | 238/329 [01:13<00:29,  3.05it/s]\u001b[A\n",
      "Iteration:  73%|███████▎  | 239/329 [01:13<00:28,  3.11it/s]\u001b[A\n",
      "Iteration:  73%|███████▎  | 240/329 [01:13<00:27,  3.18it/s]\u001b[A\n",
      "Iteration:  73%|███████▎  | 241/329 [01:14<00:26,  3.26it/s]\u001b[A\n",
      "Iteration:  74%|███████▎  | 242/329 [01:14<00:26,  3.32it/s]\u001b[A\n",
      "Iteration:  74%|███████▍  | 243/329 [01:14<00:25,  3.38it/s]\u001b[A\n",
      "Iteration:  74%|███████▍  | 244/329 [01:14<00:24,  3.45it/s]\u001b[A\n",
      "Iteration:  74%|███████▍  | 245/329 [01:14<00:23,  3.50it/s]\u001b[A\n",
      "Iteration:  75%|███████▍  | 246/329 [01:14<00:23,  3.56it/s]\u001b[A\n",
      "Iteration:  75%|███████▌  | 247/329 [01:15<00:22,  3.63it/s]\u001b[A\n",
      "Iteration:  75%|███████▌  | 248/329 [01:15<00:21,  3.69it/s]\u001b[A\n",
      "Iteration:  76%|███████▌  | 249/329 [01:15<00:21,  3.75it/s]\u001b[A\n",
      "Iteration:  76%|███████▌  | 250/329 [01:15<00:20,  3.82it/s]\u001b[A\n",
      "Iteration:  76%|███████▋  | 251/329 [01:15<00:20,  3.89it/s]\u001b[A\n",
      "Iteration:  77%|███████▋  | 252/329 [01:16<00:19,  3.94it/s]\u001b[A\n",
      "Iteration:  77%|███████▋  | 253/329 [01:16<00:19,  4.00it/s]\u001b[A\n",
      "Iteration:  77%|███████▋  | 254/329 [01:16<00:18,  4.03it/s]\u001b[A\n",
      "Iteration:  78%|███████▊  | 255/329 [01:16<00:18,  4.08it/s]\u001b[A\n",
      "                                                            \n",
      "Epoch:  25%|██▌       | 1/4 [03:05<05:25, 108.46s/it]08it/s]\u001b[A"
     ]
    },
    {
     "name": "stdout",
     "output_type": "stream",
     "text": [
      "2023/08/08 07:15:01 - EmbeddingSimilarityEvaluator: Evaluating the model on sts-dev dataset in epoch 1 after 256 steps:\n"
     ]
    },
    {
     "name": "stderr",
     "output_type": "stream",
     "text": [
      "\n",
      "                                                            \n",
      "Epoch:  25%|██▌       | 1/4 [03:08<05:25, 108.46s/it]08it/s]\u001b[A\n",
      "                                                            \n",
      "Epoch:  25%|██▌       | 1/4 [03:09<05:25, 108.46s/it]08it/s]\u001b[A\n",
      "                                                            \n",
      "Epoch:  25%|██▌       | 1/4 [03:09<05:25, 108.46s/it]08it/s]\u001b[A\n",
      "                                                            \n",
      "Epoch:  25%|██▌       | 1/4 [03:09<05:25, 108.46s/it]08it/s]\u001b[A\n",
      "Iteration:  78%|███████▊  | 256/329 [01:20<00:31,  2.32it/s]\u001b[A"
     ]
    },
    {
     "name": "stdout",
     "output_type": "stream",
     "text": [
      "2023/08/08 07:15:05 - Cosine-Similarity :\tPearson: 0.9607\tSpearman: 0.9203\n",
      "2023/08/08 07:15:05 - Manhattan-Distance:\tPearson: 0.9566\tSpearman: 0.9197\n",
      "2023/08/08 07:15:05 - Euclidean-Distance:\tPearson: 0.9564\tSpearman: 0.9193\n",
      "2023/08/08 07:15:05 - Dot-Product-Similarity:\tPearson: 0.9535\tSpearman: 0.9056\n"
     ]
    },
    {
     "name": "stderr",
     "output_type": "stream",
     "text": [
      "\n",
      "Iteration:  78%|███████▊  | 257/329 [01:20<00:30,  2.38it/s]\u001b[A\n",
      "Iteration:  78%|███████▊  | 258/329 [01:21<00:29,  2.44it/s]\u001b[A\n",
      "Iteration:  79%|███████▊  | 259/329 [01:21<00:27,  2.50it/s]\u001b[A\n",
      "Iteration:  79%|███████▉  | 260/329 [01:21<00:26,  2.57it/s]\u001b[A\n",
      "Iteration:  79%|███████▉  | 261/329 [01:21<00:25,  2.64it/s]\u001b[A\n",
      "Iteration:  80%|███████▉  | 262/329 [01:21<00:24,  2.71it/s]\u001b[A\n",
      "Iteration:  80%|███████▉  | 263/329 [01:21<00:23,  2.77it/s]\u001b[A\n",
      "Iteration:  80%|████████  | 264/329 [01:22<00:22,  2.84it/s]\u001b[A\n",
      "Iteration:  81%|████████  | 265/329 [01:22<00:22,  2.88it/s]\u001b[A\n",
      "Iteration:  81%|████████  | 266/329 [01:22<00:21,  2.94it/s]\u001b[A\n",
      "Iteration:  81%|████████  | 267/329 [01:22<00:20,  3.00it/s]\u001b[A\n",
      "Iteration:  81%|████████▏ | 268/329 [01:23<00:19,  3.07it/s]\u001b[A\n",
      "Iteration:  82%|████████▏ | 269/329 [01:23<00:19,  3.14it/s]\u001b[A\n",
      "Iteration:  82%|████████▏ | 270/329 [01:23<00:18,  3.22it/s]\u001b[A\n",
      "Iteration:  82%|████████▏ | 271/329 [01:23<00:17,  3.28it/s]\u001b[A\n",
      "Iteration:  83%|████████▎ | 272/329 [01:23<00:16,  3.35it/s]\u001b[A\n",
      "Iteration:  83%|████████▎ | 273/329 [01:23<00:16,  3.42it/s]\u001b[A\n",
      "Iteration:  83%|████████▎ | 274/329 [01:24<00:15,  3.46it/s]\u001b[A\n",
      "Iteration:  84%|████████▎ | 275/329 [01:24<00:15,  3.53it/s]\u001b[A\n",
      "Iteration:  84%|████████▍ | 276/329 [01:24<00:14,  3.60it/s]\u001b[A\n",
      "Iteration:  84%|████████▍ | 277/329 [01:24<00:14,  3.65it/s]\u001b[A\n",
      "Iteration:  84%|████████▍ | 278/329 [01:24<00:13,  3.71it/s]\u001b[A\n",
      "Iteration:  85%|████████▍ | 279/329 [01:25<00:13,  3.76it/s]\u001b[A\n",
      "Iteration:  85%|████████▌ | 280/329 [01:25<00:12,  3.82it/s]\u001b[A\n",
      "Iteration:  85%|████████▌ | 281/329 [01:25<00:12,  3.88it/s]\u001b[A\n",
      "Iteration:  86%|████████▌ | 282/329 [01:25<00:11,  3.93it/s]\u001b[A\n",
      "Iteration:  86%|████████▌ | 283/329 [01:25<00:11,  3.98it/s]\u001b[A\n",
      "Iteration:  86%|████████▋ | 284/329 [01:25<00:11,  4.04it/s]\u001b[A\n",
      "Iteration:  87%|████████▋ | 285/329 [01:26<00:10,  4.08it/s]\u001b[A\n",
      "Iteration:  87%|████████▋ | 286/329 [01:26<00:10,  4.08it/s]\u001b[A\n",
      "Iteration:  87%|████████▋ | 287/329 [01:26<00:10,  4.14it/s]\u001b[A\n",
      "                                                            \n",
      "Epoch:  25%|██▌       | 1/4 [03:15<05:25, 108.46s/it]14it/s]\u001b[A"
     ]
    },
    {
     "name": "stdout",
     "output_type": "stream",
     "text": [
      "2023/08/08 07:15:11 - EmbeddingSimilarityEvaluator: Evaluating the model on sts-dev dataset in epoch 1 after 288 steps:\n"
     ]
    },
    {
     "name": "stderr",
     "output_type": "stream",
     "text": [
      "\n",
      "                                                            \n",
      "Epoch:  25%|██▌       | 1/4 [03:18<05:25, 108.46s/it]14it/s]\u001b[A\n",
      "                                                            \n",
      "Epoch:  25%|██▌       | 1/4 [03:18<05:25, 108.46s/it]14it/s]\u001b[A\n",
      "                                                            \n",
      "Epoch:  25%|██▌       | 1/4 [03:18<05:25, 108.46s/it]14it/s]\u001b[A\n",
      "                                                            \n",
      "Epoch:  25%|██▌       | 1/4 [03:18<05:25, 108.46s/it]14it/s]\u001b[A\n",
      "Iteration:  88%|████████▊ | 288/329 [01:30<00:17,  2.34it/s]\u001b[A"
     ]
    },
    {
     "name": "stdout",
     "output_type": "stream",
     "text": [
      "2023/08/08 07:15:15 - Cosine-Similarity :\tPearson: 0.9603\tSpearman: 0.9182\n",
      "2023/08/08 07:15:15 - Manhattan-Distance:\tPearson: 0.9546\tSpearman: 0.9174\n",
      "2023/08/08 07:15:15 - Euclidean-Distance:\tPearson: 0.9547\tSpearman: 0.9174\n",
      "2023/08/08 07:15:15 - Dot-Product-Similarity:\tPearson: 0.9519\tSpearman: 0.9024\n"
     ]
    },
    {
     "name": "stderr",
     "output_type": "stream",
     "text": [
      "\n",
      "Iteration:  88%|████████▊ | 289/329 [01:30<00:16,  2.41it/s]\u001b[A\n",
      "Iteration:  88%|████████▊ | 290/329 [01:30<00:15,  2.48it/s]\u001b[A\n",
      "Iteration:  88%|████████▊ | 291/329 [01:31<00:14,  2.55it/s]\u001b[A\n",
      "Iteration:  89%|████████▉ | 292/329 [01:31<00:14,  2.62it/s]\u001b[A\n",
      "Iteration:  89%|████████▉ | 293/329 [01:31<00:13,  2.68it/s]\u001b[A\n",
      "Iteration:  89%|████████▉ | 294/329 [01:31<00:12,  2.76it/s]\u001b[A\n",
      "Iteration:  90%|████████▉ | 295/329 [01:31<00:12,  2.82it/s]\u001b[A\n",
      "Iteration:  90%|████████▉ | 296/329 [01:32<00:11,  2.90it/s]\u001b[A\n",
      "Iteration:  90%|█████████ | 297/329 [01:32<00:10,  2.98it/s]\u001b[A\n",
      "Iteration:  91%|█████████ | 298/329 [01:32<00:10,  3.05it/s]\u001b[A\n",
      "Iteration:  91%|█████████ | 299/329 [01:32<00:09,  3.11it/s]\u001b[A\n",
      "Iteration:  91%|█████████ | 300/329 [01:32<00:09,  3.18it/s]\u001b[A\n",
      "Iteration:  91%|█████████▏| 301/329 [01:32<00:08,  3.24it/s]\u001b[A\n",
      "Iteration:  92%|█████████▏| 302/329 [01:33<00:08,  3.30it/s]\u001b[A\n",
      "Iteration:  92%|█████████▏| 303/329 [01:33<00:07,  3.36it/s]\u001b[A\n",
      "Iteration:  92%|█████████▏| 304/329 [01:33<00:07,  3.40it/s]\u001b[A\n",
      "Iteration:  93%|█████████▎| 305/329 [01:33<00:06,  3.45it/s]\u001b[A\n",
      "Iteration:  93%|█████████▎| 306/329 [01:33<00:06,  3.51it/s]\u001b[A\n",
      "Iteration:  93%|█████████▎| 307/329 [01:34<00:06,  3.57it/s]\u001b[A\n",
      "Iteration:  94%|█████████▎| 308/329 [01:34<00:05,  3.63it/s]\u001b[A\n",
      "Iteration:  94%|█████████▍| 309/329 [01:34<00:05,  3.70it/s]\u001b[A\n",
      "Iteration:  94%|█████████▍| 310/329 [01:34<00:05,  3.77it/s]\u001b[A\n",
      "Iteration:  95%|█████████▍| 311/329 [01:34<00:04,  3.83it/s]\u001b[A\n",
      "Iteration:  95%|█████████▍| 312/329 [01:35<00:04,  3.87it/s]\u001b[A\n",
      "Iteration:  95%|█████████▌| 313/329 [01:35<00:04,  3.92it/s]\u001b[A\n",
      "Iteration:  95%|█████████▌| 314/329 [01:35<00:03,  3.96it/s]\u001b[A\n",
      "Iteration:  96%|█████████▌| 315/329 [01:35<00:03,  4.02it/s]\u001b[A\n",
      "Iteration:  96%|█████████▌| 316/329 [01:35<00:03,  4.05it/s]\u001b[A\n",
      "Iteration:  96%|█████████▋| 317/329 [01:36<00:02,  4.08it/s]\u001b[A\n",
      "Iteration:  97%|█████████▋| 318/329 [01:36<00:02,  4.12it/s]\u001b[A\n",
      "Iteration:  97%|█████████▋| 319/329 [01:36<00:02,  4.16it/s]\u001b[A\n",
      "                                                            \n",
      "Epoch:  25%|██▌       | 1/4 [03:25<05:25, 108.46s/it]16it/s]\u001b[A"
     ]
    },
    {
     "name": "stdout",
     "output_type": "stream",
     "text": [
      "2023/08/08 07:15:21 - EmbeddingSimilarityEvaluator: Evaluating the model on sts-dev dataset in epoch 1 after 320 steps:\n"
     ]
    },
    {
     "name": "stderr",
     "output_type": "stream",
     "text": [
      "\n",
      "                                                            \n",
      "Epoch:  25%|██▌       | 1/4 [03:28<05:25, 108.46s/it]16it/s]\u001b[A\n",
      "                                                            \n",
      "Epoch:  25%|██▌       | 1/4 [03:28<05:25, 108.46s/it]16it/s]\u001b[A\n",
      "                                                            \n",
      "Epoch:  25%|██▌       | 1/4 [03:28<05:25, 108.46s/it]16it/s]\u001b[A\n",
      "                                                            \n",
      "Epoch:  25%|██▌       | 1/4 [03:28<05:25, 108.46s/it]16it/s]\u001b[A\n",
      "Iteration:  97%|█████████▋| 320/329 [01:40<00:03,  2.35it/s]\u001b[A"
     ]
    },
    {
     "name": "stdout",
     "output_type": "stream",
     "text": [
      "2023/08/08 07:15:25 - Cosine-Similarity :\tPearson: 0.9616\tSpearman: 0.9217\n",
      "2023/08/08 07:15:25 - Manhattan-Distance:\tPearson: 0.9567\tSpearman: 0.9213\n",
      "2023/08/08 07:15:25 - Euclidean-Distance:\tPearson: 0.9565\tSpearman: 0.9206\n",
      "2023/08/08 07:15:25 - Dot-Product-Similarity:\tPearson: 0.9537\tSpearman: 0.9066\n"
     ]
    },
    {
     "name": "stderr",
     "output_type": "stream",
     "text": [
      "\n",
      "Iteration:  98%|█████████▊| 321/329 [01:40<00:03,  2.41it/s]\u001b[A\n",
      "Iteration:  98%|█████████▊| 322/329 [01:40<00:02,  2.49it/s]\u001b[A\n",
      "Iteration:  98%|█████████▊| 323/329 [01:40<00:02,  2.56it/s]\u001b[A\n",
      "Iteration:  98%|█████████▊| 324/329 [01:41<00:01,  2.63it/s]\u001b[A\n",
      "Iteration:  99%|█████████▉| 325/329 [01:41<00:01,  2.71it/s]\u001b[A\n",
      "Iteration:  99%|█████████▉| 326/329 [01:41<00:01,  2.77it/s]\u001b[A\n",
      "Iteration:  99%|█████████▉| 327/329 [01:41<00:00,  2.84it/s]\u001b[A\n",
      "Iteration: 100%|█████████▉| 328/329 [01:41<00:00,  2.90it/s]\u001b[A\n",
      "Iteration: 100%|██████████| 329/329 [01:41<00:00,  3.23it/s]\u001b[A\n",
      "Epoch:  25%|██▌       | 1/4 [03:30<05:25, 108.46s/it]"
     ]
    },
    {
     "name": "stdout",
     "output_type": "stream",
     "text": [
      "2023/08/08 07:15:27 - EmbeddingSimilarityEvaluator: Evaluating the model on sts-dev dataset after epoch 1:\n"
     ]
    },
    {
     "name": "stderr",
     "output_type": "stream",
     "text": [
      "Epoch:  50%|█████     | 2/4 [03:34<03:33, 106.85s/it]"
     ]
    },
    {
     "name": "stdout",
     "output_type": "stream",
     "text": [
      "2023/08/08 07:15:30 - Cosine-Similarity :\tPearson: 0.9615\tSpearman: 0.9199\n",
      "2023/08/08 07:15:30 - Manhattan-Distance:\tPearson: 0.9558\tSpearman: 0.9197\n",
      "2023/08/08 07:15:30 - Euclidean-Distance:\tPearson: 0.9557\tSpearman: 0.9191\n",
      "2023/08/08 07:15:30 - Dot-Product-Similarity:\tPearson: 0.9537\tSpearman: 0.9052\n"
     ]
    },
    {
     "name": "stderr",
     "output_type": "stream",
     "text": [
      "\n",
      "Iteration:   0%|          | 0/329 [00:00<?, ?it/s]\u001b[A\n",
      "Iteration:   0%|          | 1/329 [00:00<01:21,  4.04it/s]\u001b[A\n",
      "Iteration:   1%|          | 2/329 [00:00<01:12,  4.51it/s]\u001b[A\n",
      "Iteration:   1%|          | 3/329 [00:00<01:12,  4.49it/s]\u001b[A\n",
      "Iteration:   1%|          | 4/329 [00:00<01:08,  4.77it/s]\u001b[A\n",
      "Iteration:   2%|▏         | 5/329 [00:01<01:08,  4.71it/s]\u001b[A\n",
      "Iteration:   2%|▏         | 6/329 [00:01<01:07,  4.80it/s]\u001b[A\n",
      "Iteration:   2%|▏         | 7/329 [00:01<01:06,  4.87it/s]\u001b[A\n",
      "Iteration:   2%|▏         | 8/329 [00:01<01:04,  4.94it/s]\u001b[A\n",
      "Iteration:   3%|▎         | 9/329 [00:01<01:03,  5.06it/s]\u001b[A\n",
      "Iteration:   3%|▎         | 10/329 [00:01<01:02,  5.08it/s]\u001b[A\n",
      "Iteration:   3%|▎         | 11/329 [00:02<01:03,  4.98it/s]\u001b[A\n",
      "Iteration:   4%|▎         | 12/329 [00:02<01:03,  5.02it/s]\u001b[A\n",
      "Iteration:   4%|▍         | 13/329 [00:02<01:02,  5.02it/s]\u001b[A\n",
      "Iteration:   4%|▍         | 14/329 [00:02<01:02,  5.02it/s]\u001b[A\n",
      "Iteration:   5%|▍         | 15/329 [00:02<01:01,  5.12it/s]\u001b[A\n",
      "Iteration:   5%|▍         | 16/329 [00:03<01:00,  5.15it/s]\u001b[A\n",
      "Iteration:   5%|▌         | 17/329 [00:03<00:59,  5.21it/s]\u001b[A\n",
      "Iteration:   5%|▌         | 18/329 [00:03<00:59,  5.24it/s]\u001b[A\n",
      "Iteration:   6%|▌         | 19/329 [00:03<00:59,  5.22it/s]\u001b[A\n",
      "Iteration:   6%|▌         | 20/329 [00:03<00:58,  5.29it/s]\u001b[A\n",
      "Iteration:   6%|▋         | 21/329 [00:04<00:58,  5.30it/s]\u001b[A\n",
      "Iteration:   7%|▋         | 22/329 [00:04<00:57,  5.35it/s]\u001b[A\n",
      "Iteration:   7%|▋         | 23/329 [00:04<00:57,  5.37it/s]\u001b[A\n",
      "Iteration:   7%|▋         | 24/329 [00:04<00:56,  5.40it/s]\u001b[A\n",
      "Iteration:   8%|▊         | 25/329 [00:04<00:55,  5.46it/s]\u001b[A\n",
      "Iteration:   8%|▊         | 26/329 [00:04<00:56,  5.34it/s]\u001b[A\n",
      "Iteration:   8%|▊         | 27/329 [00:05<00:56,  5.36it/s]\u001b[A\n",
      "Iteration:   9%|▊         | 28/329 [00:05<00:55,  5.40it/s]\u001b[A\n",
      "Iteration:   9%|▉         | 29/329 [00:05<00:55,  5.38it/s]\u001b[A\n",
      "Iteration:   9%|▉         | 30/329 [00:05<00:55,  5.38it/s]\u001b[A\n",
      "Iteration:   9%|▉         | 31/329 [00:05<00:55,  5.40it/s]\u001b[A\n",
      "                                                           \n",
      "Epoch:  50%|█████     | 2/4 [03:40<03:33, 106.85s/it]0it/s]\u001b[A"
     ]
    },
    {
     "name": "stdout",
     "output_type": "stream",
     "text": [
      "2023/08/08 07:15:36 - EmbeddingSimilarityEvaluator: Evaluating the model on sts-dev dataset in epoch 2 after 32 steps:\n"
     ]
    },
    {
     "name": "stderr",
     "output_type": "stream",
     "text": [
      "\n",
      "                                                           \n",
      "Epoch:  50%|█████     | 2/4 [03:43<03:33, 106.85s/it]0it/s]\u001b[A\n",
      "                                                           \n",
      "Epoch:  50%|█████     | 2/4 [03:43<03:33, 106.85s/it]0it/s]\u001b[A\n",
      "                                                           \n",
      "Epoch:  50%|█████     | 2/4 [03:43<03:33, 106.85s/it]0it/s]\u001b[A\n",
      "                                                           \n",
      "Epoch:  50%|█████     | 2/4 [03:43<03:33, 106.85s/it]0it/s]\u001b[A\n",
      "Iteration:  10%|▉         | 32/329 [00:09<02:03,  2.40it/s]\u001b[A"
     ]
    },
    {
     "name": "stdout",
     "output_type": "stream",
     "text": [
      "2023/08/08 07:15:40 - Cosine-Similarity :\tPearson: 0.9620\tSpearman: 0.9220\n",
      "2023/08/08 07:15:40 - Manhattan-Distance:\tPearson: 0.9573\tSpearman: 0.9216\n",
      "2023/08/08 07:15:40 - Euclidean-Distance:\tPearson: 0.9572\tSpearman: 0.9213\n",
      "2023/08/08 07:15:40 - Dot-Product-Similarity:\tPearson: 0.9549\tSpearman: 0.9084\n"
     ]
    },
    {
     "name": "stderr",
     "output_type": "stream",
     "text": [
      "\n",
      "Iteration:  10%|█         | 33/329 [00:09<01:59,  2.48it/s]\u001b[A\n",
      "Iteration:  10%|█         | 34/329 [00:10<01:54,  2.57it/s]\u001b[A\n",
      "Iteration:  11%|█         | 35/329 [00:10<01:50,  2.66it/s]\u001b[A\n",
      "Iteration:  11%|█         | 36/329 [00:10<01:47,  2.74it/s]\u001b[A\n",
      "Iteration:  11%|█         | 37/329 [00:10<01:43,  2.82it/s]\u001b[A\n",
      "Iteration:  12%|█▏        | 38/329 [00:10<01:40,  2.91it/s]\u001b[A\n",
      "Iteration:  12%|█▏        | 39/329 [00:11<01:37,  2.97it/s]\u001b[A\n",
      "Iteration:  12%|█▏        | 40/329 [00:11<01:35,  3.03it/s]\u001b[A\n",
      "Iteration:  12%|█▏        | 41/329 [00:11<01:32,  3.12it/s]\u001b[A\n",
      "Iteration:  13%|█▎        | 42/329 [00:11<01:30,  3.17it/s]\u001b[A\n",
      "Iteration:  13%|█▎        | 43/329 [00:11<01:28,  3.25it/s]\u001b[A\n",
      "Iteration:  13%|█▎        | 44/329 [00:12<01:25,  3.32it/s]\u001b[A\n",
      "Iteration:  14%|█▎        | 45/329 [00:12<01:24,  3.38it/s]\u001b[A\n",
      "Iteration:  14%|█▍        | 46/329 [00:12<01:22,  3.43it/s]\u001b[A\n",
      "Iteration:  14%|█▍        | 47/329 [00:12<01:20,  3.49it/s]\u001b[A\n",
      "Iteration:  15%|█▍        | 48/329 [00:12<01:19,  3.55it/s]\u001b[A\n",
      "Iteration:  15%|█▍        | 49/329 [00:13<01:17,  3.61it/s]\u001b[A\n",
      "Iteration:  15%|█▌        | 50/329 [00:13<01:16,  3.67it/s]\u001b[A\n",
      "Iteration:  16%|█▌        | 51/329 [00:13<01:14,  3.73it/s]\u001b[A\n",
      "Iteration:  16%|█▌        | 52/329 [00:13<01:13,  3.79it/s]\u001b[A\n",
      "Iteration:  16%|█▌        | 53/329 [00:13<01:11,  3.85it/s]\u001b[A\n",
      "Iteration:  16%|█▋        | 54/329 [00:14<01:10,  3.90it/s]\u001b[A\n",
      "Iteration:  17%|█▋        | 55/329 [00:14<01:08,  3.97it/s]\u001b[A\n",
      "Iteration:  17%|█▋        | 56/329 [00:14<01:07,  4.04it/s]\u001b[A\n",
      "Iteration:  17%|█▋        | 57/329 [00:14<01:06,  4.09it/s]\u001b[A\n",
      "Iteration:  18%|█▊        | 58/329 [00:14<01:05,  4.13it/s]\u001b[A\n",
      "Iteration:  18%|█▊        | 59/329 [00:14<01:04,  4.17it/s]\u001b[A\n",
      "Iteration:  18%|█▊        | 60/329 [00:15<01:03,  4.22it/s]\u001b[A\n",
      "Iteration:  19%|█▊        | 61/329 [00:15<01:02,  4.28it/s]\u001b[A\n",
      "Iteration:  19%|█▉        | 62/329 [00:15<01:01,  4.33it/s]\u001b[A\n",
      "Iteration:  19%|█▉        | 63/329 [00:15<01:01,  4.36it/s]\u001b[A\n",
      "                                                           \n",
      "Epoch:  50%|█████     | 2/4 [03:50<03:33, 106.85s/it]6it/s]\u001b[A"
     ]
    },
    {
     "name": "stdout",
     "output_type": "stream",
     "text": [
      "2023/08/08 07:15:46 - EmbeddingSimilarityEvaluator: Evaluating the model on sts-dev dataset in epoch 2 after 64 steps:\n"
     ]
    },
    {
     "name": "stderr",
     "output_type": "stream",
     "text": [
      "\n",
      "                                                           \n",
      "Epoch:  50%|█████     | 2/4 [03:53<03:33, 106.85s/it]6it/s]\u001b[A\n",
      "                                                           \n",
      "Epoch:  50%|█████     | 2/4 [03:53<03:33, 106.85s/it]6it/s]\u001b[A\n",
      "                                                           \n",
      "Epoch:  50%|█████     | 2/4 [03:53<03:33, 106.85s/it]6it/s]\u001b[A\n",
      "                                                           \n",
      "Epoch:  50%|█████     | 2/4 [03:53<03:33, 106.85s/it]6it/s]\u001b[A\n",
      "                                                           \n",
      "Epoch:  50%|█████     | 2/4 [03:53<03:33, 106.85s/it]6it/s]\u001b[A"
     ]
    },
    {
     "name": "stdout",
     "output_type": "stream",
     "text": [
      "2023/08/08 07:15:50 - Cosine-Similarity :\tPearson: 0.9626\tSpearman: 0.9231\n",
      "2023/08/08 07:15:50 - Manhattan-Distance:\tPearson: 0.9563\tSpearman: 0.9217\n",
      "2023/08/08 07:15:50 - Euclidean-Distance:\tPearson: 0.9564\tSpearman: 0.9216\n",
      "2023/08/08 07:15:50 - Dot-Product-Similarity:\tPearson: 0.9543\tSpearman: 0.9088\n",
      "2023/08/08 07:15:50 - Save model to output/training_sts_by_Softmaxlossklue-roberta-base-2023-08-08_07-08-05\n"
     ]
    },
    {
     "name": "stderr",
     "output_type": "stream",
     "text": [
      "\n",
      "Iteration:  19%|█▉        | 64/329 [00:20<02:01,  2.18it/s]\u001b[A\n",
      "Iteration:  20%|█▉        | 65/329 [00:20<01:57,  2.25it/s]\u001b[A\n",
      "Iteration:  20%|██        | 66/329 [00:20<01:53,  2.32it/s]\u001b[A\n",
      "Iteration:  20%|██        | 67/329 [00:20<01:49,  2.39it/s]\u001b[A\n",
      "Iteration:  21%|██        | 68/329 [00:21<01:45,  2.46it/s]\u001b[A\n",
      "Iteration:  21%|██        | 69/329 [00:21<01:42,  2.53it/s]\u001b[A\n",
      "Iteration:  21%|██▏       | 70/329 [00:21<01:39,  2.61it/s]\u001b[A\n",
      "Iteration:  22%|██▏       | 71/329 [00:21<01:36,  2.68it/s]\u001b[A\n",
      "Iteration:  22%|██▏       | 72/329 [00:21<01:33,  2.76it/s]\u001b[A\n",
      "Iteration:  22%|██▏       | 73/329 [00:21<01:30,  2.83it/s]\u001b[A\n",
      "Iteration:  22%|██▏       | 74/329 [00:22<01:27,  2.90it/s]\u001b[A\n",
      "Iteration:  23%|██▎       | 75/329 [00:22<01:25,  2.97it/s]\u001b[A\n",
      "Iteration:  23%|██▎       | 76/329 [00:22<01:23,  3.04it/s]\u001b[A\n",
      "Iteration:  23%|██▎       | 77/329 [00:22<01:21,  3.11it/s]\u001b[A\n",
      "Iteration:  24%|██▎       | 78/329 [00:22<01:19,  3.16it/s]\u001b[A\n",
      "Iteration:  24%|██▍       | 79/329 [00:23<01:17,  3.23it/s]\u001b[A\n",
      "Iteration:  24%|██▍       | 80/329 [00:23<01:15,  3.29it/s]\u001b[A\n",
      "Iteration:  25%|██▍       | 81/329 [00:23<01:13,  3.38it/s]\u001b[A\n",
      "Iteration:  25%|██▍       | 82/329 [00:23<01:11,  3.45it/s]\u001b[A\n",
      "Iteration:  25%|██▌       | 83/329 [00:23<01:10,  3.51it/s]\u001b[A\n",
      "Iteration:  26%|██▌       | 84/329 [00:23<01:08,  3.59it/s]\u001b[A\n",
      "Iteration:  26%|██▌       | 85/329 [00:24<01:06,  3.66it/s]\u001b[A\n",
      "Iteration:  26%|██▌       | 86/329 [00:24<01:05,  3.72it/s]\u001b[A\n",
      "Iteration:  26%|██▋       | 87/329 [00:24<01:04,  3.74it/s]\u001b[A\n",
      "Iteration:  27%|██▋       | 88/329 [00:24<01:03,  3.81it/s]\u001b[A\n",
      "Iteration:  27%|██▋       | 89/329 [00:24<01:02,  3.86it/s]\u001b[A\n",
      "Iteration:  27%|██▋       | 90/329 [00:25<01:01,  3.91it/s]\u001b[A\n",
      "Iteration:  28%|██▊       | 91/329 [00:25<00:59,  3.97it/s]\u001b[A\n",
      "Iteration:  28%|██▊       | 92/329 [00:25<00:58,  4.04it/s]\u001b[A\n",
      "Iteration:  28%|██▊       | 93/329 [00:25<00:57,  4.10it/s]\u001b[A\n",
      "Iteration:  29%|██▊       | 94/329 [00:25<00:56,  4.16it/s]\u001b[A\n",
      "Iteration:  29%|██▉       | 95/329 [00:26<00:55,  4.21it/s]\u001b[A\n",
      "                                                           \n",
      "Epoch:  50%|█████     | 2/4 [04:00<03:33, 106.85s/it]1it/s]\u001b[A"
     ]
    },
    {
     "name": "stdout",
     "output_type": "stream",
     "text": [
      "2023/08/08 07:15:56 - EmbeddingSimilarityEvaluator: Evaluating the model on sts-dev dataset in epoch 2 after 96 steps:\n"
     ]
    },
    {
     "name": "stderr",
     "output_type": "stream",
     "text": [
      "\n",
      "                                                           \n",
      "Epoch:  50%|█████     | 2/4 [04:04<03:33, 106.85s/it]1it/s]\u001b[A\n",
      "                                                           \n",
      "Epoch:  50%|█████     | 2/4 [04:04<03:33, 106.85s/it]1it/s]\u001b[A\n",
      "                                                           \n",
      "Epoch:  50%|█████     | 2/4 [04:04<03:33, 106.85s/it]1it/s]\u001b[A\n",
      "                                                           \n",
      "Epoch:  50%|█████     | 2/4 [04:04<03:33, 106.85s/it]1it/s]\u001b[A\n",
      "                                                           \n",
      "Epoch:  50%|█████     | 2/4 [04:04<03:33, 106.85s/it]1it/s]\u001b[A"
     ]
    },
    {
     "name": "stdout",
     "output_type": "stream",
     "text": [
      "2023/08/08 07:16:00 - Cosine-Similarity :\tPearson: 0.9628\tSpearman: 0.9251\n",
      "2023/08/08 07:16:00 - Manhattan-Distance:\tPearson: 0.9573\tSpearman: 0.9234\n",
      "2023/08/08 07:16:00 - Euclidean-Distance:\tPearson: 0.9574\tSpearman: 0.9232\n",
      "2023/08/08 07:16:00 - Dot-Product-Similarity:\tPearson: 0.9553\tSpearman: 0.9115\n",
      "2023/08/08 07:16:00 - Save model to output/training_sts_by_Softmaxlossklue-roberta-base-2023-08-08_07-08-05\n"
     ]
    },
    {
     "name": "stderr",
     "output_type": "stream",
     "text": [
      "\n",
      "Iteration:  29%|██▉       | 96/329 [00:30<01:46,  2.18it/s]\u001b[A\n",
      "Iteration:  29%|██▉       | 97/329 [00:30<01:43,  2.25it/s]\u001b[A\n",
      "Iteration:  30%|██▉       | 98/329 [00:31<01:39,  2.32it/s]\u001b[A\n",
      "Iteration:  30%|███       | 99/329 [00:31<01:36,  2.38it/s]\u001b[A\n",
      "Iteration:  30%|███       | 100/329 [00:31<01:33,  2.45it/s]\u001b[A\n",
      "Iteration:  31%|███       | 101/329 [00:31<01:30,  2.52it/s]\u001b[A\n",
      "Iteration:  31%|███       | 102/329 [00:31<01:27,  2.59it/s]\u001b[A\n",
      "Iteration:  31%|███▏      | 103/329 [00:31<01:24,  2.67it/s]\u001b[A\n",
      "Iteration:  32%|███▏      | 104/329 [00:32<01:22,  2.73it/s]\u001b[A\n",
      "Iteration:  32%|███▏      | 105/329 [00:32<01:20,  2.80it/s]\u001b[A\n",
      "Iteration:  32%|███▏      | 106/329 [00:32<01:17,  2.86it/s]\u001b[A\n",
      "Iteration:  33%|███▎      | 107/329 [00:32<01:15,  2.93it/s]\u001b[A\n",
      "Iteration:  33%|███▎      | 108/329 [00:32<01:13,  3.01it/s]\u001b[A\n",
      "Iteration:  33%|███▎      | 109/329 [00:33<01:11,  3.08it/s]\u001b[A\n",
      "Iteration:  33%|███▎      | 110/329 [00:33<01:09,  3.15it/s]\u001b[A\n",
      "Iteration:  34%|███▎      | 111/329 [00:33<01:08,  3.19it/s]\u001b[A\n",
      "Iteration:  34%|███▍      | 112/329 [00:33<01:06,  3.27it/s]\u001b[A\n",
      "Iteration:  34%|███▍      | 113/329 [00:33<01:05,  3.31it/s]\u001b[A\n",
      "Iteration:  35%|███▍      | 114/329 [00:34<01:03,  3.37it/s]\u001b[A\n",
      "Iteration:  35%|███▍      | 115/329 [00:34<01:02,  3.44it/s]\u001b[A\n",
      "Iteration:  35%|███▌      | 116/329 [00:34<01:00,  3.53it/s]\u001b[A\n",
      "Iteration:  36%|███▌      | 117/329 [00:34<00:59,  3.58it/s]\u001b[A\n",
      "Iteration:  36%|███▌      | 118/329 [00:34<00:57,  3.64it/s]\u001b[A\n",
      "Iteration:  36%|███▌      | 119/329 [00:34<00:56,  3.71it/s]\u001b[A\n",
      "Iteration:  36%|███▋      | 120/329 [00:35<00:55,  3.79it/s]\u001b[A\n",
      "Iteration:  37%|███▋      | 121/329 [00:35<00:54,  3.85it/s]\u001b[A\n",
      "Iteration:  37%|███▋      | 122/329 [00:35<00:53,  3.88it/s]\u001b[A\n",
      "Iteration:  37%|███▋      | 123/329 [00:35<00:52,  3.94it/s]\u001b[A\n",
      "Iteration:  38%|███▊      | 124/329 [00:35<00:51,  4.01it/s]\u001b[A\n",
      "Iteration:  38%|███▊      | 125/329 [00:36<00:50,  4.08it/s]\u001b[A\n",
      "Iteration:  38%|███▊      | 126/329 [00:36<00:49,  4.09it/s]\u001b[A\n",
      "Iteration:  39%|███▊      | 127/329 [00:36<00:48,  4.13it/s]\u001b[A\n",
      "                                                            \n",
      "Epoch:  50%|█████     | 2/4 [04:10<03:33, 106.85s/it]13it/s]\u001b[A"
     ]
    },
    {
     "name": "stdout",
     "output_type": "stream",
     "text": [
      "2023/08/08 07:16:07 - EmbeddingSimilarityEvaluator: Evaluating the model on sts-dev dataset in epoch 2 after 128 steps:\n"
     ]
    },
    {
     "name": "stderr",
     "output_type": "stream",
     "text": [
      "\n",
      "                                                            \n",
      "Epoch:  50%|█████     | 2/4 [04:14<03:33, 106.85s/it]13it/s]\u001b[A\n",
      "                                                            \n",
      "Epoch:  50%|█████     | 2/4 [04:14<03:33, 106.85s/it]13it/s]\u001b[A\n",
      "                                                            \n",
      "Epoch:  50%|█████     | 2/4 [04:14<03:33, 106.85s/it]13it/s]\u001b[A\n",
      "                                                            \n",
      "Epoch:  50%|█████     | 2/4 [04:14<03:33, 106.85s/it]13it/s]\u001b[A\n",
      "Iteration:  39%|███▉      | 128/329 [00:40<01:26,  2.31it/s]\u001b[A"
     ]
    },
    {
     "name": "stdout",
     "output_type": "stream",
     "text": [
      "2023/08/08 07:16:11 - Cosine-Similarity :\tPearson: 0.9627\tSpearman: 0.9241\n",
      "2023/08/08 07:16:11 - Manhattan-Distance:\tPearson: 0.9572\tSpearman: 0.9225\n",
      "2023/08/08 07:16:11 - Euclidean-Distance:\tPearson: 0.9572\tSpearman: 0.9223\n",
      "2023/08/08 07:16:11 - Dot-Product-Similarity:\tPearson: 0.9544\tSpearman: 0.9090\n"
     ]
    },
    {
     "name": "stderr",
     "output_type": "stream",
     "text": [
      "\n",
      "Iteration:  39%|███▉      | 129/329 [00:40<01:24,  2.38it/s]\u001b[A\n",
      "Iteration:  40%|███▉      | 130/329 [00:40<01:21,  2.45it/s]\u001b[A\n",
      "Iteration:  40%|███▉      | 131/329 [00:41<01:18,  2.52it/s]\u001b[A\n",
      "Iteration:  40%|████      | 132/329 [00:41<01:15,  2.59it/s]\u001b[A\n",
      "Iteration:  40%|████      | 133/329 [00:41<01:13,  2.67it/s]\u001b[A\n",
      "Iteration:  41%|████      | 134/329 [00:41<01:11,  2.74it/s]\u001b[A\n",
      "Iteration:  41%|████      | 135/329 [00:41<01:09,  2.81it/s]\u001b[A\n",
      "Iteration:  41%|████▏     | 136/329 [00:41<01:07,  2.87it/s]\u001b[A\n",
      "Iteration:  42%|████▏     | 137/329 [00:42<01:05,  2.94it/s]\u001b[A\n",
      "Iteration:  42%|████▏     | 138/329 [00:42<01:03,  3.00it/s]\u001b[A\n",
      "Iteration:  42%|████▏     | 139/329 [00:42<01:01,  3.08it/s]\u001b[A\n",
      "Iteration:  43%|████▎     | 140/329 [00:42<01:00,  3.14it/s]\u001b[A\n",
      "Iteration:  43%|████▎     | 141/329 [00:42<00:58,  3.21it/s]\u001b[A\n",
      "Iteration:  43%|████▎     | 142/329 [00:43<00:57,  3.27it/s]\u001b[A\n",
      "Iteration:  43%|████▎     | 143/329 [00:43<00:55,  3.33it/s]\u001b[A\n",
      "Iteration:  44%|████▍     | 144/329 [00:43<00:54,  3.41it/s]\u001b[A\n",
      "Iteration:  44%|████▍     | 145/329 [00:43<00:52,  3.48it/s]\u001b[A\n",
      "Iteration:  44%|████▍     | 146/329 [00:43<00:51,  3.56it/s]\u001b[A\n",
      "Iteration:  45%|████▍     | 147/329 [00:43<00:50,  3.61it/s]\u001b[A\n",
      "Iteration:  45%|████▍     | 148/329 [00:44<00:49,  3.67it/s]\u001b[A\n",
      "Iteration:  45%|████▌     | 149/329 [00:44<00:48,  3.73it/s]\u001b[A\n",
      "Iteration:  46%|████▌     | 150/329 [00:44<00:47,  3.78it/s]\u001b[A\n",
      "Iteration:  46%|████▌     | 151/329 [00:44<00:46,  3.83it/s]\u001b[A\n",
      "Iteration:  46%|████▌     | 152/329 [00:44<00:45,  3.88it/s]\u001b[A\n",
      "Iteration:  47%|████▋     | 153/329 [00:45<00:44,  3.92it/s]\u001b[A\n",
      "Iteration:  47%|████▋     | 154/329 [00:45<00:44,  3.97it/s]\u001b[A\n",
      "Iteration:  47%|████▋     | 155/329 [00:45<00:43,  4.01it/s]\u001b[A\n",
      "Iteration:  47%|████▋     | 156/329 [00:45<00:42,  4.09it/s]\u001b[A\n",
      "Iteration:  48%|████▊     | 157/329 [00:45<00:41,  4.14it/s]\u001b[A\n",
      "Iteration:  48%|████▊     | 158/329 [00:46<00:40,  4.20it/s]\u001b[A\n",
      "Iteration:  48%|████▊     | 159/329 [00:46<00:40,  4.23it/s]\u001b[A\n",
      "                                                            \n",
      "Epoch:  50%|█████     | 2/4 [04:20<03:33, 106.85s/it]23it/s]\u001b[A"
     ]
    },
    {
     "name": "stdout",
     "output_type": "stream",
     "text": [
      "2023/08/08 07:16:17 - EmbeddingSimilarityEvaluator: Evaluating the model on sts-dev dataset in epoch 2 after 160 steps:\n"
     ]
    },
    {
     "name": "stderr",
     "output_type": "stream",
     "text": [
      "\n",
      "                                                            \n",
      "Epoch:  50%|█████     | 2/4 [04:24<03:33, 106.85s/it]23it/s]\u001b[A\n",
      "                                                            \n",
      "Epoch:  50%|█████     | 2/4 [04:24<03:33, 106.85s/it]23it/s]\u001b[A\n",
      "                                                            \n",
      "Epoch:  50%|█████     | 2/4 [04:24<03:33, 106.85s/it]23it/s]\u001b[A\n",
      "                                                            \n",
      "Epoch:  50%|█████     | 2/4 [04:24<03:33, 106.85s/it]23it/s]\u001b[A\n",
      "Iteration:  49%|████▊     | 160/329 [00:50<01:11,  2.38it/s]\u001b[A"
     ]
    },
    {
     "name": "stdout",
     "output_type": "stream",
     "text": [
      "2023/08/08 07:16:20 - Cosine-Similarity :\tPearson: 0.9634\tSpearman: 0.9241\n",
      "2023/08/08 07:16:20 - Manhattan-Distance:\tPearson: 0.9579\tSpearman: 0.9231\n",
      "2023/08/08 07:16:20 - Euclidean-Distance:\tPearson: 0.9579\tSpearman: 0.9230\n",
      "2023/08/08 07:16:20 - Dot-Product-Similarity:\tPearson: 0.9551\tSpearman: 0.9097\n"
     ]
    },
    {
     "name": "stderr",
     "output_type": "stream",
     "text": [
      "\n",
      "Iteration:  49%|████▉     | 161/329 [00:50<01:08,  2.45it/s]\u001b[A\n",
      "Iteration:  49%|████▉     | 162/329 [00:50<01:06,  2.51it/s]\u001b[A\n",
      "Iteration:  50%|████▉     | 163/329 [00:50<01:04,  2.58it/s]\u001b[A\n",
      "Iteration:  50%|████▉     | 164/329 [00:50<01:02,  2.64it/s]\u001b[A\n",
      "Iteration:  50%|█████     | 165/329 [00:51<01:00,  2.71it/s]\u001b[A\n",
      "Iteration:  50%|█████     | 166/329 [00:51<00:58,  2.76it/s]\u001b[A\n",
      "Iteration:  51%|█████     | 167/329 [00:51<00:57,  2.81it/s]\u001b[A\n",
      "Iteration:  51%|█████     | 168/329 [00:51<00:56,  2.85it/s]\u001b[A\n",
      "Iteration:  51%|█████▏    | 169/329 [00:52<00:54,  2.92it/s]\u001b[A\n",
      "Iteration:  52%|█████▏    | 170/329 [00:52<00:53,  2.99it/s]\u001b[A\n",
      "Iteration:  52%|█████▏    | 171/329 [00:52<00:51,  3.06it/s]\u001b[A\n",
      "Iteration:  52%|█████▏    | 172/329 [00:52<00:50,  3.13it/s]\u001b[A\n",
      "Iteration:  53%|█████▎    | 173/329 [00:52<00:48,  3.19it/s]\u001b[A\n",
      "Iteration:  53%|█████▎    | 174/329 [00:52<00:47,  3.25it/s]\u001b[A\n",
      "Iteration:  53%|█████▎    | 175/329 [00:53<00:46,  3.31it/s]\u001b[A\n",
      "Iteration:  53%|█████▎    | 176/329 [00:53<00:45,  3.37it/s]\u001b[A\n",
      "Iteration:  54%|█████▍    | 177/329 [00:53<00:44,  3.42it/s]\u001b[A\n",
      "Iteration:  54%|█████▍    | 178/329 [00:53<00:43,  3.47it/s]\u001b[A\n",
      "Iteration:  54%|█████▍    | 179/329 [00:53<00:42,  3.54it/s]\u001b[A\n",
      "Iteration:  55%|█████▍    | 180/329 [00:54<00:41,  3.60it/s]\u001b[A\n",
      "Iteration:  55%|█████▌    | 181/329 [00:54<00:40,  3.66it/s]\u001b[A\n",
      "Iteration:  55%|█████▌    | 182/329 [00:54<00:39,  3.70it/s]\u001b[A\n",
      "Iteration:  56%|█████▌    | 183/329 [00:54<00:38,  3.76it/s]\u001b[A\n",
      "Iteration:  56%|█████▌    | 184/329 [00:54<00:37,  3.82it/s]\u001b[A\n",
      "Iteration:  56%|█████▌    | 185/329 [00:55<00:37,  3.88it/s]\u001b[A\n",
      "Iteration:  57%|█████▋    | 186/329 [00:55<00:36,  3.94it/s]\u001b[A\n",
      "Iteration:  57%|█████▋    | 187/329 [00:55<00:35,  4.00it/s]\u001b[A\n",
      "Iteration:  57%|█████▋    | 188/329 [00:55<00:34,  4.06it/s]\u001b[A\n",
      "Iteration:  57%|█████▋    | 189/329 [00:55<00:34,  4.09it/s]\u001b[A\n",
      "Iteration:  58%|█████▊    | 190/329 [00:56<00:33,  4.14it/s]\u001b[A\n",
      "Iteration:  58%|█████▊    | 191/329 [00:56<00:32,  4.19it/s]\u001b[A\n",
      "                                                            \n",
      "Epoch:  50%|█████     | 2/4 [04:30<03:33, 106.85s/it]19it/s]\u001b[A"
     ]
    },
    {
     "name": "stdout",
     "output_type": "stream",
     "text": [
      "2023/08/08 07:16:27 - EmbeddingSimilarityEvaluator: Evaluating the model on sts-dev dataset in epoch 2 after 192 steps:\n"
     ]
    },
    {
     "name": "stderr",
     "output_type": "stream",
     "text": [
      "\n",
      "                                                            \n",
      "Epoch:  50%|█████     | 2/4 [04:34<03:33, 106.85s/it]19it/s]\u001b[A\n",
      "                                                            \n",
      "Epoch:  50%|█████     | 2/4 [04:34<03:33, 106.85s/it]19it/s]\u001b[A\n",
      "                                                            \n",
      "Epoch:  50%|█████     | 2/4 [04:34<03:33, 106.85s/it]19it/s]\u001b[A\n",
      "                                                            \n",
      "Epoch:  50%|█████     | 2/4 [04:34<03:33, 106.85s/it]19it/s]\u001b[A\n",
      "Iteration:  58%|█████▊    | 192/329 [01:00<00:58,  2.34it/s]\u001b[A"
     ]
    },
    {
     "name": "stdout",
     "output_type": "stream",
     "text": [
      "2023/08/08 07:16:30 - Cosine-Similarity :\tPearson: 0.9634\tSpearman: 0.9238\n",
      "2023/08/08 07:16:30 - Manhattan-Distance:\tPearson: 0.9572\tSpearman: 0.9225\n",
      "2023/08/08 07:16:30 - Euclidean-Distance:\tPearson: 0.9572\tSpearman: 0.9222\n",
      "2023/08/08 07:16:30 - Dot-Product-Similarity:\tPearson: 0.9554\tSpearman: 0.9099\n"
     ]
    },
    {
     "name": "stderr",
     "output_type": "stream",
     "text": [
      "\n",
      "Iteration:  59%|█████▊    | 193/329 [01:00<00:56,  2.41it/s]\u001b[A\n",
      "Iteration:  59%|█████▉    | 194/329 [01:00<00:54,  2.47it/s]\u001b[A\n",
      "Iteration:  59%|█████▉    | 195/329 [01:00<00:52,  2.54it/s]\u001b[A\n",
      "Iteration:  60%|█████▉    | 196/329 [01:00<00:51,  2.61it/s]\u001b[A\n",
      "Iteration:  60%|█████▉    | 197/329 [01:01<00:49,  2.67it/s]\u001b[A\n",
      "Iteration:  60%|██████    | 198/329 [01:01<00:47,  2.73it/s]\u001b[A\n",
      "Iteration:  60%|██████    | 199/329 [01:01<00:46,  2.79it/s]\u001b[A\n",
      "Iteration:  61%|██████    | 200/329 [01:01<00:44,  2.87it/s]\u001b[A\n",
      "Iteration:  61%|██████    | 201/329 [01:01<00:43,  2.93it/s]\u001b[A\n",
      "Iteration:  61%|██████▏   | 202/329 [01:02<00:42,  3.00it/s]\u001b[A\n",
      "Iteration:  62%|██████▏   | 203/329 [01:02<00:41,  3.06it/s]\u001b[A\n",
      "Iteration:  62%|██████▏   | 204/329 [01:02<00:39,  3.13it/s]\u001b[A\n",
      "Iteration:  62%|██████▏   | 205/329 [01:02<00:38,  3.19it/s]\u001b[A\n",
      "Iteration:  63%|██████▎   | 206/329 [01:02<00:37,  3.25it/s]\u001b[A\n",
      "Iteration:  63%|██████▎   | 207/329 [01:03<00:36,  3.30it/s]\u001b[A\n",
      "Iteration:  63%|██████▎   | 208/329 [01:03<00:36,  3.36it/s]\u001b[A\n",
      "Iteration:  64%|██████▎   | 209/329 [01:03<00:35,  3.42it/s]\u001b[A\n",
      "Iteration:  64%|██████▍   | 210/329 [01:03<00:33,  3.50it/s]\u001b[A\n",
      "Iteration:  64%|██████▍   | 211/329 [01:03<00:33,  3.56it/s]\u001b[A\n",
      "Iteration:  64%|██████▍   | 212/329 [01:04<00:32,  3.61it/s]\u001b[A\n",
      "Iteration:  65%|██████▍   | 213/329 [01:04<00:31,  3.69it/s]\u001b[A\n",
      "Iteration:  65%|██████▌   | 214/329 [01:04<00:30,  3.76it/s]\u001b[A\n",
      "Iteration:  65%|██████▌   | 215/329 [01:04<00:29,  3.84it/s]\u001b[A\n",
      "Iteration:  66%|██████▌   | 216/329 [01:04<00:29,  3.90it/s]\u001b[A\n",
      "Iteration:  66%|██████▌   | 217/329 [01:04<00:28,  3.97it/s]\u001b[A\n",
      "Iteration:  66%|██████▋   | 218/329 [01:05<00:27,  4.04it/s]\u001b[A\n",
      "Iteration:  67%|██████▋   | 219/329 [01:05<00:26,  4.09it/s]\u001b[A\n",
      "Iteration:  67%|██████▋   | 220/329 [01:05<00:26,  4.13it/s]\u001b[A\n",
      "Iteration:  67%|██████▋   | 221/329 [01:05<00:25,  4.18it/s]\u001b[A\n",
      "Iteration:  67%|██████▋   | 222/329 [01:05<00:25,  4.23it/s]\u001b[A\n",
      "Iteration:  68%|██████▊   | 223/329 [01:05<00:24,  4.30it/s]\u001b[A\n",
      "                                                            \n",
      "Epoch:  50%|█████     | 2/4 [04:40<03:33, 106.85s/it]30it/s]\u001b[A"
     ]
    },
    {
     "name": "stdout",
     "output_type": "stream",
     "text": [
      "2023/08/08 07:16:36 - EmbeddingSimilarityEvaluator: Evaluating the model on sts-dev dataset in epoch 2 after 224 steps:\n"
     ]
    },
    {
     "name": "stderr",
     "output_type": "stream",
     "text": [
      "\n",
      "                                                            \n",
      "Epoch:  50%|█████     | 2/4 [04:43<03:33, 106.85s/it]30it/s]\u001b[A\n",
      "                                                            \n",
      "Epoch:  50%|█████     | 2/4 [04:43<03:33, 106.85s/it]30it/s]\u001b[A\n",
      "                                                            \n",
      "Epoch:  50%|█████     | 2/4 [04:43<03:33, 106.85s/it]30it/s]\u001b[A\n",
      "                                                            \n",
      "Epoch:  50%|█████     | 2/4 [04:43<03:33, 106.85s/it]30it/s]\u001b[A\n",
      "Iteration:  68%|██████▊   | 224/329 [01:09<00:43,  2.43it/s]\u001b[A"
     ]
    },
    {
     "name": "stdout",
     "output_type": "stream",
     "text": [
      "2023/08/08 07:16:40 - Cosine-Similarity :\tPearson: 0.9636\tSpearman: 0.9245\n",
      "2023/08/08 07:16:40 - Manhattan-Distance:\tPearson: 0.9576\tSpearman: 0.9230\n",
      "2023/08/08 07:16:40 - Euclidean-Distance:\tPearson: 0.9576\tSpearman: 0.9229\n",
      "2023/08/08 07:16:40 - Dot-Product-Similarity:\tPearson: 0.9558\tSpearman: 0.9100\n"
     ]
    },
    {
     "name": "stderr",
     "output_type": "stream",
     "text": [
      "\n",
      "Iteration:  68%|██████▊   | 225/329 [01:09<00:41,  2.50it/s]\u001b[A\n",
      "Iteration:  69%|██████▊   | 226/329 [01:10<00:40,  2.56it/s]\u001b[A\n",
      "Iteration:  69%|██████▉   | 227/329 [01:10<00:38,  2.62it/s]\u001b[A\n",
      "Iteration:  69%|██████▉   | 228/329 [01:10<00:37,  2.68it/s]\u001b[A\n",
      "Iteration:  70%|██████▉   | 229/329 [01:10<00:36,  2.75it/s]\u001b[A\n",
      "Iteration:  70%|██████▉   | 230/329 [01:10<00:35,  2.82it/s]\u001b[A\n",
      "Iteration:  70%|███████   | 231/329 [01:11<00:33,  2.89it/s]\u001b[A\n",
      "Iteration:  71%|███████   | 232/329 [01:11<00:32,  2.97it/s]\u001b[A\n",
      "Iteration:  71%|███████   | 233/329 [01:11<00:31,  3.03it/s]\u001b[A\n",
      "Iteration:  71%|███████   | 234/329 [01:11<00:30,  3.09it/s]\u001b[A\n",
      "Iteration:  71%|███████▏  | 235/329 [01:11<00:29,  3.16it/s]\u001b[A\n",
      "Iteration:  72%|███████▏  | 236/329 [01:12<00:28,  3.23it/s]\u001b[A\n",
      "Iteration:  72%|███████▏  | 237/329 [01:12<00:27,  3.29it/s]\u001b[A\n",
      "Iteration:  72%|███████▏  | 238/329 [01:12<00:27,  3.35it/s]\u001b[A\n",
      "Iteration:  73%|███████▎  | 239/329 [01:12<00:26,  3.44it/s]\u001b[A\n",
      "Iteration:  73%|███████▎  | 240/329 [01:12<00:25,  3.50it/s]\u001b[A\n",
      "Iteration:  73%|███████▎  | 241/329 [01:13<00:24,  3.55it/s]\u001b[A\n",
      "Iteration:  74%|███████▎  | 242/329 [01:13<00:24,  3.60it/s]\u001b[A\n",
      "Iteration:  74%|███████▍  | 243/329 [01:13<00:23,  3.66it/s]\u001b[A\n",
      "Iteration:  74%|███████▍  | 244/329 [01:13<00:22,  3.72it/s]\u001b[A\n",
      "Iteration:  74%|███████▍  | 245/329 [01:13<00:22,  3.75it/s]\u001b[A\n",
      "Iteration:  75%|███████▍  | 246/329 [01:13<00:21,  3.81it/s]\u001b[A\n",
      "Iteration:  75%|███████▌  | 247/329 [01:14<00:21,  3.86it/s]\u001b[A\n",
      "Iteration:  75%|███████▌  | 248/329 [01:14<00:20,  3.91it/s]\u001b[A\n",
      "Iteration:  76%|███████▌  | 249/329 [01:14<00:20,  3.97it/s]\u001b[A\n",
      "Iteration:  76%|███████▌  | 250/329 [01:14<00:19,  4.02it/s]\u001b[A\n",
      "Iteration:  76%|███████▋  | 251/329 [01:14<00:19,  4.07it/s]\u001b[A\n",
      "Iteration:  77%|███████▋  | 252/329 [01:15<00:18,  4.11it/s]\u001b[A\n",
      "Iteration:  77%|███████▋  | 253/329 [01:15<00:18,  4.16it/s]\u001b[A\n",
      "Iteration:  77%|███████▋  | 254/329 [01:15<00:17,  4.21it/s]\u001b[A\n",
      "Iteration:  78%|███████▊  | 255/329 [01:15<00:17,  4.25it/s]\u001b[A\n",
      "                                                            \n",
      "Epoch:  50%|█████     | 2/4 [04:50<03:33, 106.85s/it]25it/s]\u001b[A"
     ]
    },
    {
     "name": "stdout",
     "output_type": "stream",
     "text": [
      "2023/08/08 07:16:46 - EmbeddingSimilarityEvaluator: Evaluating the model on sts-dev dataset in epoch 2 after 256 steps:\n"
     ]
    },
    {
     "name": "stderr",
     "output_type": "stream",
     "text": [
      "\n",
      "                                                            \n",
      "Epoch:  50%|█████     | 2/4 [04:53<03:33, 106.85s/it]25it/s]\u001b[A\n",
      "                                                            \n",
      "Epoch:  50%|█████     | 2/4 [04:53<03:33, 106.85s/it]25it/s]\u001b[A\n",
      "                                                            \n",
      "Epoch:  50%|█████     | 2/4 [04:53<03:33, 106.85s/it]25it/s]\u001b[A\n",
      "                                                            \n",
      "Epoch:  50%|█████     | 2/4 [04:53<03:33, 106.85s/it]25it/s]\u001b[A\n",
      "Iteration:  78%|███████▊  | 256/329 [01:19<00:30,  2.36it/s]\u001b[A"
     ]
    },
    {
     "name": "stdout",
     "output_type": "stream",
     "text": [
      "2023/08/08 07:16:50 - Cosine-Similarity :\tPearson: 0.9633\tSpearman: 0.9236\n",
      "2023/08/08 07:16:50 - Manhattan-Distance:\tPearson: 0.9571\tSpearman: 0.9223\n",
      "2023/08/08 07:16:50 - Euclidean-Distance:\tPearson: 0.9572\tSpearman: 0.9218\n",
      "2023/08/08 07:16:50 - Dot-Product-Similarity:\tPearson: 0.9556\tSpearman: 0.9093\n"
     ]
    },
    {
     "name": "stderr",
     "output_type": "stream",
     "text": [
      "\n",
      "Iteration:  78%|███████▊  | 257/329 [01:19<00:29,  2.42it/s]\u001b[A\n",
      "Iteration:  78%|███████▊  | 258/329 [01:20<00:28,  2.48it/s]\u001b[A\n",
      "Iteration:  79%|███████▊  | 259/329 [01:20<00:27,  2.55it/s]\u001b[A\n",
      "Iteration:  79%|███████▉  | 260/329 [01:20<00:26,  2.61it/s]\u001b[A\n",
      "Iteration:  79%|███████▉  | 261/329 [01:20<00:25,  2.68it/s]\u001b[A\n",
      "Iteration:  80%|███████▉  | 262/329 [01:20<00:24,  2.75it/s]\u001b[A\n",
      "Iteration:  80%|███████▉  | 263/329 [01:21<00:23,  2.82it/s]\u001b[A\n",
      "Iteration:  80%|████████  | 264/329 [01:21<00:22,  2.89it/s]\u001b[A\n",
      "Iteration:  81%|████████  | 265/329 [01:21<00:21,  2.94it/s]\u001b[A\n",
      "Iteration:  81%|████████  | 266/329 [01:21<00:20,  3.01it/s]\u001b[A\n",
      "Iteration:  81%|████████  | 267/329 [01:21<00:20,  3.09it/s]\u001b[A\n",
      "Iteration:  81%|████████▏ | 268/329 [01:22<00:19,  3.16it/s]\u001b[A\n",
      "Iteration:  82%|████████▏ | 269/329 [01:22<00:18,  3.23it/s]\u001b[A\n",
      "Iteration:  82%|████████▏ | 270/329 [01:22<00:17,  3.28it/s]\u001b[A\n",
      "Iteration:  82%|████████▏ | 271/329 [01:22<00:17,  3.35it/s]\u001b[A\n",
      "Iteration:  83%|████████▎ | 272/329 [01:22<00:16,  3.42it/s]\u001b[A\n",
      "Iteration:  83%|████████▎ | 273/329 [01:22<00:16,  3.49it/s]\u001b[A\n",
      "Iteration:  83%|████████▎ | 274/329 [01:23<00:15,  3.54it/s]\u001b[A\n",
      "Iteration:  84%|████████▎ | 275/329 [01:23<00:15,  3.60it/s]\u001b[A\n",
      "Iteration:  84%|████████▍ | 276/329 [01:23<00:14,  3.68it/s]\u001b[A\n",
      "Iteration:  84%|████████▍ | 277/329 [01:23<00:13,  3.72it/s]\u001b[A\n",
      "Iteration:  84%|████████▍ | 278/329 [01:23<00:13,  3.75it/s]\u001b[A\n",
      "Iteration:  85%|████████▍ | 279/329 [01:24<00:13,  3.78it/s]\u001b[A\n",
      "Iteration:  85%|████████▌ | 280/329 [01:24<00:12,  3.84it/s]\u001b[A\n",
      "Iteration:  85%|████████▌ | 281/329 [01:24<00:12,  3.89it/s]\u001b[A\n",
      "Iteration:  86%|████████▌ | 282/329 [01:24<00:11,  3.96it/s]\u001b[A\n",
      "Iteration:  86%|████████▌ | 283/329 [01:24<00:11,  3.99it/s]\u001b[A\n",
      "Iteration:  86%|████████▋ | 284/329 [01:25<00:11,  4.07it/s]\u001b[A\n",
      "Iteration:  87%|████████▋ | 285/329 [01:25<00:10,  4.11it/s]\u001b[A\n",
      "Iteration:  87%|████████▋ | 286/329 [01:25<00:10,  4.17it/s]\u001b[A\n",
      "Iteration:  87%|████████▋ | 287/329 [01:25<00:09,  4.20it/s]\u001b[A\n",
      "                                                            \n",
      "Epoch:  50%|█████     | 2/4 [05:00<03:33, 106.85s/it]20it/s]\u001b[A"
     ]
    },
    {
     "name": "stdout",
     "output_type": "stream",
     "text": [
      "2023/08/08 07:16:56 - EmbeddingSimilarityEvaluator: Evaluating the model on sts-dev dataset in epoch 2 after 288 steps:\n"
     ]
    },
    {
     "name": "stderr",
     "output_type": "stream",
     "text": [
      "\n",
      "                                                            \n",
      "Epoch:  50%|█████     | 2/4 [05:03<03:33, 106.85s/it]20it/s]\u001b[A\n",
      "                                                            \n",
      "Epoch:  50%|█████     | 2/4 [05:03<03:33, 106.85s/it]20it/s]\u001b[A\n",
      "                                                            \n",
      "Epoch:  50%|█████     | 2/4 [05:03<03:33, 106.85s/it]20it/s]\u001b[A\n",
      "                                                            \n",
      "Epoch:  50%|█████     | 2/4 [05:03<03:33, 106.85s/it]20it/s]\u001b[A\n",
      "                                                            \n",
      "Epoch:  50%|█████     | 2/4 [05:03<03:33, 106.85s/it]20it/s]\u001b[A"
     ]
    },
    {
     "name": "stdout",
     "output_type": "stream",
     "text": [
      "2023/08/08 07:17:00 - Cosine-Similarity :\tPearson: 0.9638\tSpearman: 0.9259\n",
      "2023/08/08 07:17:00 - Manhattan-Distance:\tPearson: 0.9580\tSpearman: 0.9239\n",
      "2023/08/08 07:17:00 - Euclidean-Distance:\tPearson: 0.9579\tSpearman: 0.9237\n",
      "2023/08/08 07:17:00 - Dot-Product-Similarity:\tPearson: 0.9562\tSpearman: 0.9119\n",
      "2023/08/08 07:17:00 - Save model to output/training_sts_by_Softmaxlossklue-roberta-base-2023-08-08_07-08-05\n"
     ]
    },
    {
     "name": "stderr",
     "output_type": "stream",
     "text": [
      "\n",
      "Iteration:  88%|████████▊ | 288/329 [01:30<00:18,  2.19it/s]\u001b[A\n",
      "Iteration:  88%|████████▊ | 289/329 [01:30<00:17,  2.25it/s]\u001b[A\n",
      "Iteration:  88%|████████▊ | 290/329 [01:30<00:16,  2.32it/s]\u001b[A\n",
      "Iteration:  88%|████████▊ | 291/329 [01:30<00:15,  2.40it/s]\u001b[A\n",
      "Iteration:  89%|████████▉ | 292/329 [01:30<00:15,  2.47it/s]\u001b[A\n",
      "Iteration:  89%|████████▉ | 293/329 [01:31<00:14,  2.53it/s]\u001b[A\n",
      "Iteration:  89%|████████▉ | 294/329 [01:31<00:13,  2.60it/s]\u001b[A\n",
      "Iteration:  90%|████████▉ | 295/329 [01:31<00:12,  2.67it/s]\u001b[A\n",
      "Iteration:  90%|████████▉ | 296/329 [01:31<00:12,  2.74it/s]\u001b[A\n",
      "Iteration:  90%|█████████ | 297/329 [01:31<00:11,  2.81it/s]\u001b[A\n",
      "Iteration:  91%|█████████ | 298/329 [01:32<00:10,  2.87it/s]\u001b[A\n",
      "Iteration:  91%|█████████ | 299/329 [01:32<00:10,  2.92it/s]\u001b[A\n",
      "Iteration:  91%|█████████ | 300/329 [01:32<00:09,  2.99it/s]\u001b[A\n",
      "Iteration:  91%|█████████▏| 301/329 [01:32<00:09,  3.04it/s]\u001b[A\n",
      "Iteration:  92%|█████████▏| 302/329 [01:32<00:08,  3.10it/s]\u001b[A\n",
      "Iteration:  92%|█████████▏| 303/329 [01:33<00:08,  3.18it/s]\u001b[A\n",
      "Iteration:  92%|█████████▏| 304/329 [01:33<00:07,  3.23it/s]\u001b[A\n",
      "Iteration:  93%|█████████▎| 305/329 [01:33<00:07,  3.28it/s]\u001b[A\n",
      "Iteration:  93%|█████████▎| 306/329 [01:33<00:06,  3.34it/s]\u001b[A\n",
      "Iteration:  93%|█████████▎| 307/329 [01:33<00:06,  3.40it/s]\u001b[A\n",
      "Iteration:  94%|█████████▎| 308/329 [01:34<00:06,  3.44it/s]\u001b[A\n",
      "Iteration:  94%|█████████▍| 309/329 [01:34<00:05,  3.49it/s]\u001b[A\n",
      "Iteration:  94%|█████████▍| 310/329 [01:34<00:05,  3.54it/s]\u001b[A\n",
      "Iteration:  95%|█████████▍| 311/329 [01:34<00:05,  3.59it/s]\u001b[A\n",
      "Iteration:  95%|█████████▍| 312/329 [01:34<00:04,  3.64it/s]\u001b[A\n",
      "Iteration:  95%|█████████▌| 313/329 [01:35<00:04,  3.70it/s]\u001b[A\n",
      "Iteration:  95%|█████████▌| 314/329 [01:35<00:04,  3.75it/s]\u001b[A\n",
      "Iteration:  96%|█████████▌| 315/329 [01:35<00:03,  3.79it/s]\u001b[A\n",
      "Iteration:  96%|█████████▌| 316/329 [01:35<00:03,  3.85it/s]\u001b[A\n",
      "Iteration:  96%|█████████▋| 317/329 [01:35<00:03,  3.88it/s]\u001b[A\n",
      "Iteration:  97%|█████████▋| 318/329 [01:36<00:02,  3.92it/s]\u001b[A\n",
      "Iteration:  97%|█████████▋| 319/329 [01:36<00:02,  3.98it/s]\u001b[A\n",
      "                                                            \n",
      "Epoch:  50%|█████     | 2/4 [05:10<03:33, 106.85s/it]98it/s]\u001b[A"
     ]
    },
    {
     "name": "stdout",
     "output_type": "stream",
     "text": [
      "2023/08/08 07:17:07 - EmbeddingSimilarityEvaluator: Evaluating the model on sts-dev dataset in epoch 2 after 320 steps:\n"
     ]
    },
    {
     "name": "stderr",
     "output_type": "stream",
     "text": [
      "\n",
      "                                                            \n",
      "Epoch:  50%|█████     | 2/4 [05:14<03:33, 106.85s/it]98it/s]\u001b[A\n",
      "                                                            \n",
      "Epoch:  50%|█████     | 2/4 [05:14<03:33, 106.85s/it]98it/s]\u001b[A\n",
      "                                                            \n",
      "Epoch:  50%|█████     | 2/4 [05:14<03:33, 106.85s/it]98it/s]\u001b[A\n",
      "                                                            \n",
      "Epoch:  50%|█████     | 2/4 [05:14<03:33, 106.85s/it]98it/s]\u001b[A\n",
      "Iteration:  97%|█████████▋| 320/329 [01:40<00:03,  2.31it/s]\u001b[A"
     ]
    },
    {
     "name": "stdout",
     "output_type": "stream",
     "text": [
      "2023/08/08 07:17:10 - Cosine-Similarity :\tPearson: 0.9631\tSpearman: 0.9248\n",
      "2023/08/08 07:17:10 - Manhattan-Distance:\tPearson: 0.9577\tSpearman: 0.9230\n",
      "2023/08/08 07:17:10 - Euclidean-Distance:\tPearson: 0.9576\tSpearman: 0.9229\n",
      "2023/08/08 07:17:10 - Dot-Product-Similarity:\tPearson: 0.9560\tSpearman: 0.9110\n"
     ]
    },
    {
     "name": "stderr",
     "output_type": "stream",
     "text": [
      "\n",
      "Iteration:  98%|█████████▊| 321/329 [01:40<00:03,  2.37it/s]\u001b[A\n",
      "Iteration:  98%|█████████▊| 322/329 [01:40<00:02,  2.44it/s]\u001b[A\n",
      "Iteration:  98%|█████████▊| 323/329 [01:40<00:02,  2.50it/s]\u001b[A\n",
      "Iteration:  98%|█████████▊| 324/329 [01:41<00:01,  2.57it/s]\u001b[A\n",
      "Iteration:  99%|█████████▉| 325/329 [01:41<00:01,  2.63it/s]\u001b[A\n",
      "Iteration:  99%|█████████▉| 326/329 [01:41<00:01,  2.70it/s]\u001b[A\n",
      "Iteration:  99%|█████████▉| 327/329 [01:41<00:00,  2.78it/s]\u001b[A\n",
      "Iteration: 100%|█████████▉| 328/329 [01:41<00:00,  2.86it/s]\u001b[A\n",
      "Iteration: 100%|██████████| 329/329 [01:41<00:00,  3.23it/s]\u001b[A\n",
      "Epoch:  50%|█████     | 2/4 [05:16<03:33, 106.85s/it]"
     ]
    },
    {
     "name": "stdout",
     "output_type": "stream",
     "text": [
      "2023/08/08 07:17:12 - EmbeddingSimilarityEvaluator: Evaluating the model on sts-dev dataset after epoch 2:\n"
     ]
    },
    {
     "name": "stderr",
     "output_type": "stream",
     "text": [
      "Epoch:  75%|███████▌  | 3/4 [05:19<01:46, 106.25s/it]"
     ]
    },
    {
     "name": "stdout",
     "output_type": "stream",
     "text": [
      "2023/08/08 07:17:16 - Cosine-Similarity :\tPearson: 0.9633\tSpearman: 0.9245\n",
      "2023/08/08 07:17:16 - Manhattan-Distance:\tPearson: 0.9576\tSpearman: 0.9229\n",
      "2023/08/08 07:17:16 - Euclidean-Distance:\tPearson: 0.9575\tSpearman: 0.9226\n",
      "2023/08/08 07:17:16 - Dot-Product-Similarity:\tPearson: 0.9561\tSpearman: 0.9108\n"
     ]
    },
    {
     "name": "stderr",
     "output_type": "stream",
     "text": [
      "\n",
      "Iteration:   0%|          | 0/329 [00:00<?, ?it/s]\u001b[A\n",
      "Iteration:   0%|          | 1/329 [00:00<01:04,  5.06it/s]\u001b[A\n",
      "Iteration:   1%|          | 2/329 [00:00<01:03,  5.19it/s]\u001b[A\n",
      "Iteration:   1%|          | 3/329 [00:00<01:02,  5.20it/s]\u001b[A\n",
      "Iteration:   1%|          | 4/329 [00:00<01:03,  5.13it/s]\u001b[A\n",
      "Iteration:   2%|▏         | 5/329 [00:00<01:02,  5.21it/s]\u001b[A\n",
      "Iteration:   2%|▏         | 6/329 [00:01<01:02,  5.19it/s]\u001b[A\n",
      "Iteration:   2%|▏         | 7/329 [00:01<01:02,  5.19it/s]\u001b[A\n",
      "Iteration:   2%|▏         | 8/329 [00:01<01:00,  5.27it/s]\u001b[A\n",
      "Iteration:   3%|▎         | 9/329 [00:01<00:59,  5.39it/s]\u001b[A\n",
      "Iteration:   3%|▎         | 10/329 [00:01<00:59,  5.36it/s]\u001b[A\n",
      "Iteration:   3%|▎         | 11/329 [00:02<00:58,  5.41it/s]\u001b[A\n",
      "Iteration:   4%|▎         | 12/329 [00:02<00:58,  5.39it/s]\u001b[A\n",
      "Iteration:   4%|▍         | 13/329 [00:02<00:57,  5.48it/s]\u001b[A\n",
      "Iteration:   4%|▍         | 14/329 [00:02<00:57,  5.45it/s]\u001b[A\n",
      "Iteration:   5%|▍         | 15/329 [00:02<00:57,  5.46it/s]\u001b[A\n",
      "Iteration:   5%|▍         | 16/329 [00:02<00:57,  5.43it/s]\u001b[A\n",
      "Iteration:   5%|▌         | 17/329 [00:03<00:56,  5.50it/s]\u001b[A\n",
      "Iteration:   5%|▌         | 18/329 [00:03<00:57,  5.45it/s]\u001b[A\n",
      "Iteration:   6%|▌         | 19/329 [00:03<00:56,  5.48it/s]\u001b[A\n",
      "Iteration:   6%|▌         | 20/329 [00:03<00:56,  5.44it/s]\u001b[A\n",
      "Iteration:   6%|▋         | 21/329 [00:03<00:57,  5.39it/s]\u001b[A\n",
      "Iteration:   7%|▋         | 22/329 [00:04<00:57,  5.38it/s]\u001b[A\n",
      "Iteration:   7%|▋         | 23/329 [00:04<00:57,  5.34it/s]\u001b[A\n",
      "Iteration:   7%|▋         | 24/329 [00:04<00:57,  5.32it/s]\u001b[A\n",
      "Iteration:   8%|▊         | 25/329 [00:04<00:57,  5.29it/s]\u001b[A\n",
      "Iteration:   8%|▊         | 26/329 [00:04<00:57,  5.30it/s]\u001b[A\n",
      "Iteration:   8%|▊         | 27/329 [00:05<00:57,  5.25it/s]\u001b[A\n",
      "Iteration:   9%|▊         | 28/329 [00:05<00:57,  5.23it/s]\u001b[A\n",
      "Iteration:   9%|▉         | 29/329 [00:05<00:57,  5.17it/s]\u001b[A\n",
      "Iteration:   9%|▉         | 30/329 [00:05<00:57,  5.16it/s]\u001b[A\n",
      "Iteration:   9%|▉         | 31/329 [00:05<00:57,  5.15it/s]\u001b[A\n",
      "                                                           \n",
      "Epoch:  75%|███████▌  | 3/4 [05:25<01:46, 106.25s/it]5it/s]\u001b[A"
     ]
    },
    {
     "name": "stdout",
     "output_type": "stream",
     "text": [
      "2023/08/08 07:17:22 - EmbeddingSimilarityEvaluator: Evaluating the model on sts-dev dataset in epoch 3 after 32 steps:\n"
     ]
    },
    {
     "name": "stderr",
     "output_type": "stream",
     "text": [
      "\n",
      "                                                           \n",
      "Epoch:  75%|███████▌  | 3/4 [05:29<01:46, 106.25s/it]5it/s]\u001b[A\n",
      "                                                           \n",
      "Epoch:  75%|███████▌  | 3/4 [05:29<01:46, 106.25s/it]5it/s]\u001b[A\n",
      "                                                           \n",
      "Epoch:  75%|███████▌  | 3/4 [05:29<01:46, 106.25s/it]5it/s]\u001b[A\n",
      "                                                           \n",
      "Epoch:  75%|███████▌  | 3/4 [05:29<01:46, 106.25s/it]5it/s]\u001b[A\n",
      "Iteration:  10%|▉         | 32/329 [00:09<02:06,  2.36it/s]\u001b[A"
     ]
    },
    {
     "name": "stdout",
     "output_type": "stream",
     "text": [
      "2023/08/08 07:17:26 - Cosine-Similarity :\tPearson: 0.9633\tSpearman: 0.9246\n",
      "2023/08/08 07:17:26 - Manhattan-Distance:\tPearson: 0.9581\tSpearman: 0.9232\n",
      "2023/08/08 07:17:26 - Euclidean-Distance:\tPearson: 0.9580\tSpearman: 0.9230\n",
      "2023/08/08 07:17:26 - Dot-Product-Similarity:\tPearson: 0.9566\tSpearman: 0.9116\n"
     ]
    },
    {
     "name": "stderr",
     "output_type": "stream",
     "text": [
      "\n",
      "Iteration:  10%|█         | 33/329 [00:10<02:01,  2.44it/s]\u001b[A\n",
      "Iteration:  10%|█         | 34/329 [00:10<01:56,  2.52it/s]\u001b[A\n",
      "Iteration:  11%|█         | 35/329 [00:10<01:52,  2.60it/s]\u001b[A\n",
      "Iteration:  11%|█         | 36/329 [00:10<01:49,  2.67it/s]\u001b[A\n",
      "Iteration:  11%|█         | 37/329 [00:10<01:46,  2.75it/s]\u001b[A\n",
      "Iteration:  12%|█▏        | 38/329 [00:10<01:42,  2.83it/s]\u001b[A\n",
      "Iteration:  12%|█▏        | 39/329 [00:11<01:39,  2.92it/s]\u001b[A\n",
      "Iteration:  12%|█▏        | 40/329 [00:11<01:36,  3.01it/s]\u001b[A\n",
      "Iteration:  12%|█▏        | 41/329 [00:11<01:33,  3.08it/s]\u001b[A\n",
      "Iteration:  13%|█▎        | 42/329 [00:11<01:31,  3.15it/s]\u001b[A\n",
      "Iteration:  13%|█▎        | 43/329 [00:11<01:28,  3.22it/s]\u001b[A\n",
      "Iteration:  13%|█▎        | 44/329 [00:12<01:26,  3.29it/s]\u001b[A\n",
      "Iteration:  14%|█▎        | 45/329 [00:12<01:25,  3.34it/s]\u001b[A\n",
      "Iteration:  14%|█▍        | 46/329 [00:12<01:23,  3.41it/s]\u001b[A\n",
      "Iteration:  14%|█▍        | 47/329 [00:12<01:21,  3.47it/s]\u001b[A\n",
      "Iteration:  15%|█▍        | 48/329 [00:12<01:19,  3.54it/s]\u001b[A\n",
      "Iteration:  15%|█▍        | 49/329 [00:13<01:17,  3.60it/s]\u001b[A\n",
      "Iteration:  15%|█▌        | 50/329 [00:13<01:16,  3.66it/s]\u001b[A\n",
      "Iteration:  16%|█▌        | 51/329 [00:13<01:14,  3.71it/s]\u001b[A\n",
      "Iteration:  16%|█▌        | 52/329 [00:13<01:13,  3.76it/s]\u001b[A\n",
      "Iteration:  16%|█▌        | 53/329 [00:13<01:11,  3.84it/s]\u001b[A\n",
      "Iteration:  16%|█▋        | 54/329 [00:14<01:10,  3.90it/s]\u001b[A\n",
      "Iteration:  17%|█▋        | 55/329 [00:14<01:09,  3.95it/s]\u001b[A\n",
      "Iteration:  17%|█▋        | 56/329 [00:14<01:07,  4.02it/s]\u001b[A\n",
      "Iteration:  17%|█▋        | 57/329 [00:14<01:07,  4.06it/s]\u001b[A\n",
      "Iteration:  18%|█▊        | 58/329 [00:14<01:06,  4.08it/s]\u001b[A\n",
      "Iteration:  18%|█▊        | 59/329 [00:15<01:05,  4.13it/s]\u001b[A\n",
      "Iteration:  18%|█▊        | 60/329 [00:15<01:04,  4.18it/s]\u001b[A\n",
      "Iteration:  19%|█▊        | 61/329 [00:15<01:03,  4.23it/s]\u001b[A\n",
      "Iteration:  19%|█▉        | 62/329 [00:15<01:02,  4.25it/s]\u001b[A\n",
      "Iteration:  19%|█▉        | 63/329 [00:15<01:01,  4.29it/s]\u001b[A\n",
      "                                                           \n",
      "Epoch:  75%|███████▌  | 3/4 [05:35<01:46, 106.25s/it]9it/s]\u001b[A"
     ]
    },
    {
     "name": "stdout",
     "output_type": "stream",
     "text": [
      "2023/08/08 07:17:32 - EmbeddingSimilarityEvaluator: Evaluating the model on sts-dev dataset in epoch 3 after 64 steps:\n"
     ]
    },
    {
     "name": "stderr",
     "output_type": "stream",
     "text": [
      "\n",
      "                                                           \n",
      "Epoch:  75%|███████▌  | 3/4 [05:39<01:46, 106.25s/it]9it/s]\u001b[A\n",
      "                                                           \n",
      "Epoch:  75%|███████▌  | 3/4 [05:39<01:46, 106.25s/it]9it/s]\u001b[A\n",
      "                                                           \n",
      "Epoch:  75%|███████▌  | 3/4 [05:39<01:46, 106.25s/it]9it/s]\u001b[A\n",
      "                                                           \n",
      "Epoch:  75%|███████▌  | 3/4 [05:39<01:46, 106.25s/it]9it/s]\u001b[A\n",
      "Iteration:  19%|█▉        | 64/329 [00:19<01:51,  2.38it/s]\u001b[A"
     ]
    },
    {
     "name": "stdout",
     "output_type": "stream",
     "text": [
      "2023/08/08 07:17:35 - Cosine-Similarity :\tPearson: 0.9634\tSpearman: 0.9247\n",
      "2023/08/08 07:17:35 - Manhattan-Distance:\tPearson: 0.9571\tSpearman: 0.9229\n",
      "2023/08/08 07:17:35 - Euclidean-Distance:\tPearson: 0.9571\tSpearman: 0.9227\n",
      "2023/08/08 07:17:35 - Dot-Product-Similarity:\tPearson: 0.9561\tSpearman: 0.9115\n"
     ]
    },
    {
     "name": "stderr",
     "output_type": "stream",
     "text": [
      "\n",
      "Iteration:  20%|█▉        | 65/329 [00:19<01:48,  2.44it/s]\u001b[A\n",
      "Iteration:  20%|██        | 66/329 [00:20<01:44,  2.51it/s]\u001b[A\n",
      "Iteration:  20%|██        | 67/329 [00:20<01:41,  2.59it/s]\u001b[A\n",
      "Iteration:  21%|██        | 68/329 [00:20<01:37,  2.66it/s]\u001b[A\n",
      "Iteration:  21%|██        | 69/329 [00:20<01:34,  2.74it/s]\u001b[A\n",
      "Iteration:  21%|██▏       | 70/329 [00:20<01:31,  2.82it/s]\u001b[A\n",
      "Iteration:  22%|██▏       | 71/329 [00:20<01:29,  2.88it/s]\u001b[A\n",
      "Iteration:  22%|██▏       | 72/329 [00:21<01:27,  2.94it/s]\u001b[A\n",
      "Iteration:  22%|██▏       | 73/329 [00:21<01:25,  3.01it/s]\u001b[A\n",
      "Iteration:  22%|██▏       | 74/329 [00:21<01:23,  3.07it/s]\u001b[A\n",
      "Iteration:  23%|██▎       | 75/329 [00:21<01:21,  3.13it/s]\u001b[A\n",
      "Iteration:  23%|██▎       | 76/329 [00:21<01:19,  3.18it/s]\u001b[A\n",
      "Iteration:  23%|██▎       | 77/329 [00:22<01:17,  3.24it/s]\u001b[A\n",
      "Iteration:  24%|██▎       | 78/329 [00:22<01:16,  3.29it/s]\u001b[A\n",
      "Iteration:  24%|██▍       | 79/329 [00:22<01:14,  3.36it/s]\u001b[A\n",
      "Iteration:  24%|██▍       | 80/329 [00:22<01:12,  3.44it/s]\u001b[A\n",
      "Iteration:  25%|██▍       | 81/329 [00:22<01:10,  3.51it/s]\u001b[A\n",
      "Iteration:  25%|██▍       | 82/329 [00:23<01:09,  3.56it/s]\u001b[A\n",
      "Iteration:  25%|██▌       | 83/329 [00:23<01:07,  3.63it/s]\u001b[A\n",
      "Iteration:  26%|██▌       | 84/329 [00:23<01:07,  3.64it/s]\u001b[A\n",
      "Iteration:  26%|██▌       | 85/329 [00:23<01:05,  3.71it/s]\u001b[A\n",
      "Iteration:  26%|██▌       | 86/329 [00:23<01:04,  3.77it/s]\u001b[A\n",
      "Iteration:  26%|██▋       | 87/329 [00:24<01:03,  3.83it/s]\u001b[A\n",
      "Iteration:  27%|██▋       | 88/329 [00:24<01:01,  3.91it/s]\u001b[A\n",
      "Iteration:  27%|██▋       | 89/329 [00:24<01:00,  3.96it/s]\u001b[A\n",
      "Iteration:  27%|██▋       | 90/329 [00:24<00:59,  4.01it/s]\u001b[A\n",
      "Iteration:  28%|██▊       | 91/329 [00:24<00:58,  4.06it/s]\u001b[A\n",
      "Iteration:  28%|██▊       | 92/329 [00:25<00:57,  4.09it/s]\u001b[A\n",
      "Iteration:  28%|██▊       | 93/329 [00:25<00:57,  4.12it/s]\u001b[A\n",
      "Iteration:  29%|██▊       | 94/329 [00:25<00:56,  4.18it/s]\u001b[A\n",
      "Iteration:  29%|██▉       | 95/329 [00:25<00:55,  4.23it/s]\u001b[A\n",
      "                                                           \n",
      "Epoch:  75%|███████▌  | 3/4 [05:45<01:46, 106.25s/it]3it/s]\u001b[A"
     ]
    },
    {
     "name": "stdout",
     "output_type": "stream",
     "text": [
      "2023/08/08 07:17:42 - EmbeddingSimilarityEvaluator: Evaluating the model on sts-dev dataset in epoch 3 after 96 steps:\n"
     ]
    },
    {
     "name": "stderr",
     "output_type": "stream",
     "text": [
      "\n",
      "                                                           \n",
      "Epoch:  75%|███████▌  | 3/4 [05:49<01:46, 106.25s/it]3it/s]\u001b[A\n",
      "                                                           \n",
      "Epoch:  75%|███████▌  | 3/4 [05:49<01:46, 106.25s/it]3it/s]\u001b[A\n",
      "                                                           \n",
      "Epoch:  75%|███████▌  | 3/4 [05:49<01:46, 106.25s/it]3it/s]\u001b[A\n",
      "                                                           \n",
      "Epoch:  75%|███████▌  | 3/4 [05:49<01:46, 106.25s/it]3it/s]\u001b[A\n",
      "Iteration:  29%|██▉       | 96/329 [00:29<01:38,  2.37it/s]\u001b[A\n",
      "Iteration:  29%|██▉       | 97/329 [00:29<01:34,  2.45it/s]\u001b[A"
     ]
    },
    {
     "name": "stdout",
     "output_type": "stream",
     "text": [
      "2023/08/08 07:17:45 - Cosine-Similarity :\tPearson: 0.9631\tSpearman: 0.9241\n",
      "2023/08/08 07:17:45 - Manhattan-Distance:\tPearson: 0.9568\tSpearman: 0.9225\n",
      "2023/08/08 07:17:45 - Euclidean-Distance:\tPearson: 0.9567\tSpearman: 0.9219\n",
      "2023/08/08 07:17:45 - Dot-Product-Similarity:\tPearson: 0.9556\tSpearman: 0.9100\n"
     ]
    },
    {
     "name": "stderr",
     "output_type": "stream",
     "text": [
      "\n",
      "Iteration:  30%|██▉       | 98/329 [00:29<01:31,  2.52it/s]\u001b[A\n",
      "Iteration:  30%|███       | 99/329 [00:30<01:29,  2.57it/s]\u001b[A\n",
      "Iteration:  30%|███       | 100/329 [00:30<01:26,  2.64it/s]\u001b[A\n",
      "Iteration:  31%|███       | 101/329 [00:30<01:24,  2.71it/s]\u001b[A\n",
      "Iteration:  31%|███       | 102/329 [00:30<01:21,  2.78it/s]\u001b[A\n",
      "Iteration:  31%|███▏      | 103/329 [00:30<01:19,  2.84it/s]\u001b[A\n",
      "Iteration:  32%|███▏      | 104/329 [00:31<01:17,  2.90it/s]\u001b[A\n",
      "Iteration:  32%|███▏      | 105/329 [00:31<01:15,  2.97it/s]\u001b[A\n",
      "Iteration:  32%|███▏      | 106/329 [00:31<01:13,  3.02it/s]\u001b[A\n",
      "Iteration:  33%|███▎      | 107/329 [00:31<01:11,  3.09it/s]\u001b[A\n",
      "Iteration:  33%|███▎      | 108/329 [00:31<01:10,  3.15it/s]\u001b[A\n",
      "Iteration:  33%|███▎      | 109/329 [00:32<01:08,  3.23it/s]\u001b[A\n",
      "Iteration:  33%|███▎      | 110/329 [00:32<01:06,  3.29it/s]\u001b[A\n",
      "Iteration:  34%|███▎      | 111/329 [00:32<01:05,  3.34it/s]\u001b[A\n",
      "Iteration:  34%|███▍      | 112/329 [00:32<01:03,  3.40it/s]\u001b[A\n",
      "Iteration:  34%|███▍      | 113/329 [00:32<01:02,  3.47it/s]\u001b[A\n",
      "Iteration:  35%|███▍      | 114/329 [00:32<01:00,  3.54it/s]\u001b[A\n",
      "Iteration:  35%|███▍      | 115/329 [00:33<00:59,  3.59it/s]\u001b[A\n",
      "Iteration:  35%|███▌      | 116/329 [00:33<00:58,  3.64it/s]\u001b[A\n",
      "Iteration:  36%|███▌      | 117/329 [00:33<00:57,  3.72it/s]\u001b[A\n",
      "Iteration:  36%|███▌      | 118/329 [00:33<00:56,  3.76it/s]\u001b[A\n",
      "Iteration:  36%|███▌      | 119/329 [00:33<00:55,  3.80it/s]\u001b[A\n",
      "Iteration:  36%|███▋      | 120/329 [00:34<00:54,  3.85it/s]\u001b[A\n",
      "Iteration:  37%|███▋      | 121/329 [00:34<00:53,  3.91it/s]\u001b[A\n",
      "Iteration:  37%|███▋      | 122/329 [00:34<00:52,  3.93it/s]\u001b[A\n",
      "Iteration:  37%|███▋      | 123/329 [00:34<00:51,  3.98it/s]\u001b[A\n",
      "Iteration:  38%|███▊      | 124/329 [00:34<00:51,  4.02it/s]\u001b[A\n",
      "Iteration:  38%|███▊      | 125/329 [00:35<00:50,  4.06it/s]\u001b[A\n",
      "Iteration:  38%|███▊      | 126/329 [00:35<00:49,  4.10it/s]\u001b[A\n",
      "Iteration:  39%|███▊      | 127/329 [00:35<00:48,  4.17it/s]\u001b[A\n",
      "                                                            \n",
      "Epoch:  75%|███████▌  | 3/4 [05:55<01:46, 106.25s/it]17it/s]\u001b[A"
     ]
    },
    {
     "name": "stdout",
     "output_type": "stream",
     "text": [
      "2023/08/08 07:17:51 - EmbeddingSimilarityEvaluator: Evaluating the model on sts-dev dataset in epoch 3 after 128 steps:\n"
     ]
    },
    {
     "name": "stderr",
     "output_type": "stream",
     "text": [
      "\n",
      "                                                            \n",
      "Epoch:  75%|███████▌  | 3/4 [05:59<01:46, 106.25s/it]17it/s]\u001b[A\n",
      "                                                            \n",
      "Epoch:  75%|███████▌  | 3/4 [05:59<01:46, 106.25s/it]17it/s]\u001b[A\n",
      "                                                            \n",
      "Epoch:  75%|███████▌  | 3/4 [05:59<01:46, 106.25s/it]17it/s]\u001b[A\n",
      "                                                            \n",
      "Epoch:  75%|███████▌  | 3/4 [05:59<01:46, 106.25s/it]17it/s]\u001b[A\n",
      "                                                            \n",
      "Epoch:  75%|███████▌  | 3/4 [05:59<01:46, 106.25s/it]17it/s]\u001b[A"
     ]
    },
    {
     "name": "stdout",
     "output_type": "stream",
     "text": [
      "2023/08/08 07:17:55 - Cosine-Similarity :\tPearson: 0.9639\tSpearman: 0.9260\n",
      "2023/08/08 07:17:55 - Manhattan-Distance:\tPearson: 0.9576\tSpearman: 0.9242\n",
      "2023/08/08 07:17:55 - Euclidean-Distance:\tPearson: 0.9575\tSpearman: 0.9238\n",
      "2023/08/08 07:17:55 - Dot-Product-Similarity:\tPearson: 0.9562\tSpearman: 0.9120\n",
      "2023/08/08 07:17:55 - Save model to output/training_sts_by_Softmaxlossklue-roberta-base-2023-08-08_07-08-05\n"
     ]
    },
    {
     "name": "stderr",
     "output_type": "stream",
     "text": [
      "\n",
      "Iteration:  39%|███▉      | 128/329 [00:40<01:32,  2.18it/s]\u001b[A\n",
      "Iteration:  39%|███▉      | 129/329 [00:40<01:29,  2.24it/s]\u001b[A\n",
      "Iteration:  40%|███▉      | 130/329 [00:40<01:26,  2.31it/s]\u001b[A\n",
      "Iteration:  40%|███▉      | 131/329 [00:40<01:23,  2.37it/s]\u001b[A\n",
      "Iteration:  40%|████      | 132/329 [00:40<01:20,  2.44it/s]\u001b[A\n",
      "Iteration:  40%|████      | 133/329 [00:41<01:18,  2.50it/s]\u001b[A\n",
      "Iteration:  41%|████      | 134/329 [00:41<01:15,  2.57it/s]\u001b[A\n",
      "Iteration:  41%|████      | 135/329 [00:41<01:13,  2.64it/s]\u001b[A\n",
      "Iteration:  41%|████▏     | 136/329 [00:41<01:11,  2.72it/s]\u001b[A\n",
      "Iteration:  42%|████▏     | 137/329 [00:41<01:09,  2.77it/s]\u001b[A\n",
      "Iteration:  42%|████▏     | 138/329 [00:42<01:07,  2.85it/s]\u001b[A\n",
      "Iteration:  42%|████▏     | 139/329 [00:42<01:05,  2.92it/s]\u001b[A\n",
      "Iteration:  43%|████▎     | 140/329 [00:42<01:03,  2.97it/s]\u001b[A\n",
      "Iteration:  43%|████▎     | 141/329 [00:42<01:01,  3.04it/s]\u001b[A\n",
      "Iteration:  43%|████▎     | 142/329 [00:42<00:59,  3.12it/s]\u001b[A\n",
      "Iteration:  43%|████▎     | 143/329 [00:42<00:58,  3.20it/s]\u001b[A\n",
      "Iteration:  44%|████▍     | 144/329 [00:43<00:56,  3.27it/s]\u001b[A\n",
      "Iteration:  44%|████▍     | 145/329 [00:43<00:55,  3.34it/s]\u001b[A\n",
      "Iteration:  44%|████▍     | 146/329 [00:43<00:53,  3.39it/s]\u001b[A\n",
      "Iteration:  45%|████▍     | 147/329 [00:43<00:53,  3.43it/s]\u001b[A\n",
      "Iteration:  45%|████▍     | 148/329 [00:43<00:51,  3.49it/s]\u001b[A\n",
      "Iteration:  45%|████▌     | 149/329 [00:44<00:50,  3.54it/s]\u001b[A\n",
      "Iteration:  46%|████▌     | 150/329 [00:44<00:49,  3.63it/s]\u001b[A\n",
      "Iteration:  46%|████▌     | 151/329 [00:44<00:48,  3.68it/s]\u001b[A\n",
      "Iteration:  46%|████▌     | 152/329 [00:44<00:47,  3.76it/s]\u001b[A\n",
      "Iteration:  47%|████▋     | 153/329 [00:44<00:46,  3.82it/s]\u001b[A\n",
      "Iteration:  47%|████▋     | 154/329 [00:45<00:45,  3.85it/s]\u001b[A\n",
      "Iteration:  47%|████▋     | 155/329 [00:45<00:44,  3.89it/s]\u001b[A\n",
      "Iteration:  47%|████▋     | 156/329 [00:45<00:43,  3.94it/s]\u001b[A\n",
      "Iteration:  48%|████▊     | 157/329 [00:45<00:43,  3.99it/s]\u001b[A\n",
      "Iteration:  48%|████▊     | 158/329 [00:45<00:42,  4.07it/s]\u001b[A\n",
      "Iteration:  48%|████▊     | 159/329 [00:45<00:41,  4.12it/s]\u001b[A\n",
      "                                                            \n",
      "Epoch:  75%|███████▌  | 3/4 [06:05<01:46, 106.25s/it]12it/s]\u001b[A"
     ]
    },
    {
     "name": "stdout",
     "output_type": "stream",
     "text": [
      "2023/08/08 07:18:02 - EmbeddingSimilarityEvaluator: Evaluating the model on sts-dev dataset in epoch 3 after 160 steps:\n"
     ]
    },
    {
     "name": "stderr",
     "output_type": "stream",
     "text": [
      "\n",
      "                                                            \n",
      "Epoch:  75%|███████▌  | 3/4 [06:09<01:46, 106.25s/it]12it/s]\u001b[A\n",
      "                                                            \n",
      "Epoch:  75%|███████▌  | 3/4 [06:09<01:46, 106.25s/it]12it/s]\u001b[A\n",
      "                                                            \n",
      "Epoch:  75%|███████▌  | 3/4 [06:09<01:46, 106.25s/it]12it/s]\u001b[A\n",
      "                                                            \n",
      "Epoch:  75%|███████▌  | 3/4 [06:09<01:46, 106.25s/it]12it/s]\u001b[A\n",
      "                                                            \n",
      "Epoch:  75%|███████▌  | 3/4 [06:09<01:46, 106.25s/it]12it/s]\u001b[A"
     ]
    },
    {
     "name": "stdout",
     "output_type": "stream",
     "text": [
      "2023/08/08 07:18:06 - Cosine-Similarity :\tPearson: 0.9638\tSpearman: 0.9262\n",
      "2023/08/08 07:18:06 - Manhattan-Distance:\tPearson: 0.9577\tSpearman: 0.9246\n",
      "2023/08/08 07:18:06 - Euclidean-Distance:\tPearson: 0.9576\tSpearman: 0.9240\n",
      "2023/08/08 07:18:06 - Dot-Product-Similarity:\tPearson: 0.9560\tSpearman: 0.9119\n",
      "2023/08/08 07:18:06 - Save model to output/training_sts_by_Softmaxlossklue-roberta-base-2023-08-08_07-08-05\n"
     ]
    },
    {
     "name": "stderr",
     "output_type": "stream",
     "text": [
      "\n",
      "Iteration:  49%|████▊     | 160/329 [00:50<01:18,  2.16it/s]\u001b[A\n",
      "Iteration:  49%|████▉     | 161/329 [00:50<01:15,  2.23it/s]\u001b[A\n",
      "Iteration:  49%|████▉     | 162/329 [00:50<01:13,  2.29it/s]\u001b[A\n",
      "Iteration:  50%|████▉     | 163/329 [00:51<01:10,  2.35it/s]\u001b[A\n",
      "Iteration:  50%|████▉     | 164/329 [00:51<01:08,  2.42it/s]\u001b[A\n",
      "Iteration:  50%|█████     | 165/329 [00:51<01:05,  2.49it/s]\u001b[A\n",
      "Iteration:  50%|█████     | 166/329 [00:51<01:03,  2.55it/s]\u001b[A\n",
      "Iteration:  51%|█████     | 167/329 [00:51<01:01,  2.62it/s]\u001b[A\n",
      "Iteration:  51%|█████     | 168/329 [00:52<00:59,  2.70it/s]\u001b[A\n",
      "Iteration:  51%|█████▏    | 169/329 [00:52<00:57,  2.77it/s]\u001b[A\n",
      "Iteration:  52%|█████▏    | 170/329 [00:52<00:56,  2.81it/s]\u001b[A\n",
      "Iteration:  52%|█████▏    | 171/329 [00:52<00:54,  2.88it/s]\u001b[A\n",
      "Iteration:  52%|█████▏    | 172/329 [00:52<00:53,  2.96it/s]\u001b[A\n",
      "Iteration:  53%|█████▎    | 173/329 [00:53<00:51,  3.03it/s]\u001b[A\n",
      "Iteration:  53%|█████▎    | 174/329 [00:53<00:50,  3.09it/s]\u001b[A\n",
      "Iteration:  53%|█████▎    | 175/329 [00:53<00:48,  3.16it/s]\u001b[A\n",
      "Iteration:  53%|█████▎    | 176/329 [00:53<00:47,  3.21it/s]\u001b[A\n",
      "Iteration:  54%|█████▍    | 177/329 [00:53<00:46,  3.28it/s]\u001b[A\n",
      "Iteration:  54%|█████▍    | 178/329 [00:54<00:45,  3.33it/s]\u001b[A\n",
      "Iteration:  54%|█████▍    | 179/329 [00:54<00:44,  3.38it/s]\u001b[A\n",
      "Iteration:  55%|█████▍    | 180/329 [00:54<00:43,  3.45it/s]\u001b[A\n",
      "Iteration:  55%|█████▌    | 181/329 [00:54<00:42,  3.50it/s]\u001b[A\n",
      "Iteration:  55%|█████▌    | 182/329 [00:54<00:41,  3.56it/s]\u001b[A\n",
      "Iteration:  56%|█████▌    | 183/329 [00:55<00:40,  3.61it/s]\u001b[A\n",
      "Iteration:  56%|█████▌    | 184/329 [00:55<00:39,  3.68it/s]\u001b[A\n",
      "Iteration:  56%|█████▌    | 185/329 [00:55<00:38,  3.74it/s]\u001b[A\n",
      "Iteration:  57%|█████▋    | 186/329 [00:55<00:37,  3.81it/s]\u001b[A\n",
      "Iteration:  57%|█████▋    | 187/329 [00:55<00:36,  3.84it/s]\u001b[A\n",
      "Iteration:  57%|█████▋    | 188/329 [00:56<00:36,  3.88it/s]\u001b[A\n",
      "Iteration:  57%|█████▋    | 189/329 [00:56<00:35,  3.89it/s]\u001b[A\n",
      "Iteration:  58%|█████▊    | 190/329 [00:56<00:35,  3.95it/s]\u001b[A\n",
      "Iteration:  58%|█████▊    | 191/329 [00:56<00:34,  4.01it/s]\u001b[A\n",
      "                                                            \n",
      "Epoch:  75%|███████▌  | 3/4 [06:16<01:46, 106.25s/it]01it/s]\u001b[A"
     ]
    },
    {
     "name": "stdout",
     "output_type": "stream",
     "text": [
      "2023/08/08 07:18:13 - EmbeddingSimilarityEvaluator: Evaluating the model on sts-dev dataset in epoch 3 after 192 steps:\n"
     ]
    },
    {
     "name": "stderr",
     "output_type": "stream",
     "text": [
      "\n",
      "                                                            \n",
      "Epoch:  75%|███████▌  | 3/4 [06:20<01:46, 106.25s/it]01it/s]\u001b[A\n",
      "                                                            \n",
      "Epoch:  75%|███████▌  | 3/4 [06:20<01:46, 106.25s/it]01it/s]\u001b[A\n",
      "                                                            \n",
      "Epoch:  75%|███████▌  | 3/4 [06:20<01:46, 106.25s/it]01it/s]\u001b[A\n",
      "                                                            \n",
      "Epoch:  75%|███████▌  | 3/4 [06:20<01:46, 106.25s/it]01it/s]\u001b[A\n",
      "                                                            \n",
      "Epoch:  75%|███████▌  | 3/4 [06:20<01:46, 106.25s/it]01it/s]\u001b[A"
     ]
    },
    {
     "name": "stdout",
     "output_type": "stream",
     "text": [
      "2023/08/08 07:18:16 - Cosine-Similarity :\tPearson: 0.9637\tSpearman: 0.9264\n",
      "2023/08/08 07:18:16 - Manhattan-Distance:\tPearson: 0.9579\tSpearman: 0.9245\n",
      "2023/08/08 07:18:16 - Euclidean-Distance:\tPearson: 0.9577\tSpearman: 0.9240\n",
      "2023/08/08 07:18:16 - Dot-Product-Similarity:\tPearson: 0.9557\tSpearman: 0.9114\n",
      "2023/08/08 07:18:16 - Save model to output/training_sts_by_Softmaxlossklue-roberta-base-2023-08-08_07-08-05\n"
     ]
    },
    {
     "name": "stderr",
     "output_type": "stream",
     "text": [
      "\n",
      "Iteration:  58%|█████▊    | 192/329 [01:01<01:03,  2.15it/s]\u001b[A\n",
      "Iteration:  59%|█████▊    | 193/329 [01:01<01:01,  2.22it/s]\u001b[A\n",
      "Iteration:  59%|█████▉    | 194/329 [01:01<00:58,  2.29it/s]\u001b[A\n",
      "Iteration:  59%|█████▉    | 195/329 [01:01<00:56,  2.36it/s]\u001b[A\n",
      "Iteration:  60%|█████▉    | 196/329 [01:01<00:54,  2.42it/s]\u001b[A\n",
      "Iteration:  60%|█████▉    | 197/329 [01:02<00:52,  2.49it/s]\u001b[A\n",
      "Iteration:  60%|██████    | 198/329 [01:02<00:51,  2.56it/s]\u001b[A\n",
      "Iteration:  60%|██████    | 199/329 [01:02<00:49,  2.63it/s]\u001b[A\n",
      "Iteration:  61%|██████    | 200/329 [01:02<00:47,  2.70it/s]\u001b[A\n",
      "Iteration:  61%|██████    | 201/329 [01:02<00:46,  2.78it/s]\u001b[A\n",
      "Iteration:  61%|██████▏   | 202/329 [01:02<00:44,  2.85it/s]\u001b[A\n",
      "Iteration:  62%|██████▏   | 203/329 [01:03<00:43,  2.92it/s]\u001b[A\n",
      "Iteration:  62%|██████▏   | 204/329 [01:03<00:41,  3.00it/s]\u001b[A\n",
      "Iteration:  62%|██████▏   | 205/329 [01:03<00:40,  3.07it/s]\u001b[A\n",
      "Iteration:  63%|██████▎   | 206/329 [01:03<00:38,  3.15it/s]\u001b[A\n",
      "Iteration:  63%|██████▎   | 207/329 [01:03<00:37,  3.23it/s]\u001b[A\n",
      "Iteration:  63%|██████▎   | 208/329 [01:03<00:36,  3.31it/s]\u001b[A\n",
      "Iteration:  64%|██████▎   | 209/329 [01:04<00:35,  3.36it/s]\u001b[A\n",
      "Iteration:  64%|██████▍   | 210/329 [01:04<00:34,  3.45it/s]\u001b[A\n",
      "Iteration:  64%|██████▍   | 211/329 [01:04<00:33,  3.51it/s]\u001b[A\n",
      "Iteration:  64%|██████▍   | 212/329 [01:04<00:32,  3.58it/s]\u001b[A\n",
      "Iteration:  65%|██████▍   | 213/329 [01:04<00:31,  3.64it/s]\u001b[A\n",
      "Iteration:  65%|██████▌   | 214/329 [01:05<00:31,  3.67it/s]\u001b[A\n",
      "Iteration:  65%|██████▌   | 215/329 [01:05<00:30,  3.72it/s]\u001b[A\n",
      "Iteration:  66%|██████▌   | 216/329 [01:05<00:30,  3.76it/s]\u001b[A\n",
      "Iteration:  66%|██████▌   | 217/329 [01:05<00:29,  3.79it/s]\u001b[A\n",
      "Iteration:  66%|██████▋   | 218/329 [01:05<00:28,  3.86it/s]\u001b[A\n",
      "Iteration:  67%|██████▋   | 219/329 [01:06<00:27,  3.94it/s]\u001b[A\n",
      "Iteration:  67%|██████▋   | 220/329 [01:06<00:27,  4.01it/s]\u001b[A\n",
      "Iteration:  67%|██████▋   | 221/329 [01:06<00:26,  4.04it/s]\u001b[A\n",
      "Iteration:  67%|██████▋   | 222/329 [01:06<00:26,  4.08it/s]\u001b[A\n",
      "Iteration:  68%|██████▊   | 223/329 [01:06<00:25,  4.13it/s]\u001b[A\n",
      "                                                            \n",
      "Epoch:  75%|███████▌  | 3/4 [06:26<01:46, 106.25s/it]13it/s]\u001b[A"
     ]
    },
    {
     "name": "stdout",
     "output_type": "stream",
     "text": [
      "2023/08/08 07:18:23 - EmbeddingSimilarityEvaluator: Evaluating the model on sts-dev dataset in epoch 3 after 224 steps:\n"
     ]
    },
    {
     "name": "stderr",
     "output_type": "stream",
     "text": [
      "\n",
      "                                                            \n",
      "Epoch:  75%|███████▌  | 3/4 [06:30<01:46, 106.25s/it]13it/s]\u001b[A\n",
      "                                                            \n",
      "Epoch:  75%|███████▌  | 3/4 [06:30<01:46, 106.25s/it]13it/s]\u001b[A\n",
      "                                                            \n",
      "Epoch:  75%|███████▌  | 3/4 [06:30<01:46, 106.25s/it]13it/s]\u001b[A\n",
      "                                                            \n",
      "Epoch:  75%|███████▌  | 3/4 [06:30<01:46, 106.25s/it]13it/s]\u001b[A\n",
      "Iteration:  68%|██████▊   | 224/329 [01:10<00:44,  2.34it/s]\u001b[A"
     ]
    },
    {
     "name": "stdout",
     "output_type": "stream",
     "text": [
      "2023/08/08 07:18:27 - Cosine-Similarity :\tPearson: 0.9638\tSpearman: 0.9261\n",
      "2023/08/08 07:18:27 - Manhattan-Distance:\tPearson: 0.9573\tSpearman: 0.9239\n",
      "2023/08/08 07:18:27 - Euclidean-Distance:\tPearson: 0.9573\tSpearman: 0.9234\n",
      "2023/08/08 07:18:27 - Dot-Product-Similarity:\tPearson: 0.9556\tSpearman: 0.9112\n"
     ]
    },
    {
     "name": "stderr",
     "output_type": "stream",
     "text": [
      "\n",
      "Iteration:  68%|██████▊   | 225/329 [01:11<00:43,  2.40it/s]\u001b[A\n",
      "Iteration:  69%|██████▊   | 226/329 [01:11<00:41,  2.46it/s]\u001b[A\n",
      "Iteration:  69%|██████▉   | 227/329 [01:11<00:40,  2.54it/s]\u001b[A\n",
      "Iteration:  69%|██████▉   | 228/329 [01:11<00:38,  2.61it/s]\u001b[A\n",
      "Iteration:  70%|██████▉   | 229/329 [01:11<00:37,  2.66it/s]\u001b[A\n",
      "Iteration:  70%|██████▉   | 230/329 [01:11<00:36,  2.73it/s]\u001b[A\n",
      "Iteration:  70%|███████   | 231/329 [01:12<00:35,  2.79it/s]\u001b[A\n",
      "Iteration:  71%|███████   | 232/329 [01:12<00:34,  2.84it/s]\u001b[A\n",
      "Iteration:  71%|███████   | 233/329 [01:12<00:32,  2.92it/s]\u001b[A\n",
      "Iteration:  71%|███████   | 234/329 [01:12<00:31,  2.99it/s]\u001b[A\n",
      "Iteration:  71%|███████▏  | 235/329 [01:12<00:30,  3.08it/s]\u001b[A\n",
      "Iteration:  72%|███████▏  | 236/329 [01:13<00:29,  3.16it/s]\u001b[A\n",
      "Iteration:  72%|███████▏  | 237/329 [01:13<00:28,  3.21it/s]\u001b[A\n",
      "Iteration:  72%|███████▏  | 238/329 [01:13<00:27,  3.29it/s]\u001b[A\n",
      "Iteration:  73%|███████▎  | 239/329 [01:13<00:26,  3.35it/s]\u001b[A\n",
      "Iteration:  73%|███████▎  | 240/329 [01:13<00:26,  3.42it/s]\u001b[A\n",
      "Iteration:  73%|███████▎  | 241/329 [01:13<00:25,  3.50it/s]\u001b[A\n",
      "Iteration:  74%|███████▎  | 242/329 [01:14<00:24,  3.56it/s]\u001b[A\n",
      "Iteration:  74%|███████▍  | 243/329 [01:14<00:23,  3.60it/s]\u001b[A\n",
      "Iteration:  74%|███████▍  | 244/329 [01:14<00:23,  3.66it/s]\u001b[A\n",
      "Iteration:  74%|███████▍  | 245/329 [01:14<00:22,  3.73it/s]\u001b[A\n",
      "Iteration:  75%|███████▍  | 246/329 [01:14<00:22,  3.74it/s]\u001b[A\n",
      "Iteration:  75%|███████▌  | 247/329 [01:15<00:21,  3.80it/s]\u001b[A\n",
      "Iteration:  75%|███████▌  | 248/329 [01:15<00:21,  3.85it/s]\u001b[A\n",
      "Iteration:  76%|███████▌  | 249/329 [01:15<00:20,  3.91it/s]\u001b[A\n",
      "Iteration:  76%|███████▌  | 250/329 [01:15<00:19,  3.98it/s]\u001b[A\n",
      "Iteration:  76%|███████▋  | 251/329 [01:15<00:19,  4.01it/s]\u001b[A\n",
      "Iteration:  77%|███████▋  | 252/329 [01:16<00:18,  4.06it/s]\u001b[A\n",
      "Iteration:  77%|███████▋  | 253/329 [01:16<00:18,  4.13it/s]\u001b[A\n",
      "Iteration:  77%|███████▋  | 254/329 [01:16<00:17,  4.18it/s]\u001b[A\n",
      "Iteration:  78%|███████▊  | 255/329 [01:16<00:17,  4.22it/s]\u001b[A\n",
      "                                                            \n",
      "Epoch:  75%|███████▌  | 3/4 [06:36<01:46, 106.25s/it]22it/s]\u001b[A"
     ]
    },
    {
     "name": "stdout",
     "output_type": "stream",
     "text": [
      "2023/08/08 07:18:33 - EmbeddingSimilarityEvaluator: Evaluating the model on sts-dev dataset in epoch 3 after 256 steps:\n"
     ]
    },
    {
     "name": "stderr",
     "output_type": "stream",
     "text": [
      "\n",
      "                                                            \n",
      "Epoch:  75%|███████▌  | 3/4 [06:40<01:46, 106.25s/it]22it/s]\u001b[A\n",
      "                                                            \n",
      "Epoch:  75%|███████▌  | 3/4 [06:40<01:46, 106.25s/it]22it/s]\u001b[A\n",
      "                                                            \n",
      "Epoch:  75%|███████▌  | 3/4 [06:40<01:46, 106.25s/it]22it/s]\u001b[A\n",
      "                                                            \n",
      "Epoch:  75%|███████▌  | 3/4 [06:40<01:46, 106.25s/it]22it/s]\u001b[A\n",
      "Iteration:  78%|███████▊  | 256/329 [01:20<00:30,  2.37it/s]\u001b[A"
     ]
    },
    {
     "name": "stdout",
     "output_type": "stream",
     "text": [
      "2023/08/08 07:18:36 - Cosine-Similarity :\tPearson: 0.9636\tSpearman: 0.9257\n",
      "2023/08/08 07:18:36 - Manhattan-Distance:\tPearson: 0.9571\tSpearman: 0.9236\n",
      "2023/08/08 07:18:36 - Euclidean-Distance:\tPearson: 0.9571\tSpearman: 0.9231\n",
      "2023/08/08 07:18:36 - Dot-Product-Similarity:\tPearson: 0.9555\tSpearman: 0.9109\n"
     ]
    },
    {
     "name": "stderr",
     "output_type": "stream",
     "text": [
      "\n",
      "Iteration:  78%|███████▊  | 257/329 [01:20<00:29,  2.43it/s]\u001b[A\n",
      "Iteration:  78%|███████▊  | 258/329 [01:20<00:28,  2.49it/s]\u001b[A\n",
      "Iteration:  79%|███████▊  | 259/329 [01:21<00:27,  2.57it/s]\u001b[A\n",
      "Iteration:  79%|███████▉  | 260/329 [01:21<00:26,  2.64it/s]\u001b[A\n",
      "Iteration:  79%|███████▉  | 261/329 [01:21<00:25,  2.70it/s]\u001b[A\n",
      "Iteration:  80%|███████▉  | 262/329 [01:21<00:24,  2.76it/s]\u001b[A\n",
      "Iteration:  80%|███████▉  | 263/329 [01:21<00:23,  2.84it/s]\u001b[A\n",
      "Iteration:  80%|████████  | 264/329 [01:22<00:22,  2.92it/s]\u001b[A\n",
      "Iteration:  81%|████████  | 265/329 [01:22<00:21,  2.99it/s]\u001b[A\n",
      "Iteration:  81%|████████  | 266/329 [01:22<00:20,  3.05it/s]\u001b[A\n",
      "Iteration:  81%|████████  | 267/329 [01:22<00:19,  3.11it/s]\u001b[A\n",
      "Iteration:  81%|████████▏ | 268/329 [01:22<00:19,  3.18it/s]\u001b[A\n",
      "Iteration:  82%|████████▏ | 269/329 [01:23<00:18,  3.25it/s]\u001b[A\n",
      "Iteration:  82%|████████▏ | 270/329 [01:23<00:17,  3.31it/s]\u001b[A\n",
      "Iteration:  82%|████████▏ | 271/329 [01:23<00:17,  3.37it/s]\u001b[A\n",
      "Iteration:  83%|████████▎ | 272/329 [01:23<00:16,  3.45it/s]\u001b[A\n",
      "Iteration:  83%|████████▎ | 273/329 [01:23<00:15,  3.51it/s]\u001b[A\n",
      "Iteration:  83%|████████▎ | 274/329 [01:23<00:15,  3.55it/s]\u001b[A\n",
      "Iteration:  84%|████████▎ | 275/329 [01:24<00:14,  3.62it/s]\u001b[A\n",
      "Iteration:  84%|████████▍ | 276/329 [01:24<00:14,  3.68it/s]\u001b[A\n",
      "Iteration:  84%|████████▍ | 277/329 [01:24<00:14,  3.71it/s]\u001b[A\n",
      "Iteration:  84%|████████▍ | 278/329 [01:24<00:13,  3.72it/s]\u001b[A\n",
      "Iteration:  85%|████████▍ | 279/329 [01:24<00:13,  3.81it/s]\u001b[A\n",
      "Iteration:  85%|████████▌ | 280/329 [01:25<00:12,  3.89it/s]\u001b[A\n",
      "Iteration:  85%|████████▌ | 281/329 [01:25<00:12,  3.96it/s]\u001b[A\n",
      "Iteration:  86%|████████▌ | 282/329 [01:25<00:11,  4.01it/s]\u001b[A\n",
      "Iteration:  86%|████████▌ | 283/329 [01:25<00:11,  4.05it/s]\u001b[A\n",
      "Iteration:  86%|████████▋ | 284/329 [01:25<00:10,  4.12it/s]\u001b[A\n",
      "Iteration:  87%|████████▋ | 285/329 [01:26<00:10,  4.14it/s]\u001b[A\n",
      "Iteration:  87%|████████▋ | 286/329 [01:26<00:10,  4.21it/s]\u001b[A\n",
      "Iteration:  87%|████████▋ | 287/329 [01:26<00:09,  4.25it/s]\u001b[A\n",
      "                                                            \n",
      "Epoch:  75%|███████▌  | 3/4 [06:46<01:46, 106.25s/it]25it/s]\u001b[A"
     ]
    },
    {
     "name": "stdout",
     "output_type": "stream",
     "text": [
      "2023/08/08 07:18:42 - EmbeddingSimilarityEvaluator: Evaluating the model on sts-dev dataset in epoch 3 after 288 steps:\n"
     ]
    },
    {
     "name": "stderr",
     "output_type": "stream",
     "text": [
      "\n",
      "                                                            \n",
      "Epoch:  75%|███████▌  | 3/4 [06:49<01:46, 106.25s/it]25it/s]\u001b[A\n",
      "                                                            \n",
      "Epoch:  75%|███████▌  | 3/4 [06:49<01:46, 106.25s/it]25it/s]\u001b[A\n",
      "                                                            \n",
      "Epoch:  75%|███████▌  | 3/4 [06:49<01:46, 106.25s/it]25it/s]\u001b[A\n",
      "                                                            \n",
      "Epoch:  75%|███████▌  | 3/4 [06:49<01:46, 106.25s/it]25it/s]\u001b[A\n",
      "Iteration:  88%|████████▊ | 288/329 [01:30<00:17,  2.40it/s]\u001b[A"
     ]
    },
    {
     "name": "stdout",
     "output_type": "stream",
     "text": [
      "2023/08/08 07:18:46 - Cosine-Similarity :\tPearson: 0.9637\tSpearman: 0.9257\n",
      "2023/08/08 07:18:46 - Manhattan-Distance:\tPearson: 0.9574\tSpearman: 0.9237\n",
      "2023/08/08 07:18:46 - Euclidean-Distance:\tPearson: 0.9573\tSpearman: 0.9233\n",
      "2023/08/08 07:18:46 - Dot-Product-Similarity:\tPearson: 0.9556\tSpearman: 0.9109\n"
     ]
    },
    {
     "name": "stderr",
     "output_type": "stream",
     "text": [
      "\n",
      "Iteration:  88%|████████▊ | 289/329 [01:30<00:16,  2.47it/s]\u001b[A\n",
      "Iteration:  88%|████████▊ | 290/329 [01:30<00:15,  2.54it/s]\u001b[A\n",
      "Iteration:  88%|████████▊ | 291/329 [01:30<00:14,  2.61it/s]\u001b[A\n",
      "Iteration:  89%|████████▉ | 292/329 [01:31<00:13,  2.66it/s]\u001b[A\n",
      "Iteration:  89%|████████▉ | 293/329 [01:31<00:13,  2.74it/s]\u001b[A\n",
      "Iteration:  89%|████████▉ | 294/329 [01:31<00:12,  2.80it/s]\u001b[A\n",
      "Iteration:  90%|████████▉ | 295/329 [01:31<00:11,  2.86it/s]\u001b[A\n",
      "Iteration:  90%|████████▉ | 296/329 [01:31<00:11,  2.94it/s]\u001b[A\n",
      "Iteration:  90%|█████████ | 297/329 [01:32<00:10,  3.00it/s]\u001b[A\n",
      "Iteration:  91%|█████████ | 298/329 [01:32<00:10,  3.07it/s]\u001b[A\n",
      "Iteration:  91%|█████████ | 299/329 [01:32<00:09,  3.14it/s]\u001b[A\n",
      "Iteration:  91%|█████████ | 300/329 [01:32<00:08,  3.23it/s]\u001b[A\n",
      "Iteration:  91%|█████████▏| 301/329 [01:32<00:08,  3.28it/s]\u001b[A\n",
      "Iteration:  92%|█████████▏| 302/329 [01:32<00:08,  3.35it/s]\u001b[A\n",
      "Iteration:  92%|█████████▏| 303/329 [01:33<00:07,  3.39it/s]\u001b[A\n",
      "Iteration:  92%|█████████▏| 304/329 [01:33<00:07,  3.45it/s]\u001b[A\n",
      "Iteration:  93%|█████████▎| 305/329 [01:33<00:06,  3.52it/s]\u001b[A\n",
      "Iteration:  93%|█████████▎| 306/329 [01:33<00:06,  3.60it/s]\u001b[A\n",
      "Iteration:  93%|█████████▎| 307/329 [01:33<00:06,  3.66it/s]\u001b[A\n",
      "Iteration:  94%|█████████▎| 308/329 [01:34<00:05,  3.71it/s]\u001b[A\n",
      "Iteration:  94%|█████████▍| 309/329 [01:34<00:05,  3.78it/s]\u001b[A\n",
      "Iteration:  94%|█████████▍| 310/329 [01:34<00:04,  3.83it/s]\u001b[A\n",
      "Iteration:  95%|█████████▍| 311/329 [01:34<00:04,  3.90it/s]\u001b[A\n",
      "Iteration:  95%|█████████▍| 312/329 [01:34<00:04,  3.95it/s]\u001b[A\n",
      "Iteration:  95%|█████████▌| 313/329 [01:34<00:03,  4.00it/s]\u001b[A\n",
      "Iteration:  95%|█████████▌| 314/329 [01:35<00:03,  4.05it/s]\u001b[A\n",
      "Iteration:  96%|█████████▌| 315/329 [01:35<00:03,  4.10it/s]\u001b[A\n",
      "Iteration:  96%|█████████▌| 316/329 [01:35<00:03,  4.16it/s]\u001b[A\n",
      "Iteration:  96%|█████████▋| 317/329 [01:35<00:02,  4.21it/s]\u001b[A\n",
      "Iteration:  97%|█████████▋| 318/329 [01:35<00:02,  4.23it/s]\u001b[A\n",
      "Iteration:  97%|█████████▋| 319/329 [01:36<00:02,  4.27it/s]\u001b[A\n",
      "                                                            \n",
      "Epoch:  75%|███████▌  | 3/4 [06:56<01:46, 106.25s/it]27it/s]\u001b[A"
     ]
    },
    {
     "name": "stdout",
     "output_type": "stream",
     "text": [
      "2023/08/08 07:18:52 - EmbeddingSimilarityEvaluator: Evaluating the model on sts-dev dataset in epoch 3 after 320 steps:\n"
     ]
    },
    {
     "name": "stderr",
     "output_type": "stream",
     "text": [
      "\n",
      "                                                            \n",
      "Epoch:  75%|███████▌  | 3/4 [06:59<01:46, 106.25s/it]27it/s]\u001b[A\n",
      "                                                            \n",
      "Epoch:  75%|███████▌  | 3/4 [06:59<01:46, 106.25s/it]27it/s]\u001b[A\n",
      "                                                            \n",
      "Epoch:  75%|███████▌  | 3/4 [06:59<01:46, 106.25s/it]27it/s]\u001b[A\n",
      "                                                            \n",
      "Epoch:  75%|███████▌  | 3/4 [06:59<01:46, 106.25s/it]27it/s]\u001b[A\n",
      "Iteration:  97%|█████████▋| 320/329 [01:40<00:03,  2.38it/s]\u001b[A"
     ]
    },
    {
     "name": "stdout",
     "output_type": "stream",
     "text": [
      "2023/08/08 07:18:56 - Cosine-Similarity :\tPearson: 0.9637\tSpearman: 0.9258\n",
      "2023/08/08 07:18:56 - Manhattan-Distance:\tPearson: 0.9575\tSpearman: 0.9239\n",
      "2023/08/08 07:18:56 - Euclidean-Distance:\tPearson: 0.9574\tSpearman: 0.9235\n",
      "2023/08/08 07:18:56 - Dot-Product-Similarity:\tPearson: 0.9556\tSpearman: 0.9110\n"
     ]
    },
    {
     "name": "stderr",
     "output_type": "stream",
     "text": [
      "\n",
      "Iteration:  98%|█████████▊| 321/329 [01:40<00:03,  2.44it/s]\u001b[A\n",
      "Iteration:  98%|█████████▊| 322/329 [01:40<00:02,  2.51it/s]\u001b[A\n",
      "Iteration:  98%|█████████▊| 323/329 [01:40<00:02,  2.58it/s]\u001b[A\n",
      "Iteration:  98%|█████████▊| 324/329 [01:40<00:01,  2.65it/s]\u001b[A\n",
      "Iteration:  99%|█████████▉| 325/329 [01:40<00:01,  2.72it/s]\u001b[A\n",
      "Iteration:  99%|█████████▉| 326/329 [01:41<00:01,  2.80it/s]\u001b[A\n",
      "Iteration:  99%|█████████▉| 327/329 [01:41<00:00,  2.88it/s]\u001b[A\n",
      "Iteration: 100%|█████████▉| 328/329 [01:41<00:00,  2.95it/s]\u001b[A\n",
      "Iteration: 100%|██████████| 329/329 [01:41<00:00,  3.24it/s]\u001b[A\n",
      "Epoch:  75%|███████▌  | 3/4 [07:01<01:46, 106.25s/it]"
     ]
    },
    {
     "name": "stdout",
     "output_type": "stream",
     "text": [
      "2023/08/08 07:18:57 - EmbeddingSimilarityEvaluator: Evaluating the model on sts-dev dataset after epoch 3:\n"
     ]
    },
    {
     "name": "stderr",
     "output_type": "stream",
     "text": [
      "Epoch: 100%|██████████| 4/4 [07:05<00:00, 106.26s/it]"
     ]
    },
    {
     "name": "stdout",
     "output_type": "stream",
     "text": [
      "2023/08/08 07:19:01 - Cosine-Similarity :\tPearson: 0.9637\tSpearman: 0.9258\n",
      "2023/08/08 07:19:01 - Manhattan-Distance:\tPearson: 0.9575\tSpearman: 0.9239\n",
      "2023/08/08 07:19:01 - Euclidean-Distance:\tPearson: 0.9574\tSpearman: 0.9235\n",
      "2023/08/08 07:19:01 - Dot-Product-Similarity:\tPearson: 0.9556\tSpearman: 0.9110\n"
     ]
    },
    {
     "name": "stderr",
     "output_type": "stream",
     "text": [
      "\n"
     ]
    }
   ],
   "source": [
    "# Use CosineSimilarityLoss\n",
    "train_loss = losses.CosineSimilarityLoss(model=model)\n",
    "\n",
    "# warmup steps\n",
    "warmup_steps = math.ceil(len(sts_train_examples) * sts_num_epochs / train_batch_size * 0.1) #10% of train data for warm-up\n",
    "logging.info(\"Warmup-steps: {}\".format(warmup_steps))\n",
    "\n",
    "# Trainingㅁ\n",
    "model.fit(\n",
    "    train_objectives=[(train_dataloader, train_loss)],\n",
    "    evaluator=dev_evaluator,\n",
    "    epochs=sts_num_epochs,\n",
    "    evaluation_steps=int(len(train_dataloader)*0.1),\n",
    "    warmup_steps=warmup_steps,\n",
    "    output_path=sts_model_save_path\n",
    ")"
   ]
  },
  {
   "cell_type": "code",
   "execution_count": 18,
   "id": "ec17d238-4e12-4533-a61b-a0f8d3f84098",
   "metadata": {
    "tags": []
   },
   "outputs": [
    {
     "name": "stdout",
     "output_type": "stream",
     "text": [
      "2023/08/08 07:19:01 - EmbeddingSimilarityEvaluator: Evaluating the model on sts-test dataset:\n",
      "2023/08/08 07:19:03 - Cosine-Similarity :\tPearson: 0.8838\tSpearman: 0.8855\n",
      "2023/08/08 07:19:03 - Manhattan-Distance:\tPearson: 0.8849\tSpearman: 0.8817\n",
      "2023/08/08 07:19:03 - Euclidean-Distance:\tPearson: 0.8847\tSpearman: 0.8816\n",
      "2023/08/08 07:19:03 - Dot-Product-Similarity:\tPearson: 0.8698\tSpearman: 0.8679\n"
     ]
    },
    {
     "data": {
      "text/plain": [
       "0.8855367274673944"
      ]
     },
     "execution_count": 18,
     "metadata": {},
     "output_type": "execute_result"
    }
   ],
   "source": [
    "# evaluation sts-test\n",
    "test_evaluator(model, output_path=sts_model_save_path)"
   ]
  },
  {
   "cell_type": "code",
   "execution_count": 10,
   "id": "5309781b-2dff-4f3b-8c12-06510b7ed45c",
   "metadata": {
    "tags": []
   },
   "outputs": [],
   "source": [
    "from sklearn.metrics import classification_report\n",
    "from sklearn.metrics.pairwise import paired_cosine_distances, paired_euclidean_distances, paired_manhattan_distances\n",
    "from scipy.stats import pearsonr"
   ]
  },
  {
   "cell_type": "code",
   "execution_count": 20,
   "id": "c49411ef-7c3c-4b9c-97cb-306a79784a4d",
   "metadata": {
    "tags": []
   },
   "outputs": [
    {
     "name": "stdout",
     "output_type": "stream",
     "text": [
      "{'seed_track_nm': 'Seasons (Feat. Harley Bird) (Futuristik & Whogaux Remix)', 'seed_track_artist_nm_list': ['Cadmium', 'Rival'], 'similar_track_nm': 'Seasons (Futuristik & Whogaux Remix)', 'similar_track_artist_nm_list': ['Cadmium', 'Harley Bird', 'Rival'], 'seed_track_nm_rnm': 'seasons', 'similar_track_nm_rnm': 'seasons'}\n"
     ]
    }
   ],
   "source": [
    "import json\n",
    "import pandas as pd\n",
    "\n",
    "dset = []\n",
    "\n",
    "with open(\"cbf_track_names.json\") as fp:\n",
    "    for l in fp:\n",
    "        d = json.loads(l)\n",
    "        dset.append(d)\n",
    "\n",
    "print(dset[0])\n",
    "df = pd.DataFrame(dset)"
   ]
  },
  {
   "cell_type": "code",
   "execution_count": 2,
   "id": "b377c704-1ce5-4033-97da-87a1a4fb5b2b",
   "metadata": {
    "tags": []
   },
   "outputs": [],
   "source": [
    "import numpy as np\n",
    "import pandas as pd\n",
    "file1 = pd.read_csv('cbf_track.csv')\n",
    "file1 = file1.set_index(np.arange(len(file1)))"
   ]
  },
  {
   "cell_type": "code",
   "execution_count": 5,
   "id": "e5a550c3-decd-4f49-931a-1425d87a39bd",
   "metadata": {
    "tags": []
   },
   "outputs": [
    {
     "name": "stderr",
     "output_type": "stream",
     "text": [
      "IOPub data rate exceeded.\n",
      "The Jupyter server will temporarily stop sending output\n",
      "to the client in order to avoid crashing it.\n",
      "To change this limit, set the config variable\n",
      "`--ServerApp.iopub_data_rate_limit`.\n",
      "\n",
      "Current values:\n",
      "ServerApp.iopub_data_rate_limit=1000000.0 (bytes/sec)\n",
      "ServerApp.rate_limit_window=3.0 (secs)\n",
      "\n"
     ]
    }
   ],
   "source": [
    "file1['artist_same'] = 0\n",
    "for i in range(len(file1)):\n",
    "    if file1['track_artist'][i] == file1['similar_track_artist'][i]:\n",
    "        file1['artist_same'][i]=1"
   ]
  },
  {
   "cell_type": "code",
   "execution_count": 11,
   "id": "a875855d-d75c-4f21-9bb5-1337399e66a0",
   "metadata": {
    "tags": []
   },
   "outputs": [],
   "source": [
    "file1.to_csv('cbf_track.csv')"
   ]
  },
  {
   "cell_type": "code",
   "execution_count": 72,
   "id": "e4c0a609-3936-4a42-ab7f-c824ee0b6da9",
   "metadata": {
    "tags": []
   },
   "outputs": [],
   "source": [
    "file1 = pd.read_parquet('rep_track.parquet')\n",
    "file1=file1.set_index(np.arange(len(file1)))\n",
    "file1['merge_key'] = file1['track_nm_notbracspace']+file1['artist_ids']\n",
    "file1['similar_merge_key'] = file1['similar_track_nm_notbracspace']+file1['similar_artist_ids']"
   ]
  },
  {
   "cell_type": "code",
   "execution_count": 7,
   "id": "3bdb9896-4667-435c-9eac-e68ab6408eea",
   "metadata": {
    "tags": []
   },
   "outputs": [],
   "source": [
    "new_df = pd.DataFrame({'sentence1':file1['merge_key'], 'sentence2':file1['similar_merge_key'],'label':0})"
   ]
  },
  {
   "cell_type": "code",
   "execution_count": 8,
   "id": "264a8911-bb93-4470-8316-6e3234dad06a",
   "metadata": {
    "tags": []
   },
   "outputs": [],
   "source": [
    "sentence1 = []\n",
    "sentence2 = []\n",
    "labels = []\n",
    "for i in range(len(new_df)):\n",
    "    sentence1.append(new_df['sentence1'][i])\n",
    "    sentence2.append(new_df['sentence2'][i])\n",
    "    labels.append(new_df['label'][i])"
   ]
  },
  {
   "cell_type": "code",
   "execution_count": 9,
   "id": "d7b92d4f-2ec2-4356-9296-f208a33f7f45",
   "metadata": {
    "tags": []
   },
   "outputs": [
    {
     "ename": "NameError",
     "evalue": "name 'SentenceTransformer' is not defined",
     "output_type": "error",
     "traceback": [
      "\u001b[0;31m---------------------------------------------------------------------------\u001b[0m",
      "\u001b[0;31mNameError\u001b[0m                                 Traceback (most recent call last)",
      "Cell \u001b[0;32mIn[9], line 1\u001b[0m\n\u001b[0;32m----> 1\u001b[0m model \u001b[38;5;241m=\u001b[39m \u001b[43mSentenceTransformer\u001b[49m(sts_model_save_path)\n\u001b[1;32m      3\u001b[0m corpus_embeddings \u001b[38;5;241m=\u001b[39m model\u001b[38;5;241m.\u001b[39mencode(sentence1, convert_to_tensor\u001b[38;5;241m=\u001b[39m\u001b[38;5;28;01mTrue\u001b[39;00m) \u001b[38;5;66;03m# senetence1 유사도\u001b[39;00m\n\u001b[1;32m      4\u001b[0m query_embeddings \u001b[38;5;241m=\u001b[39m model\u001b[38;5;241m.\u001b[39mencode(sentence2, convert_to_tensor\u001b[38;5;241m=\u001b[39m\u001b[38;5;28;01mTrue\u001b[39;00m) \u001b[38;5;66;03m# sentence2 유사도\u001b[39;00m\n",
      "\u001b[0;31mNameError\u001b[0m: name 'SentenceTransformer' is not defined"
     ]
    }
   ],
   "source": [
    "model = SentenceTransformer(sts_model_save_path)\n",
    "\n",
    "corpus_embeddings = model.encode(sentence1, convert_to_tensor=True) # senetence1 유사도\n",
    "query_embeddings = model.encode(sentence2, convert_to_tensor=True) # sentence2 유사도\n",
    "\n",
    "def cosine_similarity_manual(x, y, small_number=1e-8): # sentence1과 sentence2의 임베딩값으로 유사도 계산\n",
    "    result =  torch.dot(x, y) / (torch.linalg.norm(x) * torch.linalg.norm(y) + small_number)\n",
    "    return result\n",
    "\n",
    "test_scores = []\n",
    "for i in range(len(sentence1)):\n",
    "    score = cosine_similarity_manual(corpus_embeddings[i],query_embeddings[i])\n",
    "    score=score.cpu().detach().numpy()\n",
    "    test_scores.append(score)\n",
    "\n",
    "test_scores = np.array(test_scores) # 모델 예측값\n",
    "y_pred = np.where(test_scores>=0.6, 1, 0) # klue에서 3.0을 기준으로 binary label을 만들었기에, normalize 기준 threshold: 0.6\n",
    "labels = np.array(labels)\n",
    "y_label = np.where(labels >= 0.6, 1, 0)"
   ]
  },
  {
   "cell_type": "code",
   "execution_count": 76,
   "id": "e1c65a8c-5ecf-4195-9f5a-0111d14d1802",
   "metadata": {
    "tags": []
   },
   "outputs": [],
   "source": [
    "corpus_embeddings = corpus_embeddings.cpu().detach().numpy()\n",
    "query_embeddings = query_embeddings.cpu().detach().numpy()\n",
    "\n",
    "cosine_scores = 1 - (paired_cosine_distances(corpus_embeddings, query_embeddings))\n",
    "manhattan_distances = -paired_manhattan_distances(corpus_embeddings, query_embeddings)\n",
    "euclidean_distances = -paired_euclidean_distances(corpus_embeddings, query_embeddings)\n",
    "dot_products = [np.dot(emb1, emb2) for emb1, emb2 in zip(corpus_embeddings, query_embeddings)]"
   ]
  },
  {
   "cell_type": "code",
   "execution_count": 77,
   "id": "4e9250a3-7239-4a60-b356-4dc4f060dccf",
   "metadata": {
    "tags": []
   },
   "outputs": [],
   "source": [
    "new_df['sentence_bert_notblac_label']= cosine_scores"
   ]
  },
  {
   "cell_type": "code",
   "execution_count": 79,
   "id": "92d94030-a75f-46b4-86c5-401b82cfa330",
   "metadata": {
    "tags": []
   },
   "outputs": [
    {
     "data": {
      "text/plain": [
       "count    902099.000000\n",
       "mean          0.999852\n",
       "std           0.006305\n",
       "min           0.046246\n",
       "25%           1.000000\n",
       "50%           1.000000\n",
       "75%           1.000000\n",
       "max           1.000000\n",
       "Name: sentence_bert_notblac_label, dtype: float64"
      ]
     },
     "execution_count": 79,
     "metadata": {},
     "output_type": "execute_result"
    }
   ],
   "source": [
    "new_df['sentence_bert_notblac_label'].describe()"
   ]
  },
  {
   "cell_type": "code",
   "execution_count": 71,
   "id": "9d2657e4-9599-4805-9c86-e4622f1235b7",
   "metadata": {
    "tags": []
   },
   "outputs": [
    {
     "data": {
      "text/plain": [
       "6596"
      ]
     },
     "execution_count": 71,
     "metadata": {},
     "output_type": "execute_result"
    }
   ],
   "source": [
    "len(new_df[new_df['sentence_bert_notblac_label']<=0.6])"
   ]
  },
  {
   "cell_type": "code",
   "execution_count": 80,
   "id": "ff555159-4613-44f8-8d05-8b35126b7d20",
   "metadata": {
    "tags": []
   },
   "outputs": [
    {
     "data": {
      "text/plain": [
       "756"
      ]
     },
     "execution_count": 80,
     "metadata": {},
     "output_type": "execute_result"
    }
   ],
   "source": [
    "len(new_df[new_df['sentence_bert_notblac_label']<1])"
   ]
  },
  {
   "cell_type": "code",
   "execution_count": null,
   "id": "fabae725-6819-47b5-9dec-2e3c5a8fdae9",
   "metadata": {},
   "outputs": [],
   "source": []
  }
 ],
 "metadata": {
  "kernelspec": {
   "display_name": "iris",
   "language": "python",
   "name": "iris"
  },
  "language_info": {
   "codemirror_mode": {
    "name": "ipython",
    "version": 3
   },
   "file_extension": ".py",
   "mimetype": "text/x-python",
   "name": "python",
   "nbconvert_exporter": "python",
   "pygments_lexer": "ipython3",
   "version": "3.8.17"
  }
 },
 "nbformat": 4,
 "nbformat_minor": 5
}
